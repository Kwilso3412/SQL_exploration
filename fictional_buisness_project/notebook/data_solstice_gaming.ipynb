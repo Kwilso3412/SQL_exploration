{
 "cells": [
  {
   "cell_type": "code",
   "execution_count": 1,
   "metadata": {
    "vscode": {
     "languageId": "r"
    }
   },
   "outputs": [
    {
     "name": "stderr",
     "output_type": "stream",
     "text": [
      "── \u001b[1mAttaching core tidyverse packages\u001b[22m ──────────────────────── tidyverse 2.0.0 ──\n",
      "\u001b[32m✔\u001b[39m \u001b[34mdplyr    \u001b[39m 1.1.4     \u001b[32m✔\u001b[39m \u001b[34mreadr    \u001b[39m 2.1.4\n",
      "\u001b[32m✔\u001b[39m \u001b[34mforcats  \u001b[39m 1.0.0     \u001b[32m✔\u001b[39m \u001b[34mstringr  \u001b[39m 1.5.0\n",
      "\u001b[32m✔\u001b[39m \u001b[34mggplot2  \u001b[39m 3.4.3     \u001b[32m✔\u001b[39m \u001b[34mtibble   \u001b[39m 3.2.1\n",
      "\u001b[32m✔\u001b[39m \u001b[34mlubridate\u001b[39m 1.9.2     \u001b[32m✔\u001b[39m \u001b[34mtidyr    \u001b[39m 1.3.0\n",
      "\u001b[32m✔\u001b[39m \u001b[34mpurrr    \u001b[39m 1.0.2     \n",
      "── \u001b[1mConflicts\u001b[22m ────────────────────────────────────────── tidyverse_conflicts() ──\n",
      "\u001b[31m✖\u001b[39m \u001b[34mdplyr\u001b[39m::\u001b[32mfilter()\u001b[39m masks \u001b[34mstats\u001b[39m::filter()\n",
      "\u001b[31m✖\u001b[39m \u001b[34mdplyr\u001b[39m::\u001b[32mlag()\u001b[39m    masks \u001b[34mstats\u001b[39m::lag()\n",
      "\u001b[36mℹ\u001b[39m Use the conflicted package (\u001b[3m\u001b[34m<http://conflicted.r-lib.org/>\u001b[39m\u001b[23m) to force all conflicts to become errors\n"
     ]
    }
   ],
   "source": [
    "library(tidyverse) #Reading data\n",
    "library(lubridate) #Reading and manipulating dates and times\n",
    "library(readr) #Reading the CSV data file\n",
    "library(DBI)\n",
    "library(RMariaDB)\n",
    "library(RSQLite)\n",
    "library(ggplot2)\n"
   ]
  },
  {
   "cell_type": "code",
   "execution_count": 2,
   "metadata": {
    "vscode": {
     "languageId": "r"
    }
   },
   "outputs": [],
   "source": [
    "# Load in the data set\n",
    "games_data = read.csv(\"games.csv\")"
   ]
  },
  {
   "cell_type": "code",
   "execution_count": 3,
   "metadata": {
    "vscode": {
     "languageId": "r"
    }
   },
   "outputs": [
    {
     "name": "stdout",
     "output_type": "stream",
     "text": [
      "Rows: 1,512\n",
      "Columns: 14\n",
      "$ X                 \u001b[3m\u001b[90m<int>\u001b[39m\u001b[23m 0, 1, 2, 3, 4, 5, 6, 7, 8, 9, 10, 11, 12, 13, 14, 15…\n",
      "$ Title             \u001b[3m\u001b[90m<chr>\u001b[39m\u001b[23m \"Elden Ring\", \"Hades\", \"The Legend of Zelda: Breath …\n",
      "$ Release.Date      \u001b[3m\u001b[90m<chr>\u001b[39m\u001b[23m \"Feb 25, 2022\", \"Dec 10, 2019\", \"Mar 03, 2017\", \"Sep…\n",
      "$ Team              \u001b[3m\u001b[90m<chr>\u001b[39m\u001b[23m \"['Bandai Namco Entertainment', 'FromSoftware']\", \"[…\n",
      "$ Rating            \u001b[3m\u001b[90m<dbl>\u001b[39m\u001b[23m 4.5, 4.3, 4.4, 4.2, 4.4, 4.3, 4.2, 4.3, 3.0, 4.3, 4.…\n",
      "$ Times.Listed      \u001b[3m\u001b[90m<chr>\u001b[39m\u001b[23m \"3.9K\", \"2.9K\", \"4.3K\", \"3.5K\", \"3K\", \"2.3K\", \"1.6K\"…\n",
      "$ Number.of.Reviews \u001b[3m\u001b[90m<chr>\u001b[39m\u001b[23m \"3.9K\", \"2.9K\", \"4.3K\", \"3.5K\", \"3K\", \"2.3K\", \"1.6K\"…\n",
      "$ Genres            \u001b[3m\u001b[90m<chr>\u001b[39m\u001b[23m \"['Adventure', 'RPG']\", \"['Adventure', 'Brawler', 'I…\n",
      "$ Summary           \u001b[3m\u001b[90m<chr>\u001b[39m\u001b[23m \"Elden Ring is a fantasy, action and open world game…\n",
      "$ Reviews           \u001b[3m\u001b[90m<chr>\u001b[39m\u001b[23m \"[\\\"The first playthrough of elden ring is one of th…\n",
      "$ Plays             \u001b[3m\u001b[90m<chr>\u001b[39m\u001b[23m \"17K\", \"21K\", \"30K\", \"28K\", \"21K\", \"33K\", \"7.2K\", \"9…\n",
      "$ Playing           \u001b[3m\u001b[90m<chr>\u001b[39m\u001b[23m \"3.8K\", \"3.2K\", \"2.5K\", \"679\", \"2.4K\", \"1.8K\", \"1.1K…\n",
      "$ Backlogs          \u001b[3m\u001b[90m<chr>\u001b[39m\u001b[23m \"4.6K\", \"6.3K\", \"5K\", \"4.9K\", \"8.3K\", \"1.1K\", \"4.5K\"…\n",
      "$ Wishlist          \u001b[3m\u001b[90m<chr>\u001b[39m\u001b[23m \"4.8K\", \"3.6K\", \"2.6K\", \"1.8K\", \"2.3K\", \"230\", \"3.8K…\n"
     ]
    }
   ],
   "source": [
    "#Display the structure of the dataset\n",
    "glimpse(games_data)"
   ]
  },
  {
   "cell_type": "code",
   "execution_count": 4,
   "metadata": {
    "vscode": {
     "languageId": "r"
    }
   },
   "outputs": [
    {
     "name": "stdout",
     "output_type": "stream",
     "text": [
      "                X             Title      Release.Date              Team \n",
      "                0                 0                 0                 0 \n",
      "           Rating      Times.Listed Number.of.Reviews            Genres \n",
      "               13                 0                 0                 0 \n",
      "          Summary           Reviews             Plays           Playing \n",
      "                0                 0                 0                 0 \n",
      "         Backlogs          Wishlist \n",
      "                0                 0 \n"
     ]
    }
   ],
   "source": [
    "#Check for missing values\n",
    "missing_values = colSums(is.na(games_data))\n",
    "print(missing_values)"
   ]
  },
  {
   "cell_type": "code",
   "execution_count": 5,
   "metadata": {
    "vscode": {
     "languageId": "r"
    }
   },
   "outputs": [
    {
     "name": "stdout",
     "output_type": "stream",
     "text": [
      "[1] \"Duplicate Rows:\"\n"
     ]
    },
    {
     "data": {
      "text/html": [
       "<table class=\"dataframe\">\n",
       "<caption>A data.frame: 0 × 14</caption>\n",
       "<thead>\n",
       "\t<tr><th scope=col>X</th><th scope=col>Title</th><th scope=col>Release.Date</th><th scope=col>Team</th><th scope=col>Rating</th><th scope=col>Times.Listed</th><th scope=col>Number.of.Reviews</th><th scope=col>Genres</th><th scope=col>Summary</th><th scope=col>Reviews</th><th scope=col>Plays</th><th scope=col>Playing</th><th scope=col>Backlogs</th><th scope=col>Wishlist</th></tr>\n",
       "\t<tr><th scope=col>&lt;int&gt;</th><th scope=col>&lt;chr&gt;</th><th scope=col>&lt;chr&gt;</th><th scope=col>&lt;chr&gt;</th><th scope=col>&lt;dbl&gt;</th><th scope=col>&lt;chr&gt;</th><th scope=col>&lt;chr&gt;</th><th scope=col>&lt;chr&gt;</th><th scope=col>&lt;chr&gt;</th><th scope=col>&lt;chr&gt;</th><th scope=col>&lt;chr&gt;</th><th scope=col>&lt;chr&gt;</th><th scope=col>&lt;chr&gt;</th><th scope=col>&lt;chr&gt;</th></tr>\n",
       "</thead>\n",
       "<tbody>\n",
       "</tbody>\n",
       "</table>\n"
      ],
      "text/latex": [
       "A data.frame: 0 × 14\n",
       "\\begin{tabular}{llllllllllllll}\n",
       " X & Title & Release.Date & Team & Rating & Times.Listed & Number.of.Reviews & Genres & Summary & Reviews & Plays & Playing & Backlogs & Wishlist\\\\\n",
       " <int> & <chr> & <chr> & <chr> & <dbl> & <chr> & <chr> & <chr> & <chr> & <chr> & <chr> & <chr> & <chr> & <chr>\\\\\n",
       "\\hline\n",
       "\\end{tabular}\n"
      ],
      "text/markdown": [
       "\n",
       "A data.frame: 0 × 14\n",
       "\n",
       "| X &lt;int&gt; | Title &lt;chr&gt; | Release.Date &lt;chr&gt; | Team &lt;chr&gt; | Rating &lt;dbl&gt; | Times.Listed &lt;chr&gt; | Number.of.Reviews &lt;chr&gt; | Genres &lt;chr&gt; | Summary &lt;chr&gt; | Reviews &lt;chr&gt; | Plays &lt;chr&gt; | Playing &lt;chr&gt; | Backlogs &lt;chr&gt; | Wishlist &lt;chr&gt; |\n",
       "|---|---|---|---|---|---|---|---|---|---|---|---|---|---|\n",
       "\n"
      ],
      "text/plain": [
       "     X Title Release.Date Team Rating Times.Listed Number.of.Reviews Genres\n",
       "     Summary Reviews Plays Playing Backlogs Wishlist"
      ]
     },
     "metadata": {},
     "output_type": "display_data"
    }
   ],
   "source": [
    "#check for duplicates\n",
    "duplicate_rows = games_data[duplicated(games_data) | duplicated(games_data, fromLast = TRUE), ]\n",
    "\n",
    "#Print duplicates:\n",
    "print(\"Duplicate Rows:\")\n",
    "duplicate_rows"
   ]
  },
  {
   "cell_type": "code",
   "execution_count": 6,
   "metadata": {
    "vscode": {
     "languageId": "r"
    }
   },
   "outputs": [
    {
     "name": "stdout",
     "output_type": "stream",
     "text": [
      "[1] \"Original Data Types:\"\n",
      "                X             Title      Release.Date              Team \n",
      "        \"integer\"       \"character\"       \"character\"       \"character\" \n",
      "           Rating      Times.Listed Number.of.Reviews            Genres \n",
      "        \"numeric\"       \"character\"       \"character\"       \"character\" \n",
      "          Summary           Reviews             Plays           Playing \n",
      "      \"character\"       \"character\"       \"character\"       \"character\" \n",
      "         Backlogs          Wishlist \n",
      "      \"character\"       \"character\" \n"
     ]
    }
   ],
   "source": [
    "#What are the data types for each column?\n",
    "print(\"Original Data Types:\")\n",
    "print(sapply(games_data, class))"
   ]
  },
  {
   "cell_type": "code",
   "execution_count": 7,
   "metadata": {
    "vscode": {
     "languageId": "r"
    }
   },
   "outputs": [
    {
     "name": "stdout",
     "output_type": "stream",
     "text": [
      "[1] \"Updated Data Types:\"\n",
      "   [1] \"integer\" \"integer\" \"integer\" \"integer\" \"integer\" \"integer\" \"integer\"\n",
      "   [8] \"integer\" \"integer\" \"integer\" \"integer\" \"integer\" \"integer\" \"integer\"\n",
      "  [15] \"integer\" \"integer\" \"integer\" \"integer\" \"integer\" \"integer\" \"integer\"\n",
      "  [22] \"integer\" \"integer\" \"integer\" \"integer\" \"integer\" \"integer\" \"integer\"\n",
      "  [29] \"integer\" \"integer\" \"integer\" \"integer\" \"integer\" \"integer\" \"integer\"\n",
      "  [36] \"integer\" \"integer\" \"integer\" \"integer\" \"integer\" \"integer\" \"integer\"\n",
      "  [43] \"integer\" \"integer\" \"integer\" \"integer\" \"integer\" \"integer\" \"integer\"\n",
      "  [50] \"integer\" \"integer\" \"integer\" \"integer\" \"integer\" \"integer\" \"integer\"\n",
      "  [57] \"integer\" \"integer\" \"integer\" \"integer\" \"integer\" \"integer\" \"integer\"\n",
      "  [64] \"integer\" \"integer\" \"integer\" \"integer\" \"integer\" \"integer\" \"integer\"\n",
      "  [71] \"integer\" \"integer\" \"integer\" \"integer\" \"integer\" \"integer\" \"integer\"\n",
      "  [78] \"integer\" \"integer\" \"integer\" \"integer\" \"integer\" \"integer\" \"integer\"\n",
      "  [85] \"integer\" \"integer\" \"integer\" \"integer\" \"integer\" \"integer\" \"integer\"\n",
      "  [92] \"integer\" \"integer\" \"integer\" \"integer\" \"integer\" \"integer\" \"integer\"\n",
      "  [99] \"integer\" \"integer\" \"integer\" \"integer\" \"integer\" \"integer\" \"integer\"\n",
      " [106] \"integer\" \"integer\" \"integer\" \"integer\" \"integer\" \"integer\" \"integer\"\n",
      " [113] \"integer\" \"integer\" \"integer\" \"integer\" \"integer\" \"integer\" \"integer\"\n",
      " [120] \"integer\" \"integer\" \"integer\" \"integer\" \"integer\" \"integer\" \"integer\"\n",
      " [127] \"integer\" \"integer\" \"integer\" \"integer\" \"integer\" \"integer\" \"integer\"\n",
      " [134] \"integer\" \"integer\" \"integer\" \"integer\" \"integer\" \"integer\" \"integer\"\n",
      " [141] \"integer\" \"integer\" \"integer\" \"integer\" \"integer\" \"integer\" \"integer\"\n",
      " [148] \"integer\" \"integer\" \"integer\" \"integer\" \"integer\" \"integer\" \"integer\"\n",
      " [155] \"integer\" \"integer\" \"integer\" \"integer\" \"integer\" \"integer\" \"integer\"\n",
      " [162] \"integer\" \"integer\" \"integer\" \"integer\" \"integer\" \"integer\" \"integer\"\n",
      " [169] \"integer\" \"integer\" \"integer\" \"integer\" \"integer\" \"integer\" \"integer\"\n",
      " [176] \"integer\" \"integer\" \"integer\" \"integer\" \"integer\" \"integer\" \"integer\"\n",
      " [183] \"integer\" \"integer\" \"integer\" \"integer\" \"integer\" \"integer\" \"integer\"\n",
      " [190] \"integer\" \"integer\" \"integer\" \"integer\" \"integer\" \"integer\" \"integer\"\n",
      " [197] \"integer\" \"integer\" \"integer\" \"integer\" \"integer\" \"integer\" \"integer\"\n",
      " [204] \"integer\" \"integer\" \"integer\" \"integer\" \"integer\" \"integer\" \"integer\"\n",
      " [211] \"integer\" \"integer\" \"integer\" \"integer\" \"integer\" \"integer\" \"integer\"\n",
      " [218] \"integer\" \"integer\" \"integer\" \"integer\" \"integer\" \"integer\" \"integer\"\n",
      " [225] \"integer\" \"integer\" \"integer\" \"integer\" \"integer\" \"integer\" \"integer\"\n",
      " [232] \"integer\" \"integer\" \"integer\" \"integer\" \"integer\" \"integer\" \"integer\"\n",
      " [239] \"integer\" \"integer\" \"integer\" \"integer\" \"integer\" \"integer\" \"integer\"\n",
      " [246] \"integer\" \"integer\" \"integer\" \"integer\" \"integer\" \"integer\" \"integer\"\n",
      " [253] \"integer\" \"integer\" \"integer\" \"integer\" \"integer\" \"integer\" \"integer\"\n",
      " [260] \"integer\" \"integer\" \"integer\" \"integer\" \"integer\" \"integer\" \"integer\"\n",
      " [267] \"integer\" \"integer\" \"integer\" \"integer\" \"integer\" \"integer\" \"integer\"\n",
      " [274] \"integer\" \"integer\" \"integer\" \"integer\" \"integer\" \"integer\" \"integer\"\n",
      " [281] \"integer\" \"integer\" \"integer\" \"integer\" \"integer\" \"integer\" \"integer\"\n",
      " [288] \"integer\" \"integer\" \"integer\" \"integer\" \"integer\" \"integer\" \"integer\"\n",
      " [295] \"integer\" \"integer\" \"integer\" \"integer\" \"integer\" \"integer\" \"integer\"\n",
      " [302] \"integer\" \"integer\" \"integer\" \"integer\" \"integer\" \"integer\" \"integer\"\n",
      " [309] \"integer\" \"integer\" \"integer\" \"integer\" \"integer\" \"integer\" \"integer\"\n",
      " [316] \"integer\" \"integer\" \"integer\" \"integer\" \"integer\" \"integer\" \"integer\"\n",
      " [323] \"integer\" \"integer\" \"integer\" \"integer\" \"integer\" \"integer\" \"integer\"\n",
      " [330] \"integer\" \"integer\" \"integer\" \"integer\" \"integer\" \"integer\" \"integer\"\n",
      " [337] \"integer\" \"integer\" \"integer\" \"integer\" \"integer\" \"integer\" \"integer\"\n",
      " [344] \"integer\" \"integer\" \"integer\" \"integer\" \"integer\" \"integer\" \"integer\"\n",
      " [351] \"integer\" \"integer\" \"integer\" \"integer\" \"integer\" \"integer\" \"integer\"\n",
      " [358] \"integer\" \"integer\" \"integer\" \"integer\" \"integer\" \"integer\" \"integer\"\n",
      " [365] \"integer\" \"integer\" \"integer\" \"integer\" \"integer\" \"integer\" \"integer\"\n",
      " [372] \"integer\" \"integer\" \"integer\" \"integer\" \"integer\" \"integer\" \"integer\"\n",
      " [379] \"integer\" \"integer\" \"integer\" \"integer\" \"integer\" \"integer\" \"integer\"\n",
      " [386] \"integer\" \"integer\" \"integer\" \"integer\" \"integer\" \"integer\" \"integer\"\n",
      " [393] \"integer\" \"integer\" \"integer\" \"integer\" \"integer\" \"integer\" \"integer\"\n",
      " [400] \"integer\" \"integer\" \"integer\" \"integer\" \"integer\" \"integer\" \"integer\"\n",
      " [407] \"integer\" \"integer\" \"integer\" \"integer\" \"integer\" \"integer\" \"integer\"\n",
      " [414] \"integer\" \"integer\" \"integer\" \"integer\" \"integer\" \"integer\" \"integer\"\n",
      " [421] \"integer\" \"integer\" \"integer\" \"integer\" \"integer\" \"integer\" \"integer\"\n",
      " [428] \"integer\" \"integer\" \"integer\" \"integer\" \"integer\" \"integer\" \"integer\"\n",
      " [435] \"integer\" \"integer\" \"integer\" \"integer\" \"integer\" \"integer\" \"integer\"\n",
      " [442] \"integer\" \"integer\" \"integer\" \"integer\" \"integer\" \"integer\" \"integer\"\n",
      " [449] \"integer\" \"integer\" \"integer\" \"integer\" \"integer\" \"integer\" \"integer\"\n",
      " [456] \"integer\" \"integer\" \"integer\" \"integer\" \"integer\" \"integer\" \"integer\"\n",
      " [463] \"integer\" \"integer\" \"integer\" \"integer\" \"integer\" \"integer\" \"integer\"\n",
      " [470] \"integer\" \"integer\" \"integer\" \"integer\" \"integer\" \"integer\" \"integer\"\n",
      " [477] \"integer\" \"integer\" \"integer\" \"integer\" \"integer\" \"integer\" \"integer\"\n",
      " [484] \"integer\" \"integer\" \"integer\" \"integer\" \"integer\" \"integer\" \"integer\"\n",
      " [491] \"integer\" \"integer\" \"integer\" \"integer\" \"integer\" \"integer\" \"integer\"\n",
      " [498] \"integer\" \"integer\" \"integer\" \"integer\" \"integer\" \"integer\" \"integer\"\n",
      " [505] \"integer\" \"integer\" \"integer\" \"integer\" \"integer\" \"integer\" \"integer\"\n",
      " [512] \"integer\" \"integer\" \"integer\" \"integer\" \"integer\" \"integer\" \"integer\"\n",
      " [519] \"integer\" \"integer\" \"integer\" \"integer\" \"integer\" \"integer\" \"integer\"\n",
      " [526] \"integer\" \"integer\" \"integer\" \"integer\" \"integer\" \"integer\" \"integer\"\n",
      " [533] \"integer\" \"integer\" \"integer\" \"integer\" \"integer\" \"integer\" \"integer\"\n",
      " [540] \"integer\" \"integer\" \"integer\" \"integer\" \"integer\" \"integer\" \"integer\"\n",
      " [547] \"integer\" \"integer\" \"integer\" \"integer\" \"integer\" \"integer\" \"integer\"\n",
      " [554] \"integer\" \"integer\" \"integer\" \"integer\" \"integer\" \"integer\" \"integer\"\n",
      " [561] \"integer\" \"integer\" \"integer\" \"integer\" \"integer\" \"integer\" \"integer\"\n",
      " [568] \"integer\" \"integer\" \"integer\" \"integer\" \"integer\" \"integer\" \"integer\"\n",
      " [575] \"integer\" \"integer\" \"integer\" \"integer\" \"integer\" \"integer\" \"integer\"\n",
      " [582] \"integer\" \"integer\" \"integer\" \"integer\" \"integer\" \"integer\" \"integer\"\n",
      " [589] \"integer\" \"integer\" \"integer\" \"integer\" \"integer\" \"integer\" \"integer\"\n",
      " [596] \"integer\" \"integer\" \"integer\" \"integer\" \"integer\" \"integer\" \"integer\"\n",
      " [603] \"integer\" \"integer\" \"integer\" \"integer\" \"integer\" \"integer\" \"integer\"\n",
      " [610] \"integer\" \"integer\" \"integer\" \"integer\" \"integer\" \"integer\" \"integer\"\n",
      " [617] \"integer\" \"integer\" \"integer\" \"integer\" \"integer\" \"integer\" \"integer\"\n",
      " [624] \"integer\" \"integer\" \"integer\" \"integer\" \"integer\" \"integer\" \"integer\"\n",
      " [631] \"integer\" \"integer\" \"integer\" \"integer\" \"integer\" \"integer\" \"integer\"\n",
      " [638] \"integer\" \"integer\" \"integer\" \"integer\" \"integer\" \"integer\" \"integer\"\n",
      " [645] \"integer\" \"integer\" \"integer\" \"integer\" \"integer\" \"integer\" \"integer\"\n",
      " [652] \"integer\" \"integer\" \"integer\" \"integer\" \"integer\" \"integer\" \"integer\"\n",
      " [659] \"integer\" \"integer\" \"integer\" \"integer\" \"integer\" \"integer\" \"integer\"\n",
      " [666] \"integer\" \"integer\" \"integer\" \"integer\" \"integer\" \"integer\" \"integer\"\n",
      " [673] \"integer\" \"integer\" \"integer\" \"integer\" \"integer\" \"integer\" \"integer\"\n",
      " [680] \"integer\" \"integer\" \"integer\" \"integer\" \"integer\" \"integer\" \"integer\"\n",
      " [687] \"integer\" \"integer\" \"integer\" \"integer\" \"integer\" \"integer\" \"integer\"\n",
      " [694] \"integer\" \"integer\" \"integer\" \"integer\" \"integer\" \"integer\" \"integer\"\n",
      " [701] \"integer\" \"integer\" \"integer\" \"integer\" \"integer\" \"integer\" \"integer\"\n",
      " [708] \"integer\" \"integer\" \"integer\" \"integer\" \"integer\" \"integer\" \"integer\"\n",
      " [715] \"integer\" \"integer\" \"integer\" \"integer\" \"integer\" \"integer\" \"integer\"\n",
      " [722] \"integer\" \"integer\" \"integer\" \"integer\" \"integer\" \"integer\" \"integer\"\n",
      " [729] \"integer\" \"integer\" \"integer\" \"integer\" \"integer\" \"integer\" \"integer\"\n",
      " [736] \"integer\" \"integer\" \"integer\" \"integer\" \"integer\" \"integer\" \"integer\"\n",
      " [743] \"integer\" \"integer\" \"integer\" \"integer\" \"integer\" \"integer\" \"integer\"\n",
      " [750] \"integer\" \"integer\" \"integer\" \"integer\" \"integer\" \"integer\" \"integer\"\n",
      " [757] \"integer\" \"integer\" \"integer\" \"integer\" \"integer\" \"integer\" \"integer\"\n",
      " [764] \"integer\" \"integer\" \"integer\" \"integer\" \"integer\" \"integer\" \"integer\"\n",
      " [771] \"integer\" \"integer\" \"integer\" \"integer\" \"integer\" \"integer\" \"integer\"\n",
      " [778] \"integer\" \"integer\" \"integer\" \"integer\" \"integer\" \"integer\" \"integer\"\n",
      " [785] \"integer\" \"integer\" \"integer\" \"integer\" \"integer\" \"integer\" \"integer\"\n",
      " [792] \"integer\" \"integer\" \"integer\" \"integer\" \"integer\" \"integer\" \"integer\"\n",
      " [799] \"integer\" \"integer\" \"integer\" \"integer\" \"integer\" \"integer\" \"integer\"\n",
      " [806] \"integer\" \"integer\" \"integer\" \"integer\" \"integer\" \"integer\" \"integer\"\n",
      " [813] \"integer\" \"integer\" \"integer\" \"integer\" \"integer\" \"integer\" \"integer\"\n",
      " [820] \"integer\" \"integer\" \"integer\" \"integer\" \"integer\" \"integer\" \"integer\"\n",
      " [827] \"integer\" \"integer\" \"integer\" \"integer\" \"integer\" \"integer\" \"integer\"\n",
      " [834] \"integer\" \"integer\" \"integer\" \"integer\" \"integer\" \"integer\" \"integer\"\n",
      " [841] \"integer\" \"integer\" \"integer\" \"integer\" \"integer\" \"integer\" \"integer\"\n",
      " [848] \"integer\" \"integer\" \"integer\" \"integer\" \"integer\" \"integer\" \"integer\"\n",
      " [855] \"integer\" \"integer\" \"integer\" \"integer\" \"integer\" \"integer\" \"integer\"\n",
      " [862] \"integer\" \"integer\" \"integer\" \"integer\" \"integer\" \"integer\" \"integer\"\n",
      " [869] \"integer\" \"integer\" \"integer\" \"integer\" \"integer\" \"integer\" \"integer\"\n",
      " [876] \"integer\" \"integer\" \"integer\" \"integer\" \"integer\" \"integer\" \"integer\"\n",
      " [883] \"integer\" \"integer\" \"integer\" \"integer\" \"integer\" \"integer\" \"integer\"\n",
      " [890] \"integer\" \"integer\" \"integer\" \"integer\" \"integer\" \"integer\" \"integer\"\n",
      " [897] \"integer\" \"integer\" \"integer\" \"integer\" \"integer\" \"integer\" \"integer\"\n",
      " [904] \"integer\" \"integer\" \"integer\" \"integer\" \"integer\" \"integer\" \"integer\"\n",
      " [911] \"integer\" \"integer\" \"integer\" \"integer\" \"integer\" \"integer\" \"integer\"\n",
      " [918] \"integer\" \"integer\" \"integer\" \"integer\" \"integer\" \"integer\" \"integer\"\n",
      " [925] \"integer\" \"integer\" \"integer\" \"integer\" \"integer\" \"integer\" \"integer\"\n",
      " [932] \"integer\" \"integer\" \"integer\" \"integer\" \"integer\" \"integer\" \"integer\"\n",
      " [939] \"integer\" \"integer\" \"integer\" \"integer\" \"integer\" \"integer\" \"integer\"\n",
      " [946] \"integer\" \"integer\" \"integer\" \"integer\" \"integer\" \"integer\" \"integer\"\n",
      " [953] \"integer\" \"integer\" \"integer\" \"integer\" \"integer\" \"integer\" \"integer\"\n",
      " [960] \"integer\" \"integer\" \"integer\" \"integer\" \"integer\" \"integer\" \"integer\"\n",
      " [967] \"integer\" \"integer\" \"integer\" \"integer\" \"integer\" \"integer\" \"integer\"\n",
      " [974] \"integer\" \"integer\" \"integer\" \"integer\" \"integer\" \"integer\" \"integer\"\n",
      " [981] \"integer\" \"integer\" \"integer\" \"integer\" \"integer\" \"integer\" \"integer\"\n",
      " [988] \"integer\" \"integer\" \"integer\" \"integer\" \"integer\" \"integer\" \"integer\"\n",
      " [995] \"integer\" \"integer\" \"integer\" \"integer\" \"integer\" \"integer\" \"integer\"\n",
      "[1002] \"integer\" \"integer\" \"integer\" \"integer\" \"integer\" \"integer\" \"integer\"\n",
      "[1009] \"integer\" \"integer\" \"integer\" \"integer\" \"integer\" \"integer\" \"integer\"\n",
      "[1016] \"integer\" \"integer\" \"integer\" \"integer\" \"integer\" \"integer\" \"integer\"\n",
      "[1023] \"integer\" \"integer\" \"integer\" \"integer\" \"integer\" \"integer\" \"integer\"\n",
      "[1030] \"integer\" \"integer\" \"integer\" \"integer\" \"integer\" \"integer\" \"integer\"\n",
      "[1037] \"integer\" \"integer\" \"integer\" \"integer\" \"integer\" \"integer\" \"integer\"\n",
      "[1044] \"integer\" \"integer\" \"integer\" \"integer\" \"integer\" \"integer\" \"integer\"\n",
      "[1051] \"integer\" \"integer\" \"integer\" \"integer\" \"integer\" \"integer\" \"integer\"\n",
      "[1058] \"integer\" \"integer\" \"integer\" \"integer\" \"integer\" \"integer\" \"integer\"\n",
      "[1065] \"integer\" \"integer\" \"integer\" \"integer\" \"integer\" \"integer\" \"integer\"\n",
      "[1072] \"integer\" \"integer\" \"integer\" \"integer\" \"integer\" \"integer\" \"integer\"\n",
      "[1079] \"integer\" \"integer\" \"integer\" \"integer\" \"integer\" \"integer\" \"integer\"\n",
      "[1086] \"integer\" \"integer\" \"integer\" \"integer\" \"integer\" \"integer\" \"integer\"\n",
      "[1093] \"integer\" \"integer\" \"integer\" \"integer\" \"integer\" \"integer\" \"integer\"\n",
      "[1100] \"integer\" \"integer\" \"integer\" \"integer\" \"integer\" \"integer\" \"integer\"\n",
      "[1107] \"integer\" \"integer\" \"integer\" \"integer\" \"integer\" \"integer\" \"integer\"\n",
      "[1114] \"integer\" \"integer\" \"integer\" \"integer\" \"integer\" \"integer\" \"integer\"\n",
      "[1121] \"integer\" \"integer\" \"integer\" \"integer\" \"integer\" \"integer\" \"integer\"\n",
      "[1128] \"integer\" \"integer\" \"integer\" \"integer\" \"integer\" \"integer\" \"integer\"\n",
      "[1135] \"integer\" \"integer\" \"integer\" \"integer\" \"integer\" \"integer\" \"integer\"\n",
      "[1142] \"integer\" \"integer\" \"integer\" \"integer\" \"integer\" \"integer\" \"integer\"\n",
      "[1149] \"integer\" \"integer\" \"integer\" \"integer\" \"integer\" \"integer\" \"integer\"\n",
      "[1156] \"integer\" \"integer\" \"integer\" \"integer\" \"integer\" \"integer\" \"integer\"\n",
      "[1163] \"integer\" \"integer\" \"integer\" \"integer\" \"integer\" \"integer\" \"integer\"\n",
      "[1170] \"integer\" \"integer\" \"integer\" \"integer\" \"integer\" \"integer\" \"integer\"\n",
      "[1177] \"integer\" \"integer\" \"integer\" \"integer\" \"integer\" \"integer\" \"integer\"\n",
      "[1184] \"integer\" \"integer\" \"integer\" \"integer\" \"integer\" \"integer\" \"integer\"\n",
      "[1191] \"integer\" \"integer\" \"integer\" \"integer\" \"integer\" \"integer\" \"integer\"\n",
      "[1198] \"integer\" \"integer\" \"integer\" \"integer\" \"integer\" \"integer\" \"integer\"\n",
      "[1205] \"integer\" \"integer\" \"integer\" \"integer\" \"integer\" \"integer\" \"integer\"\n",
      "[1212] \"integer\" \"integer\" \"integer\" \"integer\" \"integer\" \"integer\" \"integer\"\n",
      "[1219] \"integer\" \"integer\" \"integer\" \"integer\" \"integer\" \"integer\" \"integer\"\n",
      "[1226] \"integer\" \"integer\" \"integer\" \"integer\" \"integer\" \"integer\" \"integer\"\n",
      "[1233] \"integer\" \"integer\" \"integer\" \"integer\" \"integer\" \"integer\" \"integer\"\n",
      "[1240] \"integer\" \"integer\" \"integer\" \"integer\" \"integer\" \"integer\" \"integer\"\n",
      "[1247] \"integer\" \"integer\" \"integer\" \"integer\" \"integer\" \"integer\" \"integer\"\n",
      "[1254] \"integer\" \"integer\" \"integer\" \"integer\" \"integer\" \"integer\" \"integer\"\n",
      "[1261] \"integer\" \"integer\" \"integer\" \"integer\" \"integer\" \"integer\" \"integer\"\n",
      "[1268] \"integer\" \"integer\" \"integer\" \"integer\" \"integer\" \"integer\" \"integer\"\n",
      "[1275] \"integer\" \"integer\" \"integer\" \"integer\" \"integer\" \"integer\" \"integer\"\n",
      "[1282] \"integer\" \"integer\" \"integer\" \"integer\" \"integer\" \"integer\" \"integer\"\n",
      "[1289] \"integer\" \"integer\" \"integer\" \"integer\" \"integer\" \"integer\" \"integer\"\n",
      "[1296] \"integer\" \"integer\" \"integer\" \"integer\" \"integer\" \"integer\" \"integer\"\n",
      "[1303] \"integer\" \"integer\" \"integer\" \"integer\" \"integer\" \"integer\" \"integer\"\n",
      "[1310] \"integer\" \"integer\" \"integer\" \"integer\" \"integer\" \"integer\" \"integer\"\n",
      "[1317] \"integer\" \"integer\" \"integer\" \"integer\" \"integer\" \"integer\" \"integer\"\n",
      "[1324] \"integer\" \"integer\" \"integer\" \"integer\" \"integer\" \"integer\" \"integer\"\n",
      "[1331] \"integer\" \"integer\" \"integer\" \"integer\" \"integer\" \"integer\" \"integer\"\n",
      "[1338] \"integer\" \"integer\" \"integer\" \"integer\" \"integer\" \"integer\" \"integer\"\n",
      "[1345] \"integer\" \"integer\" \"integer\" \"integer\" \"integer\" \"integer\" \"integer\"\n",
      "[1352] \"integer\" \"integer\" \"integer\" \"integer\" \"integer\" \"integer\" \"integer\"\n",
      "[1359] \"integer\" \"integer\" \"integer\" \"integer\" \"integer\" \"integer\" \"integer\"\n",
      "[1366] \"integer\" \"integer\" \"integer\" \"integer\" \"integer\" \"integer\" \"integer\"\n",
      "[1373] \"integer\" \"integer\" \"integer\" \"integer\" \"integer\" \"integer\" \"integer\"\n",
      "[1380] \"integer\" \"integer\" \"integer\" \"integer\" \"integer\" \"integer\" \"integer\"\n",
      "[1387] \"integer\" \"integer\" \"integer\" \"integer\" \"integer\" \"integer\" \"integer\"\n",
      "[1394] \"integer\" \"integer\" \"integer\" \"integer\" \"integer\" \"integer\" \"integer\"\n",
      "[1401] \"integer\" \"integer\" \"integer\" \"integer\" \"integer\" \"integer\" \"integer\"\n",
      "[1408] \"integer\" \"integer\" \"integer\" \"integer\" \"integer\" \"integer\" \"integer\"\n",
      "[1415] \"integer\" \"integer\" \"integer\" \"integer\" \"integer\" \"integer\" \"integer\"\n",
      "[1422] \"integer\" \"integer\" \"integer\" \"integer\" \"integer\" \"integer\" \"integer\"\n",
      "[1429] \"integer\" \"integer\" \"integer\" \"integer\" \"integer\" \"integer\" \"integer\"\n",
      "[1436] \"integer\" \"integer\" \"integer\" \"integer\" \"integer\" \"integer\" \"integer\"\n",
      "[1443] \"integer\" \"integer\" \"integer\" \"integer\" \"integer\" \"integer\" \"integer\"\n",
      "[1450] \"integer\" \"integer\" \"integer\" \"integer\" \"integer\" \"integer\" \"integer\"\n",
      "[1457] \"integer\" \"integer\" \"integer\" \"integer\" \"integer\" \"integer\" \"integer\"\n",
      "[1464] \"integer\" \"integer\" \"integer\" \"integer\" \"integer\" \"integer\" \"integer\"\n",
      "[1471] \"integer\" \"integer\" \"integer\" \"integer\" \"integer\" \"integer\" \"integer\"\n",
      "[1478] \"integer\" \"integer\" \"integer\" \"integer\" \"integer\" \"integer\" \"integer\"\n",
      "[1485] \"integer\" \"integer\" \"integer\" \"integer\" \"integer\" \"integer\" \"integer\"\n",
      "[1492] \"integer\" \"integer\" \"integer\" \"integer\" \"integer\" \"integer\" \"integer\"\n",
      "[1499] \"integer\" \"integer\" \"integer\" \"integer\" \"integer\" \"integer\" \"integer\"\n",
      "[1506] \"integer\" \"integer\" \"integer\" \"integer\" \"integer\" \"integer\" \"integer\"\n"
     ]
    }
   ],
   "source": [
    "#Convert data types if needed. This is VERY common for dates and times. Library(lubridate) works well with dates.\n",
    "#Example: #Convert column to an integer type\n",
    "games_data$Rating = as.integer(games_data$Rating)\n",
    "\n",
    "#What are the updated column types?\n",
    "    print(\"Updated Data Types:\")\n",
    "    print(sapply(games_data$Rating, class))"
   ]
  },
  {
   "cell_type": "code",
   "execution_count": 8,
   "metadata": {
    "vscode": {
     "languageId": "r"
    }
   },
   "outputs": [
    {
     "data": {
      "text/html": [
       "<style>\n",
       ".list-inline {list-style: none; margin:0; padding: 0}\n",
       ".list-inline>li {display: inline-block}\n",
       ".list-inline>li:not(:last-child)::after {content: \"\\00b7\"; padding: 0 .5ex}\n",
       "</style>\n",
       "<ol class=list-inline><li>'x'</li><li>'title'</li><li>'release.date'</li><li>'team'</li><li>'rating'</li><li>'times.listed'</li><li>'number.of.reviews'</li><li>'genres'</li><li>'summary'</li><li>'reviews'</li><li>'plays'</li><li>'playing'</li><li>'backlogs'</li><li>'wishlist'</li></ol>\n"
      ],
      "text/latex": [
       "\\begin{enumerate*}\n",
       "\\item 'x'\n",
       "\\item 'title'\n",
       "\\item 'release.date'\n",
       "\\item 'team'\n",
       "\\item 'rating'\n",
       "\\item 'times.listed'\n",
       "\\item 'number.of.reviews'\n",
       "\\item 'genres'\n",
       "\\item 'summary'\n",
       "\\item 'reviews'\n",
       "\\item 'plays'\n",
       "\\item 'playing'\n",
       "\\item 'backlogs'\n",
       "\\item 'wishlist'\n",
       "\\end{enumerate*}\n"
      ],
      "text/markdown": [
       "1. 'x'\n",
       "2. 'title'\n",
       "3. 'release.date'\n",
       "4. 'team'\n",
       "5. 'rating'\n",
       "6. 'times.listed'\n",
       "7. 'number.of.reviews'\n",
       "8. 'genres'\n",
       "9. 'summary'\n",
       "10. 'reviews'\n",
       "11. 'plays'\n",
       "12. 'playing'\n",
       "13. 'backlogs'\n",
       "14. 'wishlist'\n",
       "\n",
       "\n"
      ],
      "text/plain": [
       " [1] \"x\"                 \"title\"             \"release.date\"     \n",
       " [4] \"team\"              \"rating\"            \"times.listed\"     \n",
       " [7] \"number.of.reviews\" \"genres\"            \"summary\"          \n",
       "[10] \"reviews\"           \"plays\"             \"playing\"          \n",
       "[13] \"backlogs\"          \"wishlist\"         "
      ]
     },
     "metadata": {},
     "output_type": "display_data"
    }
   ],
   "source": [
    "# Shows the column name\n",
    "column_names = names(games_data)\n",
    "# Make all column names lowercase:\n",
    "column_names = tolower(column_names)\n",
    "# Changes the column names and puts them back into the main data frame\n",
    "names(games_data) = column_names\n",
    "\n",
    "# Prints the results\n",
    "names(games_data)"
   ]
  },
  {
   "cell_type": "code",
   "execution_count": 9,
   "metadata": {
    "vscode": {
     "languageId": "r"
    }
   },
   "outputs": [
    {
     "data": {
      "image/png": "[encoded data removed]",
      "text/plain": [
       "Plot with title \"Histogram for Rating Column\""
      ]
     },
     "metadata": {
      "image/png": {
       "height": 420,
       "width": 420
      }
     },
     "output_type": "display_data"
    }
   ],
   "source": [
    "# There is an outlier at the 1 rating, most of the ratings are around the 2 - 4 ratings.\n",
    "hist(games_data$rating, main = \"Histogram for Rating Column\", breaks = 30)"
   ]
  },
  {
   "cell_type": "code",
   "execution_count": 10,
   "metadata": {
    "vscode": {
     "languageId": "r"
    }
   },
   "outputs": [
    {
     "name": "stdout",
     "output_type": "stream",
     "text": [
      " [1] \"game_id\"           \"title\"             \"release_date\"     \n",
      " [4] \"team\"              \"rating\"            \"times_listed\"     \n",
      " [7] \"number_of_reviews\" \"genres\"            \"summary\"          \n",
      "[10] \"reviews\"           \"plays\"             \"playing\"          \n",
      "[13] \"backlogs\"          \"wishlist\"         \n"
     ]
    }
   ],
   "source": [
    "# Shows the column name\n",
    "column_names = names(games_data)\n",
    "# Replaces all the periods in the name with underscore \n",
    "column_names <- gsub(\"\\\\.\", \"_\", column_names) \n",
    "# Changes the column names and puts them back into the main data frame\n",
    "names(games_data) = column_names\n",
    "\n",
    "# creates the game_id column\n",
    "names(games_data)[1] <- \"game_id\"\n",
    "\n",
    "# Prints the results\n",
    "print(names(games_data))"
   ]
  },
  {
   "cell_type": "code",
   "execution_count": 11,
   "metadata": {
    "vscode": {
     "languageId": "r"
    }
   },
   "outputs": [
    {
     "name": "stderr",
     "output_type": "stream",
     "text": [
      "Warning message:\n",
      "\" 3 failed to parse.\"\n"
     ]
    },
    {
     "data": {
      "text/html": [
       "<style>\n",
       ".list-inline {list-style: none; margin:0; padding: 0}\n",
       ".list-inline>li {display: inline-block}\n",
       ".list-inline>li:not(:last-child)::after {content: \"\\00b7\"; padding: 0 .5ex}\n",
       "</style>\n",
       "<ol class=list-inline><li><time datetime=\"2022-02-25\">2022-02-25</time></li><li><time datetime=\"2019-12-10\">2019-12-10</time></li><li><time datetime=\"2017-03-03\">2017-03-03</time></li><li><time datetime=\"2015-09-15\">2015-09-15</time></li><li><time datetime=\"2017-02-24\">2017-02-24</time></li><li><time datetime=\"2011-11-18\">2011-11-18</time></li></ol>\n"
      ],
      "text/latex": [
       "\\begin{enumerate*}\n",
       "\\item 2022-02-25\n",
       "\\item 2019-12-10\n",
       "\\item 2017-03-03\n",
       "\\item 2015-09-15\n",
       "\\item 2017-02-24\n",
       "\\item 2011-11-18\n",
       "\\end{enumerate*}\n"
      ],
      "text/markdown": [
       "1. 2022-02-25\n",
       "2. 2019-12-10\n",
       "3. 2017-03-03\n",
       "4. 2015-09-15\n",
       "5. 2017-02-24\n",
       "6. 2011-11-18\n",
       "\n",
       "\n"
      ],
      "text/plain": [
       "[1] \"2022-02-25\" \"2019-12-10\" \"2017-03-03\" \"2015-09-15\" \"2017-02-24\"\n",
       "[6] \"2011-11-18\""
      ]
     },
     "metadata": {},
     "output_type": "display_data"
    }
   ],
   "source": [
    "# Change the release date to data format\n",
    "games_data$release_date = mdy(games_data$release_date)\n",
    "\n",
    "\n",
    "head(games_data$release_date)"
   ]
  },
  {
   "cell_type": "code",
   "execution_count": 12,
   "metadata": {
    "vscode": {
     "languageId": "r"
    }
   },
   "outputs": [
    {
     "name": "stdout",
     "output_type": "stream",
     "text": [
      "Rows: 1,512\n",
      "Columns: 14\n",
      "$ game_id           \u001b[3m\u001b[90m<int>\u001b[39m\u001b[23m 0, 1, 2, 3, 4, 5, 6, 7, 8, 9, 10, 11, 12, 13, 14, 15…\n",
      "$ title             \u001b[3m\u001b[90m<chr>\u001b[39m\u001b[23m \"Elden Ring\", \"Hades\", \"The Legend of Zelda: Breath …\n",
      "$ release_date      \u001b[3m\u001b[90m<date>\u001b[39m\u001b[23m 2022-02-25, 2019-12-10, 2017-03-03, 2015-09-15, 201…\n",
      "$ team              \u001b[3m\u001b[90m<chr>\u001b[39m\u001b[23m \"['Bandai Namco Entertainment', 'FromSoftware']\", \"[…\n",
      "$ rating            \u001b[3m\u001b[90m<int>\u001b[39m\u001b[23m 4, 4, 4, 4, 4, 4, 4, 4, 3, 4, 4, 3, 4, 4, 4, 4, 4, 4…\n",
      "$ times_listed      \u001b[3m\u001b[90m<int>\u001b[39m\u001b[23m 3900, 2900, 4300, 3500, 300, 2300, 1600, 2100, 867, …\n",
      "$ number_of_reviews \u001b[3m\u001b[90m<int>\u001b[39m\u001b[23m 3900, 2900, 4300, 3500, 300, 2300, 1600, 2100, 867, …\n",
      "$ genres            \u001b[3m\u001b[90m<chr>\u001b[39m\u001b[23m \"['Adventure', 'RPG']\", \"['Adventure', 'Brawler', 'I…\n",
      "$ summary           \u001b[3m\u001b[90m<chr>\u001b[39m\u001b[23m \"Elden Ring is a fantasy, action and open world game…\n",
      "$ reviews           \u001b[3m\u001b[90m<chr>\u001b[39m\u001b[23m \"[\\\"The first playthrough of elden ring is one of th…\n",
      "$ plays             \u001b[3m\u001b[90m<int>\u001b[39m\u001b[23m 1700, 2100, 3000, 2800, 2100, 3300, 7200, 9200, 2500…\n",
      "$ playing           \u001b[3m\u001b[90m<int>\u001b[39m\u001b[23m 3800, 3200, 2500, 679, 2400, 1800, 1100, 759, 470, 1…\n",
      "$ backlogs          \u001b[3m\u001b[90m<int>\u001b[39m\u001b[23m 4600, 6300, 500, 4900, 8300, 1100, 4500, 3400, 776, …\n",
      "$ wishlist          \u001b[3m\u001b[90m<int>\u001b[39m\u001b[23m 4800, 3600, 2600, 1800, 2300, 230, 3800, 3300, 126, …\n"
     ]
    }
   ],
   "source": [
    "# Remove the K and add \",000\" to the number. \n",
    "# Function to perform replacements\n",
    "replace_function <- function(x) {\n",
    "    x <- gsub(\"\\\\.\", \"\", x)\n",
    "    x <- gsub(\"K\", \"00\", x)\n",
    "return(x)\n",
    "}\n",
    "\n",
    "# Columns to apply the replacements\n",
    "columns_to_modify = c(\"playing\", \"plays\",\"wishlist\", \"backlogs\", \"times_listed\",\"number_of_reviews\")\n",
    "\n",
    "# Modifies the column\n",
    "games_data[columns_to_modify] = lapply(games_data[columns_to_modify], replace_function)\n",
    "\n",
    "# Converts the characters into integers\n",
    "for (col in columns_to_modify) {\n",
    "    games_data[[col]] = as.integer(as.character(games_data[[col]]))\n",
    "}\n",
    "\n",
    "# View a glimpse of the dataframe\n",
    "glimpse(games_data)\n"
   ]
  },
  {
   "cell_type": "code",
   "execution_count": 13,
   "metadata": {
    "vscode": {
     "languageId": "r"
    }
   },
   "outputs": [],
   "source": [
    "#Save the newly cleaned dataset as a NEW file:\n",
    "#write.csv(games_data, 'cleaned_games_data.csv')"
   ]
  },
  {
   "cell_type": "code",
   "execution_count": 14,
   "metadata": {
    "vscode": {
     "languageId": "r"
    }
   },
   "outputs": [],
   "source": [
    "# load in the data to build the database\n",
    "review_data = read.csv('cleaned_games_data.csv')\n",
    "\n",
    "# need to drop teh first column otherwise you will get an error later\n",
    "review_data = review_data[,-1]"
   ]
  },
  {
   "cell_type": "code",
   "execution_count": 45,
   "metadata": {
    "vscode": {
     "languageId": "r"
    }
   },
   "outputs": [],
   "source": [
    "#Connect to the database you created in Assignment #6 using your preferred method.\n",
    "db <- dbConnect(dbDriver(\"SQLite\"), dbname = \"video_game_reviews.db\")"
   ]
  },
  {
   "cell_type": "code",
   "execution_count": 16,
   "metadata": {
    "vscode": {
     "languageId": "r"
    }
   },
   "outputs": [
    {
     "data": {
      "text/html": [
       "0"
      ],
      "text/latex": [
       "0"
      ],
      "text/markdown": [
       "0"
      ],
      "text/plain": [
       "[1] 0"
      ]
     },
     "metadata": {},
     "output_type": "display_data"
    }
   ],
   "source": [
    "# Creates the first table for the dataset \n",
    "\n",
    "first_table = \"CREATE TABLE IF NOT EXISTS game (\n",
    "    game_id  INTEGER AUTO_INCREMENT PRIMARY KEY,\n",
    "    title TEXT,\n",
    "    release_date TEXT,\n",
    "    team TEXT,\n",
    "    genres TEXT,\n",
    "    summary TEXT\n",
    ");\"\n",
    "\n",
    "# Executes the table\n",
    "dbExecute(db, first_table)"
   ]
  },
  {
   "cell_type": "code",
   "execution_count": 17,
   "metadata": {
    "vscode": {
     "languageId": "r"
    }
   },
   "outputs": [
    {
     "data": {
      "text/html": [
       "'game'"
      ],
      "text/latex": [
       "'game'"
      ],
      "text/markdown": [
       "'game'"
      ],
      "text/plain": [
       "[1] \"game\""
      ]
     },
     "metadata": {},
     "output_type": "display_data"
    }
   ],
   "source": [
    "# View if the columns were loaded in correctly \n",
    "dbListTables(db)"
   ]
  },
  {
   "cell_type": "code",
   "execution_count": 18,
   "metadata": {
    "vscode": {
     "languageId": "r"
    }
   },
   "outputs": [
    {
     "data": {
      "text/html": [
       "<style>\n",
       ".list-inline {list-style: none; margin:0; padding: 0}\n",
       ".list-inline>li {display: inline-block}\n",
       ".list-inline>li:not(:last-child)::after {content: \"\\00b7\"; padding: 0 .5ex}\n",
       "</style>\n",
       "<ol class=list-inline><li>'game_id'</li><li>'title'</li><li>'release_date'</li><li>'team'</li><li>'genres'</li><li>'summary'</li></ol>\n"
      ],
      "text/latex": [
       "\\begin{enumerate*}\n",
       "\\item 'game\\_id'\n",
       "\\item 'title'\n",
       "\\item 'release\\_date'\n",
       "\\item 'team'\n",
       "\\item 'genres'\n",
       "\\item 'summary'\n",
       "\\end{enumerate*}\n"
      ],
      "text/markdown": [
       "1. 'game_id'\n",
       "2. 'title'\n",
       "3. 'release_date'\n",
       "4. 'team'\n",
       "5. 'genres'\n",
       "6. 'summary'\n",
       "\n",
       "\n"
      ],
      "text/plain": [
       "[1] \"game_id\"      \"title\"        \"release_date\" \"team\"         \"genres\"      \n",
       "[6] \"summary\"     "
      ]
     },
     "metadata": {},
     "output_type": "display_data"
    }
   ],
   "source": [
    "# The table that was created\n",
    "table_name = \"game\"\n",
    "\n",
    "# Write a query to show the column names from the created table\n",
    "query_table_1 = paste0(\"PRAGMA table_info(\", table_name,\");\")\n",
    "\n",
    "#Retrieves the column names from the table we created \n",
    "db_columns = dbGetQuery(db, query_table_1)$name\n",
    "\n",
    "#Define teh common columns between the CSV and Database \n",
    "common_columns_first_table = intersect(colnames(review_data), db_columns)\n",
    "\n",
    "#These are teh column tables \n",
    "common_columns_first_table"
   ]
  },
  {
   "cell_type": "code",
   "execution_count": 19,
   "metadata": {
    "vscode": {
     "languageId": "r"
    }
   },
   "outputs": [],
   "source": [
    "# Creates a subset of teh data using the original csv taking only \n",
    "# the specified column names \n",
    "game_subset = review_data[, common_columns_first_table]\n",
    "\n",
    "# Writes the data into the table \n",
    "dbWriteTable(db, \"game\", game_subset, append = TRUE, row.names = FALSE)"
   ]
  },
  {
   "cell_type": "code",
   "execution_count": 48,
   "metadata": {
    "vscode": {
     "languageId": "r"
    }
   },
   "outputs": [
    {
     "data": {
      "text/html": [
       "<table class=\"dataframe\">\n",
       "<caption>A data.frame: 2 × 6</caption>\n",
       "<thead>\n",
       "\t<tr><th></th><th scope=col>game_id</th><th scope=col>title</th><th scope=col>release_date</th><th scope=col>team</th><th scope=col>genres</th><th scope=col>summary</th></tr>\n",
       "\t<tr><th></th><th scope=col>&lt;int&gt;</th><th scope=col>&lt;chr&gt;</th><th scope=col>&lt;chr&gt;</th><th scope=col>&lt;chr&gt;</th><th scope=col>&lt;chr&gt;</th><th scope=col>&lt;chr&gt;</th></tr>\n",
       "</thead>\n",
       "<tbody>\n",
       "\t<tr><th scope=row>1</th><td>0</td><td>Elden Ring</td><td>2022-02-25</td><td>['Bandai Namco Entertainment', 'FromSoftware']</td><td>['Adventure', 'RPG']                    </td><td>Elden Ring is a fantasy, action and open world game with RPG elements such as stats, weapons and spells. Rise, Tarnished, and be guided by grace to brandish the power of the Elden Ring and become an Elden Lord in the Lands Between.                                                                                        </td></tr>\n",
       "\t<tr><th scope=row>2</th><td>1</td><td>Hades     </td><td>2019-12-10</td><td>['Supergiant Games']                          </td><td>['Adventure', 'Brawler', 'Indie', 'RPG']</td><td>A rogue-lite hack and slash dungeon crawler in which Zagreus, son of Hades the Greek god of the dead, attempts to escape his home and his oppressive father by fighting the souls of the dead through the various layers of the ever-shifting underworld, while getting to know and forging relationships with its inhabitants.</td></tr>\n",
       "</tbody>\n",
       "</table>\n"
      ],
      "text/latex": [
       "A data.frame: 2 × 6\n",
       "\\begin{tabular}{r|llllll}\n",
       "  & game\\_id & title & release\\_date & team & genres & summary\\\\\n",
       "  & <int> & <chr> & <chr> & <chr> & <chr> & <chr>\\\\\n",
       "\\hline\n",
       "\t1 & 0 & Elden Ring & 2022-02-25 & {[}'Bandai Namco Entertainment', 'FromSoftware'{]} & {[}'Adventure', 'RPG'{]}                     & Elden Ring is a fantasy, action and open world game with RPG elements such as stats, weapons and spells. Rise, Tarnished, and be guided by grace to brandish the power of the Elden Ring and become an Elden Lord in the Lands Between.                                                                                        \\\\\n",
       "\t2 & 1 & Hades      & 2019-12-10 & {[}'Supergiant Games'{]}                           & {[}'Adventure', 'Brawler', 'Indie', 'RPG'{]} & A rogue-lite hack and slash dungeon crawler in which Zagreus, son of Hades the Greek god of the dead, attempts to escape his home and his oppressive father by fighting the souls of the dead through the various layers of the ever-shifting underworld, while getting to know and forging relationships with its inhabitants.\\\\\n",
       "\\end{tabular}\n"
      ],
      "text/markdown": [
       "\n",
       "A data.frame: 2 × 6\n",
       "\n",
       "| <!--/--> | game_id &lt;int&gt; | title &lt;chr&gt; | release_date &lt;chr&gt; | team &lt;chr&gt; | genres &lt;chr&gt; | summary &lt;chr&gt; |\n",
       "|---|---|---|---|---|---|---|\n",
       "| 1 | 0 | Elden Ring | 2022-02-25 | ['Bandai Namco Entertainment', 'FromSoftware'] | ['Adventure', 'RPG']                     | Elden Ring is a fantasy, action and open world game with RPG elements such as stats, weapons and spells. Rise, Tarnished, and be guided by grace to brandish the power of the Elden Ring and become an Elden Lord in the Lands Between.                                                                                         |\n",
       "| 2 | 1 | Hades      | 2019-12-10 | ['Supergiant Games']                           | ['Adventure', 'Brawler', 'Indie', 'RPG'] | A rogue-lite hack and slash dungeon crawler in which Zagreus, son of Hades the Greek god of the dead, attempts to escape his home and his oppressive father by fighting the souls of the dead through the various layers of the ever-shifting underworld, while getting to know and forging relationships with its inhabitants. |\n",
       "\n"
      ],
      "text/plain": [
       "  game_id title      release_date\n",
       "1 0       Elden Ring 2022-02-25  \n",
       "2 1       Hades      2019-12-10  \n",
       "  team                                          \n",
       "1 ['Bandai Namco Entertainment', 'FromSoftware']\n",
       "2 ['Supergiant Games']                          \n",
       "  genres                                  \n",
       "1 ['Adventure', 'RPG']                    \n",
       "2 ['Adventure', 'Brawler', 'Indie', 'RPG']\n",
       "  summary                                                                                                                                                                                                                                                                                                                        \n",
       "1 Elden Ring is a fantasy, action and open world game with RPG elements such as stats, weapons and spells. Rise, Tarnished, and be guided by grace to brandish the power of the Elden Ring and become an Elden Lord in the Lands Between.                                                                                        \n",
       "2 A rogue-lite hack and slash dungeon crawler in which Zagreus, son of Hades the Greek god of the dead, attempts to escape his home and his oppressive father by fighting the souls of the dead through the various layers of the ever-shifting underworld, while getting to know and forging relationships with its inhabitants."
      ]
     },
     "metadata": {},
     "output_type": "display_data"
    }
   ],
   "source": [
    "# checks the data in the table\n",
    "preview_game = dbReadTable(db, \"game\")\n",
    "\n",
    "head(preview_game, 2)"
   ]
  },
  {
   "cell_type": "code",
   "execution_count": 21,
   "metadata": {
    "vscode": {
     "languageId": "r"
    }
   },
   "outputs": [
    {
     "data": {
      "text/html": [
       "0"
      ],
      "text/latex": [
       "0"
      ],
      "text/markdown": [
       "0"
      ],
      "text/plain": [
       "[1] 0"
      ]
     },
     "metadata": {},
     "output_type": "display_data"
    }
   ],
   "source": [
    "# Create the table\n",
    "second_table = \"CREATE TABLE IF NOT EXISTS reviews (\n",
    "    game_id INTEGER,\n",
    "    rating INTEGER,\n",
    "    times_listed INTEGER,\n",
    "    number_of_reviews INTEGER,\n",
    "    reviews TEXT,\n",
    "    FOREIGN KEY (game_id) REFERENCES game(game_id) \n",
    ");\"\n",
    "# Executes the table\n",
    "dbExecute(db, second_table)"
   ]
  },
  {
   "cell_type": "code",
   "execution_count": 22,
   "metadata": {
    "vscode": {
     "languageId": "r"
    }
   },
   "outputs": [
    {
     "data": {
      "text/html": [
       "<style>\n",
       ".list-inline {list-style: none; margin:0; padding: 0}\n",
       ".list-inline>li {display: inline-block}\n",
       ".list-inline>li:not(:last-child)::after {content: \"\\00b7\"; padding: 0 .5ex}\n",
       "</style>\n",
       "<ol class=list-inline><li>'game'</li><li>'reviews'</li></ol>\n"
      ],
      "text/latex": [
       "\\begin{enumerate*}\n",
       "\\item 'game'\n",
       "\\item 'reviews'\n",
       "\\end{enumerate*}\n"
      ],
      "text/markdown": [
       "1. 'game'\n",
       "2. 'reviews'\n",
       "\n",
       "\n"
      ],
      "text/plain": [
       "[1] \"game\"    \"reviews\""
      ]
     },
     "metadata": {},
     "output_type": "display_data"
    }
   ],
   "source": [
    "# View if the columns were loaded in correctly \n",
    "dbListTables(db)"
   ]
  },
  {
   "cell_type": "code",
   "execution_count": 23,
   "metadata": {
    "vscode": {
     "languageId": "r"
    }
   },
   "outputs": [
    {
     "data": {
      "text/html": [
       "<style>\n",
       ".list-inline {list-style: none; margin:0; padding: 0}\n",
       ".list-inline>li {display: inline-block}\n",
       ".list-inline>li:not(:last-child)::after {content: \"\\00b7\"; padding: 0 .5ex}\n",
       "</style>\n",
       "<ol class=list-inline><li>'game_id'</li><li>'rating'</li><li>'times_listed'</li><li>'number_of_reviews'</li><li>'reviews'</li></ol>\n"
      ],
      "text/latex": [
       "\\begin{enumerate*}\n",
       "\\item 'game\\_id'\n",
       "\\item 'rating'\n",
       "\\item 'times\\_listed'\n",
       "\\item 'number\\_of\\_reviews'\n",
       "\\item 'reviews'\n",
       "\\end{enumerate*}\n"
      ],
      "text/markdown": [
       "1. 'game_id'\n",
       "2. 'rating'\n",
       "3. 'times_listed'\n",
       "4. 'number_of_reviews'\n",
       "5. 'reviews'\n",
       "\n",
       "\n"
      ],
      "text/plain": [
       "[1] \"game_id\"           \"rating\"            \"times_listed\"     \n",
       "[4] \"number_of_reviews\" \"reviews\"          "
      ]
     },
     "metadata": {},
     "output_type": "display_data"
    }
   ],
   "source": [
    "# The table that was created\n",
    "table_name = \"reviews\"\n",
    "\n",
    "# Write a query to show the column names from the created table\n",
    "query_table_2 = paste0(\"PRAGMA table_info(\", table_name,\");\")\n",
    "\n",
    "#Retrieves the column names from the table we created \n",
    "db_columns = dbGetQuery(db, query_table_2)$name\n",
    "\n",
    "#Define teh common columns between the CSV and Database \n",
    "common_columns_second_table = intersect(colnames(review_data), db_columns)\n",
    "\n",
    "#These are teh column tables \n",
    "common_columns_second_table"
   ]
  },
  {
   "cell_type": "code",
   "execution_count": 24,
   "metadata": {
    "vscode": {
     "languageId": "r"
    }
   },
   "outputs": [],
   "source": [
    "# Creates a subset of teh data using the original csv taking only \n",
    "# the specified column names \n",
    "game_subset = review_data[, common_columns_second_table]\n",
    "\n",
    "# Writes the data into the table \n",
    "dbWriteTable(db, \"reviews\", game_subset, append = TRUE, row.names = FALSE)"
   ]
  },
  {
   "cell_type": "code",
   "execution_count": 49,
   "metadata": {
    "vscode": {
     "languageId": "r"
    }
   },
   "outputs": [
    {
     "data": {
      "text/html": [
       "<table class=\"dataframe\">\n",
       "<caption>A data.frame: 2 × 5</caption>\n",
       "<thead>\n",
       "\t<tr><th></th><th scope=col>game_id</th><th scope=col>rating</th><th scope=col>times_listed</th><th scope=col>number_of_reviews</th><th scope=col>reviews</th></tr>\n",
       "\t<tr><th></th><th scope=col>&lt;int&gt;</th><th scope=col>&lt;int&gt;</th><th scope=col>&lt;int&gt;</th><th scope=col>&lt;int&gt;</th><th scope=col>&lt;chr&gt;</th></tr>\n",
       "</thead>\n",
       "<tbody>\n",
       "\t<tr><th scope=row>1</th><td>0</td><td>4</td><td>3900</td><td>3900</td><td>[\"The first playthrough of elden ring is one of the best eperiences gaming can offer you but after youve explored everything in the open world and you've experienced all of the surprises you lose motivation to go exploring on repeat playthroughs which takes a lot away from the replayability which is a very important thing for from games imo.\", 'a replay solidified my love for elden ring. so easily my favorite game of all time. actually beating malenia this time was also an amazing feeling. i just love being in this world man its the greatest of all time', 'The game is absolutely beautiful, with so much to do. The replayability is crazy. And it never gets old with it too.', 'Took everything great about the Soulsborne games and make it 100% better.', 'I play with my overlevelled friend every time and we still fail sometimes (he’s on NG6), insanely difficult game lol\\n                     \\n                     gorgeous graphics, animations, everything about this game is so beautiful. deserves all the hype it gets. If you have a powerful enough pc I definitely recommend you play it on there, if you use keyboard, you’ll want to change the keybinds because the defaults are ass.', \"Tied as my favorite souls game with Bloodborne, truly one I'll keep coming back too.\"]                                                                                                                                                                                                                                                                                                                                                                                                                                                                                                                                                                                               </td></tr>\n",
       "\t<tr><th scope=row>2</th><td>1</td><td>4</td><td>2900</td><td>2900</td><td>['convinced this is a roguelike for people who do not like the genre. The art is technically good but the aesthetic does very little for me, too clean or something. idk wish I liked it but I do not', 'incredible art, a banger soundtrack a surprisingly charming storyline and a big red dog. hades has very smooth gameplay but after playing it for a while it just feels like youre doing the same 3 hit combo ove and over again, which dont get me wrong that combo feels great to do but once i becomes muscle memory you kinda go into autopilot. also i think the boons are cool but i would like to see them change the flow of combat a bit more, there are some cool ones like the grape boon that can change the way you play but most of them are just upgrades that dont really change the gameplay or strategy. other then those 2 small gripes the game is fantastic.', \"People tell me this game gets really really good at some point but i've beaten entire games in the amount of time I gave this game.\", 'Não sou muito de jogo indie, admito que joguei poucos, mas devo dizer que Hades foi um dos melhores jogos que joguei na vida, facilmente no top 15. Toda sua arte, dublagem, gameplay, carisma dos personagens, é tudo incrivel', \"I can't shake the feeling that I am thoroughly bored playing Hades. I've picked up Hades three times over the last few years, and three times I've found myself putting down the controller after a handful of hours, especially after reaching the third stage, and I couldn't figure out why it wasn't working for me. After giving it a few good goes, I've finally managed to pin down what it is that just doesn't click for me about Hades.\", 'One of my favorites in the rogue-likes/lites, only being beat by binding of Isaac. I love the characters (Thanatos my beloved) and the writing and the art style and RRRAAAAHHH THIS GAME IS AWESOME']</td></tr>\n",
       "</tbody>\n",
       "</table>\n"
      ],
      "text/latex": [
       "A data.frame: 2 × 5\n",
       "\\begin{tabular}{r|lllll}\n",
       "  & game\\_id & rating & times\\_listed & number\\_of\\_reviews & reviews\\\\\n",
       "  & <int> & <int> & <int> & <int> & <chr>\\\\\n",
       "\\hline\n",
       "\t1 & 0 & 4 & 3900 & 3900 & {[}\"The first playthrough of elden ring is one of the best eperiences gaming can offer you but after youve explored everything in the open world and you've experienced all of the surprises you lose motivation to go exploring on repeat playthroughs which takes a lot away from the replayability which is a very important thing for from games imo.\", 'a replay solidified my love for elden ring. so easily my favorite game of all time. actually beating malenia this time was also an amazing feeling. i just love being in this world man its the greatest of all time', 'The game is absolutely beautiful, with so much to do. The replayability is crazy. And it never gets old with it too.', 'Took everything great about the Soulsborne games and make it 100\\% better.', 'I play with my overlevelled friend every time and we still fail sometimes (he’s on NG6), insanely difficult game lol\\textbackslash{}n                     \\textbackslash{}n                     gorgeous graphics, animations, everything about this game is so beautiful. deserves all the hype it gets. If you have a powerful enough pc I definitely recommend you play it on there, if you use keyboard, you’ll want to change the keybinds because the defaults are ass.', \"Tied as my favorite souls game with Bloodborne, truly one I'll keep coming back too.\"{]}                                                                                                                                                                                                                                                                                                                                                                                                                                                                                                                                                                                               \\\\\n",
       "\t2 & 1 & 4 & 2900 & 2900 & {[}'convinced this is a roguelike for people who do not like the genre. The art is technically good but the aesthetic does very little for me, too clean or something. idk wish I liked it but I do not', 'incredible art, a banger soundtrack a surprisingly charming storyline and a big red dog. hades has very smooth gameplay but after playing it for a while it just feels like youre doing the same 3 hit combo ove and over again, which dont get me wrong that combo feels great to do but once i becomes muscle memory you kinda go into autopilot. also i think the boons are cool but i would like to see them change the flow of combat a bit more, there are some cool ones like the grape boon that can change the way you play but most of them are just upgrades that dont really change the gameplay or strategy. other then those 2 small gripes the game is fantastic.', \"People tell me this game gets really really good at some point but i've beaten entire games in the amount of time I gave this game.\", 'Não sou muito de jogo indie, admito que joguei poucos, mas devo dizer que Hades foi um dos melhores jogos que joguei na vida, facilmente no top 15. Toda sua arte, dublagem, gameplay, carisma dos personagens, é tudo incrivel', \"I can't shake the feeling that I am thoroughly bored playing Hades. I've picked up Hades three times over the last few years, and three times I've found myself putting down the controller after a handful of hours, especially after reaching the third stage, and I couldn't figure out why it wasn't working for me. After giving it a few good goes, I've finally managed to pin down what it is that just doesn't click for me about Hades.\", 'One of my favorites in the rogue-likes/lites, only being beat by binding of Isaac. I love the characters (Thanatos my beloved) and the writing and the art style and RRRAAAAHHH THIS GAME IS AWESOME'{]}\\\\\n",
       "\\end{tabular}\n"
      ],
      "text/markdown": [
       "\n",
       "A data.frame: 2 × 5\n",
       "\n",
       "| <!--/--> | game_id &lt;int&gt; | rating &lt;int&gt; | times_listed &lt;int&gt; | number_of_reviews &lt;int&gt; | reviews &lt;chr&gt; |\n",
       "|---|---|---|---|---|---|\n",
       "| 1 | 0 | 4 | 3900 | 3900 | [\"The first playthrough of elden ring is one of the best eperiences gaming can offer you but after youve explored everything in the open world and you've experienced all of the surprises you lose motivation to go exploring on repeat playthroughs which takes a lot away from the replayability which is a very important thing for from games imo.\", 'a replay solidified my love for elden ring. so easily my favorite game of all time. actually beating malenia this time was also an amazing feeling. i just love being in this world man its the greatest of all time', 'The game is absolutely beautiful, with so much to do. The replayability is crazy. And it never gets old with it too.', 'Took everything great about the Soulsborne games and make it 100% better.', 'I play with my overlevelled friend every time and we still fail sometimes (he’s on NG6), insanely difficult game lol\\n                     \\n                     gorgeous graphics, animations, everything about this game is so beautiful. deserves all the hype it gets. If you have a powerful enough pc I definitely recommend you play it on there, if you use keyboard, you’ll want to change the keybinds because the defaults are ass.', \"Tied as my favorite souls game with Bloodborne, truly one I'll keep coming back too.\"]                                                                                                                                                                                                                                                                                                                                                                                                                                                                                                                                                                                                |\n",
       "| 2 | 1 | 4 | 2900 | 2900 | ['convinced this is a roguelike for people who do not like the genre. The art is technically good but the aesthetic does very little for me, too clean or something. idk wish I liked it but I do not', 'incredible art, a banger soundtrack a surprisingly charming storyline and a big red dog. hades has very smooth gameplay but after playing it for a while it just feels like youre doing the same 3 hit combo ove and over again, which dont get me wrong that combo feels great to do but once i becomes muscle memory you kinda go into autopilot. also i think the boons are cool but i would like to see them change the flow of combat a bit more, there are some cool ones like the grape boon that can change the way you play but most of them are just upgrades that dont really change the gameplay or strategy. other then those 2 small gripes the game is fantastic.', \"People tell me this game gets really really good at some point but i've beaten entire games in the amount of time I gave this game.\", 'Não sou muito de jogo indie, admito que joguei poucos, mas devo dizer que Hades foi um dos melhores jogos que joguei na vida, facilmente no top 15. Toda sua arte, dublagem, gameplay, carisma dos personagens, é tudo incrivel', \"I can't shake the feeling that I am thoroughly bored playing Hades. I've picked up Hades three times over the last few years, and three times I've found myself putting down the controller after a handful of hours, especially after reaching the third stage, and I couldn't figure out why it wasn't working for me. After giving it a few good goes, I've finally managed to pin down what it is that just doesn't click for me about Hades.\", 'One of my favorites in the rogue-likes/lites, only being beat by binding of Isaac. I love the characters (Thanatos my beloved) and the writing and the art style and RRRAAAAHHH THIS GAME IS AWESOME'] |\n",
       "\n"
      ],
      "text/plain": [
       "  game_id rating times_listed number_of_reviews\n",
       "1 0       4      3900         3900             \n",
       "2 1       4      2900         2900             \n",
       "  reviews                                                                                                                                                                                                                                                                                                                                                                                                                                                                                                                                                                                                                                                                                                                                                                                                                                                                                                                                                                                                                                                                                                                                                                                                                                                                                                                                                                                                                                                                                                                                                                                                                                                                                                                                                                                                                                                                                                                           \n",
       "1 [\"The first playthrough of elden ring is one of the best eperiences gaming can offer you but after youve explored everything in the open world and you've experienced all of the surprises you lose motivation to go exploring on repeat playthroughs which takes a lot away from the replayability which is a very important thing for from games imo.\", 'a replay solidified my love for elden ring. so easily my favorite game of all time. actually beating malenia this time was also an amazing feeling. i just love being in this world man its the greatest of all time', 'The game is absolutely beautiful, with so much to do. The replayability is crazy. And it never gets old with it too.', 'Took everything great about the Soulsborne games and make it 100% better.', 'I play with my overlevelled friend every time and we still fail sometimes (he’s on NG6), insanely difficult game lol\\\\n                     \\\\n                     gorgeous graphics, animations, everything about this game is so beautiful. deserves all the hype it gets. If you have a powerful enough pc I definitely recommend you play it on there, if you use keyboard, you’ll want to change the keybinds because the defaults are ass.', \"Tied as my favorite souls game with Bloodborne, truly one I'll keep coming back too.\"]                                                                                                                                                                                                                                                                                                                                                                                                                                                                                                                                                                                               \n",
       "2 ['convinced this is a roguelike for people who do not like the genre. The art is technically good but the aesthetic does very little for me, too clean or something. idk wish I liked it but I do not', 'incredible art, a banger soundtrack a surprisingly charming storyline and a big red dog. hades has very smooth gameplay but after playing it for a while it just feels like youre doing the same 3 hit combo ove and over again, which dont get me wrong that combo feels great to do but once i becomes muscle memory you kinda go into autopilot. also i think the boons are cool but i would like to see them change the flow of combat a bit more, there are some cool ones like the grape boon that can change the way you play but most of them are just upgrades that dont really change the gameplay or strategy. other then those 2 small gripes the game is fantastic.', \"People tell me this game gets really really good at some point but i've beaten entire games in the amount of time I gave this game.\", 'Não sou muito de jogo indie, admito que joguei poucos, mas devo dizer que Hades foi um dos melhores jogos que joguei na vida, facilmente no top 15. Toda sua arte, dublagem, gameplay, carisma dos personagens, é tudo incrivel', \"I can't shake the feeling that I am thoroughly bored playing Hades. I've picked up Hades three times over the last few years, and three times I've found myself putting down the controller after a handful of hours, especially after reaching the third stage, and I couldn't figure out why it wasn't working for me. After giving it a few good goes, I've finally managed to pin down what it is that just doesn't click for me about Hades.\", 'One of my favorites in the rogue-likes/lites, only being beat by binding of Isaac. I love the characters (Thanatos my beloved) and the writing and the art style and RRRAAAAHHH THIS GAME IS AWESOME']"
      ]
     },
     "metadata": {},
     "output_type": "display_data"
    }
   ],
   "source": [
    "# checks the data in the table\n",
    "preview_reviews = dbReadTable(db, \"reviews\")\n",
    "\n",
    "head(preview_reviews, 2)"
   ]
  },
  {
   "cell_type": "code",
   "execution_count": 26,
   "metadata": {
    "vscode": {
     "languageId": "r"
    }
   },
   "outputs": [
    {
     "data": {
      "text/html": [
       "0"
      ],
      "text/latex": [
       "0"
      ],
      "text/markdown": [
       "0"
      ],
      "text/plain": [
       "[1] 0"
      ]
     },
     "metadata": {},
     "output_type": "display_data"
    }
   ],
   "source": [
    "# Create the table\n",
    "third_table = \"CREATE TABLE IF NOT EXISTS user_activity (\n",
    "    game_id INTEGER,\n",
    "    plays INTEGER,\n",
    "    playing INTEGER,\n",
    "    backlogs INTEGER,\n",
    "    wishlist INTEGER,\n",
    "    FOREIGN KEY (game_id) REFERENCES game(game_id) \n",
    ");\"\n",
    "\n",
    "# Executes the table\n",
    "dbExecute(db, third_table)"
   ]
  },
  {
   "cell_type": "code",
   "execution_count": 27,
   "metadata": {
    "vscode": {
     "languageId": "r"
    }
   },
   "outputs": [
    {
     "data": {
      "text/html": [
       "<style>\n",
       ".list-inline {list-style: none; margin:0; padding: 0}\n",
       ".list-inline>li {display: inline-block}\n",
       ".list-inline>li:not(:last-child)::after {content: \"\\00b7\"; padding: 0 .5ex}\n",
       "</style>\n",
       "<ol class=list-inline><li>'game'</li><li>'reviews'</li><li>'user_activity'</li></ol>\n"
      ],
      "text/latex": [
       "\\begin{enumerate*}\n",
       "\\item 'game'\n",
       "\\item 'reviews'\n",
       "\\item 'user\\_activity'\n",
       "\\end{enumerate*}\n"
      ],
      "text/markdown": [
       "1. 'game'\n",
       "2. 'reviews'\n",
       "3. 'user_activity'\n",
       "\n",
       "\n"
      ],
      "text/plain": [
       "[1] \"game\"          \"reviews\"       \"user_activity\""
      ]
     },
     "metadata": {},
     "output_type": "display_data"
    }
   ],
   "source": [
    "# View if the columns were loaded in correctly \n",
    "dbListTables(db)"
   ]
  },
  {
   "cell_type": "code",
   "execution_count": 28,
   "metadata": {
    "vscode": {
     "languageId": "r"
    }
   },
   "outputs": [
    {
     "data": {
      "text/html": [
       "<style>\n",
       ".list-inline {list-style: none; margin:0; padding: 0}\n",
       ".list-inline>li {display: inline-block}\n",
       ".list-inline>li:not(:last-child)::after {content: \"\\00b7\"; padding: 0 .5ex}\n",
       "</style>\n",
       "<ol class=list-inline><li>'game_id'</li><li>'plays'</li><li>'playing'</li><li>'backlogs'</li><li>'wishlist'</li></ol>\n"
      ],
      "text/latex": [
       "\\begin{enumerate*}\n",
       "\\item 'game\\_id'\n",
       "\\item 'plays'\n",
       "\\item 'playing'\n",
       "\\item 'backlogs'\n",
       "\\item 'wishlist'\n",
       "\\end{enumerate*}\n"
      ],
      "text/markdown": [
       "1. 'game_id'\n",
       "2. 'plays'\n",
       "3. 'playing'\n",
       "4. 'backlogs'\n",
       "5. 'wishlist'\n",
       "\n",
       "\n"
      ],
      "text/plain": [
       "[1] \"game_id\"  \"plays\"    \"playing\"  \"backlogs\" \"wishlist\""
      ]
     },
     "metadata": {},
     "output_type": "display_data"
    }
   ],
   "source": [
    "# The table that was created\n",
    "table_name = \"user_activity\"\n",
    "\n",
    "# Write a query to show the column names from the created table\n",
    "query_table_3 = paste0(\"PRAGMA table_info(\", table_name,\");\")\n",
    "\n",
    "#Retrieves the column names from the table we created \n",
    "db_columns = dbGetQuery(db, query_table_3)$name\n",
    "\n",
    "#Define teh common columns between the CSV and Database \n",
    "common_columns_third_table = intersect(colnames(review_data), db_columns)\n",
    "\n",
    "#These are teh column tables \n",
    "common_columns_third_table"
   ]
  },
  {
   "cell_type": "code",
   "execution_count": 29,
   "metadata": {
    "vscode": {
     "languageId": "r"
    }
   },
   "outputs": [],
   "source": [
    "# Creates a subset of teh data using the original csv taking only \n",
    "# the specified column names \n",
    "game_subset = review_data[, common_columns_third_table]\n",
    "\n",
    "# Writes the data into the table \n",
    "dbWriteTable(db, \"user_activity\", game_subset, append = TRUE, row.names = FALSE)"
   ]
  },
  {
   "cell_type": "code",
   "execution_count": 50,
   "metadata": {
    "vscode": {
     "languageId": "r"
    }
   },
   "outputs": [
    {
     "data": {
      "text/html": [
       "<table class=\"dataframe\">\n",
       "<caption>A data.frame: 2 × 5</caption>\n",
       "<thead>\n",
       "\t<tr><th></th><th scope=col>game_id</th><th scope=col>plays</th><th scope=col>playing</th><th scope=col>backlogs</th><th scope=col>wishlist</th></tr>\n",
       "\t<tr><th></th><th scope=col>&lt;int&gt;</th><th scope=col>&lt;int&gt;</th><th scope=col>&lt;int&gt;</th><th scope=col>&lt;int&gt;</th><th scope=col>&lt;int&gt;</th></tr>\n",
       "</thead>\n",
       "<tbody>\n",
       "\t<tr><th scope=row>1</th><td>0</td><td>1700</td><td>3800</td><td>4600</td><td>4800</td></tr>\n",
       "\t<tr><th scope=row>2</th><td>1</td><td>2100</td><td>3200</td><td>6300</td><td>3600</td></tr>\n",
       "</tbody>\n",
       "</table>\n"
      ],
      "text/latex": [
       "A data.frame: 2 × 5\n",
       "\\begin{tabular}{r|lllll}\n",
       "  & game\\_id & plays & playing & backlogs & wishlist\\\\\n",
       "  & <int> & <int> & <int> & <int> & <int>\\\\\n",
       "\\hline\n",
       "\t1 & 0 & 1700 & 3800 & 4600 & 4800\\\\\n",
       "\t2 & 1 & 2100 & 3200 & 6300 & 3600\\\\\n",
       "\\end{tabular}\n"
      ],
      "text/markdown": [
       "\n",
       "A data.frame: 2 × 5\n",
       "\n",
       "| <!--/--> | game_id &lt;int&gt; | plays &lt;int&gt; | playing &lt;int&gt; | backlogs &lt;int&gt; | wishlist &lt;int&gt; |\n",
       "|---|---|---|---|---|---|\n",
       "| 1 | 0 | 1700 | 3800 | 4600 | 4800 |\n",
       "| 2 | 1 | 2100 | 3200 | 6300 | 3600 |\n",
       "\n"
      ],
      "text/plain": [
       "  game_id plays playing backlogs wishlist\n",
       "1 0       1700  3800    4600     4800    \n",
       "2 1       2100  3200    6300     3600    "
      ]
     },
     "metadata": {},
     "output_type": "display_data"
    }
   ],
   "source": [
    "# checks the data in the table\n",
    "preview_user_activity = dbReadTable(db, \"user_activity\")\n",
    "\n",
    "head(preview_user_activity, 2)"
   ]
  },
  {
   "cell_type": "code",
   "execution_count": 52,
   "metadata": {
    "vscode": {
     "languageId": "r"
    }
   },
   "outputs": [
    {
     "data": {
      "text/html": [
       "<table class=\"dataframe\">\n",
       "<caption>A data.frame: 2 × 6</caption>\n",
       "<thead>\n",
       "\t<tr><th></th><th scope=col>game_id</th><th scope=col>title</th><th scope=col>release_date</th><th scope=col>team</th><th scope=col>genres</th><th scope=col>summary</th></tr>\n",
       "\t<tr><th></th><th scope=col>&lt;int&gt;</th><th scope=col>&lt;chr&gt;</th><th scope=col>&lt;chr&gt;</th><th scope=col>&lt;chr&gt;</th><th scope=col>&lt;chr&gt;</th><th scope=col>&lt;chr&gt;</th></tr>\n",
       "</thead>\n",
       "<tbody>\n",
       "\t<tr><th scope=row>1</th><td>0</td><td>Elden Ring</td><td>2022-02-25</td><td>['Bandai Namco Entertainment', 'FromSoftware']</td><td>['Adventure', 'RPG']                    </td><td>Elden Ring is a fantasy, action and open world game with RPG elements such as stats, weapons and spells. Rise, Tarnished, and be guided by grace to brandish the power of the Elden Ring and become an Elden Lord in the Lands Between.                                                                                        </td></tr>\n",
       "\t<tr><th scope=row>2</th><td>1</td><td>Hades     </td><td>2019-12-10</td><td>['Supergiant Games']                          </td><td>['Adventure', 'Brawler', 'Indie', 'RPG']</td><td>A rogue-lite hack and slash dungeon crawler in which Zagreus, son of Hades the Greek god of the dead, attempts to escape his home and his oppressive father by fighting the souls of the dead through the various layers of the ever-shifting underworld, while getting to know and forging relationships with its inhabitants.</td></tr>\n",
       "</tbody>\n",
       "</table>\n"
      ],
      "text/latex": [
       "A data.frame: 2 × 6\n",
       "\\begin{tabular}{r|llllll}\n",
       "  & game\\_id & title & release\\_date & team & genres & summary\\\\\n",
       "  & <int> & <chr> & <chr> & <chr> & <chr> & <chr>\\\\\n",
       "\\hline\n",
       "\t1 & 0 & Elden Ring & 2022-02-25 & {[}'Bandai Namco Entertainment', 'FromSoftware'{]} & {[}'Adventure', 'RPG'{]}                     & Elden Ring is a fantasy, action and open world game with RPG elements such as stats, weapons and spells. Rise, Tarnished, and be guided by grace to brandish the power of the Elden Ring and become an Elden Lord in the Lands Between.                                                                                        \\\\\n",
       "\t2 & 1 & Hades      & 2019-12-10 & {[}'Supergiant Games'{]}                           & {[}'Adventure', 'Brawler', 'Indie', 'RPG'{]} & A rogue-lite hack and slash dungeon crawler in which Zagreus, son of Hades the Greek god of the dead, attempts to escape his home and his oppressive father by fighting the souls of the dead through the various layers of the ever-shifting underworld, while getting to know and forging relationships with its inhabitants.\\\\\n",
       "\\end{tabular}\n"
      ],
      "text/markdown": [
       "\n",
       "A data.frame: 2 × 6\n",
       "\n",
       "| <!--/--> | game_id &lt;int&gt; | title &lt;chr&gt; | release_date &lt;chr&gt; | team &lt;chr&gt; | genres &lt;chr&gt; | summary &lt;chr&gt; |\n",
       "|---|---|---|---|---|---|---|\n",
       "| 1 | 0 | Elden Ring | 2022-02-25 | ['Bandai Namco Entertainment', 'FromSoftware'] | ['Adventure', 'RPG']                     | Elden Ring is a fantasy, action and open world game with RPG elements such as stats, weapons and spells. Rise, Tarnished, and be guided by grace to brandish the power of the Elden Ring and become an Elden Lord in the Lands Between.                                                                                         |\n",
       "| 2 | 1 | Hades      | 2019-12-10 | ['Supergiant Games']                           | ['Adventure', 'Brawler', 'Indie', 'RPG'] | A rogue-lite hack and slash dungeon crawler in which Zagreus, son of Hades the Greek god of the dead, attempts to escape his home and his oppressive father by fighting the souls of the dead through the various layers of the ever-shifting underworld, while getting to know and forging relationships with its inhabitants. |\n",
       "\n"
      ],
      "text/plain": [
       "  game_id title      release_date\n",
       "1 0       Elden Ring 2022-02-25  \n",
       "2 1       Hades      2019-12-10  \n",
       "  team                                          \n",
       "1 ['Bandai Namco Entertainment', 'FromSoftware']\n",
       "2 ['Supergiant Games']                          \n",
       "  genres                                  \n",
       "1 ['Adventure', 'RPG']                    \n",
       "2 ['Adventure', 'Brawler', 'Indie', 'RPG']\n",
       "  summary                                                                                                                                                                                                                                                                                                                        \n",
       "1 Elden Ring is a fantasy, action and open world game with RPG elements such as stats, weapons and spells. Rise, Tarnished, and be guided by grace to brandish the power of the Elden Ring and become an Elden Lord in the Lands Between.                                                                                        \n",
       "2 A rogue-lite hack and slash dungeon crawler in which Zagreus, son of Hades the Greek god of the dead, attempts to escape his home and his oppressive father by fighting the souls of the dead through the various layers of the ever-shifting underworld, while getting to know and forging relationships with its inhabitants."
      ]
     },
     "metadata": {},
     "output_type": "display_data"
    }
   ],
   "source": [
    "#Complete a quick query to ensure your data is available on the server.\n",
    "test <- dbGetQuery(db, \"SELECT * \n",
    "                        FROM game\n",
    "                        LIMIT 10\")\n",
    "head(test, 2)"
   ]
  },
  {
   "cell_type": "markdown",
   "metadata": {},
   "source": [
    "**Question:**\n",
    "<br>\n",
    "What games had < 2000 plays\n",
    "<br>\n",
    "<br>\n",
    "**What tables are we joining:**\n",
    "<br>\n",
    "Games & user_activity"
   ]
  },
  {
   "cell_type": "code",
   "execution_count": 53,
   "metadata": {
    "vscode": {
     "languageId": "r"
    }
   },
   "outputs": [
    {
     "data": {
      "text/html": [
       "<table class=\"dataframe\">\n",
       "<caption>A data.frame: 5 × 3</caption>\n",
       "<thead>\n",
       "\t<tr><th scope=col>title</th><th scope=col>total_plays</th><th scope=col>total_wait_list</th></tr>\n",
       "\t<tr><th scope=col>&lt;chr&gt;</th><th scope=col>&lt;int&gt;</th><th scope=col>&lt;int&gt;</th></tr>\n",
       "</thead>\n",
       "<tbody>\n",
       "\t<tr><td>The Stanley Parable               </td><td>2000</td><td>1666</td></tr>\n",
       "\t<tr><td>Super Smash Bros. for Nintendo 3DS</td><td>2000</td><td> 192</td></tr>\n",
       "\t<tr><td>Super Meat Boy                    </td><td>2000</td><td>1002</td></tr>\n",
       "\t<tr><td>Animal Crossing: New Horizons     </td><td>2000</td><td>1100</td></tr>\n",
       "\t<tr><td>Ys VIII: Lacrimosa of Dana        </td><td>1900</td><td> 575</td></tr>\n",
       "</tbody>\n",
       "</table>\n"
      ],
      "text/latex": [
       "A data.frame: 5 × 3\n",
       "\\begin{tabular}{lll}\n",
       " title & total\\_plays & total\\_wait\\_list\\\\\n",
       " <chr> & <int> & <int>\\\\\n",
       "\\hline\n",
       "\t The Stanley Parable                & 2000 & 1666\\\\\n",
       "\t Super Smash Bros. for Nintendo 3DS & 2000 &  192\\\\\n",
       "\t Super Meat Boy                     & 2000 & 1002\\\\\n",
       "\t Animal Crossing: New Horizons      & 2000 & 1100\\\\\n",
       "\t Ys VIII: Lacrimosa of Dana         & 1900 &  575\\\\\n",
       "\\end{tabular}\n"
      ],
      "text/markdown": [
       "\n",
       "A data.frame: 5 × 3\n",
       "\n",
       "| title &lt;chr&gt; | total_plays &lt;int&gt; | total_wait_list &lt;int&gt; |\n",
       "|---|---|---|\n",
       "| The Stanley Parable                | 2000 | 1666 |\n",
       "| Super Smash Bros. for Nintendo 3DS | 2000 |  192 |\n",
       "| Super Meat Boy                     | 2000 | 1002 |\n",
       "| Animal Crossing: New Horizons      | 2000 | 1100 |\n",
       "| Ys VIII: Lacrimosa of Dana         | 1900 |  575 |\n",
       "\n"
      ],
      "text/plain": [
       "  title                              total_plays total_wait_list\n",
       "1 The Stanley Parable                2000        1666           \n",
       "2 Super Smash Bros. for Nintendo 3DS 2000         192           \n",
       "3 Super Meat Boy                     2000        1002           \n",
       "4 Animal Crossing: New Horizons      2000        1100           \n",
       "5 Ys VIII: Lacrimosa of Dana         1900         575           "
      ]
     },
     "metadata": {},
     "output_type": "display_data"
    }
   ],
   "source": [
    "two_k_plays_and_below = dbGetQuery(db, \"\n",
    "                                SELECT g.title, \n",
    "                                        SUM(ua.plays) AS total_plays, \n",
    "                                        SUM(ua.wishlist) AS total_wait_list\n",
    "                                FROM game AS g\n",
    "                                INNER JOIN user_activity ua ON g.game_id = ua.game_id\n",
    "                                GROUP BY g.title\n",
    "                                HAVING SUM(ua.plays) <= 2000\n",
    "                                ORDER BY total_plays DESC\n",
    "                                LIMIT 5\")\n",
    "two_k_plays_and_below"
   ]
  },
  {
   "cell_type": "code",
   "execution_count": 54,
   "metadata": {
    "vscode": {
     "languageId": "r"
    }
   },
   "outputs": [
    {
     "data": {
      "image/png": "[encoded data removed]",
      "text/plain": [
       "plot without title"
      ]
     },
     "metadata": {
      "image/png": {
       "height": 420,
       "width": 420
      }
     },
     "output_type": "display_data"
    }
   ],
   "source": [
    "# Create the bar chart\n",
    "ggplot(two_k_plays_and_below, aes(x = reorder(title, -total_wait_list))) +\n",
    "  coord_flip()+ \n",
    "    geom_col(aes(y = total_plays, fill = \"Total Plays\"), position = \"dodge\", alpha = 0.8) +\n",
    "    geom_col(aes(y = total_wait_list, fill = \"Total Wait List\"), position = \"dodge\", alpha = 0.8) +\n",
    "    labs(\n",
    "        title = \"Games with Less than 2k Plays\",\n",
    "        x = \"Games\",\n",
    "        y = \"Total Amuont\",\n",
    "    ) +\n",
    "    scale_fill_manual(values = c(\"Total Plays\" = \"blue\", \"Total Wait List\" = \"yellow\")) +\n",
    "    theme_dark() +\n",
    "    theme(\n",
    "        plot.title = element_text(hjust = 0.5),\n",
    "        legend.title=element_blank()\n",
    "    )\n"
   ]
  },
  {
   "cell_type": "markdown",
   "metadata": {},
   "source": [
    "**Question:** <br>\n",
    "What games have a rating of three and how many people have put it on their wish list\n",
    "<br>\n",
    "<br>\n",
    "**What tables are we joining?**<br>\n",
    "Game, user_activity and reviews"
   ]
  },
  {
   "cell_type": "code",
   "execution_count": 34,
   "metadata": {
    "vscode": {
     "languageId": "r"
    }
   },
   "outputs": [
    {
     "data": {
      "text/html": [
       "<table class=\"dataframe\">\n",
       "<caption>A data.frame: 5 × 3</caption>\n",
       "<thead>\n",
       "\t<tr><th scope=col>game_title</th><th scope=col>wishlist</th><th scope=col>rating</th></tr>\n",
       "\t<tr><th scope=col>&lt;chr&gt;</th><th scope=col>&lt;int&gt;</th><th scope=col>&lt;int&gt;</th></tr>\n",
       "</thead>\n",
       "<tbody>\n",
       "\t<tr><td>Stray                             </td><td>3400</td><td>3</td></tr>\n",
       "\t<tr><td>Cyberpunk 2077                    </td><td>2900</td><td>3</td></tr>\n",
       "\t<tr><td>Resident Evil Village             </td><td>2800</td><td>3</td></tr>\n",
       "\t<tr><td>Marvel's Spider-Man: Miles Morales</td><td>2800</td><td>3</td></tr>\n",
       "\t<tr><td>Shin Megami Tensei V              </td><td>2600</td><td>3</td></tr>\n",
       "</tbody>\n",
       "</table>\n"
      ],
      "text/latex": [
       "A data.frame: 5 × 3\n",
       "\\begin{tabular}{lll}\n",
       " game\\_title & wishlist & rating\\\\\n",
       " <chr> & <int> & <int>\\\\\n",
       "\\hline\n",
       "\t Stray                              & 3400 & 3\\\\\n",
       "\t Cyberpunk 2077                     & 2900 & 3\\\\\n",
       "\t Resident Evil Village              & 2800 & 3\\\\\n",
       "\t Marvel's Spider-Man: Miles Morales & 2800 & 3\\\\\n",
       "\t Shin Megami Tensei V               & 2600 & 3\\\\\n",
       "\\end{tabular}\n"
      ],
      "text/markdown": [
       "\n",
       "A data.frame: 5 × 3\n",
       "\n",
       "| game_title &lt;chr&gt; | wishlist &lt;int&gt; | rating &lt;int&gt; |\n",
       "|---|---|---|\n",
       "| Stray                              | 3400 | 3 |\n",
       "| Cyberpunk 2077                     | 2900 | 3 |\n",
       "| Resident Evil Village              | 2800 | 3 |\n",
       "| Marvel's Spider-Man: Miles Morales | 2800 | 3 |\n",
       "| Shin Megami Tensei V               | 2600 | 3 |\n",
       "\n"
      ],
      "text/plain": [
       "  game_title                         wishlist rating\n",
       "1 Stray                              3400     3     \n",
       "2 Cyberpunk 2077                     2900     3     \n",
       "3 Resident Evil Village              2800     3     \n",
       "4 Marvel's Spider-Man: Miles Morales 2800     3     \n",
       "5 Shin Megami Tensei V               2600     3     "
      ]
     },
     "metadata": {},
     "output_type": "display_data"
    }
   ],
   "source": [
    "# groups the the title from game table, user_activity table and the reviews table and shows the results of all three tables\n",
    "games_rated_3 = dbGetQuery(db, \"SELECT DISTINCT g.title AS game_title, ua.wishlist, r.rating\n",
    "                            FROM game g\n",
    "                            INNER JOIN reviews r ON g.game_id = r.game_id\n",
    "                            LEFT JOIN user_activity ua ON g.game_id = ua.game_id\n",
    "                            WHERE r.rating = 3\n",
    "                            ORDER BY wishlist DESC\n",
    "                            LIMIT 5\")\n",
    "games_rated_3 "
   ]
  },
  {
   "cell_type": "code",
   "execution_count": 35,
   "metadata": {
    "vscode": {
     "languageId": "r"
    }
   },
   "outputs": [
    {
     "data": {
      "image/png": "[encoded data removed]",
      "text/plain": [
       "plot without title"
      ]
     },
     "metadata": {
      "image/png": {
       "height": 420,
       "width": 420
      }
     },
     "output_type": "display_data"
    }
   ],
   "source": [
    "ggplot(games_rated_3, aes(x = reorder(game_title, -wishlist), y = wishlist)) +\n",
    "  geom_bar(stat = \"identity\", fill = \"yellow\") +\n",
    "  coord_flip() +\n",
    "  labs(x = \"Game Titles\", y = \"Number of Wishlists\", title = \"Games with Rating of Three Highly Wanted\") +\n",
    "  theme_dark()+\n",
    "  theme(panel.grid.major = element_blank(),  \n",
    "        panel.grid.minor = element_blank())"
   ]
  },
  {
   "cell_type": "markdown",
   "metadata": {},
   "source": [
    "**Research Question:** <br>\n",
    "What genres have currently playing of < 2000\n",
    "<br>\n",
    "<br>\n",
    "**What tables are we joining?** <br>\n",
    "game & user_activity"
   ]
  },
  {
   "cell_type": "code",
   "execution_count": 36,
   "metadata": {
    "vscode": {
     "languageId": "r"
    }
   },
   "outputs": [
    {
     "data": {
      "text/html": [
       "<table class=\"dataframe\">\n",
       "<caption>A data.frame: 5 × 2</caption>\n",
       "<thead>\n",
       "\t<tr><th scope=col>genres</th><th scope=col>Currently_Playing</th></tr>\n",
       "\t<tr><th scope=col>&lt;chr&gt;</th><th scope=col>&lt;int&gt;</th></tr>\n",
       "</thead>\n",
       "<tbody>\n",
       "\t<tr><td>['Adventure', 'RPG']                       </td><td>454901</td></tr>\n",
       "\t<tr><td>['Adventure', 'Platform']                  </td><td>396234</td></tr>\n",
       "\t<tr><td>['Adventure', 'Shooter']                   </td><td>287379</td></tr>\n",
       "\t<tr><td>['Shooter']                                </td><td>236577</td></tr>\n",
       "\t<tr><td>['Adventure', 'RPG', 'Turn Based Strategy']</td><td>166500</td></tr>\n",
       "</tbody>\n",
       "</table>\n"
      ],
      "text/latex": [
       "A data.frame: 5 × 2\n",
       "\\begin{tabular}{ll}\n",
       " genres & Currently\\_Playing\\\\\n",
       " <chr> & <int>\\\\\n",
       "\\hline\n",
       "\t {[}'Adventure', 'RPG'{]}                        & 454901\\\\\n",
       "\t {[}'Adventure', 'Platform'{]}                   & 396234\\\\\n",
       "\t {[}'Adventure', 'Shooter'{]}                    & 287379\\\\\n",
       "\t {[}'Shooter'{]}                                 & 236577\\\\\n",
       "\t {[}'Adventure', 'RPG', 'Turn Based Strategy'{]} & 166500\\\\\n",
       "\\end{tabular}\n"
      ],
      "text/markdown": [
       "\n",
       "A data.frame: 5 × 2\n",
       "\n",
       "| genres &lt;chr&gt; | Currently_Playing &lt;int&gt; |\n",
       "|---|---|\n",
       "| ['Adventure', 'RPG']                        | 454901 |\n",
       "| ['Adventure', 'Platform']                   | 396234 |\n",
       "| ['Adventure', 'Shooter']                    | 287379 |\n",
       "| ['Shooter']                                 | 236577 |\n",
       "| ['Adventure', 'RPG', 'Turn Based Strategy'] | 166500 |\n",
       "\n"
      ],
      "text/plain": [
       "  genres                                      Currently_Playing\n",
       "1 ['Adventure', 'RPG']                        454901           \n",
       "2 ['Adventure', 'Platform']                   396234           \n",
       "3 ['Adventure', 'Shooter']                    287379           \n",
       "4 ['Shooter']                                 236577           \n",
       "5 ['Adventure', 'RPG', 'Turn Based Strategy'] 166500           "
      ]
     },
     "metadata": {},
     "output_type": "display_data"
    }
   ],
   "source": [
    "current_playing_more_5k = dbGetQuery(db, \"SELECT DISTINCT g.genres, SUM(ua.plays) AS Currently_Playing\n",
    "                            FROM game AS g\n",
    "                            RIGHT JOIN user_activity ua ON g.game_id = ua.game_id\n",
    "                            GROUP BY g.genres\n",
    "                            HAVING SUM(ua.plays) > 5000\n",
    "                            ORDER BY Currently_Playing DESC \n",
    "                            LIMIT 5\")\n",
    "current_playing_more_5k "
   ]
  },
  {
   "cell_type": "code",
   "execution_count": 37,
   "metadata": {
    "vscode": {
     "languageId": "r"
    }
   },
   "outputs": [
    {
     "data": {
      "image/png": "[encoded data removed]",
      "text/plain": [
       "plot without title"
      ]
     },
     "metadata": {
      "image/png": {
       "height": 420,
       "width": 420
      }
     },
     "output_type": "display_data"
    }
   ],
   "source": [
    "ggplot(current_playing_more_5k, aes(x = reorder(genres, -Currently_Playing), y = Currently_Playing)) +\n",
    "  coord_flip() +\n",
    "  geom_bar(stat = \"identity\", fill = \"yellow\") +\n",
    "  labs(x = \"Genres\", \n",
    "        y = \"Currently Playing\", \n",
    "        title = \"Genres With The Most Current Players\") +\n",
    "  theme_dark()+\n",
    "  theme(,\n",
    "        panel.grid.major = element_blank(),  \n",
    "        panel.grid.minor = element_blank())"
   ]
  },
  {
   "cell_type": "markdown",
   "metadata": {},
   "source": [
    "**Question:** <br> \n",
    "what games are highly wanted (>= 3000), wanted (>= 2000) and not really wanted (< 2000)\n",
    "<br>\n",
    "<br>\n",
    "**What tables are we joining?:** <br>\n",
    "games and user activity "
   ]
  },
  {
   "cell_type": "code",
   "execution_count": 38,
   "metadata": {
    "vscode": {
     "languageId": "r"
    }
   },
   "outputs": [
    {
     "data": {
      "text/html": [
       "<table class=\"dataframe\">\n",
       "<caption>A data.frame: 5 × 3</caption>\n",
       "<thead>\n",
       "\t<tr><th scope=col>title</th><th scope=col>total_plays</th><th scope=col>total_wait_list</th></tr>\n",
       "\t<tr><th scope=col>&lt;chr&gt;</th><th scope=col>&lt;int&gt;</th><th scope=col>&lt;int&gt;</th></tr>\n",
       "</thead>\n",
       "<tbody>\n",
       "\t<tr><td>Resident Evil Village          </td><td>29700</td><td>8400</td></tr>\n",
       "\t<tr><td>Yakuza Kiwami                  </td><td>29100</td><td> 300</td></tr>\n",
       "\t<tr><td>Katana Zero                    </td><td>27900</td><td>4500</td></tr>\n",
       "\t<tr><td>Metroid Dread                  </td><td>27600</td><td>9900</td></tr>\n",
       "\t<tr><td>Metal Gear Solid 3: Snake Eater</td><td>27600</td><td>3900</td></tr>\n",
       "</tbody>\n",
       "</table>\n"
      ],
      "text/latex": [
       "A data.frame: 5 × 3\n",
       "\\begin{tabular}{lll}\n",
       " title & total\\_plays & total\\_wait\\_list\\\\\n",
       " <chr> & <int> & <int>\\\\\n",
       "\\hline\n",
       "\t Resident Evil Village           & 29700 & 8400\\\\\n",
       "\t Yakuza Kiwami                   & 29100 &  300\\\\\n",
       "\t Katana Zero                     & 27900 & 4500\\\\\n",
       "\t Metroid Dread                   & 27600 & 9900\\\\\n",
       "\t Metal Gear Solid 3: Snake Eater & 27600 & 3900\\\\\n",
       "\\end{tabular}\n"
      ],
      "text/markdown": [
       "\n",
       "A data.frame: 5 × 3\n",
       "\n",
       "| title &lt;chr&gt; | total_plays &lt;int&gt; | total_wait_list &lt;int&gt; |\n",
       "|---|---|---|\n",
       "| Resident Evil Village           | 29700 | 8400 |\n",
       "| Yakuza Kiwami                   | 29100 |  300 |\n",
       "| Katana Zero                     | 27900 | 4500 |\n",
       "| Metroid Dread                   | 27600 | 9900 |\n",
       "| Metal Gear Solid 3: Snake Eater | 27600 | 3900 |\n",
       "\n"
      ],
      "text/plain": [
       "  title                           total_plays total_wait_list\n",
       "1 Resident Evil Village           29700       8400           \n",
       "2 Yakuza Kiwami                   29100        300           \n",
       "3 Katana Zero                     27900       4500           \n",
       "4 Metroid Dread                   27600       9900           \n",
       "5 Metal Gear Solid 3: Snake Eater 27600       3900           "
      ]
     },
     "metadata": {},
     "output_type": "display_data"
    }
   ],
   "source": [
    "desire_level = dbGetQuery(db, \"SELECT g.title, \n",
    "                                            SUM(ua.plays) AS total_plays, \n",
    "                                            SUM(ua.wishlist) AS total_wait_list\n",
    "                            FROM game AS g\n",
    "                            INNER JOIN user_activity ua ON g.game_id = ua.game_id\n",
    "                            GROUP BY g.title\n",
    "                            HAVING SUM(ua.plays) > 2000\n",
    "                            ORDER BY total_plays DESC\n",
    "                            LIMIT 5\n",
    "\")\n",
    "\n",
    "desire_level"
   ]
  },
  {
   "cell_type": "code",
   "execution_count": 39,
   "metadata": {
    "vscode": {
     "languageId": "r"
    }
   },
   "outputs": [
    {
     "data": {
      "image/png": "[encoded data removed]",
      "text/plain": [
       "plot without title"
      ]
     },
     "metadata": {
      "image/png": {
       "height": 420,
       "width": 420
      }
     },
     "output_type": "display_data"
    }
   ],
   "source": [
    "ggplot(desire_level, aes(x = reorder(title, -total_wait_list))) +\n",
    "  coord_flip()+ \n",
    "    geom_col(aes(y = total_plays, fill = \"Total Plays\"), position = \"dodge\", alpha = 0.8) +\n",
    "    geom_col(aes(y = total_wait_list, fill = \"Total Wait List\"), position = \"dodge\", alpha = 0.8) +\n",
    "    labs(\n",
    "        title = \"Games With More Than 2k Plays\",\n",
    "        x = \"Games\",\n",
    "        y = \"Total Amount\",\n",
    "    ) +\n",
    "    scale_fill_manual(values = c(\"Total Plays\" = \"blue\", \"Total Wait List\" = \"yellow\")) +\n",
    "    theme_dark() +\n",
    "    theme(\n",
    "        plot.title = element_text(hjust = 0.5),\n",
    "        legend.title=element_blank()\n",
    "    )"
   ]
  },
  {
   "cell_type": "markdown",
   "metadata": {},
   "source": [
    "**Question:**<br>\n",
    "What teams created succesful games\n",
    "<br>\n",
    "<br>\n",
    "**What tables are we joining?:** <br>\n",
    "game, review and user_activity"
   ]
  },
  {
   "cell_type": "code",
   "execution_count": 40,
   "metadata": {
    "vscode": {
     "languageId": "r"
    }
   },
   "outputs": [
    {
     "data": {
      "text/html": [
       "<table class=\"dataframe\">\n",
       "<caption>A data.frame: 5 × 4</caption>\n",
       "<thead>\n",
       "\t<tr><th scope=col>team</th><th scope=col>plays</th><th scope=col>number_of_reviews</th><th scope=col>Games_Success</th></tr>\n",
       "\t<tr><th scope=col>&lt;chr&gt;</th><th scope=col>&lt;int&gt;</th><th scope=col>&lt;int&gt;</th><th scope=col>&lt;chr&gt;</th></tr>\n",
       "</thead>\n",
       "<tbody>\n",
       "\t<tr><td>['Capcom']                              </td><td>9900</td><td>1800</td><td>Successful</td></tr>\n",
       "\t<tr><td>['Sonic Team', 'Sega']                  </td><td>9900</td><td>1100</td><td>Successful</td></tr>\n",
       "\t<tr><td>['Sega', 'Ryū Ga Gotoku Studios']       </td><td>9700</td><td>1200</td><td>Successful</td></tr>\n",
       "\t<tr><td>['505 Games', 'Remedy Entertainment']   </td><td>9600</td><td>1300</td><td>Successful</td></tr>\n",
       "\t<tr><td>['EA Redwood Shores', 'Electronic Arts']</td><td>9600</td><td>1200</td><td>Successful</td></tr>\n",
       "</tbody>\n",
       "</table>\n"
      ],
      "text/latex": [
       "A data.frame: 5 × 4\n",
       "\\begin{tabular}{llll}\n",
       " team & plays & number\\_of\\_reviews & Games\\_Success\\\\\n",
       " <chr> & <int> & <int> & <chr>\\\\\n",
       "\\hline\n",
       "\t {[}'Capcom'{]}                               & 9900 & 1800 & Successful\\\\\n",
       "\t {[}'Sonic Team', 'Sega'{]}                   & 9900 & 1100 & Successful\\\\\n",
       "\t {[}'Sega', 'Ryū Ga Gotoku Studios'{]}        & 9700 & 1200 & Successful\\\\\n",
       "\t {[}'505 Games', 'Remedy Entertainment'{]}    & 9600 & 1300 & Successful\\\\\n",
       "\t {[}'EA Redwood Shores', 'Electronic Arts'{]} & 9600 & 1200 & Successful\\\\\n",
       "\\end{tabular}\n"
      ],
      "text/markdown": [
       "\n",
       "A data.frame: 5 × 4\n",
       "\n",
       "| team &lt;chr&gt; | plays &lt;int&gt; | number_of_reviews &lt;int&gt; | Games_Success &lt;chr&gt; |\n",
       "|---|---|---|---|\n",
       "| ['Capcom']                               | 9900 | 1800 | Successful |\n",
       "| ['Sonic Team', 'Sega']                   | 9900 | 1100 | Successful |\n",
       "| ['Sega', 'Ryū Ga Gotoku Studios']        | 9700 | 1200 | Successful |\n",
       "| ['505 Games', 'Remedy Entertainment']    | 9600 | 1300 | Successful |\n",
       "| ['EA Redwood Shores', 'Electronic Arts'] | 9600 | 1200 | Successful |\n",
       "\n"
      ],
      "text/plain": [
       "  team                                     plays number_of_reviews\n",
       "1 ['Capcom']                               9900  1800             \n",
       "2 ['Sonic Team', 'Sega']                   9900  1100             \n",
       "3 ['Sega', 'Ryū Ga Gotoku Studios']        9700  1200             \n",
       "4 ['505 Games', 'Remedy Entertainment']    9600  1300             \n",
       "5 ['EA Redwood Shores', 'Electronic Arts'] 9600  1200             \n",
       "  Games_Success\n",
       "1 Successful   \n",
       "2 Successful   \n",
       "3 Successful   \n",
       "4 Successful   \n",
       "5 Successful   "
      ]
     },
     "metadata": {},
     "output_type": "display_data"
    }
   ],
   "source": [
    "successful_teams = dbGetQuery(db, \" SELECT DISTINCT g.team, ua.plays, r.number_of_reviews,\n",
    "                                            CASE \n",
    "                                                WHEN ua.plays > 2000 AND r.number_of_reviews > 1000 THEN 'Successful'\n",
    "                                                When ua.plays >= 500 AND r.number_of_reviews >= 500 THEN 'Average'\n",
    "                                                ELSE 'Dead on Arrival'\n",
    "                                            END AS Games_Success\n",
    "\n",
    "                                    FROM game AS g\n",
    "                                    INNER JOIN user_activity AS ua ON g.game_id = ua.game_id\n",
    "                                    LEFT JOIN reviews AS r ON g.game_id = r.game_id\n",
    "\n",
    "                                    -- Screen for NULL values \n",
    "                                    WHERE \n",
    "                                        r.number_of_reviews IS NOT NULL \n",
    "                                        AND ua.plays IS NOT NULL\n",
    "                                        AND ua.plays > 2000 \n",
    "                                        AND r.number_of_reviews > 1000  -- Additional filtering condition for successful games\n",
    "                                    GROUP BY \n",
    "                                        g.team\n",
    "                                    Having Games_Success ='Successful'\n",
    "                                    ORDER BY \n",
    "                                        ua.plays DESC, ua.wishlist DESC\n",
    "                                        LIMIT 5\n",
    "\")\n",
    "\n",
    "successful_teams"
   ]
  },
  {
   "cell_type": "code",
   "execution_count": 41,
   "metadata": {
    "vscode": {
     "languageId": "r"
    }
   },
   "outputs": [
    {
     "data": {
      "image/png": "[encoded data removed]",
      "text/plain": [
       "plot without title"
      ]
     },
     "metadata": {
      "image/png": {
       "height": 420,
       "width": 420
      }
     },
     "output_type": "display_data"
    }
   ],
   "source": [
    "ggplot(successful_teams, aes(x = reorder(team, -number_of_reviews))) +\n",
    "    geom_col(aes(y = plays, fill = \"Plays\"), position = \"dodge\", alpha = 0.8) +\n",
    "    geom_col(aes(y = number_of_reviews, fill = \"Number of Reviews\"), position = \"dodge\", alpha = 0.8) +\n",
    "    labs(\n",
    "        title = \"Teams with the Most Plays and Their Number of Reviews\",\n",
    "        x = \"Team\",\n",
    "        y = \"Total Plays\",\n",
    "    ) +\n",
    "    scale_fill_manual(values = c(\"Plays\" = \"blue\", \"Number of Reviews\" = \"yellow\")) +\n",
    "    theme_dark() +\n",
    "    theme(\n",
    "        axis.text.x = element_text(angle = 60, hjust = 1),\n",
    "        plot.title = element_text(hjust = 0.5),\n",
    "        legend.title=element_blank()\n",
    "    )\n"
   ]
  },
  {
   "cell_type": "code",
   "execution_count": 42,
   "metadata": {
    "vscode": {
     "languageId": "r"
    }
   },
   "outputs": [],
   "source": [
    "#Close the database connection :)\n",
    "dbDisconnect(db)"
   ]
  }
 ],
 "metadata": {
  "kernelspec": {
   "display_name": "R",
   "language": "R",
   "name": "ir"
  },
  "language_info": {
   "codemirror_mode": "r",
   "file_extension": ".r",
   "mimetype": "text/x-r-source",
   "name": "R",
   "pygments_lexer": "r",
   "version": "4.3.3"
  }
 },
 "nbformat": 4,
 "nbformat_minor": 2
}
