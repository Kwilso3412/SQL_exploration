{
 "cells": [
  {
   "cell_type": "code",
   "execution_count": 1,
   "metadata": {
    "vscode": {
     "languageId": "r"
    }
   },
   "outputs": [
    {
     "name": "stderr",
     "output_type": "stream",
     "text": [
      "── \u001b[1mAttaching core tidyverse packages\u001b[22m ──────────────────────── tidyverse 2.0.0 ──\n",
      "\u001b[32m✔\u001b[39m \u001b[34mdplyr    \u001b[39m 1.1.4     \u001b[32m✔\u001b[39m \u001b[34mreadr    \u001b[39m 2.1.4\n",
      "\u001b[32m✔\u001b[39m \u001b[34mforcats  \u001b[39m 1.0.0     \u001b[32m✔\u001b[39m \u001b[34mstringr  \u001b[39m 1.5.0\n",
      "\u001b[32m✔\u001b[39m \u001b[34mggplot2  \u001b[39m 3.4.3     \u001b[32m✔\u001b[39m \u001b[34mtibble   \u001b[39m 3.2.1\n",
      "\u001b[32m✔\u001b[39m \u001b[34mlubridate\u001b[39m 1.9.2     \u001b[32m✔\u001b[39m \u001b[34mtidyr    \u001b[39m 1.3.0\n",
      "\u001b[32m✔\u001b[39m \u001b[34mpurrr    \u001b[39m 1.0.2     \n",
      "── \u001b[1mConflicts\u001b[22m ────────────────────────────────────────── tidyverse_conflicts() ──\n",
      "\u001b[31m✖\u001b[39m \u001b[34mdplyr\u001b[39m::\u001b[32mfilter()\u001b[39m masks \u001b[34mstats\u001b[39m::filter()\n",
      "\u001b[31m✖\u001b[39m \u001b[34mdplyr\u001b[39m::\u001b[32mlag()\u001b[39m    masks \u001b[34mstats\u001b[39m::lag()\n",
      "\u001b[36mℹ\u001b[39m Use the conflicted package (\u001b[3m\u001b[34m<http://conflicted.r-lib.org/>\u001b[39m\u001b[23m) to force all conflicts to become errors\n"
     ]
    }
   ],
   "source": [
    "library(tidyverse) #Reading data\n",
    "library(lubridate) #Reading and manipulating dates and times\n",
    "library(readr) #Reading the CSV data file\n",
    "library(DBI)\n",
    "library(RMariaDB)\n",
    "library(RSQLite)\n"
   ]
  },
  {
   "cell_type": "code",
   "execution_count": 2,
   "metadata": {
    "vscode": {
     "languageId": "r"
    }
   },
   "outputs": [],
   "source": [
    "# Load in the data set\n",
    "games_data = read.csv(\"games.csv\")\n"
   ]
  },
  {
   "cell_type": "code",
   "execution_count": 3,
   "metadata": {
    "vscode": {
     "languageId": "r"
    }
   },
   "outputs": [
    {
     "name": "stdout",
     "output_type": "stream",
     "text": [
      "Rows: 1,512\n",
      "Columns: 14\n",
      "$ X                 \u001b[3m\u001b[90m<int>\u001b[39m\u001b[23m 0, 1, 2, 3, 4, 5, 6, 7, 8, 9, 10, 11, 12, 13, 14, 15…\n",
      "$ Title             \u001b[3m\u001b[90m<chr>\u001b[39m\u001b[23m \"Elden Ring\", \"Hades\", \"The Legend of Zelda: Breath …\n",
      "$ Release.Date      \u001b[3m\u001b[90m<chr>\u001b[39m\u001b[23m \"Feb 25, 2022\", \"Dec 10, 2019\", \"Mar 03, 2017\", \"Sep…\n",
      "$ Team              \u001b[3m\u001b[90m<chr>\u001b[39m\u001b[23m \"['Bandai Namco Entertainment', 'FromSoftware']\", \"[…\n",
      "$ Rating            \u001b[3m\u001b[90m<dbl>\u001b[39m\u001b[23m 4.5, 4.3, 4.4, 4.2, 4.4, 4.3, 4.2, 4.3, 3.0, 4.3, 4.…\n",
      "$ Times.Listed      \u001b[3m\u001b[90m<chr>\u001b[39m\u001b[23m \"3.9K\", \"2.9K\", \"4.3K\", \"3.5K\", \"3K\", \"2.3K\", \"1.6K\"…\n",
      "$ Number.of.Reviews \u001b[3m\u001b[90m<chr>\u001b[39m\u001b[23m \"3.9K\", \"2.9K\", \"4.3K\", \"3.5K\", \"3K\", \"2.3K\", \"1.6K\"…\n",
      "$ Genres            \u001b[3m\u001b[90m<chr>\u001b[39m\u001b[23m \"['Adventure', 'RPG']\", \"['Adventure', 'Brawler', 'I…\n",
      "$ Summary           \u001b[3m\u001b[90m<chr>\u001b[39m\u001b[23m \"Elden Ring is a fantasy, action and open world game…\n",
      "$ Reviews           \u001b[3m\u001b[90m<chr>\u001b[39m\u001b[23m \"[\\\"The first playthrough of elden ring is one of th…\n",
      "$ Plays             \u001b[3m\u001b[90m<chr>\u001b[39m\u001b[23m \"17K\", \"21K\", \"30K\", \"28K\", \"21K\", \"33K\", \"7.2K\", \"9…\n",
      "$ Playing           \u001b[3m\u001b[90m<chr>\u001b[39m\u001b[23m \"3.8K\", \"3.2K\", \"2.5K\", \"679\", \"2.4K\", \"1.8K\", \"1.1K…\n",
      "$ Backlogs          \u001b[3m\u001b[90m<chr>\u001b[39m\u001b[23m \"4.6K\", \"6.3K\", \"5K\", \"4.9K\", \"8.3K\", \"1.1K\", \"4.5K\"…\n",
      "$ Wishlist          \u001b[3m\u001b[90m<chr>\u001b[39m\u001b[23m \"4.8K\", \"3.6K\", \"2.6K\", \"1.8K\", \"2.3K\", \"230\", \"3.8K…\n"
     ]
    }
   ],
   "source": [
    "#Display the structure of the dataset\n",
    "glimpse(games_data)"
   ]
  },
  {
   "cell_type": "code",
   "execution_count": 4,
   "metadata": {
    "vscode": {
     "languageId": "r"
    }
   },
   "outputs": [
    {
     "name": "stdout",
     "output_type": "stream",
     "text": [
      "                X             Title      Release.Date              Team \n",
      "                0                 0                 0                 0 \n",
      "           Rating      Times.Listed Number.of.Reviews            Genres \n",
      "               13                 0                 0                 0 \n",
      "          Summary           Reviews             Plays           Playing \n",
      "                0                 0                 0                 0 \n",
      "         Backlogs          Wishlist \n",
      "                0                 0 \n"
     ]
    }
   ],
   "source": [
    "#Check for missing values\n",
    "missing_values = colSums(is.na(games_data))\n",
    "print(missing_values)"
   ]
  },
  {
   "cell_type": "code",
   "execution_count": 5,
   "metadata": {
    "vscode": {
     "languageId": "r"
    }
   },
   "outputs": [
    {
     "name": "stdout",
     "output_type": "stream",
     "text": [
      "[1] \"Duplicate Rows:\"\n"
     ]
    },
    {
     "data": {
      "text/html": [
       "<table class=\"dataframe\">\n",
       "<caption>A data.frame: 0 × 14</caption>\n",
       "<thead>\n",
       "\t<tr><th scope=col>X</th><th scope=col>Title</th><th scope=col>Release.Date</th><th scope=col>Team</th><th scope=col>Rating</th><th scope=col>Times.Listed</th><th scope=col>Number.of.Reviews</th><th scope=col>Genres</th><th scope=col>Summary</th><th scope=col>Reviews</th><th scope=col>Plays</th><th scope=col>Playing</th><th scope=col>Backlogs</th><th scope=col>Wishlist</th></tr>\n",
       "\t<tr><th scope=col>&lt;int&gt;</th><th scope=col>&lt;chr&gt;</th><th scope=col>&lt;chr&gt;</th><th scope=col>&lt;chr&gt;</th><th scope=col>&lt;dbl&gt;</th><th scope=col>&lt;chr&gt;</th><th scope=col>&lt;chr&gt;</th><th scope=col>&lt;chr&gt;</th><th scope=col>&lt;chr&gt;</th><th scope=col>&lt;chr&gt;</th><th scope=col>&lt;chr&gt;</th><th scope=col>&lt;chr&gt;</th><th scope=col>&lt;chr&gt;</th><th scope=col>&lt;chr&gt;</th></tr>\n",
       "</thead>\n",
       "<tbody>\n",
       "</tbody>\n",
       "</table>\n"
      ],
      "text/latex": [
       "A data.frame: 0 × 14\n",
       "\\begin{tabular}{llllllllllllll}\n",
       " X & Title & Release.Date & Team & Rating & Times.Listed & Number.of.Reviews & Genres & Summary & Reviews & Plays & Playing & Backlogs & Wishlist\\\\\n",
       " <int> & <chr> & <chr> & <chr> & <dbl> & <chr> & <chr> & <chr> & <chr> & <chr> & <chr> & <chr> & <chr> & <chr>\\\\\n",
       "\\hline\n",
       "\\end{tabular}\n"
      ],
      "text/markdown": [
       "\n",
       "A data.frame: 0 × 14\n",
       "\n",
       "| X &lt;int&gt; | Title &lt;chr&gt; | Release.Date &lt;chr&gt; | Team &lt;chr&gt; | Rating &lt;dbl&gt; | Times.Listed &lt;chr&gt; | Number.of.Reviews &lt;chr&gt; | Genres &lt;chr&gt; | Summary &lt;chr&gt; | Reviews &lt;chr&gt; | Plays &lt;chr&gt; | Playing &lt;chr&gt; | Backlogs &lt;chr&gt; | Wishlist &lt;chr&gt; |\n",
       "|---|---|---|---|---|---|---|---|---|---|---|---|---|---|\n",
       "\n"
      ],
      "text/plain": [
       "     X Title Release.Date Team Rating Times.Listed Number.of.Reviews Genres\n",
       "     Summary Reviews Plays Playing Backlogs Wishlist"
      ]
     },
     "metadata": {},
     "output_type": "display_data"
    }
   ],
   "source": [
    "#check for duplicates\n",
    "duplicate_rows = games_data[duplicated(games_data) | duplicated(games_data, fromLast = TRUE), ]\n",
    "\n",
    "#Print duplicates:\n",
    "print(\"Duplicate Rows:\")\n",
    "duplicate_rows"
   ]
  },
  {
   "cell_type": "code",
   "execution_count": 6,
   "metadata": {
    "vscode": {
     "languageId": "r"
    }
   },
   "outputs": [
    {
     "name": "stdout",
     "output_type": "stream",
     "text": [
      "[1] \"Original Data Types:\"\n",
      "                X             Title      Release.Date              Team \n",
      "        \"integer\"       \"character\"       \"character\"       \"character\" \n",
      "           Rating      Times.Listed Number.of.Reviews            Genres \n",
      "        \"numeric\"       \"character\"       \"character\"       \"character\" \n",
      "          Summary           Reviews             Plays           Playing \n",
      "      \"character\"       \"character\"       \"character\"       \"character\" \n",
      "         Backlogs          Wishlist \n",
      "      \"character\"       \"character\" \n"
     ]
    }
   ],
   "source": [
    "#What are the data types for each column?\n",
    "print(\"Original Data Types:\")\n",
    "print(sapply(games_data, class))"
   ]
  },
  {
   "cell_type": "code",
   "execution_count": 7,
   "metadata": {
    "vscode": {
     "languageId": "r"
    }
   },
   "outputs": [
    {
     "name": "stdout",
     "output_type": "stream",
     "text": [
      "[1] \"Updated Data Types:\"\n",
      "   [1] \"integer\" \"integer\" \"integer\" \"integer\" \"integer\" \"integer\" \"integer\"\n",
      "   [8] \"integer\" \"integer\" \"integer\" \"integer\" \"integer\" \"integer\" \"integer\"\n",
      "  [15] \"integer\" \"integer\" \"integer\" \"integer\" \"integer\" \"integer\" \"integer\"\n",
      "  [22] \"integer\" \"integer\" \"integer\" \"integer\" \"integer\" \"integer\" \"integer\"\n",
      "  [29] \"integer\" \"integer\" \"integer\" \"integer\" \"integer\" \"integer\" \"integer\"\n",
      "  [36] \"integer\" \"integer\" \"integer\" \"integer\" \"integer\" \"integer\" \"integer\"\n",
      "  [43] \"integer\" \"integer\" \"integer\" \"integer\" \"integer\" \"integer\" \"integer\"\n",
      "  [50] \"integer\" \"integer\" \"integer\" \"integer\" \"integer\" \"integer\" \"integer\"\n",
      "  [57] \"integer\" \"integer\" \"integer\" \"integer\" \"integer\" \"integer\" \"integer\"\n",
      "  [64] \"integer\" \"integer\" \"integer\" \"integer\" \"integer\" \"integer\" \"integer\"\n",
      "  [71] \"integer\" \"integer\" \"integer\" \"integer\" \"integer\" \"integer\" \"integer\"\n",
      "  [78] \"integer\" \"integer\" \"integer\" \"integer\" \"integer\" \"integer\" \"integer\"\n",
      "  [85] \"integer\" \"integer\" \"integer\" \"integer\" \"integer\" \"integer\" \"integer\"\n",
      "  [92] \"integer\" \"integer\" \"integer\" \"integer\" \"integer\" \"integer\" \"integer\"\n",
      "  [99] \"integer\" \"integer\" \"integer\" \"integer\" \"integer\" \"integer\" \"integer\"\n",
      " [106] \"integer\" \"integer\" \"integer\" \"integer\" \"integer\" \"integer\" \"integer\"\n",
      " [113] \"integer\" \"integer\" \"integer\" \"integer\" \"integer\" \"integer\" \"integer\"\n",
      " [120] \"integer\" \"integer\" \"integer\" \"integer\" \"integer\" \"integer\" \"integer\"\n",
      " [127] \"integer\" \"integer\" \"integer\" \"integer\" \"integer\" \"integer\" \"integer\"\n",
      " [134] \"integer\" \"integer\" \"integer\" \"integer\" \"integer\" \"integer\" \"integer\"\n",
      " [141] \"integer\" \"integer\" \"integer\" \"integer\" \"integer\" \"integer\" \"integer\"\n",
      " [148] \"integer\" \"integer\" \"integer\" \"integer\" \"integer\" \"integer\" \"integer\"\n",
      " [155] \"integer\" \"integer\" \"integer\" \"integer\" \"integer\" \"integer\" \"integer\"\n",
      " [162] \"integer\" \"integer\" \"integer\" \"integer\" \"integer\" \"integer\" \"integer\"\n",
      " [169] \"integer\" \"integer\" \"integer\" \"integer\" \"integer\" \"integer\" \"integer\"\n",
      " [176] \"integer\" \"integer\" \"integer\" \"integer\" \"integer\" \"integer\" \"integer\"\n",
      " [183] \"integer\" \"integer\" \"integer\" \"integer\" \"integer\" \"integer\" \"integer\"\n",
      " [190] \"integer\" \"integer\" \"integer\" \"integer\" \"integer\" \"integer\" \"integer\"\n",
      " [197] \"integer\" \"integer\" \"integer\" \"integer\" \"integer\" \"integer\" \"integer\"\n",
      " [204] \"integer\" \"integer\" \"integer\" \"integer\" \"integer\" \"integer\" \"integer\"\n",
      " [211] \"integer\" \"integer\" \"integer\" \"integer\" \"integer\" \"integer\" \"integer\"\n",
      " [218] \"integer\" \"integer\" \"integer\" \"integer\" \"integer\" \"integer\" \"integer\"\n",
      " [225] \"integer\" \"integer\" \"integer\" \"integer\" \"integer\" \"integer\" \"integer\"\n",
      " [232] \"integer\" \"integer\" \"integer\" \"integer\" \"integer\" \"integer\" \"integer\"\n",
      " [239] \"integer\" \"integer\" \"integer\" \"integer\" \"integer\" \"integer\" \"integer\"\n",
      " [246] \"integer\" \"integer\" \"integer\" \"integer\" \"integer\" \"integer\" \"integer\"\n",
      " [253] \"integer\" \"integer\" \"integer\" \"integer\" \"integer\" \"integer\" \"integer\"\n",
      " [260] \"integer\" \"integer\" \"integer\" \"integer\" \"integer\" \"integer\" \"integer\"\n",
      " [267] \"integer\" \"integer\" \"integer\" \"integer\" \"integer\" \"integer\" \"integer\"\n",
      " [274] \"integer\" \"integer\" \"integer\" \"integer\" \"integer\" \"integer\" \"integer\"\n",
      " [281] \"integer\" \"integer\" \"integer\" \"integer\" \"integer\" \"integer\" \"integer\"\n",
      " [288] \"integer\" \"integer\" \"integer\" \"integer\" \"integer\" \"integer\" \"integer\"\n",
      " [295] \"integer\" \"integer\" \"integer\" \"integer\" \"integer\" \"integer\" \"integer\"\n",
      " [302] \"integer\" \"integer\" \"integer\" \"integer\" \"integer\" \"integer\" \"integer\"\n",
      " [309] \"integer\" \"integer\" \"integer\" \"integer\" \"integer\" \"integer\" \"integer\"\n",
      " [316] \"integer\" \"integer\" \"integer\" \"integer\" \"integer\" \"integer\" \"integer\"\n",
      " [323] \"integer\" \"integer\" \"integer\" \"integer\" \"integer\" \"integer\" \"integer\"\n",
      " [330] \"integer\" \"integer\" \"integer\" \"integer\" \"integer\" \"integer\" \"integer\"\n",
      " [337] \"integer\" \"integer\" \"integer\" \"integer\" \"integer\" \"integer\" \"integer\"\n",
      " [344] \"integer\" \"integer\" \"integer\" \"integer\" \"integer\" \"integer\" \"integer\"\n",
      " [351] \"integer\" \"integer\" \"integer\" \"integer\" \"integer\" \"integer\" \"integer\"\n",
      " [358] \"integer\" \"integer\" \"integer\" \"integer\" \"integer\" \"integer\" \"integer\"\n",
      " [365] \"integer\" \"integer\" \"integer\" \"integer\" \"integer\" \"integer\" \"integer\"\n",
      " [372] \"integer\" \"integer\" \"integer\" \"integer\" \"integer\" \"integer\" \"integer\"\n",
      " [379] \"integer\" \"integer\" \"integer\" \"integer\" \"integer\" \"integer\" \"integer\"\n",
      " [386] \"integer\" \"integer\" \"integer\" \"integer\" \"integer\" \"integer\" \"integer\"\n",
      " [393] \"integer\" \"integer\" \"integer\" \"integer\" \"integer\" \"integer\" \"integer\"\n",
      " [400] \"integer\" \"integer\" \"integer\" \"integer\" \"integer\" \"integer\" \"integer\"\n",
      " [407] \"integer\" \"integer\" \"integer\" \"integer\" \"integer\" \"integer\" \"integer\"\n",
      " [414] \"integer\" \"integer\" \"integer\" \"integer\" \"integer\" \"integer\" \"integer\"\n",
      " [421] \"integer\" \"integer\" \"integer\" \"integer\" \"integer\" \"integer\" \"integer\"\n",
      " [428] \"integer\" \"integer\" \"integer\" \"integer\" \"integer\" \"integer\" \"integer\"\n",
      " [435] \"integer\" \"integer\" \"integer\" \"integer\" \"integer\" \"integer\" \"integer\"\n",
      " [442] \"integer\" \"integer\" \"integer\" \"integer\" \"integer\" \"integer\" \"integer\"\n",
      " [449] \"integer\" \"integer\" \"integer\" \"integer\" \"integer\" \"integer\" \"integer\"\n",
      " [456] \"integer\" \"integer\" \"integer\" \"integer\" \"integer\" \"integer\" \"integer\"\n",
      " [463] \"integer\" \"integer\" \"integer\" \"integer\" \"integer\" \"integer\" \"integer\"\n",
      " [470] \"integer\" \"integer\" \"integer\" \"integer\" \"integer\" \"integer\" \"integer\"\n",
      " [477] \"integer\" \"integer\" \"integer\" \"integer\" \"integer\" \"integer\" \"integer\"\n",
      " [484] \"integer\" \"integer\" \"integer\" \"integer\" \"integer\" \"integer\" \"integer\"\n",
      " [491] \"integer\" \"integer\" \"integer\" \"integer\" \"integer\" \"integer\" \"integer\"\n",
      " [498] \"integer\" \"integer\" \"integer\" \"integer\" \"integer\" \"integer\" \"integer\"\n",
      " [505] \"integer\" \"integer\" \"integer\" \"integer\" \"integer\" \"integer\" \"integer\"\n",
      " [512] \"integer\" \"integer\" \"integer\" \"integer\" \"integer\" \"integer\" \"integer\"\n",
      " [519] \"integer\" \"integer\" \"integer\" \"integer\" \"integer\" \"integer\" \"integer\"\n",
      " [526] \"integer\" \"integer\" \"integer\" \"integer\" \"integer\" \"integer\" \"integer\"\n",
      " [533] \"integer\" \"integer\" \"integer\" \"integer\" \"integer\" \"integer\" \"integer\"\n",
      " [540] \"integer\" \"integer\" \"integer\" \"integer\" \"integer\" \"integer\" \"integer\"\n",
      " [547] \"integer\" \"integer\" \"integer\" \"integer\" \"integer\" \"integer\" \"integer\"\n",
      " [554] \"integer\" \"integer\" \"integer\" \"integer\" \"integer\" \"integer\" \"integer\"\n",
      " [561] \"integer\" \"integer\" \"integer\" \"integer\" \"integer\" \"integer\" \"integer\"\n",
      " [568] \"integer\" \"integer\" \"integer\" \"integer\" \"integer\" \"integer\" \"integer\"\n",
      " [575] \"integer\" \"integer\" \"integer\" \"integer\" \"integer\" \"integer\" \"integer\"\n",
      " [582] \"integer\" \"integer\" \"integer\" \"integer\" \"integer\" \"integer\" \"integer\"\n",
      " [589] \"integer\" \"integer\" \"integer\" \"integer\" \"integer\" \"integer\" \"integer\"\n",
      " [596] \"integer\" \"integer\" \"integer\" \"integer\" \"integer\" \"integer\" \"integer\"\n",
      " [603] \"integer\" \"integer\" \"integer\" \"integer\" \"integer\" \"integer\" \"integer\"\n",
      " [610] \"integer\" \"integer\" \"integer\" \"integer\" \"integer\" \"integer\" \"integer\"\n",
      " [617] \"integer\" \"integer\" \"integer\" \"integer\" \"integer\" \"integer\" \"integer\"\n",
      " [624] \"integer\" \"integer\" \"integer\" \"integer\" \"integer\" \"integer\" \"integer\"\n",
      " [631] \"integer\" \"integer\" \"integer\" \"integer\" \"integer\" \"integer\" \"integer\"\n",
      " [638] \"integer\" \"integer\" \"integer\" \"integer\" \"integer\" \"integer\" \"integer\"\n",
      " [645] \"integer\" \"integer\" \"integer\" \"integer\" \"integer\" \"integer\" \"integer\"\n",
      " [652] \"integer\" \"integer\" \"integer\" \"integer\" \"integer\" \"integer\" \"integer\"\n",
      " [659] \"integer\" \"integer\" \"integer\" \"integer\" \"integer\" \"integer\" \"integer\"\n",
      " [666] \"integer\" \"integer\" \"integer\" \"integer\" \"integer\" \"integer\" \"integer\"\n",
      " [673] \"integer\" \"integer\" \"integer\" \"integer\" \"integer\" \"integer\" \"integer\"\n",
      " [680] \"integer\" \"integer\" \"integer\" \"integer\" \"integer\" \"integer\" \"integer\"\n",
      " [687] \"integer\" \"integer\" \"integer\" \"integer\" \"integer\" \"integer\" \"integer\"\n",
      " [694] \"integer\" \"integer\" \"integer\" \"integer\" \"integer\" \"integer\" \"integer\"\n",
      " [701] \"integer\" \"integer\" \"integer\" \"integer\" \"integer\" \"integer\" \"integer\"\n",
      " [708] \"integer\" \"integer\" \"integer\" \"integer\" \"integer\" \"integer\" \"integer\"\n",
      " [715] \"integer\" \"integer\" \"integer\" \"integer\" \"integer\" \"integer\" \"integer\"\n",
      " [722] \"integer\" \"integer\" \"integer\" \"integer\" \"integer\" \"integer\" \"integer\"\n",
      " [729] \"integer\" \"integer\" \"integer\" \"integer\" \"integer\" \"integer\" \"integer\"\n",
      " [736] \"integer\" \"integer\" \"integer\" \"integer\" \"integer\" \"integer\" \"integer\"\n",
      " [743] \"integer\" \"integer\" \"integer\" \"integer\" \"integer\" \"integer\" \"integer\"\n",
      " [750] \"integer\" \"integer\" \"integer\" \"integer\" \"integer\" \"integer\" \"integer\"\n",
      " [757] \"integer\" \"integer\" \"integer\" \"integer\" \"integer\" \"integer\" \"integer\"\n",
      " [764] \"integer\" \"integer\" \"integer\" \"integer\" \"integer\" \"integer\" \"integer\"\n",
      " [771] \"integer\" \"integer\" \"integer\" \"integer\" \"integer\" \"integer\" \"integer\"\n",
      " [778] \"integer\" \"integer\" \"integer\" \"integer\" \"integer\" \"integer\" \"integer\"\n",
      " [785] \"integer\" \"integer\" \"integer\" \"integer\" \"integer\" \"integer\" \"integer\"\n",
      " [792] \"integer\" \"integer\" \"integer\" \"integer\" \"integer\" \"integer\" \"integer\"\n",
      " [799] \"integer\" \"integer\" \"integer\" \"integer\" \"integer\" \"integer\" \"integer\"\n",
      " [806] \"integer\" \"integer\" \"integer\" \"integer\" \"integer\" \"integer\" \"integer\"\n",
      " [813] \"integer\" \"integer\" \"integer\" \"integer\" \"integer\" \"integer\" \"integer\"\n",
      " [820] \"integer\" \"integer\" \"integer\" \"integer\" \"integer\" \"integer\" \"integer\"\n",
      " [827] \"integer\" \"integer\" \"integer\" \"integer\" \"integer\" \"integer\" \"integer\"\n",
      " [834] \"integer\" \"integer\" \"integer\" \"integer\" \"integer\" \"integer\" \"integer\"\n",
      " [841] \"integer\" \"integer\" \"integer\" \"integer\" \"integer\" \"integer\" \"integer\"\n",
      " [848] \"integer\" \"integer\" \"integer\" \"integer\" \"integer\" \"integer\" \"integer\"\n",
      " [855] \"integer\" \"integer\" \"integer\" \"integer\" \"integer\" \"integer\" \"integer\"\n",
      " [862] \"integer\" \"integer\" \"integer\" \"integer\" \"integer\" \"integer\" \"integer\"\n",
      " [869] \"integer\" \"integer\" \"integer\" \"integer\" \"integer\" \"integer\" \"integer\"\n",
      " [876] \"integer\" \"integer\" \"integer\" \"integer\" \"integer\" \"integer\" \"integer\"\n",
      " [883] \"integer\" \"integer\" \"integer\" \"integer\" \"integer\" \"integer\" \"integer\"\n",
      " [890] \"integer\" \"integer\" \"integer\" \"integer\" \"integer\" \"integer\" \"integer\"\n",
      " [897] \"integer\" \"integer\" \"integer\" \"integer\" \"integer\" \"integer\" \"integer\"\n",
      " [904] \"integer\" \"integer\" \"integer\" \"integer\" \"integer\" \"integer\" \"integer\"\n",
      " [911] \"integer\" \"integer\" \"integer\" \"integer\" \"integer\" \"integer\" \"integer\"\n",
      " [918] \"integer\" \"integer\" \"integer\" \"integer\" \"integer\" \"integer\" \"integer\"\n",
      " [925] \"integer\" \"integer\" \"integer\" \"integer\" \"integer\" \"integer\" \"integer\"\n",
      " [932] \"integer\" \"integer\" \"integer\" \"integer\" \"integer\" \"integer\" \"integer\"\n",
      " [939] \"integer\" \"integer\" \"integer\" \"integer\" \"integer\" \"integer\" \"integer\"\n",
      " [946] \"integer\" \"integer\" \"integer\" \"integer\" \"integer\" \"integer\" \"integer\"\n",
      " [953] \"integer\" \"integer\" \"integer\" \"integer\" \"integer\" \"integer\" \"integer\"\n",
      " [960] \"integer\" \"integer\" \"integer\" \"integer\" \"integer\" \"integer\" \"integer\"\n",
      " [967] \"integer\" \"integer\" \"integer\" \"integer\" \"integer\" \"integer\" \"integer\"\n",
      " [974] \"integer\" \"integer\" \"integer\" \"integer\" \"integer\" \"integer\" \"integer\"\n",
      " [981] \"integer\" \"integer\" \"integer\" \"integer\" \"integer\" \"integer\" \"integer\"\n",
      " [988] \"integer\" \"integer\" \"integer\" \"integer\" \"integer\" \"integer\" \"integer\"\n",
      " [995] \"integer\" \"integer\" \"integer\" \"integer\" \"integer\" \"integer\" \"integer\"\n",
      "[1002] \"integer\" \"integer\" \"integer\" \"integer\" \"integer\" \"integer\" \"integer\"\n",
      "[1009] \"integer\" \"integer\" \"integer\" \"integer\" \"integer\" \"integer\" \"integer\"\n",
      "[1016] \"integer\" \"integer\" \"integer\" \"integer\" \"integer\" \"integer\" \"integer\"\n",
      "[1023] \"integer\" \"integer\" \"integer\" \"integer\" \"integer\" \"integer\" \"integer\"\n",
      "[1030] \"integer\" \"integer\" \"integer\" \"integer\" \"integer\" \"integer\" \"integer\"\n",
      "[1037] \"integer\" \"integer\" \"integer\" \"integer\" \"integer\" \"integer\" \"integer\"\n",
      "[1044] \"integer\" \"integer\" \"integer\" \"integer\" \"integer\" \"integer\" \"integer\"\n",
      "[1051] \"integer\" \"integer\" \"integer\" \"integer\" \"integer\" \"integer\" \"integer\"\n",
      "[1058] \"integer\" \"integer\" \"integer\" \"integer\" \"integer\" \"integer\" \"integer\"\n",
      "[1065] \"integer\" \"integer\" \"integer\" \"integer\" \"integer\" \"integer\" \"integer\"\n",
      "[1072] \"integer\" \"integer\" \"integer\" \"integer\" \"integer\" \"integer\" \"integer\"\n",
      "[1079] \"integer\" \"integer\" \"integer\" \"integer\" \"integer\" \"integer\" \"integer\"\n",
      "[1086] \"integer\" \"integer\" \"integer\" \"integer\" \"integer\" \"integer\" \"integer\"\n",
      "[1093] \"integer\" \"integer\" \"integer\" \"integer\" \"integer\" \"integer\" \"integer\"\n",
      "[1100] \"integer\" \"integer\" \"integer\" \"integer\" \"integer\" \"integer\" \"integer\"\n",
      "[1107] \"integer\" \"integer\" \"integer\" \"integer\" \"integer\" \"integer\" \"integer\"\n",
      "[1114] \"integer\" \"integer\" \"integer\" \"integer\" \"integer\" \"integer\" \"integer\"\n",
      "[1121] \"integer\" \"integer\" \"integer\" \"integer\" \"integer\" \"integer\" \"integer\"\n",
      "[1128] \"integer\" \"integer\" \"integer\" \"integer\" \"integer\" \"integer\" \"integer\"\n",
      "[1135] \"integer\" \"integer\" \"integer\" \"integer\" \"integer\" \"integer\" \"integer\"\n",
      "[1142] \"integer\" \"integer\" \"integer\" \"integer\" \"integer\" \"integer\" \"integer\"\n",
      "[1149] \"integer\" \"integer\" \"integer\" \"integer\" \"integer\" \"integer\" \"integer\"\n",
      "[1156] \"integer\" \"integer\" \"integer\" \"integer\" \"integer\" \"integer\" \"integer\"\n",
      "[1163] \"integer\" \"integer\" \"integer\" \"integer\" \"integer\" \"integer\" \"integer\"\n",
      "[1170] \"integer\" \"integer\" \"integer\" \"integer\" \"integer\" \"integer\" \"integer\"\n",
      "[1177] \"integer\" \"integer\" \"integer\" \"integer\" \"integer\" \"integer\" \"integer\"\n",
      "[1184] \"integer\" \"integer\" \"integer\" \"integer\" \"integer\" \"integer\" \"integer\"\n",
      "[1191] \"integer\" \"integer\" \"integer\" \"integer\" \"integer\" \"integer\" \"integer\"\n",
      "[1198] \"integer\" \"integer\" \"integer\" \"integer\" \"integer\" \"integer\" \"integer\"\n",
      "[1205] \"integer\" \"integer\" \"integer\" \"integer\" \"integer\" \"integer\" \"integer\"\n",
      "[1212] \"integer\" \"integer\" \"integer\" \"integer\" \"integer\" \"integer\" \"integer\"\n",
      "[1219] \"integer\" \"integer\" \"integer\" \"integer\" \"integer\" \"integer\" \"integer\"\n",
      "[1226] \"integer\" \"integer\" \"integer\" \"integer\" \"integer\" \"integer\" \"integer\"\n",
      "[1233] \"integer\" \"integer\" \"integer\" \"integer\" \"integer\" \"integer\" \"integer\"\n",
      "[1240] \"integer\" \"integer\" \"integer\" \"integer\" \"integer\" \"integer\" \"integer\"\n",
      "[1247] \"integer\" \"integer\" \"integer\" \"integer\" \"integer\" \"integer\" \"integer\"\n",
      "[1254] \"integer\" \"integer\" \"integer\" \"integer\" \"integer\" \"integer\" \"integer\"\n",
      "[1261] \"integer\" \"integer\" \"integer\" \"integer\" \"integer\" \"integer\" \"integer\"\n",
      "[1268] \"integer\" \"integer\" \"integer\" \"integer\" \"integer\" \"integer\" \"integer\"\n",
      "[1275] \"integer\" \"integer\" \"integer\" \"integer\" \"integer\" \"integer\" \"integer\"\n",
      "[1282] \"integer\" \"integer\" \"integer\" \"integer\" \"integer\" \"integer\" \"integer\"\n",
      "[1289] \"integer\" \"integer\" \"integer\" \"integer\" \"integer\" \"integer\" \"integer\"\n",
      "[1296] \"integer\" \"integer\" \"integer\" \"integer\" \"integer\" \"integer\" \"integer\"\n",
      "[1303] \"integer\" \"integer\" \"integer\" \"integer\" \"integer\" \"integer\" \"integer\"\n",
      "[1310] \"integer\" \"integer\" \"integer\" \"integer\" \"integer\" \"integer\" \"integer\"\n",
      "[1317] \"integer\" \"integer\" \"integer\" \"integer\" \"integer\" \"integer\" \"integer\"\n",
      "[1324] \"integer\" \"integer\" \"integer\" \"integer\" \"integer\" \"integer\" \"integer\"\n",
      "[1331] \"integer\" \"integer\" \"integer\" \"integer\" \"integer\" \"integer\" \"integer\"\n",
      "[1338] \"integer\" \"integer\" \"integer\" \"integer\" \"integer\" \"integer\" \"integer\"\n",
      "[1345] \"integer\" \"integer\" \"integer\" \"integer\" \"integer\" \"integer\" \"integer\"\n",
      "[1352] \"integer\" \"integer\" \"integer\" \"integer\" \"integer\" \"integer\" \"integer\"\n",
      "[1359] \"integer\" \"integer\" \"integer\" \"integer\" \"integer\" \"integer\" \"integer\"\n",
      "[1366] \"integer\" \"integer\" \"integer\" \"integer\" \"integer\" \"integer\" \"integer\"\n",
      "[1373] \"integer\" \"integer\" \"integer\" \"integer\" \"integer\" \"integer\" \"integer\"\n",
      "[1380] \"integer\" \"integer\" \"integer\" \"integer\" \"integer\" \"integer\" \"integer\"\n",
      "[1387] \"integer\" \"integer\" \"integer\" \"integer\" \"integer\" \"integer\" \"integer\"\n",
      "[1394] \"integer\" \"integer\" \"integer\" \"integer\" \"integer\" \"integer\" \"integer\"\n",
      "[1401] \"integer\" \"integer\" \"integer\" \"integer\" \"integer\" \"integer\" \"integer\"\n",
      "[1408] \"integer\" \"integer\" \"integer\" \"integer\" \"integer\" \"integer\" \"integer\"\n",
      "[1415] \"integer\" \"integer\" \"integer\" \"integer\" \"integer\" \"integer\" \"integer\"\n",
      "[1422] \"integer\" \"integer\" \"integer\" \"integer\" \"integer\" \"integer\" \"integer\"\n",
      "[1429] \"integer\" \"integer\" \"integer\" \"integer\" \"integer\" \"integer\" \"integer\"\n",
      "[1436] \"integer\" \"integer\" \"integer\" \"integer\" \"integer\" \"integer\" \"integer\"\n",
      "[1443] \"integer\" \"integer\" \"integer\" \"integer\" \"integer\" \"integer\" \"integer\"\n",
      "[1450] \"integer\" \"integer\" \"integer\" \"integer\" \"integer\" \"integer\" \"integer\"\n",
      "[1457] \"integer\" \"integer\" \"integer\" \"integer\" \"integer\" \"integer\" \"integer\"\n",
      "[1464] \"integer\" \"integer\" \"integer\" \"integer\" \"integer\" \"integer\" \"integer\"\n",
      "[1471] \"integer\" \"integer\" \"integer\" \"integer\" \"integer\" \"integer\" \"integer\"\n",
      "[1478] \"integer\" \"integer\" \"integer\" \"integer\" \"integer\" \"integer\" \"integer\"\n",
      "[1485] \"integer\" \"integer\" \"integer\" \"integer\" \"integer\" \"integer\" \"integer\"\n",
      "[1492] \"integer\" \"integer\" \"integer\" \"integer\" \"integer\" \"integer\" \"integer\"\n",
      "[1499] \"integer\" \"integer\" \"integer\" \"integer\" \"integer\" \"integer\" \"integer\"\n",
      "[1506] \"integer\" \"integer\" \"integer\" \"integer\" \"integer\" \"integer\" \"integer\"\n"
     ]
    }
   ],
   "source": [
    "#Convert data types if needed. This is VERY common for dates and times. Library(lubridate) works well with dates.\n",
    "#Example: #Convert column to an integer type\n",
    "games_data$Rating = as.integer(games_data$Rating)\n",
    "\n",
    "#What are the updated column types?\n",
    "    print(\"Updated Data Types:\")\n",
    "    print(sapply(games_data$Rating, class))"
   ]
  },
  {
   "cell_type": "code",
   "execution_count": 8,
   "metadata": {
    "vscode": {
     "languageId": "r"
    }
   },
   "outputs": [
    {
     "data": {
      "text/html": [
       "<style>\n",
       ".list-inline {list-style: none; margin:0; padding: 0}\n",
       ".list-inline>li {display: inline-block}\n",
       ".list-inline>li:not(:last-child)::after {content: \"\\00b7\"; padding: 0 .5ex}\n",
       "</style>\n",
       "<ol class=list-inline><li>'x'</li><li>'title'</li><li>'release.date'</li><li>'team'</li><li>'rating'</li><li>'times.listed'</li><li>'number.of.reviews'</li><li>'genres'</li><li>'summary'</li><li>'reviews'</li><li>'plays'</li><li>'playing'</li><li>'backlogs'</li><li>'wishlist'</li></ol>\n"
      ],
      "text/latex": [
       "\\begin{enumerate*}\n",
       "\\item 'x'\n",
       "\\item 'title'\n",
       "\\item 'release.date'\n",
       "\\item 'team'\n",
       "\\item 'rating'\n",
       "\\item 'times.listed'\n",
       "\\item 'number.of.reviews'\n",
       "\\item 'genres'\n",
       "\\item 'summary'\n",
       "\\item 'reviews'\n",
       "\\item 'plays'\n",
       "\\item 'playing'\n",
       "\\item 'backlogs'\n",
       "\\item 'wishlist'\n",
       "\\end{enumerate*}\n"
      ],
      "text/markdown": [
       "1. 'x'\n",
       "2. 'title'\n",
       "3. 'release.date'\n",
       "4. 'team'\n",
       "5. 'rating'\n",
       "6. 'times.listed'\n",
       "7. 'number.of.reviews'\n",
       "8. 'genres'\n",
       "9. 'summary'\n",
       "10. 'reviews'\n",
       "11. 'plays'\n",
       "12. 'playing'\n",
       "13. 'backlogs'\n",
       "14. 'wishlist'\n",
       "\n",
       "\n"
      ],
      "text/plain": [
       " [1] \"x\"                 \"title\"             \"release.date\"     \n",
       " [4] \"team\"              \"rating\"            \"times.listed\"     \n",
       " [7] \"number.of.reviews\" \"genres\"            \"summary\"          \n",
       "[10] \"reviews\"           \"plays\"             \"playing\"          \n",
       "[13] \"backlogs\"          \"wishlist\"         "
      ]
     },
     "metadata": {},
     "output_type": "display_data"
    }
   ],
   "source": [
    "# Shows the column name\n",
    "column_names = names(games_data)\n",
    "# Make all column names lowercase:\n",
    "column_names = tolower(column_names)\n",
    "# Changes the column names and puts them back into the main data frame\n",
    "names(games_data) = column_names\n",
    "\n",
    "# Prints the results\n",
    "names(games_data)"
   ]
  },
  {
   "cell_type": "code",
   "execution_count": 9,
   "metadata": {
    "vscode": {
     "languageId": "r"
    }
   },
   "outputs": [
    {
     "data": {
      "image/png": "[encoded data removed]",
      "text/plain": [
       "Plot with title \"Histogram for Rating Column\""
      ]
     },
     "metadata": {
      "image/png": {
       "height": 420,
       "width": 420
      }
     },
     "output_type": "display_data"
    }
   ],
   "source": [
    "# There is an outlier at the 1 rating, most of the ratings are around the 2 - 4 ratings.\n",
    "hist(games_data$rating, main = \"Histogram for Rating Column\", breaks = 30)"
   ]
  },
  {
   "cell_type": "code",
   "execution_count": 10,
   "metadata": {
    "vscode": {
     "languageId": "r"
    }
   },
   "outputs": [
    {
     "name": "stdout",
     "output_type": "stream",
     "text": [
      " [1] \"game_id\"           \"title\"             \"release_date\"     \n",
      " [4] \"team\"              \"rating\"            \"times_listed\"     \n",
      " [7] \"number_of_reviews\" \"genres\"            \"summary\"          \n",
      "[10] \"reviews\"           \"plays\"             \"playing\"          \n",
      "[13] \"backlogs\"          \"wishlist\"         \n"
     ]
    }
   ],
   "source": [
    "# Shows the column name\n",
    "column_names = names(games_data)\n",
    "# Replaces all the periods in the name with underscore \n",
    "column_names <- gsub(\"\\\\.\", \"_\", column_names) \n",
    "# Changes the column names and puts them back into the main data frame\n",
    "names(games_data) = column_names\n",
    "\n",
    "# creates the game_id column\n",
    "names(games_data)[1] <- \"game_id\"\n",
    "\n",
    "# Prints the results\n",
    "print(names(games_data))"
   ]
  },
  {
   "cell_type": "code",
   "execution_count": 11,
   "metadata": {
    "vscode": {
     "languageId": "r"
    }
   },
   "outputs": [
    {
     "name": "stderr",
     "output_type": "stream",
     "text": [
      "Warning message:\n",
      "\" 3 failed to parse.\"\n"
     ]
    },
    {
     "data": {
      "text/html": [
       "<style>\n",
       ".list-inline {list-style: none; margin:0; padding: 0}\n",
       ".list-inline>li {display: inline-block}\n",
       ".list-inline>li:not(:last-child)::after {content: \"\\00b7\"; padding: 0 .5ex}\n",
       "</style>\n",
       "<ol class=list-inline><li><time datetime=\"2022-02-25\">2022-02-25</time></li><li><time datetime=\"2019-12-10\">2019-12-10</time></li><li><time datetime=\"2017-03-03\">2017-03-03</time></li><li><time datetime=\"2015-09-15\">2015-09-15</time></li><li><time datetime=\"2017-02-24\">2017-02-24</time></li><li><time datetime=\"2011-11-18\">2011-11-18</time></li></ol>\n"
      ],
      "text/latex": [
       "\\begin{enumerate*}\n",
       "\\item 2022-02-25\n",
       "\\item 2019-12-10\n",
       "\\item 2017-03-03\n",
       "\\item 2015-09-15\n",
       "\\item 2017-02-24\n",
       "\\item 2011-11-18\n",
       "\\end{enumerate*}\n"
      ],
      "text/markdown": [
       "1. 2022-02-25\n",
       "2. 2019-12-10\n",
       "3. 2017-03-03\n",
       "4. 2015-09-15\n",
       "5. 2017-02-24\n",
       "6. 2011-11-18\n",
       "\n",
       "\n"
      ],
      "text/plain": [
       "[1] \"2022-02-25\" \"2019-12-10\" \"2017-03-03\" \"2015-09-15\" \"2017-02-24\"\n",
       "[6] \"2011-11-18\""
      ]
     },
     "metadata": {},
     "output_type": "display_data"
    }
   ],
   "source": [
    "# Change the release date to data format\n",
    "games_data$release_date = mdy(games_data$release_date)\n",
    "\n",
    "\n",
    "head(games_data$release_date)"
   ]
  },
  {
   "cell_type": "code",
   "execution_count": 12,
   "metadata": {
    "vscode": {
     "languageId": "r"
    }
   },
   "outputs": [
    {
     "name": "stdout",
     "output_type": "stream",
     "text": [
      "Rows: 1,512\n",
      "Columns: 14\n",
      "$ game_id           \u001b[3m\u001b[90m<int>\u001b[39m\u001b[23m 0, 1, 2, 3, 4, 5, 6, 7, 8, 9, 10, 11, 12, 13, 14, 15…\n",
      "$ title             \u001b[3m\u001b[90m<chr>\u001b[39m\u001b[23m \"Elden Ring\", \"Hades\", \"The Legend of Zelda: Breath …\n",
      "$ release_date      \u001b[3m\u001b[90m<date>\u001b[39m\u001b[23m 2022-02-25, 2019-12-10, 2017-03-03, 2015-09-15, 201…\n",
      "$ team              \u001b[3m\u001b[90m<chr>\u001b[39m\u001b[23m \"['Bandai Namco Entertainment', 'FromSoftware']\", \"[…\n",
      "$ rating            \u001b[3m\u001b[90m<int>\u001b[39m\u001b[23m 4, 4, 4, 4, 4, 4, 4, 4, 3, 4, 4, 3, 4, 4, 4, 4, 4, 4…\n",
      "$ times_listed      \u001b[3m\u001b[90m<int>\u001b[39m\u001b[23m 3900, 2900, 4300, 3500, 300, 2300, 1600, 2100, 867, …\n",
      "$ number_of_reviews \u001b[3m\u001b[90m<int>\u001b[39m\u001b[23m 3900, 2900, 4300, 3500, 300, 2300, 1600, 2100, 867, …\n",
      "$ genres            \u001b[3m\u001b[90m<chr>\u001b[39m\u001b[23m \"['Adventure', 'RPG']\", \"['Adventure', 'Brawler', 'I…\n",
      "$ summary           \u001b[3m\u001b[90m<chr>\u001b[39m\u001b[23m \"Elden Ring is a fantasy, action and open world game…\n",
      "$ reviews           \u001b[3m\u001b[90m<chr>\u001b[39m\u001b[23m \"[\\\"The first playthrough of elden ring is one of th…\n",
      "$ plays             \u001b[3m\u001b[90m<int>\u001b[39m\u001b[23m 1700, 2100, 3000, 2800, 2100, 3300, 7200, 9200, 2500…\n",
      "$ playing           \u001b[3m\u001b[90m<int>\u001b[39m\u001b[23m 3800, 3200, 2500, 679, 2400, 1800, 1100, 759, 470, 1…\n",
      "$ backlogs          \u001b[3m\u001b[90m<int>\u001b[39m\u001b[23m 4600, 6300, 500, 4900, 8300, 1100, 4500, 3400, 776, …\n",
      "$ wishlist          \u001b[3m\u001b[90m<int>\u001b[39m\u001b[23m 4800, 3600, 2600, 1800, 2300, 230, 3800, 3300, 126, …\n"
     ]
    }
   ],
   "source": [
    "# Remove the K and add \",000\" to the number. \n",
    "# Function to perform replacements\n",
    "replace_function <- function(x) {\n",
    "    x <- gsub(\"\\\\.\", \"\", x)\n",
    "    x <- gsub(\"K\", \"00\", x)\n",
    "return(x)\n",
    "}\n",
    "\n",
    "# Columns to apply the replacements\n",
    "columns_to_modify = c(\"playing\", \"plays\",\"wishlist\", \"backlogs\", \"times_listed\",\"number_of_reviews\")\n",
    "\n",
    "# Modifies the column\n",
    "games_data[columns_to_modify] = lapply(games_data[columns_to_modify], replace_function)\n",
    "\n",
    "# Converts the characters into integers\n",
    "for (col in columns_to_modify) {\n",
    "    games_data[[col]] = as.integer(as.character(games_data[[col]]))\n",
    "}\n",
    "\n",
    "# View a glimpse of the dataframe\n",
    "glimpse(games_data)\n"
   ]
  },
  {
   "cell_type": "code",
   "execution_count": 13,
   "metadata": {
    "vscode": {
     "languageId": "r"
    }
   },
   "outputs": [],
   "source": [
    "#Save the newly cleaned dataset as a NEW file:\n",
    "#write.csv(games_data, 'cleaned_games_data.csv')"
   ]
  },
  {
   "cell_type": "code",
   "execution_count": 14,
   "metadata": {
    "vscode": {
     "languageId": "r"
    }
   },
   "outputs": [],
   "source": [
    "# load in the data to build the database\n",
    "review_data = read.csv('cleaned_games_data.csv')\n",
    "\n",
    "# need to drop teh first column otherwise you will get an error later\n",
    "review_data = review_data[,-1]"
   ]
  },
  {
   "cell_type": "code",
   "execution_count": 15,
   "metadata": {
    "vscode": {
     "languageId": "r"
    }
   },
   "outputs": [],
   "source": [
    "#Connect to the database you created in Assignment #6 using your preferred method.\n",
    "db <- dbConnect(dbDriver(\"SQLite\"), dbname = \"video_game_reviews.db\")"
   ]
  },
  {
   "cell_type": "code",
   "execution_count": 16,
   "metadata": {
    "vscode": {
     "languageId": "r"
    }
   },
   "outputs": [
    {
     "data": {
      "text/html": [
       "0"
      ],
      "text/latex": [
       "0"
      ],
      "text/markdown": [
       "0"
      ],
      "text/plain": [
       "[1] 0"
      ]
     },
     "metadata": {},
     "output_type": "display_data"
    }
   ],
   "source": [
    "# Creates the first table for the dataset \n",
    "\n",
    "first_table = \"CREATE TABLE IF NOT EXISTS game (\n",
    "    game_id  INTEGER AUTO_INCREMENT PRIMARY KEY,\n",
    "    title TEXT,\n",
    "    release_date TEXT,\n",
    "    team TEXT,\n",
    "    genres TEXT,\n",
    "    summary TEXT\n",
    ");\"\n",
    "\n",
    "# Executes the table\n",
    "dbExecute(db, first_table)"
   ]
  },
  {
   "cell_type": "code",
   "execution_count": 17,
   "metadata": {
    "vscode": {
     "languageId": "r"
    }
   },
   "outputs": [
    {
     "data": {
      "text/html": [
       "'game'"
      ],
      "text/latex": [
       "'game'"
      ],
      "text/markdown": [
       "'game'"
      ],
      "text/plain": [
       "[1] \"game\""
      ]
     },
     "metadata": {},
     "output_type": "display_data"
    }
   ],
   "source": [
    "# View if the columns were loaded in correctly \n",
    "dbListTables(db)"
   ]
  },
  {
   "cell_type": "code",
   "execution_count": 18,
   "metadata": {
    "vscode": {
     "languageId": "r"
    }
   },
   "outputs": [
    {
     "data": {
      "text/html": [
       "<style>\n",
       ".list-inline {list-style: none; margin:0; padding: 0}\n",
       ".list-inline>li {display: inline-block}\n",
       ".list-inline>li:not(:last-child)::after {content: \"\\00b7\"; padding: 0 .5ex}\n",
       "</style>\n",
       "<ol class=list-inline><li>'game_id'</li><li>'title'</li><li>'release_date'</li><li>'team'</li><li>'genres'</li><li>'summary'</li></ol>\n"
      ],
      "text/latex": [
       "\\begin{enumerate*}\n",
       "\\item 'game\\_id'\n",
       "\\item 'title'\n",
       "\\item 'release\\_date'\n",
       "\\item 'team'\n",
       "\\item 'genres'\n",
       "\\item 'summary'\n",
       "\\end{enumerate*}\n"
      ],
      "text/markdown": [
       "1. 'game_id'\n",
       "2. 'title'\n",
       "3. 'release_date'\n",
       "4. 'team'\n",
       "5. 'genres'\n",
       "6. 'summary'\n",
       "\n",
       "\n"
      ],
      "text/plain": [
       "[1] \"game_id\"      \"title\"        \"release_date\" \"team\"         \"genres\"      \n",
       "[6] \"summary\"     "
      ]
     },
     "metadata": {},
     "output_type": "display_data"
    }
   ],
   "source": [
    "# The table that was created\n",
    "table_name = \"game\"\n",
    "\n",
    "# Write a query to show the column names from the created table\n",
    "query_table_1 = paste0(\"PRAGMA table_info(\", table_name,\");\")\n",
    "\n",
    "#Retrieves the column names from the table we created \n",
    "db_columns = dbGetQuery(db, query_table_1)$name\n",
    "\n",
    "#Define teh common columns between the CSV and Database \n",
    "common_columns_first_table = intersect(colnames(review_data), db_columns)\n",
    "\n",
    "#These are teh column tables \n",
    "common_columns_first_table"
   ]
  },
  {
   "cell_type": "code",
   "execution_count": 19,
   "metadata": {
    "vscode": {
     "languageId": "r"
    }
   },
   "outputs": [],
   "source": [
    "# Creates a subset of teh data using the original csv taking only \n",
    "# the specified column names \n",
    "game_subset = review_data[, common_columns_first_table]\n",
    "\n",
    "# Writes the data into the table \n",
    "dbWriteTable(db, \"game\", game_subset, append = TRUE, row.names = FALSE)"
   ]
  },
  {
   "cell_type": "code",
   "execution_count": null,
   "metadata": {
    "vscode": {
     "languageId": "r"
    }
   },
   "outputs": [],
   "source": [
    "# checks the data in the table\n",
    "dbReadTable(db, \"game\")"
   ]
  },
  {
   "cell_type": "code",
   "execution_count": 21,
   "metadata": {
    "vscode": {
     "languageId": "r"
    }
   },
   "outputs": [
    {
     "data": {
      "text/html": [
       "0"
      ],
      "text/latex": [
       "0"
      ],
      "text/markdown": [
       "0"
      ],
      "text/plain": [
       "[1] 0"
      ]
     },
     "metadata": {},
     "output_type": "display_data"
    }
   ],
   "source": [
    "# Create the table\n",
    "second_table = \"CREATE TABLE IF NOT EXISTS reviews (\n",
    "    game_id INTEGER,\n",
    "    rating INTEGER,\n",
    "    times_listed INTEGER,\n",
    "    number_of_reviews INTEGER,\n",
    "    reviews TEXT,\n",
    "    FOREIGN KEY (game_id) REFERENCES game(game_id) \n",
    ");\"\n",
    "# Executes the table\n",
    "dbExecute(db, second_table)"
   ]
  },
  {
   "cell_type": "code",
   "execution_count": 22,
   "metadata": {
    "vscode": {
     "languageId": "r"
    }
   },
   "outputs": [
    {
     "data": {
      "text/html": [
       "<style>\n",
       ".list-inline {list-style: none; margin:0; padding: 0}\n",
       ".list-inline>li {display: inline-block}\n",
       ".list-inline>li:not(:last-child)::after {content: \"\\00b7\"; padding: 0 .5ex}\n",
       "</style>\n",
       "<ol class=list-inline><li>'game'</li><li>'reviews'</li></ol>\n"
      ],
      "text/latex": [
       "\\begin{enumerate*}\n",
       "\\item 'game'\n",
       "\\item 'reviews'\n",
       "\\end{enumerate*}\n"
      ],
      "text/markdown": [
       "1. 'game'\n",
       "2. 'reviews'\n",
       "\n",
       "\n"
      ],
      "text/plain": [
       "[1] \"game\"    \"reviews\""
      ]
     },
     "metadata": {},
     "output_type": "display_data"
    }
   ],
   "source": [
    "# View if the columns were loaded in correctly \n",
    "dbListTables(db)"
   ]
  },
  {
   "cell_type": "code",
   "execution_count": 23,
   "metadata": {
    "vscode": {
     "languageId": "r"
    }
   },
   "outputs": [
    {
     "data": {
      "text/html": [
       "<style>\n",
       ".list-inline {list-style: none; margin:0; padding: 0}\n",
       ".list-inline>li {display: inline-block}\n",
       ".list-inline>li:not(:last-child)::after {content: \"\\00b7\"; padding: 0 .5ex}\n",
       "</style>\n",
       "<ol class=list-inline><li>'game_id'</li><li>'rating'</li><li>'times_listed'</li><li>'number_of_reviews'</li><li>'reviews'</li></ol>\n"
      ],
      "text/latex": [
       "\\begin{enumerate*}\n",
       "\\item 'game\\_id'\n",
       "\\item 'rating'\n",
       "\\item 'times\\_listed'\n",
       "\\item 'number\\_of\\_reviews'\n",
       "\\item 'reviews'\n",
       "\\end{enumerate*}\n"
      ],
      "text/markdown": [
       "1. 'game_id'\n",
       "2. 'rating'\n",
       "3. 'times_listed'\n",
       "4. 'number_of_reviews'\n",
       "5. 'reviews'\n",
       "\n",
       "\n"
      ],
      "text/plain": [
       "[1] \"game_id\"           \"rating\"            \"times_listed\"     \n",
       "[4] \"number_of_reviews\" \"reviews\"          "
      ]
     },
     "metadata": {},
     "output_type": "display_data"
    }
   ],
   "source": [
    "# The table that was created\n",
    "table_name = \"reviews\"\n",
    "\n",
    "# Write a query to show the column names from the created table\n",
    "query_table_2 = paste0(\"PRAGMA table_info(\", table_name,\");\")\n",
    "\n",
    "#Retrieves the column names from the table we created \n",
    "db_columns = dbGetQuery(db, query_table_2)$name\n",
    "\n",
    "#Define teh common columns between the CSV and Database \n",
    "common_columns_second_table = intersect(colnames(review_data), db_columns)\n",
    "\n",
    "#These are teh column tables \n",
    "common_columns_second_table"
   ]
  },
  {
   "cell_type": "code",
   "execution_count": 24,
   "metadata": {
    "vscode": {
     "languageId": "r"
    }
   },
   "outputs": [],
   "source": [
    "# Creates a subset of teh data using the original csv taking only \n",
    "# the specified column names \n",
    "game_subset = review_data[, common_columns_second_table]\n",
    "\n",
    "# Writes the data into the table \n",
    "dbWriteTable(db, \"reviews\", game_subset, append = TRUE, row.names = FALSE)"
   ]
  },
  {
   "cell_type": "code",
   "execution_count": null,
   "metadata": {
    "vscode": {
     "languageId": "r"
    }
   },
   "outputs": [],
   "source": [
    "# checks the data in the table\n",
    "dbReadTable(db, \"reviews\")"
   ]
  },
  {
   "cell_type": "code",
   "execution_count": 26,
   "metadata": {
    "vscode": {
     "languageId": "r"
    }
   },
   "outputs": [
    {
     "data": {
      "text/html": [
       "0"
      ],
      "text/latex": [
       "0"
      ],
      "text/markdown": [
       "0"
      ],
      "text/plain": [
       "[1] 0"
      ]
     },
     "metadata": {},
     "output_type": "display_data"
    }
   ],
   "source": [
    "# Create the table\n",
    "third_table = \"CREATE TABLE IF NOT EXISTS user_activity (\n",
    "    game_id INTEGER,\n",
    "    plays INTEGER,\n",
    "    playing INTEGER,\n",
    "    backlogs INTEGER,\n",
    "    wishlist INTEGER,\n",
    "    FOREIGN KEY (game_id) REFERENCES game(game_id) \n",
    ");\"\n",
    "\n",
    "# Executes the table\n",
    "dbExecute(db, third_table)"
   ]
  },
  {
   "cell_type": "code",
   "execution_count": 27,
   "metadata": {
    "vscode": {
     "languageId": "r"
    }
   },
   "outputs": [
    {
     "data": {
      "text/html": [
       "<style>\n",
       ".list-inline {list-style: none; margin:0; padding: 0}\n",
       ".list-inline>li {display: inline-block}\n",
       ".list-inline>li:not(:last-child)::after {content: \"\\00b7\"; padding: 0 .5ex}\n",
       "</style>\n",
       "<ol class=list-inline><li>'game'</li><li>'reviews'</li><li>'user_activity'</li></ol>\n"
      ],
      "text/latex": [
       "\\begin{enumerate*}\n",
       "\\item 'game'\n",
       "\\item 'reviews'\n",
       "\\item 'user\\_activity'\n",
       "\\end{enumerate*}\n"
      ],
      "text/markdown": [
       "1. 'game'\n",
       "2. 'reviews'\n",
       "3. 'user_activity'\n",
       "\n",
       "\n"
      ],
      "text/plain": [
       "[1] \"game\"          \"reviews\"       \"user_activity\""
      ]
     },
     "metadata": {},
     "output_type": "display_data"
    }
   ],
   "source": [
    "# View if the columns were loaded in correctly \n",
    "dbListTables(db)"
   ]
  },
  {
   "cell_type": "code",
   "execution_count": 28,
   "metadata": {
    "vscode": {
     "languageId": "r"
    }
   },
   "outputs": [
    {
     "data": {
      "text/html": [
       "<style>\n",
       ".list-inline {list-style: none; margin:0; padding: 0}\n",
       ".list-inline>li {display: inline-block}\n",
       ".list-inline>li:not(:last-child)::after {content: \"\\00b7\"; padding: 0 .5ex}\n",
       "</style>\n",
       "<ol class=list-inline><li>'game_id'</li><li>'plays'</li><li>'playing'</li><li>'backlogs'</li><li>'wishlist'</li></ol>\n"
      ],
      "text/latex": [
       "\\begin{enumerate*}\n",
       "\\item 'game\\_id'\n",
       "\\item 'plays'\n",
       "\\item 'playing'\n",
       "\\item 'backlogs'\n",
       "\\item 'wishlist'\n",
       "\\end{enumerate*}\n"
      ],
      "text/markdown": [
       "1. 'game_id'\n",
       "2. 'plays'\n",
       "3. 'playing'\n",
       "4. 'backlogs'\n",
       "5. 'wishlist'\n",
       "\n",
       "\n"
      ],
      "text/plain": [
       "[1] \"game_id\"  \"plays\"    \"playing\"  \"backlogs\" \"wishlist\""
      ]
     },
     "metadata": {},
     "output_type": "display_data"
    }
   ],
   "source": [
    "# The table that was created\n",
    "table_name = \"user_activity\"\n",
    "\n",
    "# Write a query to show the column names from the created table\n",
    "query_table_3 = paste0(\"PRAGMA table_info(\", table_name,\");\")\n",
    "\n",
    "#Retrieves the column names from the table we created \n",
    "db_columns = dbGetQuery(db, query_table_3)$name\n",
    "\n",
    "#Define teh common columns between the CSV and Database \n",
    "common_columns_third_table = intersect(colnames(review_data), db_columns)\n",
    "\n",
    "#These are teh column tables \n",
    "common_columns_third_table"
   ]
  },
  {
   "cell_type": "code",
   "execution_count": 29,
   "metadata": {
    "vscode": {
     "languageId": "r"
    }
   },
   "outputs": [],
   "source": [
    "# Creates a subset of teh data using the original csv taking only \n",
    "# the specified column names \n",
    "game_subset = review_data[, common_columns_third_table]\n",
    "\n",
    "# Writes the data into the table \n",
    "dbWriteTable(db, \"user_activity\", game_subset, append = TRUE, row.names = FALSE)"
   ]
  },
  {
   "cell_type": "code",
   "execution_count": null,
   "metadata": {
    "vscode": {
     "languageId": "r"
    }
   },
   "outputs": [],
   "source": [
    "# checks the data in the table\n",
    "dbReadTable(db, \"user_activity\")"
   ]
  },
  {
   "cell_type": "code",
   "execution_count": null,
   "metadata": {
    "vscode": {
     "languageId": "r"
    }
   },
   "outputs": [],
   "source": [
    "#Complete a quick query to ensure your data is available on the server.\n",
    "test <- dbGetQuery(db, \"SELECT * \n",
    "                        FROM game\n",
    "                        LIMIT 10\")\n",
    "test"
   ]
  },
  {
   "cell_type": "markdown",
   "metadata": {},
   "source": [
    "**Question:**\n",
    "<br>\n",
    "What games had < 2000 plays\n",
    "<br>\n",
    "<br>\n",
    "**What tables are we joining:**\n",
    "<br>\n",
    "Games & user_activity"
   ]
  },
  {
   "cell_type": "code",
   "execution_count": 32,
   "metadata": {
    "vscode": {
     "languageId": "r"
    }
   },
   "outputs": [
    {
     "data": {
      "text/html": [
       "<table class=\"dataframe\">\n",
       "<caption>A data.frame: 10 × 2</caption>\n",
       "<thead>\n",
       "\t<tr><th scope=col>title</th><th scope=col>total_plays</th></tr>\n",
       "\t<tr><th scope=col>&lt;chr&gt;</th><th scope=col>&lt;int&gt;</th></tr>\n",
       "</thead>\n",
       "<tbody>\n",
       "\t<tr><td>100% Orange Juice                         </td><td>1800</td></tr>\n",
       "\t<tr><td>428: Shibuya Scramble                     </td><td> 676</td></tr>\n",
       "\t<tr><td>AI: The Somnium Files - Nirvana Initiative</td><td>3000</td></tr>\n",
       "\t<tr><td>Advance Wars                              </td><td>1900</td></tr>\n",
       "\t<tr><td>Alan Wake Remastered                      </td><td> 690</td></tr>\n",
       "\t<tr><td>Alpha Protocol                            </td><td> 987</td></tr>\n",
       "\t<tr><td>Altered Beast                             </td><td>1500</td></tr>\n",
       "\t<tr><td>American McGee's Alice                    </td><td>1100</td></tr>\n",
       "\t<tr><td>Anonymous;Code                            </td><td>   8</td></tr>\n",
       "\t<tr><td>Another Pokémon Game                      </td><td>  59</td></tr>\n",
       "</tbody>\n",
       "</table>\n"
      ],
      "text/latex": [
       "A data.frame: 10 × 2\n",
       "\\begin{tabular}{ll}\n",
       " title & total\\_plays\\\\\n",
       " <chr> & <int>\\\\\n",
       "\\hline\n",
       "\t 100\\% Orange Juice                          & 1800\\\\\n",
       "\t 428: Shibuya Scramble                      &  676\\\\\n",
       "\t AI: The Somnium Files - Nirvana Initiative & 3000\\\\\n",
       "\t Advance Wars                               & 1900\\\\\n",
       "\t Alan Wake Remastered                       &  690\\\\\n",
       "\t Alpha Protocol                             &  987\\\\\n",
       "\t Altered Beast                              & 1500\\\\\n",
       "\t American McGee's Alice                     & 1100\\\\\n",
       "\t Anonymous;Code                             &    8\\\\\n",
       "\t Another Pokémon Game                       &   59\\\\\n",
       "\\end{tabular}\n"
      ],
      "text/markdown": [
       "\n",
       "A data.frame: 10 × 2\n",
       "\n",
       "| title &lt;chr&gt; | total_plays &lt;int&gt; |\n",
       "|---|---|\n",
       "| 100% Orange Juice                          | 1800 |\n",
       "| 428: Shibuya Scramble                      |  676 |\n",
       "| AI: The Somnium Files - Nirvana Initiative | 3000 |\n",
       "| Advance Wars                               | 1900 |\n",
       "| Alan Wake Remastered                       |  690 |\n",
       "| Alpha Protocol                             |  987 |\n",
       "| Altered Beast                              | 1500 |\n",
       "| American McGee's Alice                     | 1100 |\n",
       "| Anonymous;Code                             |    8 |\n",
       "| Another Pokémon Game                       |   59 |\n",
       "\n"
      ],
      "text/plain": [
       "   title                                      total_plays\n",
       "1  100% Orange Juice                          1800       \n",
       "2  428: Shibuya Scramble                       676       \n",
       "3  AI: The Somnium Files - Nirvana Initiative 3000       \n",
       "4  Advance Wars                               1900       \n",
       "5  Alan Wake Remastered                        690       \n",
       "6  Alpha Protocol                              987       \n",
       "7  Altered Beast                              1500       \n",
       "8  American McGee's Alice                     1100       \n",
       "9  Anonymous;Code                                8       \n",
       "10 Another Pokémon Game                         59       "
      ]
     },
     "metadata": {},
     "output_type": "display_data"
    }
   ],
   "source": [
    "# Creates an inner join query\n",
    "# Creates teh aliases and new column total plays.\n",
    "# Turns game into a g as an alias \n",
    "# Makes an  inner join on the alias user_activity and game \n",
    "# This line 'INNER JOIN user_activity ua ON g.game_id = ua.game_id' links together the game_id in both games and user_activity\n",
    "# Then filters by less than 2000 and limits to 10\n",
    "less_than_2k_plays = dbGetQuery(db, \"SELECT g.title, SUM(ua.plays) AS total_plays\n",
    "                            FROM game AS g\n",
    "                            INNER JOIN user_activity ua ON g.game_id = ua.game_id\n",
    "                            WHERE ua.plays < 2000\n",
    "                            GROUP BY g.title\n",
    "                            Limit 10\")\n",
    "less_than_2k_plays"
   ]
  },
  {
   "cell_type": "markdown",
   "metadata": {},
   "source": [
    "**Question:** <br>\n",
    "What games have a rating of three and how many people have put it on their wish list\n",
    "<br>\n",
    "<br>\n",
    "**What tables are we joining?**<br>\n",
    "Game, user_activity and reviews"
   ]
  },
  {
   "cell_type": "code",
   "execution_count": 33,
   "metadata": {
    "vscode": {
     "languageId": "r"
    }
   },
   "outputs": [
    {
     "data": {
      "text/html": [
       "<table class=\"dataframe\">\n",
       "<caption>A data.frame: 10 × 3</caption>\n",
       "<thead>\n",
       "\t<tr><th scope=col>game_title</th><th scope=col>wishlist</th><th scope=col>rating</th></tr>\n",
       "\t<tr><th scope=col>&lt;chr&gt;</th><th scope=col>&lt;int&gt;</th><th scope=col>&lt;int&gt;</th></tr>\n",
       "</thead>\n",
       "<tbody>\n",
       "\t<tr><td>Among Us                   </td><td> 126</td><td>3</td></tr>\n",
       "\t<tr><td>Stray                      </td><td>3400</td><td>3</td></tr>\n",
       "\t<tr><td>Pokémon Legends: Arceus    </td><td>2100</td><td>3</td></tr>\n",
       "\t<tr><td>Grand Theft Auto V         </td><td> 664</td><td>3</td></tr>\n",
       "\t<tr><td>Cyberpunk 2077             </td><td>2900</td><td>3</td></tr>\n",
       "\t<tr><td>Resident Evil Village      </td><td>2800</td><td>3</td></tr>\n",
       "\t<tr><td>Shin Megami Tensei V       </td><td>2600</td><td>3</td></tr>\n",
       "\t<tr><td>Bayonetta                  </td><td>2300</td><td>3</td></tr>\n",
       "\t<tr><td>The Elder Scrolls V: Skyrim</td><td> 100</td><td>3</td></tr>\n",
       "\t<tr><td>Sonic Frontiers            </td><td>1800</td><td>3</td></tr>\n",
       "</tbody>\n",
       "</table>\n"
      ],
      "text/latex": [
       "A data.frame: 10 × 3\n",
       "\\begin{tabular}{lll}\n",
       " game\\_title & wishlist & rating\\\\\n",
       " <chr> & <int> & <int>\\\\\n",
       "\\hline\n",
       "\t Among Us                    &  126 & 3\\\\\n",
       "\t Stray                       & 3400 & 3\\\\\n",
       "\t Pokémon Legends: Arceus     & 2100 & 3\\\\\n",
       "\t Grand Theft Auto V          &  664 & 3\\\\\n",
       "\t Cyberpunk 2077              & 2900 & 3\\\\\n",
       "\t Resident Evil Village       & 2800 & 3\\\\\n",
       "\t Shin Megami Tensei V        & 2600 & 3\\\\\n",
       "\t Bayonetta                   & 2300 & 3\\\\\n",
       "\t The Elder Scrolls V: Skyrim &  100 & 3\\\\\n",
       "\t Sonic Frontiers             & 1800 & 3\\\\\n",
       "\\end{tabular}\n"
      ],
      "text/markdown": [
       "\n",
       "A data.frame: 10 × 3\n",
       "\n",
       "| game_title &lt;chr&gt; | wishlist &lt;int&gt; | rating &lt;int&gt; |\n",
       "|---|---|---|\n",
       "| Among Us                    |  126 | 3 |\n",
       "| Stray                       | 3400 | 3 |\n",
       "| Pokémon Legends: Arceus     | 2100 | 3 |\n",
       "| Grand Theft Auto V          |  664 | 3 |\n",
       "| Cyberpunk 2077              | 2900 | 3 |\n",
       "| Resident Evil Village       | 2800 | 3 |\n",
       "| Shin Megami Tensei V        | 2600 | 3 |\n",
       "| Bayonetta                   | 2300 | 3 |\n",
       "| The Elder Scrolls V: Skyrim |  100 | 3 |\n",
       "| Sonic Frontiers             | 1800 | 3 |\n",
       "\n"
      ],
      "text/plain": [
       "   game_title                  wishlist rating\n",
       "1  Among Us                     126     3     \n",
       "2  Stray                       3400     3     \n",
       "3  Pokémon Legends: Arceus     2100     3     \n",
       "4  Grand Theft Auto V           664     3     \n",
       "5  Cyberpunk 2077              2900     3     \n",
       "6  Resident Evil Village       2800     3     \n",
       "7  Shin Megami Tensei V        2600     3     \n",
       "8  Bayonetta                   2300     3     \n",
       "9  The Elder Scrolls V: Skyrim  100     3     \n",
       "10 Sonic Frontiers             1800     3     "
      ]
     },
     "metadata": {},
     "output_type": "display_data"
    }
   ],
   "source": [
    "# groups the the title from game table, user_activity table and the reviews table and shows the results of all three tables\n",
    "games_rated_3 = dbGetQuery(db, \"SELECT g.title AS game_title, ua.wishlist, r.rating\n",
    "                            FROM game g\n",
    "                            INNER JOIN reviews r ON g.game_id = r.game_id\n",
    "                            LEFT JOIN user_activity ua ON g.game_id = ua.game_id\n",
    "                            WHERE r.rating = 3\n",
    "                            LIMIT 10\")\n",
    "games_rated_3 "
   ]
  },
  {
   "cell_type": "markdown",
   "metadata": {},
   "source": [
    "**Research Question:** <br>\n",
    "What genres have currently playing of > 5000\n",
    "<br>\n",
    "<br>\n",
    "**What tables are we joining?** <br>\n",
    "game & user_activity"
   ]
  },
  {
   "cell_type": "code",
   "execution_count": 34,
   "metadata": {
    "vscode": {
     "languageId": "r"
    }
   },
   "outputs": [
    {
     "data": {
      "text/html": [
       "<table class=\"dataframe\">\n",
       "<caption>A data.frame: 10 × 2</caption>\n",
       "<thead>\n",
       "\t<tr><th scope=col>genres</th><th scope=col>Currently_Playing</th></tr>\n",
       "\t<tr><th scope=col>&lt;chr&gt;</th><th scope=col>&lt;int&gt;</th></tr>\n",
       "</thead>\n",
       "<tbody>\n",
       "\t<tr><td>['Adventure', 'Arcade', 'Indie', 'Music', 'Platform']   </td><td> 5100</td></tr>\n",
       "\t<tr><td>['Adventure', 'Arcade', 'Indie', 'Platform', 'Strategy']</td><td>27900</td></tr>\n",
       "\t<tr><td>['Adventure', 'Arcade', 'Indie', 'RPG', 'Shooter']      </td><td>18600</td></tr>\n",
       "\t<tr><td>['Adventure', 'Arcade', 'Indie', 'Shooter']             </td><td>17800</td></tr>\n",
       "\t<tr><td>['Adventure', 'Brawler', 'Indie', 'Platform', 'RPG']    </td><td> 8400</td></tr>\n",
       "\t<tr><td>['Adventure', 'Brawler', 'Indie', 'RPG']                </td><td>19949</td></tr>\n",
       "\t<tr><td>['Adventure', 'Brawler', 'Platform', 'RPG', 'Shooter']  </td><td> 8800</td></tr>\n",
       "\t<tr><td>['Adventure', 'Brawler', 'Platform']                    </td><td>48200</td></tr>\n",
       "\t<tr><td>['Adventure', 'Brawler', 'Puzzle']                      </td><td> 5600</td></tr>\n",
       "\t<tr><td>['Adventure', 'Brawler', 'RPG', 'Simulator']            </td><td> 6100</td></tr>\n",
       "</tbody>\n",
       "</table>\n"
      ],
      "text/latex": [
       "A data.frame: 10 × 2\n",
       "\\begin{tabular}{ll}\n",
       " genres & Currently\\_Playing\\\\\n",
       " <chr> & <int>\\\\\n",
       "\\hline\n",
       "\t {[}'Adventure', 'Arcade', 'Indie', 'Music', 'Platform'{]}    &  5100\\\\\n",
       "\t {[}'Adventure', 'Arcade', 'Indie', 'Platform', 'Strategy'{]} & 27900\\\\\n",
       "\t {[}'Adventure', 'Arcade', 'Indie', 'RPG', 'Shooter'{]}       & 18600\\\\\n",
       "\t {[}'Adventure', 'Arcade', 'Indie', 'Shooter'{]}              & 17800\\\\\n",
       "\t {[}'Adventure', 'Brawler', 'Indie', 'Platform', 'RPG'{]}     &  8400\\\\\n",
       "\t {[}'Adventure', 'Brawler', 'Indie', 'RPG'{]}                 & 19949\\\\\n",
       "\t {[}'Adventure', 'Brawler', 'Platform', 'RPG', 'Shooter'{]}   &  8800\\\\\n",
       "\t {[}'Adventure', 'Brawler', 'Platform'{]}                     & 48200\\\\\n",
       "\t {[}'Adventure', 'Brawler', 'Puzzle'{]}                       &  5600\\\\\n",
       "\t {[}'Adventure', 'Brawler', 'RPG', 'Simulator'{]}             &  6100\\\\\n",
       "\\end{tabular}\n"
      ],
      "text/markdown": [
       "\n",
       "A data.frame: 10 × 2\n",
       "\n",
       "| genres &lt;chr&gt; | Currently_Playing &lt;int&gt; |\n",
       "|---|---|\n",
       "| ['Adventure', 'Arcade', 'Indie', 'Music', 'Platform']    |  5100 |\n",
       "| ['Adventure', 'Arcade', 'Indie', 'Platform', 'Strategy'] | 27900 |\n",
       "| ['Adventure', 'Arcade', 'Indie', 'RPG', 'Shooter']       | 18600 |\n",
       "| ['Adventure', 'Arcade', 'Indie', 'Shooter']              | 17800 |\n",
       "| ['Adventure', 'Brawler', 'Indie', 'Platform', 'RPG']     |  8400 |\n",
       "| ['Adventure', 'Brawler', 'Indie', 'RPG']                 | 19949 |\n",
       "| ['Adventure', 'Brawler', 'Platform', 'RPG', 'Shooter']   |  8800 |\n",
       "| ['Adventure', 'Brawler', 'Platform']                     | 48200 |\n",
       "| ['Adventure', 'Brawler', 'Puzzle']                       |  5600 |\n",
       "| ['Adventure', 'Brawler', 'RPG', 'Simulator']             |  6100 |\n",
       "\n"
      ],
      "text/plain": [
       "   genres                                                   Currently_Playing\n",
       "1  ['Adventure', 'Arcade', 'Indie', 'Music', 'Platform']     5100            \n",
       "2  ['Adventure', 'Arcade', 'Indie', 'Platform', 'Strategy'] 27900            \n",
       "3  ['Adventure', 'Arcade', 'Indie', 'RPG', 'Shooter']       18600            \n",
       "4  ['Adventure', 'Arcade', 'Indie', 'Shooter']              17800            \n",
       "5  ['Adventure', 'Brawler', 'Indie', 'Platform', 'RPG']      8400            \n",
       "6  ['Adventure', 'Brawler', 'Indie', 'RPG']                 19949            \n",
       "7  ['Adventure', 'Brawler', 'Platform', 'RPG', 'Shooter']    8800            \n",
       "8  ['Adventure', 'Brawler', 'Platform']                     48200            \n",
       "9  ['Adventure', 'Brawler', 'Puzzle']                        5600            \n",
       "10 ['Adventure', 'Brawler', 'RPG', 'Simulator']              6100            "
      ]
     },
     "metadata": {},
     "output_type": "display_data"
    }
   ],
   "source": [
    "# Since Genres repeats throughout the data set I need to take the sum of plays and assign them to the proper genre\n",
    "current_playing_more_5k = dbGetQuery(db, \"SELECT g.genres, SUM(ua.plays) AS Currently_Playing\n",
    "                            FROM game AS g\n",
    "                            RIGHT JOIN user_activity ua ON g.game_id = ua.game_id\n",
    "                            GROUP BY g.genres\n",
    "                            HAVING SUM(ua.plays) > 5000\n",
    "                            LIMIT 10\")\n",
    "current_playing_more_5k "
   ]
  },
  {
   "cell_type": "markdown",
   "metadata": {},
   "source": [
    "**Research Question:** <br>\n",
    "What games have a number of reviews < 2500\n",
    "<br>\n",
    "<br>\n",
    "**What tables are we joining?**<br>\n",
    " game & reviews"
   ]
  },
  {
   "cell_type": "code",
   "execution_count": 35,
   "metadata": {
    "vscode": {
     "languageId": "r"
    }
   },
   "outputs": [
    {
     "data": {
      "text/html": [
       "<table class=\"dataframe\">\n",
       "<caption>A data.frame: 10 × 2</caption>\n",
       "<thead>\n",
       "\t<tr><th scope=col>title</th><th scope=col>Number_of_Reviews</th></tr>\n",
       "\t<tr><th scope=col>&lt;chr&gt;</th><th scope=col>&lt;int&gt;</th></tr>\n",
       "</thead>\n",
       "<tbody>\n",
       "\t<tr><td>100% Orange Juice                         </td><td> 112</td></tr>\n",
       "\t<tr><td>13 Sentinels: Aegis Rim                   </td><td>1200</td></tr>\n",
       "\t<tr><td>428: Shibuya Scramble                     </td><td> 249</td></tr>\n",
       "\t<tr><td>A Hat in Time                             </td><td> 898</td></tr>\n",
       "\t<tr><td>A Plague Tale: Innocence                  </td><td> 852</td></tr>\n",
       "\t<tr><td>A Short Hike                              </td><td>1100</td></tr>\n",
       "\t<tr><td>A Way Out                                 </td><td> 620</td></tr>\n",
       "\t<tr><td>AI: The Somnium Files - Nirvana Initiative</td><td> 455</td></tr>\n",
       "\t<tr><td>Abzu                                      </td><td> 714</td></tr>\n",
       "\t<tr><td>Advance Wars                              </td><td> 266</td></tr>\n",
       "</tbody>\n",
       "</table>\n"
      ],
      "text/latex": [
       "A data.frame: 10 × 2\n",
       "\\begin{tabular}{ll}\n",
       " title & Number\\_of\\_Reviews\\\\\n",
       " <chr> & <int>\\\\\n",
       "\\hline\n",
       "\t 100\\% Orange Juice                          &  112\\\\\n",
       "\t 13 Sentinels: Aegis Rim                    & 1200\\\\\n",
       "\t 428: Shibuya Scramble                      &  249\\\\\n",
       "\t A Hat in Time                              &  898\\\\\n",
       "\t A Plague Tale: Innocence                   &  852\\\\\n",
       "\t A Short Hike                               & 1100\\\\\n",
       "\t A Way Out                                  &  620\\\\\n",
       "\t AI: The Somnium Files - Nirvana Initiative &  455\\\\\n",
       "\t Abzu                                       &  714\\\\\n",
       "\t Advance Wars                               &  266\\\\\n",
       "\\end{tabular}\n"
      ],
      "text/markdown": [
       "\n",
       "A data.frame: 10 × 2\n",
       "\n",
       "| title &lt;chr&gt; | Number_of_Reviews &lt;int&gt; |\n",
       "|---|---|\n",
       "| 100% Orange Juice                          |  112 |\n",
       "| 13 Sentinels: Aegis Rim                    | 1200 |\n",
       "| 428: Shibuya Scramble                      |  249 |\n",
       "| A Hat in Time                              |  898 |\n",
       "| A Plague Tale: Innocence                   |  852 |\n",
       "| A Short Hike                               | 1100 |\n",
       "| A Way Out                                  |  620 |\n",
       "| AI: The Somnium Files - Nirvana Initiative |  455 |\n",
       "| Abzu                                       |  714 |\n",
       "| Advance Wars                               |  266 |\n",
       "\n"
      ],
      "text/plain": [
       "   title                                      Number_of_Reviews\n",
       "1  100% Orange Juice                           112             \n",
       "2  13 Sentinels: Aegis Rim                    1200             \n",
       "3  428: Shibuya Scramble                       249             \n",
       "4  A Hat in Time                               898             \n",
       "5  A Plague Tale: Innocence                    852             \n",
       "6  A Short Hike                               1100             \n",
       "7  A Way Out                                   620             \n",
       "8  AI: The Somnium Files - Nirvana Initiative  455             \n",
       "9  Abzu                                        714             \n",
       "10 Advance Wars                                266             "
      ]
     },
     "metadata": {},
     "output_type": "display_data"
    }
   ],
   "source": [
    "# Combines the title and the number of reviews \n",
    "current_play_less_2500 = dbGetQuery(db, \"SELECT g.title, r.number_of_reviews AS Number_of_Reviews\n",
    "                            FROM game AS g\n",
    "                            LEFT JOIN reviews r ON g.game_id = r.game_id\n",
    "                            WHERE r.number_of_reviews < 2500\n",
    "                            GROUP BY g.title\n",
    "                            LIMIT 10\")\n",
    "current_play_less_2500"
   ]
  },
  {
   "cell_type": "markdown",
   "metadata": {},
   "source": [
    "**Question:**<br>\n",
    " what genres have a high rating level (>= 3) vs a low rating (< 3)\n",
    "<br>\n",
    "<br>\n",
    "**What tables are we joining?:** <br>\n",
    "games and reviews "
   ]
  },
  {
   "cell_type": "code",
   "execution_count": 36,
   "metadata": {
    "vscode": {
     "languageId": "r"
    }
   },
   "outputs": [
    {
     "data": {
      "text/html": [
       "<table class=\"dataframe\">\n",
       "<caption>A data.frame: 10 × 3</caption>\n",
       "<thead>\n",
       "\t<tr><th scope=col>genres</th><th scope=col>rating</th><th scope=col>Rating_level</th></tr>\n",
       "\t<tr><th scope=col>&lt;chr&gt;</th><th scope=col>&lt;int&gt;</th><th scope=col>&lt;chr&gt;</th></tr>\n",
       "</thead>\n",
       "<tbody>\n",
       "\t<tr><td>['Shooter']                                           </td><td>4</td><td>HIGH</td></tr>\n",
       "\t<tr><td>['RPG']                                               </td><td>4</td><td>HIGH</td></tr>\n",
       "\t<tr><td>['RPG', 'Turn Based Strategy']                        </td><td>4</td><td>HIGH</td></tr>\n",
       "\t<tr><td>['RPG', 'Strategy']                                   </td><td>4</td><td>HIGH</td></tr>\n",
       "\t<tr><td>['RPG', 'Strategy', 'Turn Based Strategy']            </td><td>4</td><td>HIGH</td></tr>\n",
       "\t<tr><td>['RPG', 'Strategy', 'Tactical', 'Turn Based Strategy']</td><td>4</td><td>HIGH</td></tr>\n",
       "\t<tr><td>['RPG', 'Simulator', 'Visual Novel']                  </td><td>4</td><td>HIGH</td></tr>\n",
       "\t<tr><td>['RPG', 'Simulator', 'Strategy', 'Tactical']          </td><td>4</td><td>HIGH</td></tr>\n",
       "\t<tr><td>['RPG', 'Shooter']                                    </td><td>4</td><td>HIGH</td></tr>\n",
       "\t<tr><td>['Puzzle']                                            </td><td>4</td><td>HIGH</td></tr>\n",
       "</tbody>\n",
       "</table>\n"
      ],
      "text/latex": [
       "A data.frame: 10 × 3\n",
       "\\begin{tabular}{lll}\n",
       " genres & rating & Rating\\_level\\\\\n",
       " <chr> & <int> & <chr>\\\\\n",
       "\\hline\n",
       "\t {[}'Shooter'{]}                                            & 4 & HIGH\\\\\n",
       "\t {[}'RPG'{]}                                                & 4 & HIGH\\\\\n",
       "\t {[}'RPG', 'Turn Based Strategy'{]}                         & 4 & HIGH\\\\\n",
       "\t {[}'RPG', 'Strategy'{]}                                    & 4 & HIGH\\\\\n",
       "\t {[}'RPG', 'Strategy', 'Turn Based Strategy'{]}             & 4 & HIGH\\\\\n",
       "\t {[}'RPG', 'Strategy', 'Tactical', 'Turn Based Strategy'{]} & 4 & HIGH\\\\\n",
       "\t {[}'RPG', 'Simulator', 'Visual Novel'{]}                   & 4 & HIGH\\\\\n",
       "\t {[}'RPG', 'Simulator', 'Strategy', 'Tactical'{]}           & 4 & HIGH\\\\\n",
       "\t {[}'RPG', 'Shooter'{]}                                     & 4 & HIGH\\\\\n",
       "\t {[}'Puzzle'{]}                                             & 4 & HIGH\\\\\n",
       "\\end{tabular}\n"
      ],
      "text/markdown": [
       "\n",
       "A data.frame: 10 × 3\n",
       "\n",
       "| genres &lt;chr&gt; | rating &lt;int&gt; | Rating_level &lt;chr&gt; |\n",
       "|---|---|---|\n",
       "| ['Shooter']                                            | 4 | HIGH |\n",
       "| ['RPG']                                                | 4 | HIGH |\n",
       "| ['RPG', 'Turn Based Strategy']                         | 4 | HIGH |\n",
       "| ['RPG', 'Strategy']                                    | 4 | HIGH |\n",
       "| ['RPG', 'Strategy', 'Turn Based Strategy']             | 4 | HIGH |\n",
       "| ['RPG', 'Strategy', 'Tactical', 'Turn Based Strategy'] | 4 | HIGH |\n",
       "| ['RPG', 'Simulator', 'Visual Novel']                   | 4 | HIGH |\n",
       "| ['RPG', 'Simulator', 'Strategy', 'Tactical']           | 4 | HIGH |\n",
       "| ['RPG', 'Shooter']                                     | 4 | HIGH |\n",
       "| ['Puzzle']                                             | 4 | HIGH |\n",
       "\n"
      ],
      "text/plain": [
       "   genres                                                 rating Rating_level\n",
       "1  ['Shooter']                                            4      HIGH        \n",
       "2  ['RPG']                                                4      HIGH        \n",
       "3  ['RPG', 'Turn Based Strategy']                         4      HIGH        \n",
       "4  ['RPG', 'Strategy']                                    4      HIGH        \n",
       "5  ['RPG', 'Strategy', 'Turn Based Strategy']             4      HIGH        \n",
       "6  ['RPG', 'Strategy', 'Tactical', 'Turn Based Strategy'] 4      HIGH        \n",
       "7  ['RPG', 'Simulator', 'Visual Novel']                   4      HIGH        \n",
       "8  ['RPG', 'Simulator', 'Strategy', 'Tactical']           4      HIGH        \n",
       "9  ['RPG', 'Shooter']                                     4      HIGH        \n",
       "10 ['Puzzle']                                             4      HIGH        "
      ]
     },
     "metadata": {},
     "output_type": "display_data"
    }
   ],
   "source": [
    "#CASE statement with Left Join and removes NA values\n",
    "\n",
    "high_low_rating = dbGetQuery(db, \"SELECT g.genres, r.rating,\n",
    "                                -- if else statement to classify each rating\n",
    "                                CASE \n",
    "                                    WHEN r.rating < 3 THEN 'LOW'\n",
    "                                    ELSE 'HIGH'\n",
    "                                END AS Rating_level \n",
    "                            FROM game AS g\n",
    "                            Left JOIN reviews AS r ON g.game_id = r.game_id\n",
    "\n",
    "                            -- There were NA values found in the data \n",
    "                            WHERE r.rating IS NOT NULL\n",
    "                            GROUP BY g.genres\n",
    "\n",
    "                            -- you can change from ASC to DESC or comment out to  see a random sample to check if the code workked \n",
    "                            ORDER BY r.rating DESC\n",
    "                            LIMIT 10\n",
    "\")\n",
    "high_low_rating "
   ]
  },
  {
   "cell_type": "markdown",
   "metadata": {},
   "source": [
    "**Question:** <br> \n",
    "what games are highly wanted (>= 3000), wanted (>= 2000) and not really wanted (< 2000)\n",
    "<br>\n",
    "<br>\n",
    "**What tables are we joining?:** <br>\n",
    "games and user activity "
   ]
  },
  {
   "cell_type": "code",
   "execution_count": 37,
   "metadata": {
    "vscode": {
     "languageId": "r"
    }
   },
   "outputs": [
    {
     "data": {
      "text/html": [
       "<table class=\"dataframe\">\n",
       "<caption>A data.frame: 10 × 3</caption>\n",
       "<thead>\n",
       "\t<tr><th scope=col>title</th><th scope=col>wishlist</th><th scope=col>Level_of_Interest</th></tr>\n",
       "\t<tr><th scope=col>&lt;chr&gt;</th><th scope=col>&lt;int&gt;</th><th scope=col>&lt;chr&gt;</th></tr>\n",
       "</thead>\n",
       "<tbody>\n",
       "\t<tr><td>The Legend of Zelda: Tears of the Kingdom</td><td>5400</td><td>Highly Wanted</td></tr>\n",
       "\t<tr><td>Elden Ring                               </td><td>4800</td><td>Highly Wanted</td></tr>\n",
       "\t<tr><td>Omori                                    </td><td>3800</td><td>Highly Wanted</td></tr>\n",
       "\t<tr><td>NieR Replicant ver.1.22474487139...      </td><td>3700</td><td>Highly Wanted</td></tr>\n",
       "\t<tr><td>NieR: Automata                           </td><td>3600</td><td>Highly Wanted</td></tr>\n",
       "\t<tr><td>Hades                                    </td><td>3600</td><td>Highly Wanted</td></tr>\n",
       "\t<tr><td>Stray                                    </td><td>3400</td><td>Highly Wanted</td></tr>\n",
       "\t<tr><td>Sekiro: Shadows Die Twice                </td><td>3400</td><td>Highly Wanted</td></tr>\n",
       "\t<tr><td>Metroid Dread                            </td><td>3300</td><td>Highly Wanted</td></tr>\n",
       "\t<tr><td>God of War Ragnarök                      </td><td>3300</td><td>Highly Wanted</td></tr>\n",
       "</tbody>\n",
       "</table>\n"
      ],
      "text/latex": [
       "A data.frame: 10 × 3\n",
       "\\begin{tabular}{lll}\n",
       " title & wishlist & Level\\_of\\_Interest\\\\\n",
       " <chr> & <int> & <chr>\\\\\n",
       "\\hline\n",
       "\t The Legend of Zelda: Tears of the Kingdom & 5400 & Highly Wanted\\\\\n",
       "\t Elden Ring                                & 4800 & Highly Wanted\\\\\n",
       "\t Omori                                     & 3800 & Highly Wanted\\\\\n",
       "\t NieR Replicant ver.1.22474487139...       & 3700 & Highly Wanted\\\\\n",
       "\t NieR: Automata                            & 3600 & Highly Wanted\\\\\n",
       "\t Hades                                     & 3600 & Highly Wanted\\\\\n",
       "\t Stray                                     & 3400 & Highly Wanted\\\\\n",
       "\t Sekiro: Shadows Die Twice                 & 3400 & Highly Wanted\\\\\n",
       "\t Metroid Dread                             & 3300 & Highly Wanted\\\\\n",
       "\t God of War Ragnarök                       & 3300 & Highly Wanted\\\\\n",
       "\\end{tabular}\n"
      ],
      "text/markdown": [
       "\n",
       "A data.frame: 10 × 3\n",
       "\n",
       "| title &lt;chr&gt; | wishlist &lt;int&gt; | Level_of_Interest &lt;chr&gt; |\n",
       "|---|---|---|\n",
       "| The Legend of Zelda: Tears of the Kingdom | 5400 | Highly Wanted |\n",
       "| Elden Ring                                | 4800 | Highly Wanted |\n",
       "| Omori                                     | 3800 | Highly Wanted |\n",
       "| NieR Replicant ver.1.22474487139...       | 3700 | Highly Wanted |\n",
       "| NieR: Automata                            | 3600 | Highly Wanted |\n",
       "| Hades                                     | 3600 | Highly Wanted |\n",
       "| Stray                                     | 3400 | Highly Wanted |\n",
       "| Sekiro: Shadows Die Twice                 | 3400 | Highly Wanted |\n",
       "| Metroid Dread                             | 3300 | Highly Wanted |\n",
       "| God of War Ragnarök                       | 3300 | Highly Wanted |\n",
       "\n"
      ],
      "text/plain": [
       "   title                                     wishlist Level_of_Interest\n",
       "1  The Legend of Zelda: Tears of the Kingdom 5400     Highly Wanted    \n",
       "2  Elden Ring                                4800     Highly Wanted    \n",
       "3  Omori                                     3800     Highly Wanted    \n",
       "4  NieR Replicant ver.1.22474487139...       3700     Highly Wanted    \n",
       "5  NieR: Automata                            3600     Highly Wanted    \n",
       "6  Hades                                     3600     Highly Wanted    \n",
       "7  Stray                                     3400     Highly Wanted    \n",
       "8  Sekiro: Shadows Die Twice                 3400     Highly Wanted    \n",
       "9  Metroid Dread                             3300     Highly Wanted    \n",
       "10 God of War Ragnarök                       3300     Highly Wanted    "
      ]
     },
     "metadata": {},
     "output_type": "display_data"
    }
   ],
   "source": [
    "# Case with a Left Join \n",
    "desire_level = dbGetQuery(db, \"SELECT g.title, ua.wishlist,\n",
    "                                -- gives a rating based on three different criterias\n",
    "                                CASE \n",
    "                                    WHEN ua.wishlist >= 3000 THEN 'Highly Wanted'\n",
    "                                    When ua.wishlist >= 2000 THEN 'Wanted'\n",
    "                                    ELSE 'Not Wanted'\n",
    "                                END AS Level_of_Interest\n",
    "\n",
    "                            FROM game AS g\n",
    "                            LEFT JOIN user_activity AS ua ON g.game_id = ua.game_id\n",
    "                            GROUP BY g.title\n",
    "\n",
    "                            -- you can change the order to see a random sample to check if the code workked \n",
    "                            ORDER BY ua.wishlist DESC\n",
    "                            LIMIT 10\n",
    "\")\n",
    "\n",
    "desire_level"
   ]
  },
  {
   "cell_type": "markdown",
   "metadata": {},
   "source": [
    "**Question:**<br>\n",
    "What teams created succesful games\n",
    "<br>\n",
    "<br>\n",
    "**What tables are we joining?:** <br>\n",
    "game, review and user_activity"
   ]
  },
  {
   "cell_type": "code",
   "execution_count": 38,
   "metadata": {
    "vscode": {
     "languageId": "r"
    }
   },
   "outputs": [
    {
     "data": {
      "text/html": [
       "<table class=\"dataframe\">\n",
       "<caption>A data.frame: 10 × 4</caption>\n",
       "<thead>\n",
       "\t<tr><th scope=col>team</th><th scope=col>plays</th><th scope=col>number_of_reviews</th><th scope=col>Games_Success</th></tr>\n",
       "\t<tr><th scope=col>&lt;chr&gt;</th><th scope=col>&lt;int&gt;</th><th scope=col>&lt;int&gt;</th><th scope=col>&lt;chr&gt;</th></tr>\n",
       "</thead>\n",
       "<tbody>\n",
       "\t<tr><td>['Bandai Namco Entertainment', 'FromSoftware']                </td><td>1700</td><td>3900</td><td>Average   </td></tr>\n",
       "\t<tr><td>['OMOCAT', 'PLAYISM']                                         </td><td>7200</td><td>1600</td><td>Successful</td></tr>\n",
       "\t<tr><td>['Toylogic', 'Square Enix']                                   </td><td>6700</td><td>1500</td><td>Successful</td></tr>\n",
       "\t<tr><td>['Supergiant Games']                                          </td><td>2100</td><td>2900</td><td>Successful</td></tr>\n",
       "\t<tr><td>['PlatinumGames', 'Square Enix']                              </td><td>1800</td><td>2900</td><td>Average   </td></tr>\n",
       "\t<tr><td>['FromSoftware', 'Activision']                                </td><td>1400</td><td>2300</td><td>Average   </td></tr>\n",
       "\t<tr><td>['BlueTwelve Studio', 'Annapurna Interactive']                </td><td>7700</td><td>1500</td><td>Successful</td></tr>\n",
       "\t<tr><td>['Nintendo', 'MercurySteam']                                  </td><td>9200</td><td>2100</td><td>Successful</td></tr>\n",
       "\t<tr><td>['FromSoftware', 'Sony Computer Entertainment']               </td><td>1700</td><td>3400</td><td>Average   </td></tr>\n",
       "\t<tr><td>['Sucker Punch Productions', 'Sony Interactive Entertainment']</td><td>8500</td><td>1400</td><td>Successful</td></tr>\n",
       "</tbody>\n",
       "</table>\n"
      ],
      "text/latex": [
       "A data.frame: 10 × 4\n",
       "\\begin{tabular}{llll}\n",
       " team & plays & number\\_of\\_reviews & Games\\_Success\\\\\n",
       " <chr> & <int> & <int> & <chr>\\\\\n",
       "\\hline\n",
       "\t {[}'Bandai Namco Entertainment', 'FromSoftware'{]}                 & 1700 & 3900 & Average   \\\\\n",
       "\t {[}'OMOCAT', 'PLAYISM'{]}                                          & 7200 & 1600 & Successful\\\\\n",
       "\t {[}'Toylogic', 'Square Enix'{]}                                    & 6700 & 1500 & Successful\\\\\n",
       "\t {[}'Supergiant Games'{]}                                           & 2100 & 2900 & Successful\\\\\n",
       "\t {[}'PlatinumGames', 'Square Enix'{]}                               & 1800 & 2900 & Average   \\\\\n",
       "\t {[}'FromSoftware', 'Activision'{]}                                 & 1400 & 2300 & Average   \\\\\n",
       "\t {[}'BlueTwelve Studio', 'Annapurna Interactive'{]}                 & 7700 & 1500 & Successful\\\\\n",
       "\t {[}'Nintendo', 'MercurySteam'{]}                                   & 9200 & 2100 & Successful\\\\\n",
       "\t {[}'FromSoftware', 'Sony Computer Entertainment'{]}                & 1700 & 3400 & Average   \\\\\n",
       "\t {[}'Sucker Punch Productions', 'Sony Interactive Entertainment'{]} & 8500 & 1400 & Successful\\\\\n",
       "\\end{tabular}\n"
      ],
      "text/markdown": [
       "\n",
       "A data.frame: 10 × 4\n",
       "\n",
       "| team &lt;chr&gt; | plays &lt;int&gt; | number_of_reviews &lt;int&gt; | Games_Success &lt;chr&gt; |\n",
       "|---|---|---|---|\n",
       "| ['Bandai Namco Entertainment', 'FromSoftware']                 | 1700 | 3900 | Average    |\n",
       "| ['OMOCAT', 'PLAYISM']                                          | 7200 | 1600 | Successful |\n",
       "| ['Toylogic', 'Square Enix']                                    | 6700 | 1500 | Successful |\n",
       "| ['Supergiant Games']                                           | 2100 | 2900 | Successful |\n",
       "| ['PlatinumGames', 'Square Enix']                               | 1800 | 2900 | Average    |\n",
       "| ['FromSoftware', 'Activision']                                 | 1400 | 2300 | Average    |\n",
       "| ['BlueTwelve Studio', 'Annapurna Interactive']                 | 7700 | 1500 | Successful |\n",
       "| ['Nintendo', 'MercurySteam']                                   | 9200 | 2100 | Successful |\n",
       "| ['FromSoftware', 'Sony Computer Entertainment']                | 1700 | 3400 | Average    |\n",
       "| ['Sucker Punch Productions', 'Sony Interactive Entertainment'] | 8500 | 1400 | Successful |\n",
       "\n"
      ],
      "text/plain": [
       "   team                                                           plays\n",
       "1  ['Bandai Namco Entertainment', 'FromSoftware']                 1700 \n",
       "2  ['OMOCAT', 'PLAYISM']                                          7200 \n",
       "3  ['Toylogic', 'Square Enix']                                    6700 \n",
       "4  ['Supergiant Games']                                           2100 \n",
       "5  ['PlatinumGames', 'Square Enix']                               1800 \n",
       "6  ['FromSoftware', 'Activision']                                 1400 \n",
       "7  ['BlueTwelve Studio', 'Annapurna Interactive']                 7700 \n",
       "8  ['Nintendo', 'MercurySteam']                                   9200 \n",
       "9  ['FromSoftware', 'Sony Computer Entertainment']                1700 \n",
       "10 ['Sucker Punch Productions', 'Sony Interactive Entertainment'] 8500 \n",
       "   number_of_reviews Games_Success\n",
       "1  3900              Average      \n",
       "2  1600              Successful   \n",
       "3  1500              Successful   \n",
       "4  2900              Successful   \n",
       "5  2900              Average      \n",
       "6  2300              Average      \n",
       "7  1500              Successful   \n",
       "8  2100              Successful   \n",
       "9  3400              Average      \n",
       "10 1400              Successful   "
      ]
     },
     "metadata": {},
     "output_type": "display_data"
    }
   ],
   "source": [
    "# Judges the success of the game from the people currently playing and the number of reviews they recieve\n",
    "successful_teams = dbGetQuery(db, \"SELECT g.team, ua.plays, r.number_of_reviews,\n",
    "                                CASE \n",
    "                                    WHEN ua.plays > 2000 AND r.number_of_reviews > 1000 THEN 'Successful'\n",
    "                                    When ua.plays >= 500 AND r.number_of_reviews >= 500 THEN 'Average'\n",
    "                                    ELSE 'Dead on Arrival'\n",
    "                                END AS Games_Success\n",
    "\n",
    "                            FROM game AS g\n",
    "                            INNER JOIN user_activity AS ua ON g.game_id = ua.game_id\n",
    "                            LEFT JOIN reviews AS r ON g.game_id = r.game_id\n",
    "\n",
    "                            -- Screen for NULL values \n",
    "                            WHERE r.number_of_reviews IS NOT NULL AND ua.plays IS NOT NULL\n",
    "\n",
    "                            GROUP BY g.team\n",
    "\n",
    "                            -- you can change the order to see a random sample to check if the code workked \n",
    "                            ORDER BY ua.wishlist DESC\n",
    "                            LIMIT 10\n",
    "\")\n",
    "\n",
    "successful_teams"
   ]
  },
  {
   "cell_type": "markdown",
   "metadata": {},
   "source": [
    "**Question:** <br>\n",
    "What is the average plays by team\n",
    "<br>\n",
    "<br>\n",
    "**What tables are we joining?:** <br>\n",
    "plays and teams"
   ]
  },
  {
   "cell_type": "code",
   "execution_count": 39,
   "metadata": {
    "vscode": {
     "languageId": "r"
    }
   },
   "outputs": [
    {
     "data": {
      "text/html": [
       "<table class=\"dataframe\">\n",
       "<caption>A data.frame: 10 × 2</caption>\n",
       "<thead>\n",
       "\t<tr><th scope=col>team</th><th scope=col>Average_plays</th></tr>\n",
       "\t<tr><th scope=col>&lt;chr&gt;</th><th scope=col>&lt;dbl&gt;</th></tr>\n",
       "</thead>\n",
       "<tbody>\n",
       "\t<tr><td>['Capcom']                                                             </td><td>3410.771</td></tr>\n",
       "\t<tr><td>['Ubisoft Montpellier', 'Ubisoft Entertainment']                       </td><td>8000.000</td></tr>\n",
       "\t<tr><td>['Nintendo', 'HAL Laboratory']                                         </td><td>6125.000</td></tr>\n",
       "\t<tr><td>['Sega', 'Ryū Ga Gotoku Studios']                                      </td><td>6160.000</td></tr>\n",
       "\t<tr><td>['EA Redwood Shores', 'Electronic Arts']                               </td><td>9600.000</td></tr>\n",
       "\t<tr><td>['BioWare', 'Electronic Arts']                                         </td><td>9600.000</td></tr>\n",
       "\t<tr><td>['505 Games', 'Remedy Entertainment']                                  </td><td>9600.000</td></tr>\n",
       "\t<tr><td>['The Behemoth']                                                       </td><td>9400.000</td></tr>\n",
       "\t<tr><td>['Sony Interactive Entertainment', 'Kojima Productions']               </td><td>9400.000</td></tr>\n",
       "\t<tr><td>['Sony Computer Entertainment, Inc. (SCEI)', 'SIE Santa Monica Studio']</td><td>7100.000</td></tr>\n",
       "</tbody>\n",
       "</table>\n"
      ],
      "text/latex": [
       "A data.frame: 10 × 2\n",
       "\\begin{tabular}{ll}\n",
       " team & Average\\_plays\\\\\n",
       " <chr> & <dbl>\\\\\n",
       "\\hline\n",
       "\t {[}'Capcom'{]}                                                              & 3410.771\\\\\n",
       "\t {[}'Ubisoft Montpellier', 'Ubisoft Entertainment'{]}                        & 8000.000\\\\\n",
       "\t {[}'Nintendo', 'HAL Laboratory'{]}                                          & 6125.000\\\\\n",
       "\t {[}'Sega', 'Ryū Ga Gotoku Studios'{]}                                       & 6160.000\\\\\n",
       "\t {[}'EA Redwood Shores', 'Electronic Arts'{]}                                & 9600.000\\\\\n",
       "\t {[}'BioWare', 'Electronic Arts'{]}                                          & 9600.000\\\\\n",
       "\t {[}'505 Games', 'Remedy Entertainment'{]}                                   & 9600.000\\\\\n",
       "\t {[}'The Behemoth'{]}                                                        & 9400.000\\\\\n",
       "\t {[}'Sony Interactive Entertainment', 'Kojima Productions'{]}                & 9400.000\\\\\n",
       "\t {[}'Sony Computer Entertainment, Inc. (SCEI)', 'SIE Santa Monica Studio'{]} & 7100.000\\\\\n",
       "\\end{tabular}\n"
      ],
      "text/markdown": [
       "\n",
       "A data.frame: 10 × 2\n",
       "\n",
       "| team &lt;chr&gt; | Average_plays &lt;dbl&gt; |\n",
       "|---|---|\n",
       "| ['Capcom']                                                              | 3410.771 |\n",
       "| ['Ubisoft Montpellier', 'Ubisoft Entertainment']                        | 8000.000 |\n",
       "| ['Nintendo', 'HAL Laboratory']                                          | 6125.000 |\n",
       "| ['Sega', 'Ryū Ga Gotoku Studios']                                       | 6160.000 |\n",
       "| ['EA Redwood Shores', 'Electronic Arts']                                | 9600.000 |\n",
       "| ['BioWare', 'Electronic Arts']                                          | 9600.000 |\n",
       "| ['505 Games', 'Remedy Entertainment']                                   | 9600.000 |\n",
       "| ['The Behemoth']                                                        | 9400.000 |\n",
       "| ['Sony Interactive Entertainment', 'Kojima Productions']                | 9400.000 |\n",
       "| ['Sony Computer Entertainment, Inc. (SCEI)', 'SIE Santa Monica Studio'] | 7100.000 |\n",
       "\n"
      ],
      "text/plain": [
       "   team                                                                   \n",
       "1  ['Capcom']                                                             \n",
       "2  ['Ubisoft Montpellier', 'Ubisoft Entertainment']                       \n",
       "3  ['Nintendo', 'HAL Laboratory']                                         \n",
       "4  ['Sega', 'Ryū Ga Gotoku Studios']                                      \n",
       "5  ['EA Redwood Shores', 'Electronic Arts']                               \n",
       "6  ['BioWare', 'Electronic Arts']                                         \n",
       "7  ['505 Games', 'Remedy Entertainment']                                  \n",
       "8  ['The Behemoth']                                                       \n",
       "9  ['Sony Interactive Entertainment', 'Kojima Productions']               \n",
       "10 ['Sony Computer Entertainment, Inc. (SCEI)', 'SIE Santa Monica Studio']\n",
       "   Average_plays\n",
       "1  3410.771     \n",
       "2  8000.000     \n",
       "3  6125.000     \n",
       "4  6160.000     \n",
       "5  9600.000     \n",
       "6  9600.000     \n",
       "7  9600.000     \n",
       "8  9400.000     \n",
       "9  9400.000     \n",
       "10 7100.000     "
      ]
     },
     "metadata": {},
     "output_type": "display_data"
    }
   ],
   "source": [
    "#Write a query to find the average of a numerical column.      \n",
    "teams_avg_plays = dbGetQuery(db, \"SELECT g.team, AVG(ua.plays) AS Average_plays\n",
    "                            FROM game AS g\n",
    "                            INNER JOIN user_activity AS ua ON g.game_id = ua.game_id\n",
    "                            -- Screen for NULL values \n",
    "                            WHERE ua.plays IS NOT NULL\n",
    "                            GROUP BY g.team\n",
    "                            -- Control the Avg plays \n",
    "                            ORDER BY ua.plays DESC\n",
    "                            LIMIT 10\n",
    "\")\n",
    "\n",
    "teams_avg_plays\n"
   ]
  },
  {
   "cell_type": "markdown",
   "metadata": {},
   "source": [
    "**Question:** <br>\n",
    "that are the min and max plays by each rating and what are the amount of players that have wish listed the game\n",
    "<br>\n",
    "<br>\n",
    "**What table(s) are we adding a record to?** <br>\n",
    "game, reviews, and user_activity"
   ]
  },
  {
   "cell_type": "code",
   "execution_count": 40,
   "metadata": {
    "vscode": {
     "languageId": "r"
    }
   },
   "outputs": [
    {
     "data": {
      "text/html": [
       "<table class=\"dataframe\">\n",
       "<caption>A data.frame: 10 × 4</caption>\n",
       "<thead>\n",
       "\t<tr><th scope=col>title</th><th scope=col>total_plays</th><th scope=col>rating</th><th scope=col>Amount_of_players_wishlisted</th></tr>\n",
       "\t<tr><th scope=col>&lt;chr&gt;</th><th scope=col>&lt;int&gt;</th><th scope=col>&lt;int&gt;</th><th scope=col>&lt;chr&gt;</th></tr>\n",
       "</thead>\n",
       "<tbody>\n",
       "\t<tr><td>Superman: The New Superman Adventures</td><td> 859</td><td>0</td><td>Low amount of players waiting to play  </td></tr>\n",
       "\t<tr><td>Superman: The New Superman Adventures</td><td> 859</td><td>0</td><td>Low amount of players waiting to play  </td></tr>\n",
       "\t<tr><td>Garten of Banban 2                   </td><td>  55</td><td>1</td><td>Low amount of players waiting to play  </td></tr>\n",
       "\t<tr><td>Devil May Cry 2                      </td><td>6400</td><td>1</td><td>Low amount of players waiting to play  </td></tr>\n",
       "\t<tr><td>Phantom Brigade                      </td><td>  16</td><td>2</td><td>Low amount of players waiting to play  </td></tr>\n",
       "\t<tr><td>Pokémon Sword                        </td><td>9700</td><td>2</td><td>Low amount of players waiting to play  </td></tr>\n",
       "\t<tr><td>Megami Ibunroku Persona              </td><td>  16</td><td>3</td><td>Low amount of players waiting to play  </td></tr>\n",
       "\t<tr><td>Resident Evil Village                </td><td>9900</td><td>3</td><td>Large amount of players waiting to play</td></tr>\n",
       "\t<tr><td>Elden Ring: Shadow of the Erdtree    </td><td>   1</td><td>4</td><td>Low amount of players waiting to play  </td></tr>\n",
       "\t<tr><td>Animal Crossing: New Leaf            </td><td>9900</td><td>4</td><td>Low amount of players waiting to play  </td></tr>\n",
       "</tbody>\n",
       "</table>\n"
      ],
      "text/latex": [
       "A data.frame: 10 × 4\n",
       "\\begin{tabular}{llll}\n",
       " title & total\\_plays & rating & Amount\\_of\\_players\\_wishlisted\\\\\n",
       " <chr> & <int> & <int> & <chr>\\\\\n",
       "\\hline\n",
       "\t Superman: The New Superman Adventures &  859 & 0 & Low amount of players waiting to play  \\\\\n",
       "\t Superman: The New Superman Adventures &  859 & 0 & Low amount of players waiting to play  \\\\\n",
       "\t Garten of Banban 2                    &   55 & 1 & Low amount of players waiting to play  \\\\\n",
       "\t Devil May Cry 2                       & 6400 & 1 & Low amount of players waiting to play  \\\\\n",
       "\t Phantom Brigade                       &   16 & 2 & Low amount of players waiting to play  \\\\\n",
       "\t Pokémon Sword                         & 9700 & 2 & Low amount of players waiting to play  \\\\\n",
       "\t Megami Ibunroku Persona               &   16 & 3 & Low amount of players waiting to play  \\\\\n",
       "\t Resident Evil Village                 & 9900 & 3 & Large amount of players waiting to play\\\\\n",
       "\t Elden Ring: Shadow of the Erdtree     &    1 & 4 & Low amount of players waiting to play  \\\\\n",
       "\t Animal Crossing: New Leaf             & 9900 & 4 & Low amount of players waiting to play  \\\\\n",
       "\\end{tabular}\n"
      ],
      "text/markdown": [
       "\n",
       "A data.frame: 10 × 4\n",
       "\n",
       "| title &lt;chr&gt; | total_plays &lt;int&gt; | rating &lt;int&gt; | Amount_of_players_wishlisted &lt;chr&gt; |\n",
       "|---|---|---|---|\n",
       "| Superman: The New Superman Adventures |  859 | 0 | Low amount of players waiting to play   |\n",
       "| Superman: The New Superman Adventures |  859 | 0 | Low amount of players waiting to play   |\n",
       "| Garten of Banban 2                    |   55 | 1 | Low amount of players waiting to play   |\n",
       "| Devil May Cry 2                       | 6400 | 1 | Low amount of players waiting to play   |\n",
       "| Phantom Brigade                       |   16 | 2 | Low amount of players waiting to play   |\n",
       "| Pokémon Sword                         | 9700 | 2 | Low amount of players waiting to play   |\n",
       "| Megami Ibunroku Persona               |   16 | 3 | Low amount of players waiting to play   |\n",
       "| Resident Evil Village                 | 9900 | 3 | Large amount of players waiting to play |\n",
       "| Elden Ring: Shadow of the Erdtree     |    1 | 4 | Low amount of players waiting to play   |\n",
       "| Animal Crossing: New Leaf             | 9900 | 4 | Low amount of players waiting to play   |\n",
       "\n"
      ],
      "text/plain": [
       "   title                                 total_plays rating\n",
       "1  Superman: The New Superman Adventures  859        0     \n",
       "2  Superman: The New Superman Adventures  859        0     \n",
       "3  Garten of Banban 2                      55        1     \n",
       "4  Devil May Cry 2                       6400        1     \n",
       "5  Phantom Brigade                         16        2     \n",
       "6  Pokémon Sword                         9700        2     \n",
       "7  Megami Ibunroku Persona                 16        3     \n",
       "8  Resident Evil Village                 9900        3     \n",
       "9  Elden Ring: Shadow of the Erdtree        1        4     \n",
       "10 Animal Crossing: New Leaf             9900        4     \n",
       "   Amount_of_players_wishlisted           \n",
       "1  Low amount of players waiting to play  \n",
       "2  Low amount of players waiting to play  \n",
       "3  Low amount of players waiting to play  \n",
       "4  Low amount of players waiting to play  \n",
       "5  Low amount of players waiting to play  \n",
       "6  Low amount of players waiting to play  \n",
       "7  Low amount of players waiting to play  \n",
       "8  Large amount of players waiting to play\n",
       "9  Low amount of players waiting to play  \n",
       "10 Low amount of players waiting to play  "
      ]
     },
     "metadata": {},
     "output_type": "display_data"
    }
   ],
   "source": [
    "# What is the MIN and Max of total plays for each game by rating\n",
    "min_max_waitlist = dbGetQuery(db, \"\n",
    "SELECT g.title, MIN(ua.plays) AS total_plays, r.rating,\n",
    "CASE \n",
    "    WHEN ua.wishlist >= 2000 THEN 'Large amount of players waiting to play'\n",
    "    Else'Low amount of players waiting to play'\n",
    "END Amount_of_players_wishlisted\n",
    "\n",
    "FROM game AS g\n",
    "-- Performs a join for both tables\n",
    "INNER JOIN user_activity AS ua ON g.game_id = ua.game_id\n",
    "LEFT JOIN reviews AS r ON g.game_id = r.game_id\n",
    "\n",
    "-- Screen for NULL values \n",
    "WHERE r.rating IS NOT  NULL\n",
    "GROUP BY r.rating\n",
    "\n",
    "UNION ALL\n",
    "\n",
    "SELECT g.title, MAX(ua.plays), r.rating,\n",
    "CASE \n",
    "    WHEN ua.wishlist >= 2000 THEN 'Large amount of players waiting to play'\n",
    "    Else'Low amount of players waiting to play'\n",
    "END Amount_of_players_wishlisted\n",
    "\n",
    "FROM game AS g\n",
    "-- Performs a join for both tables\n",
    "INNER JOIN user_activity AS ua ON g.game_id = ua.game_id\n",
    "LEFT JOIN reviews AS r ON g.game_id = r.game_id\n",
    "\n",
    "-- Screen for NULL values \n",
    "WHERE r.rating IS NOT  NULL\n",
    "GROUP BY r.rating\n",
    "ORDER BY r.rating\n",
    "\")\n",
    "\n",
    "min_max_waitlist"
   ]
  },
  {
   "cell_type": "code",
   "execution_count": 42,
   "metadata": {
    "vscode": {
     "languageId": "r"
    }
   },
   "outputs": [],
   "source": [
    "#Close the database connection :)\n",
    "dbDisconnect(db)"
   ]
  }
 ],
 "metadata": {
  "kernelspec": {
   "display_name": "R",
   "language": "R",
   "name": "ir"
  },
  "language_info": {
   "codemirror_mode": "r",
   "file_extension": ".r",
   "mimetype": "text/x-r-source",
   "name": "R",
   "pygments_lexer": "r",
   "version": "4.3.2"
  }
 },
 "nbformat": 4,
 "nbformat_minor": 2
}
