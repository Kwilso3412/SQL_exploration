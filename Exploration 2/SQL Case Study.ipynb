{
 "cells": [
  {
   "cell_type": "markdown",
   "id": "ca9da05e",
   "metadata": {},
   "source": [
    "# Assignment #10 - Data Gathering and Warehousing - DSSA-5102\n",
    "\n",
    "Instructor: Melissa Laurino</br>\n",
    "Spring 2024</br>\n",
    "\n",
    "Name: Kahlyll Wilson\n",
    "</br>\n",
    "Date: 6 April 2024\n",
    "<br>\n",
    "<br>\n",
    "**At this time in the semester:** <br>\n",
    "--We have explored a dataset. <br>\n",
    "--We have cleaned our dataset. <br>\n",
    "--We created a Github account with a repository for this class and included a Metadata file about our data. <br>\n",
    "--We introduced general and more advanced SQL syntax, queries, and applications in R.<br>\n",
    "--Created our own database from scratch in R using libraries RMariaDB and RSQLite <br>\n",
    "--Populated our databases we created from scratch<br>\n",
    "--Created a visual enhanced entity relationship diagram for our database.<br>\n",
    "--Connect to a website using an API. Gather live data from a website using an API.<br>\n",
    "<br>\n",
    "\n",
    "**Objective**: Use the collected data to solve a real world problem.<br>\n",
    "<br>\n",
    "**iNaturalist**: iNaturalist is a community of citizen scientists that encourages accurate data collection and species identification of the natural world. \n",
    "<br>\n",
    "No observations of captive plants or animals should be included in the iNaturalist data. Research grade observaitons have been verified by the community in terms of species ID, location, etc. Research grade observations have been verified by the community of experts in that field. \n",
    "<br>\n",
    "API's are useful to bridge the gap between manually querying and downloading data, and then uploading them into R/Python, by just working with the live data directly in your platform of choice.\n",
    "\n",
    "Follow the instructions below to complete the assignment. Answer any questions in markdown cell boxes. Be sure to comment all code.\n"
   ]
  },
  {
   "cell_type": "markdown",
   "id": "f1b0bb90",
   "metadata": {},
   "source": [
    "Learn more about the iNaturalist API: https://api.inaturalist.org/v1/docs/#!/Observations/get_observations_observers<br><br>\n",
    "\n",
    "R packages for working with iNaturalist API to gather live data:<br>\n",
    "spocc: https://cran.r-project.org/web/packages/spocc/spocc.pdf <br>\n",
    "rinat: https://cran.r-project.org/web/packages/rinat/rinat.pdf"
   ]
  },
  {
   "cell_type": "code",
   "execution_count": 1,
   "id": "da1f29f6",
   "metadata": {
    "vscode": {
     "languageId": "r"
    }
   },
   "outputs": [],
   "source": [
    "#install.packages(\"spocc\", dependencies = TRUE)\n",
    "#install.packages(\"rinat\")\n",
    "#install.packages(\"iNatTools\") #Outdated, however, reference documents are still helpful to review.\n",
    "#install.packages(\"iNat-API\") #Outdated, however, reference documents are still helpful to review. \n",
    "#iNat-API IS OUT OF DATE! - It is the original package for accessing iNaturalist data through API."
   ]
  },
  {
   "cell_type": "code",
   "execution_count": 2,
   "id": "e44ddf49",
   "metadata": {
    "vscode": {
     "languageId": "r"
    }
   },
   "outputs": [
    {
     "name": "stderr",
     "output_type": "stream",
     "text": [
      "\n",
      "Attaching package: 'lubridate'\n",
      "\n",
      "\n",
      "The following objects are masked from 'package:base':\n",
      "\n",
      "    date, intersect, setdiff, union\n",
      "\n",
      "\n",
      "── \u001b[1mAttaching core tidyverse packages\u001b[22m ──────────────────────── tidyverse 2.0.0 ──\n",
      "\u001b[32m✔\u001b[39m \u001b[34mdplyr  \u001b[39m 1.1.4     \u001b[32m✔\u001b[39m \u001b[34mreadr  \u001b[39m 2.1.4\n",
      "\u001b[32m✔\u001b[39m \u001b[34mforcats\u001b[39m 1.0.0     \u001b[32m✔\u001b[39m \u001b[34mstringr\u001b[39m 1.5.0\n",
      "\u001b[32m✔\u001b[39m \u001b[34mggplot2\u001b[39m 3.4.3     \u001b[32m✔\u001b[39m \u001b[34mtibble \u001b[39m 3.2.1\n",
      "\u001b[32m✔\u001b[39m \u001b[34mpurrr  \u001b[39m 1.0.2     \u001b[32m✔\u001b[39m \u001b[34mtidyr  \u001b[39m 1.3.0\n",
      "── \u001b[1mConflicts\u001b[22m ────────────────────────────────────────── tidyverse_conflicts() ──\n",
      "\u001b[31m✖\u001b[39m \u001b[34mdplyr\u001b[39m::\u001b[32mfilter()\u001b[39m masks \u001b[34mstats\u001b[39m::filter()\n",
      "\u001b[31m✖\u001b[39m \u001b[34mdplyr\u001b[39m::\u001b[32mlag()\u001b[39m    masks \u001b[34mstats\u001b[39m::lag()\n",
      "\u001b[36mℹ\u001b[39m Use the conflicted package (\u001b[3m\u001b[34m<http://conflicted.r-lib.org/>\u001b[39m\u001b[23m) to force all conflicts to become errors\n",
      "\n",
      "Attaching package: 'jsonlite'\n",
      "\n",
      "\n",
      "The following object is masked from 'package:purrr':\n",
      "\n",
      "    flatten\n",
      "\n",
      "\n"
     ]
    }
   ],
   "source": [
    "#Working with json data files generated from the API:\n",
    "#install.packages(\"httr\")\n",
    "#install.packages(\"jsonlite\")\n",
    "#install.packages(\"tidyverse\")\n",
    "#install.packages(\"tidyverse\")\n",
    "#install.packages(\"rinat\")\n",
    "#install.packages(\"spocc\")\n",
    "\n",
    "#Working with the iNaturalist API packages:\n",
    "library(rinat)\n",
    "library(spocc)\n",
    "\n",
    "#Working with the API obtained data:\n",
    "library(lubridate)\n",
    "library(httr)\n",
    "library(tidyverse)\n",
    "library(jsonlite)\n",
    "\n",
    "#Load required libraries\n",
    "#Only load the database libraries you plan to use to create your database.\n",
    "library(DBI)\n",
    "library(RSQLite)\n",
    "library(spocc)\n",
    "library(dplyr)\n",
    "library(ggplot2)"
   ]
  },
  {
   "cell_type": "markdown",
   "id": "e03226bd",
   "metadata": {},
   "source": [
    "## Part 2 - Accessing iNaturalist data through package API\n",
    "\n",
    "When it comes to R and Python, there are many packages already created by users that save you the time while connecting to an API by connecting with packages instead. This way, you do not need to obtain your access token because you are using a package or an app that has already completed that process. We will continue with iNaturalst for this example. \n",
    "\n",
    "**R:** <br>\n",
    "spocc (https://cran.r-project.org/web/packages/spocc/spocc.pdf) - A programmatic interface to many species occurrence data sources,including Global Biodiversity Information Facility ('GBIF'), 'iNaturalist',\n",
    "'eBird', Ocean 'Biogeographic' Information System ('OBIS'), and many more! <br><br>\n",
    "rinat (https://cran.r-project.org/web/packages/rinat/rinat.pdf) - A programmatic interface to the API provided by the 'iNaturalist' website to download species occurrence data submitted by citizen scientists. <br><br>\n",
    "iNatTools - Outdated and may not work with current versions of R, but resources online using iNatTools may relate to the packages above.<br><br>\n",
    "**Python:** <br>\n",
    "pyiNaturalist (https://pypi.org/project/pyinaturalist/0.12.0/) <br>"
   ]
  },
  {
   "cell_type": "code",
   "execution_count": 3,
   "id": "fa027a07",
   "metadata": {
    "vscode": {
     "languageId": "r"
    }
   },
   "outputs": [
    {
     "data": {
      "text/html": [
       "<style>\n",
       ".list-inline {list-style: none; margin:0; padding: 0}\n",
       ".list-inline>li {display: inline-block}\n",
       ".list-inline>li:not(:last-child)::after {content: \"\\00b7\"; padding: 0 .5ex}\n",
       "</style>\n",
       "<ol class=list-inline><li>'Phocoena phocoena'</li><li>'Phocoena phocoena relicta'</li><li>'Phocoena phocoena phocoena'</li><li>'Phocoena phocoena vomerina'</li><li>'Sabellinae'</li><li>'Eudistylia vancouveri'</li><li>'Dendronotus rufus'</li></ol>\n"
      ],
      "text/latex": [
       "\\begin{enumerate*}\n",
       "\\item 'Phocoena phocoena'\n",
       "\\item 'Phocoena phocoena relicta'\n",
       "\\item 'Phocoena phocoena phocoena'\n",
       "\\item 'Phocoena phocoena vomerina'\n",
       "\\item 'Sabellinae'\n",
       "\\item 'Eudistylia vancouveri'\n",
       "\\item 'Dendronotus rufus'\n",
       "\\end{enumerate*}\n"
      ],
      "text/markdown": [
       "1. 'Phocoena phocoena'\n",
       "2. 'Phocoena phocoena relicta'\n",
       "3. 'Phocoena phocoena phocoena'\n",
       "4. 'Phocoena phocoena vomerina'\n",
       "5. 'Sabellinae'\n",
       "6. 'Eudistylia vancouveri'\n",
       "7. 'Dendronotus rufus'\n",
       "\n",
       "\n"
      ],
      "text/plain": [
       "[1] \"Phocoena phocoena\"          \"Phocoena phocoena relicta\" \n",
       "[3] \"Phocoena phocoena phocoena\" \"Phocoena phocoena vomerina\"\n",
       "[5] \"Sabellinae\"                 \"Eudistylia vancouveri\"     \n",
       "[7] \"Dendronotus rufus\"         "
      ]
     },
     "metadata": {},
     "output_type": "display_data"
    }
   ],
   "source": [
    "#Test out rinat:\n",
    "\n",
    "#Get iNaturalist observations of Harbor porpoises for the year 2024\n",
    "porpoise = get_inat_obs(query = \"Harbour Porpoise\", year = 2024)\n",
    "\n",
    "#How many unique Genus/species scientific names are present within the common name, Harbor Porpoise?\n",
    "unique(porpoise$scientific_name)"
   ]
  },
  {
   "cell_type": "code",
   "execution_count": 4,
   "id": "3588a0aa",
   "metadata": {
    "vscode": {
     "languageId": "r"
    }
   },
   "outputs": [
    {
     "data": {
      "image/png": "[encoded data removed]",
      "text/plain": [
       "plot without title"
      ]
     },
     "metadata": {
      "image/png": {
       "height": 420,
       "width": 420
      }
     },
     "output_type": "display_data"
    }
   ],
   "source": [
    "#Let's look at JUST the Southernmost range of Harbor porpoise (New Jersey-North Carolina)\n",
    "\n",
    "#Bound off Northern and Southern most limit of New Jersey and North Carolina using lattitude and longitude.\n",
    "bounds = c(33, -78, 41, -69)\n",
    "\n",
    "#Create a quick plot/map of observations. Not that visually appealing, but it shows our data is available. \n",
    "porpoise_map = get_inat_obs(query = \"Harbour Porpoise\", bounds = bounds)\n",
    "plot(porpoise_map$longitude, porpoise_map$latitude)"
   ]
  },
  {
   "cell_type": "code",
   "execution_count": 5,
   "id": "4007798b",
   "metadata": {
    "vscode": {
     "languageId": "r"
    }
   },
   "outputs": [
    {
     "data": {
      "text/html": [
       "<table class=\"dataframe\">\n",
       "<caption>A data.frame: 2 × 37</caption>\n",
       "<thead>\n",
       "\t<tr><th></th><th scope=col>scientific_name</th><th scope=col>datetime</th><th scope=col>description</th><th scope=col>place_guess</th><th scope=col>latitude</th><th scope=col>longitude</th><th scope=col>tag_list</th><th scope=col>common_name</th><th scope=col>url</th><th scope=col>image_url</th><th scope=col>⋯</th><th scope=col>positioning_device</th><th scope=col>user_id</th><th scope=col>user_name</th><th scope=col>created_at</th><th scope=col>updated_at</th><th scope=col>quality_grade</th><th scope=col>license</th><th scope=col>sound_url</th><th scope=col>oauth_application_id</th><th scope=col>captive_cultivated</th></tr>\n",
       "\t<tr><th></th><th scope=col>&lt;chr&gt;</th><th scope=col>&lt;chr&gt;</th><th scope=col>&lt;lgl&gt;</th><th scope=col>&lt;chr&gt;</th><th scope=col>&lt;dbl&gt;</th><th scope=col>&lt;dbl&gt;</th><th scope=col>&lt;lgl&gt;</th><th scope=col>&lt;chr&gt;</th><th scope=col>&lt;chr&gt;</th><th scope=col>&lt;chr&gt;</th><th scope=col>⋯</th><th scope=col>&lt;lgl&gt;</th><th scope=col>&lt;int&gt;</th><th scope=col>&lt;lgl&gt;</th><th scope=col>&lt;chr&gt;</th><th scope=col>&lt;chr&gt;</th><th scope=col>&lt;chr&gt;</th><th scope=col>&lt;chr&gt;</th><th scope=col>&lt;chr&gt;</th><th scope=col>&lt;int&gt;</th><th scope=col>&lt;chr&gt;</th></tr>\n",
       "</thead>\n",
       "<tbody>\n",
       "\t<tr><th scope=row>1</th><td>Scyliorhinus     </td><td>2024-04-13 08:52:50 +0100</td><td>NA</td><td>Pembrey and Burry Port Town Community, Burry Port, Wales, GB</td><td>51.67061</td><td>-4.304737</td><td>NA</td><td>                </td><td>https://www.inaturalist.org/observations/207161036</td><td>                                                                          </td><td>⋯</td><td>NA</td><td>5638842</td><td>NA</td><td>2024-04-14 13:33:52 UTC</td><td>2024-04-14 13:33:52 UTC</td><td>casual  </td><td>CC-BY-NC</td><td></td><td>3</td><td>false</td></tr>\n",
       "\t<tr><th scope=row>2</th><td>Phocoena phocoena</td><td>2024-04-13 08:44:18 +0100</td><td>NA</td><td>Pembrey and Burry Port Town Community, Burry Port, Wales, GB</td><td>51.67042</td><td>-4.303800</td><td>NA</td><td>Harbour Porpoise</td><td>https://www.inaturalist.org/observations/207145167</td><td>https://inaturalist-open-data.s3.amazonaws.com/photos/366377024/medium.jpg</td><td>⋯</td><td>NA</td><td>5638842</td><td>NA</td><td>2024-04-14 11:35:33 UTC</td><td>2024-04-14 15:28:54 UTC</td><td>needs_id</td><td>CC-BY-NC</td><td></td><td>3</td><td>false</td></tr>\n",
       "</tbody>\n",
       "</table>\n"
      ],
      "text/latex": [
       "A data.frame: 2 × 37\n",
       "\\begin{tabular}{r|lllllllllllllllllllll}\n",
       "  & scientific\\_name & datetime & description & place\\_guess & latitude & longitude & tag\\_list & common\\_name & url & image\\_url & ⋯ & positioning\\_device & user\\_id & user\\_name & created\\_at & updated\\_at & quality\\_grade & license & sound\\_url & oauth\\_application\\_id & captive\\_cultivated\\\\\n",
       "  & <chr> & <chr> & <lgl> & <chr> & <dbl> & <dbl> & <lgl> & <chr> & <chr> & <chr> & ⋯ & <lgl> & <int> & <lgl> & <chr> & <chr> & <chr> & <chr> & <chr> & <int> & <chr>\\\\\n",
       "\\hline\n",
       "\t1 & Scyliorhinus      & 2024-04-13 08:52:50 +0100 & NA & Pembrey and Burry Port Town Community, Burry Port, Wales, GB & 51.67061 & -4.304737 & NA &                  & https://www.inaturalist.org/observations/207161036 &                                                                            & ⋯ & NA & 5638842 & NA & 2024-04-14 13:33:52 UTC & 2024-04-14 13:33:52 UTC & casual   & CC-BY-NC &  & 3 & false\\\\\n",
       "\t2 & Phocoena phocoena & 2024-04-13 08:44:18 +0100 & NA & Pembrey and Burry Port Town Community, Burry Port, Wales, GB & 51.67042 & -4.303800 & NA & Harbour Porpoise & https://www.inaturalist.org/observations/207145167 & https://inaturalist-open-data.s3.amazonaws.com/photos/366377024/medium.jpg & ⋯ & NA & 5638842 & NA & 2024-04-14 11:35:33 UTC & 2024-04-14 15:28:54 UTC & needs\\_id & CC-BY-NC &  & 3 & false\\\\\n",
       "\\end{tabular}\n"
      ],
      "text/markdown": [
       "\n",
       "A data.frame: 2 × 37\n",
       "\n",
       "| <!--/--> | scientific_name &lt;chr&gt; | datetime &lt;chr&gt; | description &lt;lgl&gt; | place_guess &lt;chr&gt; | latitude &lt;dbl&gt; | longitude &lt;dbl&gt; | tag_list &lt;lgl&gt; | common_name &lt;chr&gt; | url &lt;chr&gt; | image_url &lt;chr&gt; | ⋯ ⋯ | positioning_device &lt;lgl&gt; | user_id &lt;int&gt; | user_name &lt;lgl&gt; | created_at &lt;chr&gt; | updated_at &lt;chr&gt; | quality_grade &lt;chr&gt; | license &lt;chr&gt; | sound_url &lt;chr&gt; | oauth_application_id &lt;int&gt; | captive_cultivated &lt;chr&gt; |\n",
       "|---|---|---|---|---|---|---|---|---|---|---|---|---|---|---|---|---|---|---|---|---|---|\n",
       "| 1 | Scyliorhinus      | 2024-04-13 08:52:50 +0100 | NA | Pembrey and Burry Port Town Community, Burry Port, Wales, GB | 51.67061 | -4.304737 | NA | <!----> | https://www.inaturalist.org/observations/207161036 | <!----> | ⋯ | NA | 5638842 | NA | 2024-04-14 13:33:52 UTC | 2024-04-14 13:33:52 UTC | casual   | CC-BY-NC | <!----> | 3 | false |\n",
       "| 2 | Phocoena phocoena | 2024-04-13 08:44:18 +0100 | NA | Pembrey and Burry Port Town Community, Burry Port, Wales, GB | 51.67042 | -4.303800 | NA | Harbour Porpoise | https://www.inaturalist.org/observations/207145167 | https://inaturalist-open-data.s3.amazonaws.com/photos/366377024/medium.jpg | ⋯ | NA | 5638842 | NA | 2024-04-14 11:35:33 UTC | 2024-04-14 15:28:54 UTC | needs_id | CC-BY-NC | <!----> | 3 | false |\n",
       "\n"
      ],
      "text/plain": [
       "  scientific_name   datetime                  description\n",
       "1 Scyliorhinus      2024-04-13 08:52:50 +0100 NA         \n",
       "2 Phocoena phocoena 2024-04-13 08:44:18 +0100 NA         \n",
       "  place_guess                                                  latitude\n",
       "1 Pembrey and Burry Port Town Community, Burry Port, Wales, GB 51.67061\n",
       "2 Pembrey and Burry Port Town Community, Burry Port, Wales, GB 51.67042\n",
       "  longitude tag_list common_name     \n",
       "1 -4.304737 NA                       \n",
       "2 -4.303800 NA       Harbour Porpoise\n",
       "  url                                               \n",
       "1 https://www.inaturalist.org/observations/207161036\n",
       "2 https://www.inaturalist.org/observations/207145167\n",
       "  image_url                                                                  ⋯\n",
       "1                                                                            ⋯\n",
       "2 https://inaturalist-open-data.s3.amazonaws.com/photos/366377024/medium.jpg ⋯\n",
       "  positioning_device user_id user_name created_at             \n",
       "1 NA                 5638842 NA        2024-04-14 13:33:52 UTC\n",
       "2 NA                 5638842 NA        2024-04-14 11:35:33 UTC\n",
       "  updated_at              quality_grade license  sound_url oauth_application_id\n",
       "1 2024-04-14 13:33:52 UTC casual        CC-BY-NC           3                   \n",
       "2 2024-04-14 15:28:54 UTC needs_id      CC-BY-NC           3                   \n",
       "  captive_cultivated\n",
       "1 false             \n",
       "2 false             "
      ]
     },
     "metadata": {},
     "output_type": "display_data"
    }
   ],
   "source": [
    "#Download all user observations of porpoise (get_inat_obs(query = \"Harbor Porpoise\", year = 2024).\n",
    "user_obs = get_inat_obs_user(porpoise$user_login[1], maxresults = 20)\n",
    "head(user_obs, 2)"
   ]
  },
  {
   "cell_type": "markdown",
   "id": "8a8230f2",
   "metadata": {},
   "source": [
    "**STOP HERE**<br>\n",
    "Using this package, we have a DOWNLOAD limit with their API, How can we possibly get around this? <br>\n",
    "If you want to explore all of the data iNaturalist has to offer, unfortunetly RiNat is not going to cut it.\n",
    "RiNat is a good resource for investigating small queries or very specific queries that yield small results.\n",
    "<br><br>\n",
    "Let's try a different API wrapper package instead and use it with a different approach:"
   ]
  },
  {
   "cell_type": "markdown",
   "id": "15f3522b",
   "metadata": {},
   "source": [
    "## Case Study: **Northern Diamondback Terrapins** (_Malaclemys terrapin terrapin_)\n",
    "\n",
    "Background information:<br>Diamondback terrapins are New Jersey's only species of brackish water turtle. Brackish water has a mixture of both salt water and fresh water. They are commonly found in the back bays and saltmarshes of New Jersey. They can be found from Massachusetts to North Carolina. The females come ashore to nest in the summer months, while the males will not leave the water at all. Coming ashore to nest has consequences and risks for this species that include human-caused mortalities from vehicle strikes and natural predation. Although the males do not leave the water, human-caused mortality due to crab pots and ghost gear remain a huge threat to both sexes for this species of special concern. Up until 2016, terrapins were hunted during their winter hibernation for terrapin soup! <br>\n",
    "To further the concern for New Jersey's Diamondback terrapin, the species has temperature-dependent sex determination. Studies from research institutes and rehabilitation facilities, like Stockton University, have shown captive eggs that are incubated at a low temperature will produce all male terrapins and captive eggs that are incubated at a high temperature will produce all female terrapins. It is hypothesized that the determination of sexes may only vary by just a few degrees. If this is the case, how will the threat of climate change and the warming salt marshes impact our local population?<br><br>\n",
    "**Note:** New Jersey's subspecies of terrapin is the NORTHERN Diamondback Terrapin (_Malaclemys terrapin terrapin_) or (_Genus species subspecies_). We want to make sure we are selecting for the taxon_id of the NORTHERN Diamondback Terrapin. <br><br>"
   ]
  },
  {
   "cell_type": "markdown",
   "id": "b38d7933",
   "metadata": {},
   "source": [
    "### You are a data scientist for a wildlife contracting company, ML Wildlife. \n",
    "\n",
    "### ML Wildlife Mission Statement: To pioneer innovative approaches to wildlife management and policy-making through data collection, storage, and analysis. It is the company's goal to create sustainable connections between human activities and the natural world to preserve biodiversity.\n",
    "\n",
    "#### In a New Jersey town (that will remain unnamed), there is a proposal to begin construction during the Summer of 2024 on a bike path that will run for 2.5 miles through the salt marsh. The bike path will be a raised (7ft) concrete pathway, or seawall, to accomodate for high and low tides to ensure that flooding is not an issue for the path. Water or wildlife (Turtles, fish, crabs, inverts, etc.) can not pass through or under the pathway. Birds can fly over the pathway. Construction is estimated to last four months. The goal of the pathway is to teach people about wildlife by walking through the man-made salt marsh trail. Railings will be placed on either side of the pathway to ensure human safety, but what about the safety of the wildlife?\n",
    "\n",
    "#### Local environmentalists and biologists are concerned with the proposed bike path, especially for the state's Diamondback terrapin population. Will this bike path create an obstacle that will force more females to cross the roads to lay their eggs? What about the eggs that are laid along the bike bath already from the year before? Will the nests be ruined in the process? In addition to the Diamondback terrapin, additional species also utilize this area for nesting and feeding like the Ipswich Sparrow, which is a subspecies of the Savannah Sparrow that has a very limited range. The saltmarsh serves as an important nursery ground for Atlantic Menhaden, the Mid-Atlantic ecosystem's \"Most Important Fish of the Sea.\"\n",
    "\n",
    "Your job is to:<br>\n",
    "--Collect citizen science observations from 2019-2024 in iNaturalist of the Northern Diamondback terrapin using the iNaturalist API with R package, spocc.<br>\n",
    "--Upload that data into a database either locally or on your MySQL server. <br>\n",
    "--Use SQL to: <br>\n",
    "    ----Select for research grade observations only. We only want observations that have been accepted by expert naturalists or scientists that confirm the observation.<br>\n",
    "    ----Determine the best time of year (Or months or weeks or time of day) for project construction.<br>\n",
    "    ----Determine what subset of the population (Egg, Juvennile or Adult) you believe would be most impacted. <br>\n",
    "    ----Determine the general observaiton population demographics, or range, for New Jersey terrrapins.<br>\n",
    "    ----Explore two other species that inhabit and utilize the saltmarsh (Examples are the Ipswich sparrow, Seaside sparrow, Saltmarsh sparrow, Atlantic menhaden, or the Mud fiddler crab and Eastern Mud snail (What terrapins eat) and hypothesize how they would be impacted by this construction project after you have explored their data. Use the data from these other two species to support your decision below. If you would like to choose another species you can, just be mindful of iNaturalist API limits. I recommend looking at the iNaturalist website and explore the different species before collecting data that you do not need. <br>\n",
    "    \n",
    "--Provide your overall determination approving or disproving the project with three visualizations to go along with the queried SQL data. **Breifly state why and include three graphics** - but you do not have to go into too much biology detail and there is no right or wrong answer. <br>\n",
    "--State two possible reasons for results for error in your visualizations.<br>\n",
    "<br><br>\n",
    "_Also note, this is a **mostly** \"fictional\" case study_ :). <br>\n",
    "\n",
    "**Background information on the other species:**<br>\n",
    "Ipswich Sparrow (_Passerculus sandwichensis princeps_) - A subspecies of the Savannah Sparrow. Subspecies can breed independently of the parent species. These birds feed directly in the dunes and saltmarshes. They are not as common as the parent species.<br>\n",
    "Atlantic Menhaden (_Brevoortia tyrannus_) - A small schooling bait fish less than 10in in length. These fish begin their lives in the back bays and salt marshes. They are the primary food source for many species of marine mammals, birds, sharks, and larger fish. They are harvested commercially by us humans in the Mid-Atlantic to create fertilizer, fish oil, pet food, lip products and many other uses.<br>\n",
    "Eastern Mud Snail (_Ilyanassa obsoleta_) - Food source to many species of birds and terrapins. The ocean clean up crew - feeds on detritis and other matter. <br>\n",
    "Mud fiddler crab (_Minuca pugnax_) - Only found on the East Coast of the United States. Like many other animals, it is thought this species is expanding the Northern range due to climate change."
   ]
  },
  {
   "cell_type": "markdown",
   "id": "3a37449f",
   "metadata": {},
   "source": [
    "## Gather all the data"
   ]
  },
  {
   "cell_type": "markdown",
   "id": "08b8266e",
   "metadata": {},
   "source": [
    "How many different species of terrapins were documented worldwide on iNaturalist in the year 2024? "
   ]
  },
  {
   "cell_type": "code",
   "execution_count": 6,
   "id": "b7d06f94",
   "metadata": {
    "vscode": {
     "languageId": "r"
    }
   },
   "outputs": [
    {
     "data": {
      "text/html": [
       "<style>\n",
       ".list-inline {list-style: none; margin:0; padding: 0}\n",
       ".list-inline>li {display: inline-block}\n",
       ".list-inline>li:not(:last-child)::after {content: \"\\00b7\"; padding: 0 .5ex}\n",
       "</style>\n",
       "<ol class=list-inline><li>'Malaclemys terrapin'</li><li>'Malaclemys'</li><li>'Malaclemys terrapin littoralis'</li><li>'Malaclemys terrapin rhizophorarum'</li><li>'Malaclemys terrapin pileata'</li><li>'Malaclemys terrapin terrapin'</li><li>'Malaclemys terrapin macrospilota'</li><li>'Malaclemys terrapin centrata'</li></ol>\n"
      ],
      "text/latex": [
       "\\begin{enumerate*}\n",
       "\\item 'Malaclemys terrapin'\n",
       "\\item 'Malaclemys'\n",
       "\\item 'Malaclemys terrapin littoralis'\n",
       "\\item 'Malaclemys terrapin rhizophorarum'\n",
       "\\item 'Malaclemys terrapin pileata'\n",
       "\\item 'Malaclemys terrapin terrapin'\n",
       "\\item 'Malaclemys terrapin macrospilota'\n",
       "\\item 'Malaclemys terrapin centrata'\n",
       "\\end{enumerate*}\n"
      ],
      "text/markdown": [
       "1. 'Malaclemys terrapin'\n",
       "2. 'Malaclemys'\n",
       "3. 'Malaclemys terrapin littoralis'\n",
       "4. 'Malaclemys terrapin rhizophorarum'\n",
       "5. 'Malaclemys terrapin pileata'\n",
       "6. 'Malaclemys terrapin terrapin'\n",
       "7. 'Malaclemys terrapin macrospilota'\n",
       "8. 'Malaclemys terrapin centrata'\n",
       "\n",
       "\n"
      ],
      "text/plain": [
       "[1] \"Malaclemys terrapin\"               \"Malaclemys\"                       \n",
       "[3] \"Malaclemys terrapin littoralis\"    \"Malaclemys terrapin rhizophorarum\"\n",
       "[5] \"Malaclemys terrapin pileata\"       \"Malaclemys terrapin terrapin\"     \n",
       "[7] \"Malaclemys terrapin macrospilota\"  \"Malaclemys terrapin centrata\"     "
      ]
     },
     "metadata": {},
     "output_type": "display_data"
    }
   ],
   "source": [
    "#This is important to examine because we only want to look at the NORTHERN Diamondback terrapin because that is the species that inhabits New Jersey.\n",
    "NDBT = get_inat_obs(query = \"Diamondback Terrapin\", year = 2024)\n",
    "unique(NDBT$scientific_name)"
   ]
  },
  {
   "cell_type": "markdown",
   "id": "dea8eb73",
   "metadata": {},
   "source": [
    "Our results show there are 8 different species/subspecies of terrapins documented worldwide in 2024. _Malaclemys terrapin terrapin_ are the species we want because they inhabit our area."
   ]
  },
  {
   "cell_type": "markdown",
   "id": "c87e1fbc",
   "metadata": {},
   "source": [
    "To obtain a taxon_id for any species or a place_id from iNaturalist:<br>\n",
    "--Log in to the account you created <br>\n",
    "--Hit Explore tab at the top <br>\n",
    "--Search for ANY species you would like (In our case, it's Northern Diamondback Terrapin)<br>\n",
    "--The taxon_id for the species is found in the URL: https://www.inaturalist.org/observations?place_id=any&subview=map&**taxon_id=39838**\n",
    "<br>\n",
    "--More information on the different attributes you can use to filter the data: https://www.inaturalist.org/pages/annotations"
   ]
  },
  {
   "cell_type": "code",
   "execution_count": 7,
   "id": "a82a1872",
   "metadata": {
    "vscode": {
     "languageId": "r"
    }
   },
   "outputs": [],
   "source": [
    "#library(spocc) - We already called this library earlier.\n",
    "#Taxa variables for functions:\n",
    "\n",
    "taxon_id = 39838  #Northern Diamondback Terrapin (NDBT) species ID obtained from the URL.\n",
    "\n",
    "# 41440 - is the id for Phocoena phocoena\n",
    "# 623433 is the id for ATLANTIC Harbor Porpoise specifically."
   ]
  },
  {
   "cell_type": "markdown",
   "id": "f3602ae0",
   "metadata": {},
   "source": [
    "Write a function that selects for ANY specific variables to help you answer the questions above. <br>\n",
    "A great resource is found here for writing a looping function that does not stress out the API: https://eleanor-jackson.com/post/2021-04-06-searching-for-spring/ <br>\n",
    "<br>\n",
    "The API call: <br>\n",
    "\"https://api.inaturalist.org/v1/observations?....<br><br>\n",
    "taxon_id=\", taxon_id, \"& #I have supplied the taxon ID above for NDBT, but feel free to adjust or explore others to help answer your objectives.<br><br>\n",
    "place_id=any& #Observation IDs are for ANYWHERE in the world. I specifically chose NDBT because I know they only exist from Massachusetts to North Carolina. So I know I will not be getting millions of rows of data because it is a species with a limited geography.<br>\n",
    "<br>\n",
    "d1=2020-01-01& #The date you are collecting observations from. 2020-Present. Earlier dates will take longer processing times. <br>\n",
    "<br>\n",
    "per_page=200& #The number of results per query. **NOTE** The iNaturalist API ONLY allows for 200 records at a time. This is why we have a function below to loop every 200 observations.<br>\n",
    "<br>\n",
    "order_by=id& #Order by species id<br>\n",
    "<br>\n",
    "order=asc& #Ascending order<br>\n",
    "<br>\n",
    "id_above=0\"<br><br>\n",
    "\n",
    "**A detailed explanation on these parameters can be found here: https://www.inaturalist.org/pages/search+urls**\n",
    "\n",
    "Listing multiple taxon ID's:\n",
    "https://www.inaturalist.org/observations?place_id=any&taxon_ids=85553,26039,47113\n",
    "\n",
    "Multiple taxa using a List (Define your list beforehand).\n",
    "\n",
    "You can use lists on iNaturalist to restrict a search to a set of taxa. For example, https://www.inaturalist.org/lists/111820-Chicago-Wilderness-Region-Spring-Wildflowers is a list that is already set up.\n",
    "\n",
    "Sort by Dates or Randomly\n",
    "\n",
    "The Identify Filters panel already has options built in to sort by Date Added (default), Date Observed, Date Updated (edited), Faves, or Random. Sorting options are Descending (default) or Ascending.\n",
    "\n",
    "Two of these options are not available in the Explore filters, but can still be added manually: Date Updated and Random. To add these, use\n",
    "\n",
    "    order_by=updated_at\n",
    "    order_by=random\n",
    "\n",
    "Sorting order is specified by\n",
    "\n",
    "    order=desc or\n",
    "    order=asc\n",
    "\n",
    "Annotations\n",
    "\n",
    "term_id= - the annotation group\n",
    "\n",
    "    1=Life Stage, 9=Sex, 12=Plant Phenology, 17=Alive or Dead\n",
    "\n",
    "term_value_id= - the value within the group\n",
    "\n",
    "    Life Stage: 2=Adult, 3=Teneral, 4=Pupa, 5=Nymph, 6=Larva, 7=Egg, 8=Juvenile, 16=Subimago\n",
    "    Sex: 10=Female, 11=Male\n",
    "    Plant Phenology: 13=Flowering, 14=Fruiting, 15=Flower Budding, 21=No Evidence of Flowering\n",
    "    Alive or Dead: 18=Alive, 19=Dead, 20=Cannot Be Determined\n"
   ]
  },
  {
   "cell_type": "code",
   "execution_count": 8,
   "id": "d76575e3",
   "metadata": {
    "vscode": {
     "languageId": "r"
    }
   },
   "outputs": [],
   "source": [
    "#Function to get observations:\n",
    "get_obs = function(max_id){\n",
    "\n",
    "    #An API call that has \"id_above =\" at the end\n",
    "    #Note the specified syntax of adding a variable taxon_id that we defined above\n",
    "    call = paste(\"https://api.inaturalist.org/v1/observations?taxon_id=\", taxon_id, \"&place_id=any&d1=2020-01-01&per_page=200&order_by=id&order=asc&id_above=0\", \n",
    "                    max_id, sep=\"\")\n",
    "\n",
    "    #Making the API call, parsing it to JSON (Default data format from the API) and then flatten\n",
    "    get_call_json = fromJSON(\n",
    "    content(GET(url = call),as = \"text\", encoding = \"UTF-8\"),\n",
    "    flatten = TRUE)\n",
    "\n",
    "    #Now we want our JSON data as a data frame that will be easier to work with in R and SQL\n",
    "    as.data.frame(get_call_json$results)}"
   ]
  },
  {
   "cell_type": "code",
   "execution_count": 9,
   "id": "0a7c39fe",
   "metadata": {
    "vscode": {
     "languageId": "r"
    }
   },
   "outputs": [
    {
     "name": "stdout",
     "output_type": "stream",
     "text": [
      "[1] \"page_2\"\n",
      "[1] 50593369\n",
      "[1] \"page_3\"\n",
      "[1] 51264541\n",
      "[1] \"page_4\"\n",
      "[1] 51715570\n",
      "[1] \"page_5\"\n",
      "[1] 52713217\n",
      "[1] \"page_6\"\n",
      "[1] 79816289\n",
      "[1] \"page_7\"\n",
      "[1] 82700172\n",
      "[1] \"page_8\"\n",
      "[1] 84305339\n",
      "[1] \"page_9\"\n",
      "[1] 86417233\n",
      "[1] \"page_10\"\n",
      "[1] 119514909\n",
      "[1] \"page_11\"\n",
      "[1] 121012796\n",
      "[1] \"page_12\"\n",
      "[1] 122174898\n",
      "[1] \"page_13\"\n",
      "[1] 123721461\n",
      "[1] \"page_14\"\n",
      "[1] 124603259\n",
      "[1] \"page_15\"\n",
      "[1] 129934072\n",
      "[1] \"page_16\"\n",
      "[1] 164995420\n",
      "[1] \"page_17\"\n",
      "[1] 167240713\n",
      "[1] \"page_18\"\n",
      "[1] 169456894\n",
      "[1] \"page_19\"\n",
      "[1] 171592845\n",
      "[1] \"page_20\"\n",
      "[1] 203798682\n"
     ]
    }
   ],
   "source": [
    "#Get the first page of observations:\n",
    "#Set the max_id to 0\n",
    "obs = get_obs(max_id = 0)\n",
    "max_id = max(obs[[\"id\"]])\n",
    "#Create a list with our first page of results that continues per increasing pages\n",
    "thisisalist = list(page_1 = obs)\n",
    "# Starts at page 1\n",
    "page = 1\n",
    "\n",
    "#While the number of rows per page is equal to 200 entries, when the rows do not equal 200, the loop will stop.\n",
    "while (nrow(obs) == 200) {\n",
    "    # puts the system to sleep for .5 seconds\n",
    "    Sys.sleep(0.5)\n",
    "    # page increases by 1\n",
    "    page = page + 1\n",
    "    page_count = paste(\"page\", page, sep = \"_\") #For printing the page_count below\n",
    "    obs = get_obs(max_id = max_id)\n",
    "    thisisalist[[page_count]] = obs\n",
    "    max_id = max(obs[[\"id\"]])\n",
    "    print(page_count)\n",
    "    print(max_id)}"
   ]
  },
  {
   "cell_type": "code",
   "execution_count": 10,
   "id": "954281a6",
   "metadata": {
    "vscode": {
     "languageId": "r"
    }
   },
   "outputs": [
    {
     "data": {
      "text/html": [
       "<style>\n",
       ".list-inline {list-style: none; margin:0; padding: 0}\n",
       ".list-inline>li {display: inline-block}\n",
       ".list-inline>li:not(:last-child)::after {content: \"\\00b7\"; padding: 0 .5ex}\n",
       "</style>\n",
       "<ol class=list-inline><li>3926</li><li>137</li></ol>\n"
      ],
      "text/latex": [
       "\\begin{enumerate*}\n",
       "\\item 3926\n",
       "\\item 137\n",
       "\\end{enumerate*}\n"
      ],
      "text/markdown": [
       "1. 3926\n",
       "2. 137\n",
       "\n",
       "\n"
      ],
      "text/plain": [
       "[1] 3926  137"
      ]
     },
     "metadata": {},
     "output_type": "display_data"
    }
   ],
   "source": [
    "#Use the list we created above with the loop to bind them all together.\n",
    "thisisnotalist = bind_rows(thisisalist)\n",
    "dim(thisisnotalist)"
   ]
  },
  {
   "cell_type": "code",
   "execution_count": 11,
   "id": "cce1ee43",
   "metadata": {
    "vscode": {
     "languageId": "r"
    }
   },
   "outputs": [
    {
     "data": {
      "text/html": [
       "<style>\n",
       ".list-inline {list-style: none; margin:0; padding: 0}\n",
       ".list-inline>li {display: inline-block}\n",
       ".list-inline>li:not(:last-child)::after {content: \"\\00b7\"; padding: 0 .5ex}\n",
       "</style>\n",
       "<ol class=list-inline><li>'quality_grade'</li><li>'time_observed_at'</li><li>'taxon_geoprivacy'</li><li>'annotations'</li><li>'uuid'</li><li>'id'</li><li>'cached_votes_total'</li><li>'identifications_most_agree'</li><li>'species_guess'</li><li>'identifications_most_disagree'</li><li>'tags'</li><li>'positional_accuracy'</li><li>'comments_count'</li><li>'site_id'</li><li>'created_time_zone'</li><li>'license_code'</li><li>'observed_time_zone'</li><li>'quality_metrics'</li><li>'public_positional_accuracy'</li><li>'reviewed_by'</li><li>'oauth_application_id'</li><li>'flags'</li><li>'created_at'</li><li>'description'</li><li>'time_zone_offset'</li><li>'project_ids_with_curator_id'</li><li>'observed_on'</li><li>'observed_on_string'</li><li>'updated_at'</li><li>'sounds'</li><li>'place_ids'</li><li>'captive'</li><li>'ident_taxon_ids'</li><li>'outlinks'</li><li>'faves_count'</li><li>'ofvs'</li><li>'num_identification_agreements'</li><li>'comments'</li><li>'map_scale'</li><li>'uri'</li><li>'project_ids'</li><li>'community_taxon_id'</li><li>'owners_identification_from_vision'</li><li>'identifications_count'</li><li>'obscured'</li><li>'num_identification_disagreements'</li><li>'geoprivacy'</li><li>'location'</li><li>'votes'</li><li>'spam'</li><li>'mappable'</li><li>'identifications_some_agree'</li><li>'project_ids_without_curator_id'</li><li>'place_guess'</li><li>'identifications'</li><li>'project_observations'</li><li>'observation_photos'</li><li>'photos'</li><li>'faves'</li><li>'non_owner_ids'</li><li>'observed_on_details.date'</li><li>'observed_on_details.day'</li><li>'observed_on_details.month'</li><li>'observed_on_details.year'</li><li>'observed_on_details.hour'</li><li>'observed_on_details.week'</li><li>'created_at_details.date'</li><li>'created_at_details.day'</li><li>'created_at_details.month'</li><li>'created_at_details.year'</li><li>'created_at_details.hour'</li><li>'created_at_details.week'</li><li>'taxon.is_active'</li><li>'taxon.ancestry'</li><li>'taxon.min_species_ancestry'</li><li>'taxon.endemic'</li><li>'taxon.iconic_taxon_id'</li><li>'taxon.min_species_taxon_id'</li><li>'taxon.threatened'</li><li>'taxon.rank_level'</li><li>'taxon.introduced'</li><li>'taxon.native'</li><li>'taxon.parent_id'</li><li>'taxon.name'</li><li>'taxon.rank'</li><li>'taxon.extinct'</li><li>'taxon.id'</li><li>'taxon.ancestor_ids'</li><li>'taxon.created_at'</li><li>'taxon.taxon_changes_count'</li><li>'taxon.taxon_schemes_count'</li><li>'taxon.observations_count'</li><li>'taxon.photos_locked'</li><li>'taxon.universal_search_rank'</li><li>'taxon.current_synonymous_taxon_ids'</li><li>'taxon.atlas_id'</li><li>'taxon.complete_species_count'</li><li>'taxon.wikipedia_url'</li><li>'taxon.iconic_taxon_name'</li><li>'taxon.preferred_common_name'</li><li>'taxon.default_photo.id'</li><li>'taxon.default_photo.license_code'</li><li>'taxon.default_photo.attribution'</li><li>'taxon.default_photo.url'</li><li>'taxon.default_photo.flags'</li><li>'taxon.default_photo.square_url'</li><li>'taxon.default_photo.medium_url'</li><li>'taxon.default_photo.original_dimensions.height'</li><li>'taxon.default_photo.original_dimensions.width'</li><li>'taxon.flag_counts.resolved'</li><li>'taxon.flag_counts.unresolved'</li><li>'preferences.prefers_community_taxon'</li><li>'geojson.type'</li><li>'geojson.coordinates'</li><li>'user.id'</li><li>'user.login'</li><li>'user.spam'</li><li>'user.suspended'</li><li>'user.created_at'</li><li>'user.site_id'</li><li>'user.login_autocomplete'</li><li>'user.login_exact'</li><li>'user.name'</li><li>'user.name_autocomplete'</li><li>'user.orcid'</li><li>'user.icon'</li><li>'user.observations_count'</li><li>'user.identifications_count'</li><li>'user.journal_posts_count'</li><li>'user.activity_count'</li><li>'user.species_count'</li><li>'user.universal_search_rank'</li><li>'user.roles'</li><li>'user.icon_url'</li><li>'user.preferences.prefers_community_taxa'</li><li>'user.preferences.prefers_observation_fields_by'</li><li>'user.preferences.prefers_project_addition_by'</li><li>'observed_on_date'</li><li>'day_of_year'</li></ol>\n"
      ],
      "text/latex": [
       "\\begin{enumerate*}\n",
       "\\item 'quality\\_grade'\n",
       "\\item 'time\\_observed\\_at'\n",
       "\\item 'taxon\\_geoprivacy'\n",
       "\\item 'annotations'\n",
       "\\item 'uuid'\n",
       "\\item 'id'\n",
       "\\item 'cached\\_votes\\_total'\n",
       "\\item 'identifications\\_most\\_agree'\n",
       "\\item 'species\\_guess'\n",
       "\\item 'identifications\\_most\\_disagree'\n",
       "\\item 'tags'\n",
       "\\item 'positional\\_accuracy'\n",
       "\\item 'comments\\_count'\n",
       "\\item 'site\\_id'\n",
       "\\item 'created\\_time\\_zone'\n",
       "\\item 'license\\_code'\n",
       "\\item 'observed\\_time\\_zone'\n",
       "\\item 'quality\\_metrics'\n",
       "\\item 'public\\_positional\\_accuracy'\n",
       "\\item 'reviewed\\_by'\n",
       "\\item 'oauth\\_application\\_id'\n",
       "\\item 'flags'\n",
       "\\item 'created\\_at'\n",
       "\\item 'description'\n",
       "\\item 'time\\_zone\\_offset'\n",
       "\\item 'project\\_ids\\_with\\_curator\\_id'\n",
       "\\item 'observed\\_on'\n",
       "\\item 'observed\\_on\\_string'\n",
       "\\item 'updated\\_at'\n",
       "\\item 'sounds'\n",
       "\\item 'place\\_ids'\n",
       "\\item 'captive'\n",
       "\\item 'ident\\_taxon\\_ids'\n",
       "\\item 'outlinks'\n",
       "\\item 'faves\\_count'\n",
       "\\item 'ofvs'\n",
       "\\item 'num\\_identification\\_agreements'\n",
       "\\item 'comments'\n",
       "\\item 'map\\_scale'\n",
       "\\item 'uri'\n",
       "\\item 'project\\_ids'\n",
       "\\item 'community\\_taxon\\_id'\n",
       "\\item 'owners\\_identification\\_from\\_vision'\n",
       "\\item 'identifications\\_count'\n",
       "\\item 'obscured'\n",
       "\\item 'num\\_identification\\_disagreements'\n",
       "\\item 'geoprivacy'\n",
       "\\item 'location'\n",
       "\\item 'votes'\n",
       "\\item 'spam'\n",
       "\\item 'mappable'\n",
       "\\item 'identifications\\_some\\_agree'\n",
       "\\item 'project\\_ids\\_without\\_curator\\_id'\n",
       "\\item 'place\\_guess'\n",
       "\\item 'identifications'\n",
       "\\item 'project\\_observations'\n",
       "\\item 'observation\\_photos'\n",
       "\\item 'photos'\n",
       "\\item 'faves'\n",
       "\\item 'non\\_owner\\_ids'\n",
       "\\item 'observed\\_on\\_details.date'\n",
       "\\item 'observed\\_on\\_details.day'\n",
       "\\item 'observed\\_on\\_details.month'\n",
       "\\item 'observed\\_on\\_details.year'\n",
       "\\item 'observed\\_on\\_details.hour'\n",
       "\\item 'observed\\_on\\_details.week'\n",
       "\\item 'created\\_at\\_details.date'\n",
       "\\item 'created\\_at\\_details.day'\n",
       "\\item 'created\\_at\\_details.month'\n",
       "\\item 'created\\_at\\_details.year'\n",
       "\\item 'created\\_at\\_details.hour'\n",
       "\\item 'created\\_at\\_details.week'\n",
       "\\item 'taxon.is\\_active'\n",
       "\\item 'taxon.ancestry'\n",
       "\\item 'taxon.min\\_species\\_ancestry'\n",
       "\\item 'taxon.endemic'\n",
       "\\item 'taxon.iconic\\_taxon\\_id'\n",
       "\\item 'taxon.min\\_species\\_taxon\\_id'\n",
       "\\item 'taxon.threatened'\n",
       "\\item 'taxon.rank\\_level'\n",
       "\\item 'taxon.introduced'\n",
       "\\item 'taxon.native'\n",
       "\\item 'taxon.parent\\_id'\n",
       "\\item 'taxon.name'\n",
       "\\item 'taxon.rank'\n",
       "\\item 'taxon.extinct'\n",
       "\\item 'taxon.id'\n",
       "\\item 'taxon.ancestor\\_ids'\n",
       "\\item 'taxon.created\\_at'\n",
       "\\item 'taxon.taxon\\_changes\\_count'\n",
       "\\item 'taxon.taxon\\_schemes\\_count'\n",
       "\\item 'taxon.observations\\_count'\n",
       "\\item 'taxon.photos\\_locked'\n",
       "\\item 'taxon.universal\\_search\\_rank'\n",
       "\\item 'taxon.current\\_synonymous\\_taxon\\_ids'\n",
       "\\item 'taxon.atlas\\_id'\n",
       "\\item 'taxon.complete\\_species\\_count'\n",
       "\\item 'taxon.wikipedia\\_url'\n",
       "\\item 'taxon.iconic\\_taxon\\_name'\n",
       "\\item 'taxon.preferred\\_common\\_name'\n",
       "\\item 'taxon.default\\_photo.id'\n",
       "\\item 'taxon.default\\_photo.license\\_code'\n",
       "\\item 'taxon.default\\_photo.attribution'\n",
       "\\item 'taxon.default\\_photo.url'\n",
       "\\item 'taxon.default\\_photo.flags'\n",
       "\\item 'taxon.default\\_photo.square\\_url'\n",
       "\\item 'taxon.default\\_photo.medium\\_url'\n",
       "\\item 'taxon.default\\_photo.original\\_dimensions.height'\n",
       "\\item 'taxon.default\\_photo.original\\_dimensions.width'\n",
       "\\item 'taxon.flag\\_counts.resolved'\n",
       "\\item 'taxon.flag\\_counts.unresolved'\n",
       "\\item 'preferences.prefers\\_community\\_taxon'\n",
       "\\item 'geojson.type'\n",
       "\\item 'geojson.coordinates'\n",
       "\\item 'user.id'\n",
       "\\item 'user.login'\n",
       "\\item 'user.spam'\n",
       "\\item 'user.suspended'\n",
       "\\item 'user.created\\_at'\n",
       "\\item 'user.site\\_id'\n",
       "\\item 'user.login\\_autocomplete'\n",
       "\\item 'user.login\\_exact'\n",
       "\\item 'user.name'\n",
       "\\item 'user.name\\_autocomplete'\n",
       "\\item 'user.orcid'\n",
       "\\item 'user.icon'\n",
       "\\item 'user.observations\\_count'\n",
       "\\item 'user.identifications\\_count'\n",
       "\\item 'user.journal\\_posts\\_count'\n",
       "\\item 'user.activity\\_count'\n",
       "\\item 'user.species\\_count'\n",
       "\\item 'user.universal\\_search\\_rank'\n",
       "\\item 'user.roles'\n",
       "\\item 'user.icon\\_url'\n",
       "\\item 'user.preferences.prefers\\_community\\_taxa'\n",
       "\\item 'user.preferences.prefers\\_observation\\_fields\\_by'\n",
       "\\item 'user.preferences.prefers\\_project\\_addition\\_by'\n",
       "\\item 'observed\\_on\\_date'\n",
       "\\item 'day\\_of\\_year'\n",
       "\\end{enumerate*}\n"
      ],
      "text/markdown": [
       "1. 'quality_grade'\n",
       "2. 'time_observed_at'\n",
       "3. 'taxon_geoprivacy'\n",
       "4. 'annotations'\n",
       "5. 'uuid'\n",
       "6. 'id'\n",
       "7. 'cached_votes_total'\n",
       "8. 'identifications_most_agree'\n",
       "9. 'species_guess'\n",
       "10. 'identifications_most_disagree'\n",
       "11. 'tags'\n",
       "12. 'positional_accuracy'\n",
       "13. 'comments_count'\n",
       "14. 'site_id'\n",
       "15. 'created_time_zone'\n",
       "16. 'license_code'\n",
       "17. 'observed_time_zone'\n",
       "18. 'quality_metrics'\n",
       "19. 'public_positional_accuracy'\n",
       "20. 'reviewed_by'\n",
       "21. 'oauth_application_id'\n",
       "22. 'flags'\n",
       "23. 'created_at'\n",
       "24. 'description'\n",
       "25. 'time_zone_offset'\n",
       "26. 'project_ids_with_curator_id'\n",
       "27. 'observed_on'\n",
       "28. 'observed_on_string'\n",
       "29. 'updated_at'\n",
       "30. 'sounds'\n",
       "31. 'place_ids'\n",
       "32. 'captive'\n",
       "33. 'ident_taxon_ids'\n",
       "34. 'outlinks'\n",
       "35. 'faves_count'\n",
       "36. 'ofvs'\n",
       "37. 'num_identification_agreements'\n",
       "38. 'comments'\n",
       "39. 'map_scale'\n",
       "40. 'uri'\n",
       "41. 'project_ids'\n",
       "42. 'community_taxon_id'\n",
       "43. 'owners_identification_from_vision'\n",
       "44. 'identifications_count'\n",
       "45. 'obscured'\n",
       "46. 'num_identification_disagreements'\n",
       "47. 'geoprivacy'\n",
       "48. 'location'\n",
       "49. 'votes'\n",
       "50. 'spam'\n",
       "51. 'mappable'\n",
       "52. 'identifications_some_agree'\n",
       "53. 'project_ids_without_curator_id'\n",
       "54. 'place_guess'\n",
       "55. 'identifications'\n",
       "56. 'project_observations'\n",
       "57. 'observation_photos'\n",
       "58. 'photos'\n",
       "59. 'faves'\n",
       "60. 'non_owner_ids'\n",
       "61. 'observed_on_details.date'\n",
       "62. 'observed_on_details.day'\n",
       "63. 'observed_on_details.month'\n",
       "64. 'observed_on_details.year'\n",
       "65. 'observed_on_details.hour'\n",
       "66. 'observed_on_details.week'\n",
       "67. 'created_at_details.date'\n",
       "68. 'created_at_details.day'\n",
       "69. 'created_at_details.month'\n",
       "70. 'created_at_details.year'\n",
       "71. 'created_at_details.hour'\n",
       "72. 'created_at_details.week'\n",
       "73. 'taxon.is_active'\n",
       "74. 'taxon.ancestry'\n",
       "75. 'taxon.min_species_ancestry'\n",
       "76. 'taxon.endemic'\n",
       "77. 'taxon.iconic_taxon_id'\n",
       "78. 'taxon.min_species_taxon_id'\n",
       "79. 'taxon.threatened'\n",
       "80. 'taxon.rank_level'\n",
       "81. 'taxon.introduced'\n",
       "82. 'taxon.native'\n",
       "83. 'taxon.parent_id'\n",
       "84. 'taxon.name'\n",
       "85. 'taxon.rank'\n",
       "86. 'taxon.extinct'\n",
       "87. 'taxon.id'\n",
       "88. 'taxon.ancestor_ids'\n",
       "89. 'taxon.created_at'\n",
       "90. 'taxon.taxon_changes_count'\n",
       "91. 'taxon.taxon_schemes_count'\n",
       "92. 'taxon.observations_count'\n",
       "93. 'taxon.photos_locked'\n",
       "94. 'taxon.universal_search_rank'\n",
       "95. 'taxon.current_synonymous_taxon_ids'\n",
       "96. 'taxon.atlas_id'\n",
       "97. 'taxon.complete_species_count'\n",
       "98. 'taxon.wikipedia_url'\n",
       "99. 'taxon.iconic_taxon_name'\n",
       "100. 'taxon.preferred_common_name'\n",
       "101. 'taxon.default_photo.id'\n",
       "102. 'taxon.default_photo.license_code'\n",
       "103. 'taxon.default_photo.attribution'\n",
       "104. 'taxon.default_photo.url'\n",
       "105. 'taxon.default_photo.flags'\n",
       "106. 'taxon.default_photo.square_url'\n",
       "107. 'taxon.default_photo.medium_url'\n",
       "108. 'taxon.default_photo.original_dimensions.height'\n",
       "109. 'taxon.default_photo.original_dimensions.width'\n",
       "110. 'taxon.flag_counts.resolved'\n",
       "111. 'taxon.flag_counts.unresolved'\n",
       "112. 'preferences.prefers_community_taxon'\n",
       "113. 'geojson.type'\n",
       "114. 'geojson.coordinates'\n",
       "115. 'user.id'\n",
       "116. 'user.login'\n",
       "117. 'user.spam'\n",
       "118. 'user.suspended'\n",
       "119. 'user.created_at'\n",
       "120. 'user.site_id'\n",
       "121. 'user.login_autocomplete'\n",
       "122. 'user.login_exact'\n",
       "123. 'user.name'\n",
       "124. 'user.name_autocomplete'\n",
       "125. 'user.orcid'\n",
       "126. 'user.icon'\n",
       "127. 'user.observations_count'\n",
       "128. 'user.identifications_count'\n",
       "129. 'user.journal_posts_count'\n",
       "130. 'user.activity_count'\n",
       "131. 'user.species_count'\n",
       "132. 'user.universal_search_rank'\n",
       "133. 'user.roles'\n",
       "134. 'user.icon_url'\n",
       "135. 'user.preferences.prefers_community_taxa'\n",
       "136. 'user.preferences.prefers_observation_fields_by'\n",
       "137. 'user.preferences.prefers_project_addition_by'\n",
       "138. 'observed_on_date'\n",
       "139. 'day_of_year'\n",
       "\n",
       "\n"
      ],
      "text/plain": [
       "  [1] \"quality_grade\"                                 \n",
       "  [2] \"time_observed_at\"                              \n",
       "  [3] \"taxon_geoprivacy\"                              \n",
       "  [4] \"annotations\"                                   \n",
       "  [5] \"uuid\"                                          \n",
       "  [6] \"id\"                                            \n",
       "  [7] \"cached_votes_total\"                            \n",
       "  [8] \"identifications_most_agree\"                    \n",
       "  [9] \"species_guess\"                                 \n",
       " [10] \"identifications_most_disagree\"                 \n",
       " [11] \"tags\"                                          \n",
       " [12] \"positional_accuracy\"                           \n",
       " [13] \"comments_count\"                                \n",
       " [14] \"site_id\"                                       \n",
       " [15] \"created_time_zone\"                             \n",
       " [16] \"license_code\"                                  \n",
       " [17] \"observed_time_zone\"                            \n",
       " [18] \"quality_metrics\"                               \n",
       " [19] \"public_positional_accuracy\"                    \n",
       " [20] \"reviewed_by\"                                   \n",
       " [21] \"oauth_application_id\"                          \n",
       " [22] \"flags\"                                         \n",
       " [23] \"created_at\"                                    \n",
       " [24] \"description\"                                   \n",
       " [25] \"time_zone_offset\"                              \n",
       " [26] \"project_ids_with_curator_id\"                   \n",
       " [27] \"observed_on\"                                   \n",
       " [28] \"observed_on_string\"                            \n",
       " [29] \"updated_at\"                                    \n",
       " [30] \"sounds\"                                        \n",
       " [31] \"place_ids\"                                     \n",
       " [32] \"captive\"                                       \n",
       " [33] \"ident_taxon_ids\"                               \n",
       " [34] \"outlinks\"                                      \n",
       " [35] \"faves_count\"                                   \n",
       " [36] \"ofvs\"                                          \n",
       " [37] \"num_identification_agreements\"                 \n",
       " [38] \"comments\"                                      \n",
       " [39] \"map_scale\"                                     \n",
       " [40] \"uri\"                                           \n",
       " [41] \"project_ids\"                                   \n",
       " [42] \"community_taxon_id\"                            \n",
       " [43] \"owners_identification_from_vision\"             \n",
       " [44] \"identifications_count\"                         \n",
       " [45] \"obscured\"                                      \n",
       " [46] \"num_identification_disagreements\"              \n",
       " [47] \"geoprivacy\"                                    \n",
       " [48] \"location\"                                      \n",
       " [49] \"votes\"                                         \n",
       " [50] \"spam\"                                          \n",
       " [51] \"mappable\"                                      \n",
       " [52] \"identifications_some_agree\"                    \n",
       " [53] \"project_ids_without_curator_id\"                \n",
       " [54] \"place_guess\"                                   \n",
       " [55] \"identifications\"                               \n",
       " [56] \"project_observations\"                          \n",
       " [57] \"observation_photos\"                            \n",
       " [58] \"photos\"                                        \n",
       " [59] \"faves\"                                         \n",
       " [60] \"non_owner_ids\"                                 \n",
       " [61] \"observed_on_details.date\"                      \n",
       " [62] \"observed_on_details.day\"                       \n",
       " [63] \"observed_on_details.month\"                     \n",
       " [64] \"observed_on_details.year\"                      \n",
       " [65] \"observed_on_details.hour\"                      \n",
       " [66] \"observed_on_details.week\"                      \n",
       " [67] \"created_at_details.date\"                       \n",
       " [68] \"created_at_details.day\"                        \n",
       " [69] \"created_at_details.month\"                      \n",
       " [70] \"created_at_details.year\"                       \n",
       " [71] \"created_at_details.hour\"                       \n",
       " [72] \"created_at_details.week\"                       \n",
       " [73] \"taxon.is_active\"                               \n",
       " [74] \"taxon.ancestry\"                                \n",
       " [75] \"taxon.min_species_ancestry\"                    \n",
       " [76] \"taxon.endemic\"                                 \n",
       " [77] \"taxon.iconic_taxon_id\"                         \n",
       " [78] \"taxon.min_species_taxon_id\"                    \n",
       " [79] \"taxon.threatened\"                              \n",
       " [80] \"taxon.rank_level\"                              \n",
       " [81] \"taxon.introduced\"                              \n",
       " [82] \"taxon.native\"                                  \n",
       " [83] \"taxon.parent_id\"                               \n",
       " [84] \"taxon.name\"                                    \n",
       " [85] \"taxon.rank\"                                    \n",
       " [86] \"taxon.extinct\"                                 \n",
       " [87] \"taxon.id\"                                      \n",
       " [88] \"taxon.ancestor_ids\"                            \n",
       " [89] \"taxon.created_at\"                              \n",
       " [90] \"taxon.taxon_changes_count\"                     \n",
       " [91] \"taxon.taxon_schemes_count\"                     \n",
       " [92] \"taxon.observations_count\"                      \n",
       " [93] \"taxon.photos_locked\"                           \n",
       " [94] \"taxon.universal_search_rank\"                   \n",
       " [95] \"taxon.current_synonymous_taxon_ids\"            \n",
       " [96] \"taxon.atlas_id\"                                \n",
       " [97] \"taxon.complete_species_count\"                  \n",
       " [98] \"taxon.wikipedia_url\"                           \n",
       " [99] \"taxon.iconic_taxon_name\"                       \n",
       "[100] \"taxon.preferred_common_name\"                   \n",
       "[101] \"taxon.default_photo.id\"                        \n",
       "[102] \"taxon.default_photo.license_code\"              \n",
       "[103] \"taxon.default_photo.attribution\"               \n",
       "[104] \"taxon.default_photo.url\"                       \n",
       "[105] \"taxon.default_photo.flags\"                     \n",
       "[106] \"taxon.default_photo.square_url\"                \n",
       "[107] \"taxon.default_photo.medium_url\"                \n",
       "[108] \"taxon.default_photo.original_dimensions.height\"\n",
       "[109] \"taxon.default_photo.original_dimensions.width\" \n",
       "[110] \"taxon.flag_counts.resolved\"                    \n",
       "[111] \"taxon.flag_counts.unresolved\"                  \n",
       "[112] \"preferences.prefers_community_taxon\"           \n",
       "[113] \"geojson.type\"                                  \n",
       "[114] \"geojson.coordinates\"                           \n",
       "[115] \"user.id\"                                       \n",
       "[116] \"user.login\"                                    \n",
       "[117] \"user.spam\"                                     \n",
       "[118] \"user.suspended\"                                \n",
       "[119] \"user.created_at\"                               \n",
       "[120] \"user.site_id\"                                  \n",
       "[121] \"user.login_autocomplete\"                       \n",
       "[122] \"user.login_exact\"                              \n",
       "[123] \"user.name\"                                     \n",
       "[124] \"user.name_autocomplete\"                        \n",
       "[125] \"user.orcid\"                                    \n",
       "[126] \"user.icon\"                                     \n",
       "[127] \"user.observations_count\"                       \n",
       "[128] \"user.identifications_count\"                    \n",
       "[129] \"user.journal_posts_count\"                      \n",
       "[130] \"user.activity_count\"                           \n",
       "[131] \"user.species_count\"                            \n",
       "[132] \"user.universal_search_rank\"                    \n",
       "[133] \"user.roles\"                                    \n",
       "[134] \"user.icon_url\"                                 \n",
       "[135] \"user.preferences.prefers_community_taxa\"       \n",
       "[136] \"user.preferences.prefers_observation_fields_by\"\n",
       "[137] \"user.preferences.prefers_project_addition_by\"  \n",
       "[138] \"observed_on_date\"                              \n",
       "[139] \"day_of_year\"                                   "
      ]
     },
     "metadata": {},
     "output_type": "display_data"
    }
   ],
   "source": [
    "NDBT_obs = mutate(thisisnotalist, \n",
    "                observed_on_date = as.Date(observed_on, \"%Y-%m-%d\"),\n",
    "                day_of_year = as.numeric(strftime(observed_on_date, format = \"%j\")))\n",
    "\n",
    "colnames(NDBT_obs)"
   ]
  },
  {
   "cell_type": "code",
   "execution_count": 12,
   "id": "200e5280",
   "metadata": {
    "vscode": {
     "languageId": "r"
    }
   },
   "outputs": [
    {
     "data": {
      "text/html": [
       "<table class=\"dataframe\">\n",
       "<caption>A data.frame: 3 × 11</caption>\n",
       "<thead>\n",
       "\t<tr><th></th><th scope=col>id</th><th scope=col>taxon.preferred_common_name</th><th scope=col>taxon.name</th><th scope=col>observed_on_date</th><th scope=col>day_of_year</th><th scope=col>place_guess</th><th scope=col>location</th><th scope=col>quality_grade</th><th scope=col>annotations</th><th scope=col>ofvs</th><th scope=col>tags</th></tr>\n",
       "\t<tr><th></th><th scope=col>&lt;int&gt;</th><th scope=col>&lt;chr&gt;</th><th scope=col>&lt;chr&gt;</th><th scope=col>&lt;date&gt;</th><th scope=col>&lt;dbl&gt;</th><th scope=col>&lt;chr&gt;</th><th scope=col>&lt;chr&gt;</th><th scope=col>&lt;chr&gt;</th><th scope=col>&lt;list&gt;</th><th scope=col>&lt;list&gt;</th><th scope=col>&lt;list&gt;</th></tr>\n",
       "</thead>\n",
       "<tbody>\n",
       "\t<tr><th scope=row>1</th><td>37567809</td><td>Northern Diamondback Terrapin</td><td>Malaclemys terrapin terrapin</td><td>2020-01-02</td><td> 2</td><td>New Jersey, US</td><td>39.066489359,-74.884423107  </td><td>research</td><td>NULL</td><td>NULL</td><td>NULL</td></tr>\n",
       "\t<tr><th scope=row>2</th><td>38574014</td><td>Northern Diamondback Terrapin</td><td>Malaclemys terrapin terrapin</td><td>2020-02-12</td><td>43</td><td>New Jersey, US</td><td>39.5291683551,-74.581864312 </td><td>research</td><td>3c10f15d-cfd0-44cd-86c3-d215c6fc6ec1                                                 , 17                                                                                   , 19                                                                                   , 17|19                                                                                , 0                                                                                    , 1388999                                                                              , 1388999                                                                              , erin_allison                                                                         , FALSE                                                                                , FALSE                                                                                , 2018-12-12T20:23:13+00:00                                                            , erin_allison                                                                         , erin_allison                                                                         , erin                                                                                 , erin                                                                                 , NA                                                                                   , https://static.inaturalist.org/attachments/users/icons/1388999/thumb.jpeg?1624476817 , 1631                                                                                 , 190                                                                                  , 0                                                                                    , 1821                                                                                 , 857                                                                                  , 1631                                                                                 , 1                                                                                    , https://static.inaturalist.org/attachments/users/icons/1388999/medium.jpeg?1624476817</td><td>NULL</td><td>NULL</td></tr>\n",
       "\t<tr><th scope=row>3</th><td>40589482</td><td>Northern Diamondback Terrapin</td><td>Malaclemys terrapin terrapin</td><td>2020-03-20</td><td>80</td><td>Virginia, US  </td><td>37.0971256865,-76.2933852144</td><td>research</td><td>7bc401a3-b1d7-4313-91fe-94343c33675e                                                 , 17                                                                                   , 18                                                                                   , 17|18                                                                                , 0                                                                                    , 1510200                                                                              , 1510200                                                                              , mgsopko                                                                              , FALSE                                                                                , FALSE                                                                                , 2019-03-05T10:37:30+00:00                                                            , mgsopko                                                                              , mgsopko                                                                              , Mark S.                                                                              , Mark S.                                                                              , NA                                                                                   , https://static.inaturalist.org/attachments/users/icons/1510200/thumb.jpeg?1569373156 , 245                                                                                  , 23                                                                                   , 0                                                                                    , 268                                                                                  , 140                                                                                  , 245                                                                                  , 1                                                                                    , https://static.inaturalist.org/attachments/users/icons/1510200/medium.jpeg?1569373156</td><td>NULL</td><td>NULL</td></tr>\n",
       "</tbody>\n",
       "</table>\n"
      ],
      "text/latex": [
       "A data.frame: 3 × 11\n",
       "\\begin{tabular}{r|lllllllllll}\n",
       "  & id & taxon.preferred\\_common\\_name & taxon.name & observed\\_on\\_date & day\\_of\\_year & place\\_guess & location & quality\\_grade & annotations & ofvs & tags\\\\\n",
       "  & <int> & <chr> & <chr> & <date> & <dbl> & <chr> & <chr> & <chr> & <list> & <list> & <list>\\\\\n",
       "\\hline\n",
       "\t1 & 37567809 & Northern Diamondback Terrapin & Malaclemys terrapin terrapin & 2020-01-02 &  2 & New Jersey, US & 39.066489359,-74.884423107   & research & NULL & NULL & NULL\\\\\n",
       "\t2 & 38574014 & Northern Diamondback Terrapin & Malaclemys terrapin terrapin & 2020-02-12 & 43 & New Jersey, US & 39.5291683551,-74.581864312  & research & 3c10f15d-cfd0-44cd-86c3-d215c6fc6ec1                                                 , 17                                                                                   , 19                                                                                   , 17\\textbar{}19                                                                                , 0                                                                                    , 1388999                                                                              , 1388999                                                                              , erin\\_allison                                                                         , FALSE                                                                                , FALSE                                                                                , 2018-12-12T20:23:13+00:00                                                            , erin\\_allison                                                                         , erin\\_allison                                                                         , erin                                                                                 , erin                                                                                 , NA                                                                                   , https://static.inaturalist.org/attachments/users/icons/1388999/thumb.jpeg?1624476817 , 1631                                                                                 , 190                                                                                  , 0                                                                                    , 1821                                                                                 , 857                                                                                  , 1631                                                                                 , 1                                                                                    , https://static.inaturalist.org/attachments/users/icons/1388999/medium.jpeg?1624476817 & NULL & NULL\\\\\n",
       "\t3 & 40589482 & Northern Diamondback Terrapin & Malaclemys terrapin terrapin & 2020-03-20 & 80 & Virginia, US   & 37.0971256865,-76.2933852144 & research & 7bc401a3-b1d7-4313-91fe-94343c33675e                                                 , 17                                                                                   , 18                                                                                   , 17\\textbar{}18                                                                                , 0                                                                                    , 1510200                                                                              , 1510200                                                                              , mgsopko                                                                              , FALSE                                                                                , FALSE                                                                                , 2019-03-05T10:37:30+00:00                                                            , mgsopko                                                                              , mgsopko                                                                              , Mark S.                                                                              , Mark S.                                                                              , NA                                                                                   , https://static.inaturalist.org/attachments/users/icons/1510200/thumb.jpeg?1569373156 , 245                                                                                  , 23                                                                                   , 0                                                                                    , 268                                                                                  , 140                                                                                  , 245                                                                                  , 1                                                                                    , https://static.inaturalist.org/attachments/users/icons/1510200/medium.jpeg?1569373156 & NULL & NULL\\\\\n",
       "\\end{tabular}\n"
      ],
      "text/markdown": [
       "\n",
       "A data.frame: 3 × 11\n",
       "\n",
       "| <!--/--> | id &lt;int&gt; | taxon.preferred_common_name &lt;chr&gt; | taxon.name &lt;chr&gt; | observed_on_date &lt;date&gt; | day_of_year &lt;dbl&gt; | place_guess &lt;chr&gt; | location &lt;chr&gt; | quality_grade &lt;chr&gt; | annotations &lt;list&gt; | ofvs &lt;list&gt; | tags &lt;list&gt; |\n",
       "|---|---|---|---|---|---|---|---|---|---|---|---|\n",
       "| 1 | 37567809 | Northern Diamondback Terrapin | Malaclemys terrapin terrapin | 2020-01-02 |  2 | New Jersey, US | 39.066489359,-74.884423107   | research | NULL | NULL | NULL |\n",
       "| 2 | 38574014 | Northern Diamondback Terrapin | Malaclemys terrapin terrapin | 2020-02-12 | 43 | New Jersey, US | 39.5291683551,-74.581864312  | research | 3c10f15d-cfd0-44cd-86c3-d215c6fc6ec1                                                 , 17                                                                                   , 19                                                                                   , 17|19                                                                                , 0                                                                                    , 1388999                                                                              , 1388999                                                                              , erin_allison                                                                         , FALSE                                                                                , FALSE                                                                                , 2018-12-12T20:23:13+00:00                                                            , erin_allison                                                                         , erin_allison                                                                         , erin                                                                                 , erin                                                                                 , NA                                                                                   , https://static.inaturalist.org/attachments/users/icons/1388999/thumb.jpeg?1624476817 , 1631                                                                                 , 190                                                                                  , 0                                                                                    , 1821                                                                                 , 857                                                                                  , 1631                                                                                 , 1                                                                                    , https://static.inaturalist.org/attachments/users/icons/1388999/medium.jpeg?1624476817 | NULL | NULL |\n",
       "| 3 | 40589482 | Northern Diamondback Terrapin | Malaclemys terrapin terrapin | 2020-03-20 | 80 | Virginia, US   | 37.0971256865,-76.2933852144 | research | 7bc401a3-b1d7-4313-91fe-94343c33675e                                                 , 17                                                                                   , 18                                                                                   , 17|18                                                                                , 0                                                                                    , 1510200                                                                              , 1510200                                                                              , mgsopko                                                                              , FALSE                                                                                , FALSE                                                                                , 2019-03-05T10:37:30+00:00                                                            , mgsopko                                                                              , mgsopko                                                                              , Mark S.                                                                              , Mark S.                                                                              , NA                                                                                   , https://static.inaturalist.org/attachments/users/icons/1510200/thumb.jpeg?1569373156 , 245                                                                                  , 23                                                                                   , 0                                                                                    , 268                                                                                  , 140                                                                                  , 245                                                                                  , 1                                                                                    , https://static.inaturalist.org/attachments/users/icons/1510200/medium.jpeg?1569373156 | NULL | NULL |\n",
       "\n"
      ],
      "text/plain": [
       "  id       taxon.preferred_common_name   taxon.name                  \n",
       "1 37567809 Northern Diamondback Terrapin Malaclemys terrapin terrapin\n",
       "2 38574014 Northern Diamondback Terrapin Malaclemys terrapin terrapin\n",
       "3 40589482 Northern Diamondback Terrapin Malaclemys terrapin terrapin\n",
       "  observed_on_date day_of_year place_guess    location                    \n",
       "1 2020-01-02        2          New Jersey, US 39.066489359,-74.884423107  \n",
       "2 2020-02-12       43          New Jersey, US 39.5291683551,-74.581864312 \n",
       "3 2020-03-20       80          Virginia, US   37.0971256865,-76.2933852144\n",
       "  quality_grade\n",
       "1 research     \n",
       "2 research     \n",
       "3 research     \n",
       "  annotations                                                                                                                                                                                                                                                                                                                                                                                                                                                                                                                                                                                                                                                                                                                                                                                                                                                                                                                                                                                                                                                                                                                                                                                                                                                                                                                                                                                                                                                                                                                                                                                                                                                                                                                                                                                                                                                                                                                                                                                                                                                                                                                                                                                                                                                  \n",
       "1 NULL                                                                                                                                                                                                                                                                                                                                                                                                                                                                                                                                                                                                                                                                                                                                                                                                                                                                                                                                                                                                                                                                                                                                                                                                                                                                                                                                                                                                                                                                                                                                                                                                                                                                                                                                                                                                                                                                                                                                                                                                                                                                                                                                                                                                                                                         \n",
       "2 3c10f15d-cfd0-44cd-86c3-d215c6fc6ec1                                                 , 17                                                                                   , 19                                                                                   , 17|19                                                                                , 0                                                                                    , 1388999                                                                              , 1388999                                                                              , erin_allison                                                                         , FALSE                                                                                , FALSE                                                                                , 2018-12-12T20:23:13+00:00                                                            , erin_allison                                                                         , erin_allison                                                                         , erin                                                                                 , erin                                                                                 , NA                                                                                   , https://static.inaturalist.org/attachments/users/icons/1388999/thumb.jpeg?1624476817 , 1631                                                                                 , 190                                                                                  , 0                                                                                    , 1821                                                                                 , 857                                                                                  , 1631                                                                                 , 1                                                                                    , https://static.inaturalist.org/attachments/users/icons/1388999/medium.jpeg?1624476817\n",
       "3 7bc401a3-b1d7-4313-91fe-94343c33675e                                                 , 17                                                                                   , 18                                                                                   , 17|18                                                                                , 0                                                                                    , 1510200                                                                              , 1510200                                                                              , mgsopko                                                                              , FALSE                                                                                , FALSE                                                                                , 2019-03-05T10:37:30+00:00                                                            , mgsopko                                                                              , mgsopko                                                                              , Mark S.                                                                              , Mark S.                                                                              , NA                                                                                   , https://static.inaturalist.org/attachments/users/icons/1510200/thumb.jpeg?1569373156 , 245                                                                                  , 23                                                                                   , 0                                                                                    , 268                                                                                  , 140                                                                                  , 245                                                                                  , 1                                                                                    , https://static.inaturalist.org/attachments/users/icons/1510200/medium.jpeg?1569373156\n",
       "  ofvs tags\n",
       "1 NULL NULL\n",
       "2 NULL NULL\n",
       "3 NULL NULL"
      ]
     },
     "metadata": {},
     "output_type": "display_data"
    }
   ],
   "source": [
    "\n",
    "#Select for all of the variables we want to add to our database.\n",
    "database_data = select(NDBT_obs, id, taxon.preferred_common_name,taxon.name, observed_on_date, day_of_year, \n",
    "                        place_guess, location, quality_grade, annotations, ofvs, tags)\n",
    "\n",
    "head(database_data,3)"
   ]
  },
  {
   "cell_type": "markdown",
   "id": "a7c8ffb9",
   "metadata": {},
   "source": [
    "**STOP** <br>\n",
    "Remember that SQL does not work well with periods in column names or uppercase letters. Make sure your column headers do not have periods and are not in all capital letters."
   ]
  },
  {
   "cell_type": "code",
   "execution_count": 13,
   "id": "3d218079",
   "metadata": {
    "vscode": {
     "languageId": "r"
    }
   },
   "outputs": [
    {
     "data": {
      "text/html": [
       "<style>\n",
       ".list-inline {list-style: none; margin:0; padding: 0}\n",
       ".list-inline>li {display: inline-block}\n",
       ".list-inline>li:not(:last-child)::after {content: \"\\00b7\"; padding: 0 .5ex}\n",
       "</style>\n",
       "<ol class=list-inline><li>'id'</li><li>'taxon_preferred_common_name'</li><li>'taxon_name'</li><li>'observed_on_date'</li><li>'day_of_year'</li><li>'place_guess'</li><li>'location'</li><li>'quality_grade'</li><li>'annotations'</li><li>'ofvs'</li><li>'tags'</li></ol>\n"
      ],
      "text/latex": [
       "\\begin{enumerate*}\n",
       "\\item 'id'\n",
       "\\item 'taxon\\_preferred\\_common\\_name'\n",
       "\\item 'taxon\\_name'\n",
       "\\item 'observed\\_on\\_date'\n",
       "\\item 'day\\_of\\_year'\n",
       "\\item 'place\\_guess'\n",
       "\\item 'location'\n",
       "\\item 'quality\\_grade'\n",
       "\\item 'annotations'\n",
       "\\item 'ofvs'\n",
       "\\item 'tags'\n",
       "\\end{enumerate*}\n"
      ],
      "text/markdown": [
       "1. 'id'\n",
       "2. 'taxon_preferred_common_name'\n",
       "3. 'taxon_name'\n",
       "4. 'observed_on_date'\n",
       "5. 'day_of_year'\n",
       "6. 'place_guess'\n",
       "7. 'location'\n",
       "8. 'quality_grade'\n",
       "9. 'annotations'\n",
       "10. 'ofvs'\n",
       "11. 'tags'\n",
       "\n",
       "\n"
      ],
      "text/plain": [
       " [1] \"id\"                          \"taxon_preferred_common_name\"\n",
       " [3] \"taxon_name\"                  \"observed_on_date\"           \n",
       " [5] \"day_of_year\"                 \"place_guess\"                \n",
       " [7] \"location\"                    \"quality_grade\"              \n",
       " [9] \"annotations\"                 \"ofvs\"                       \n",
       "[11] \"tags\"                       "
      ]
     },
     "metadata": {},
     "output_type": "display_data"
    }
   ],
   "source": [
    "# Creates a function to replace periods with underscores\n",
    "replace_period = function(name) {gsub(\"\\\\.\", \"_\", name)} \n",
    "\n",
    "# applies the function \n",
    "database_data = rename_all(database_data, replace_period)\n",
    "\n",
    "# show column names \n",
    "colnames(database_data)"
   ]
  },
  {
   "cell_type": "code",
   "execution_count": 14,
   "id": "b36469ff",
   "metadata": {
    "vscode": {
     "languageId": "r"
    }
   },
   "outputs": [
    {
     "data": {
      "text/html": [
       "<style>\n",
       ".list-inline {list-style: none; margin:0; padding: 0}\n",
       ".list-inline>li {display: inline-block}\n",
       ".list-inline>li:not(:last-child)::after {content: \"\\00b7\"; padding: 0 .5ex}\n",
       "</style>\n",
       "<ol class=list-inline><li>'id'</li><li>'common_name'</li><li>'taxon_name'</li><li>'observed_date'</li><li>'day_of_year'</li><li>'place_guess'</li><li>'location'</li><li>'quality_grade'</li><li>'annotations'</li><li>'ofvs'</li><li>'tags'</li></ol>\n"
      ],
      "text/latex": [
       "\\begin{enumerate*}\n",
       "\\item 'id'\n",
       "\\item 'common\\_name'\n",
       "\\item 'taxon\\_name'\n",
       "\\item 'observed\\_date'\n",
       "\\item 'day\\_of\\_year'\n",
       "\\item 'place\\_guess'\n",
       "\\item 'location'\n",
       "\\item 'quality\\_grade'\n",
       "\\item 'annotations'\n",
       "\\item 'ofvs'\n",
       "\\item 'tags'\n",
       "\\end{enumerate*}\n"
      ],
      "text/markdown": [
       "1. 'id'\n",
       "2. 'common_name'\n",
       "3. 'taxon_name'\n",
       "4. 'observed_date'\n",
       "5. 'day_of_year'\n",
       "6. 'place_guess'\n",
       "7. 'location'\n",
       "8. 'quality_grade'\n",
       "9. 'annotations'\n",
       "10. 'ofvs'\n",
       "11. 'tags'\n",
       "\n",
       "\n"
      ],
      "text/plain": [
       " [1] \"id\"            \"common_name\"   \"taxon_name\"    \"observed_date\"\n",
       " [5] \"day_of_year\"   \"place_guess\"   \"location\"      \"quality_grade\"\n",
       " [9] \"annotations\"   \"ofvs\"          \"tags\"         "
      ]
     },
     "metadata": {},
     "output_type": "display_data"
    }
   ],
   "source": [
    "# Shortens the names of teh columns \n",
    "\n",
    "database_data = rename(database_data,\n",
    "                        common_name = taxon_preferred_common_name,\n",
    "                        observed_date = observed_on_date,\n",
    "                        )\n",
    "\n",
    "colnames(database_data)"
   ]
  },
  {
   "cell_type": "markdown",
   "id": "1ff7f44f",
   "metadata": {},
   "source": [
    "Create a database for your data:"
   ]
  },
  {
   "cell_type": "code",
   "execution_count": 15,
   "id": "e1f0b865",
   "metadata": {
    "vscode": {
     "languageId": "r"
    }
   },
   "outputs": [],
   "source": [
    "# Create a database\n",
    "db = dbConnect(dbDriver(\"SQLite\"), dbname = \"animals_database.db\")"
   ]
  },
  {
   "cell_type": "markdown",
   "id": "d504f01c",
   "metadata": {},
   "source": [
    "**STOP**<br>\n",
    "Whether you created your database locally or on a server, double check the file has been created."
   ]
  },
  {
   "cell_type": "markdown",
   "id": "a8fe63cc",
   "metadata": {},
   "source": [
    "Create the tables for your database schema: (Use SQL syntax)"
   ]
  },
  {
   "cell_type": "code",
   "execution_count": 16,
   "id": "f19a3d1c",
   "metadata": {
    "vscode": {
     "languageId": "r"
    }
   },
   "outputs": [
    {
     "data": {
      "text/html": [
       "0"
      ],
      "text/latex": [
       "0"
      ],
      "text/markdown": [
       "0"
      ],
      "text/plain": [
       "[1] 0"
      ]
     },
     "metadata": {},
     "output_type": "display_data"
    }
   ],
   "source": [
    "main_table = \"CREATE TABLE IF NOT EXISTS species (\n",
    "                        id INTEGER PRIMARY KEY,\n",
    "                        taxon_name VARCHAR(35),\n",
    "                        common_name VARCHAR(30)\n",
    "                        );\"\n",
    "dbExecute(db, main_table)"
   ]
  },
  {
   "cell_type": "code",
   "execution_count": 17,
   "id": "03595bc3",
   "metadata": {
    "vscode": {
     "languageId": "r"
    }
   },
   "outputs": [
    {
     "data": {
      "text/html": [
       "'species'"
      ],
      "text/latex": [
       "'species'"
      ],
      "text/markdown": [
       "'species'"
      ],
      "text/plain": [
       "[1] \"species\""
      ]
     },
     "metadata": {},
     "output_type": "display_data"
    }
   ],
   "source": [
    "#Check if the table was created successfully\n",
    "dbListTables(db)"
   ]
  },
  {
   "cell_type": "markdown",
   "id": "5fce16a7",
   "metadata": {},
   "source": [
    "Great! Time to populate the database:<br>\n",
    "Don't forget to recycle your code you worked so hard to complete for Assignment #6-#8 :) "
   ]
  },
  {
   "cell_type": "code",
   "execution_count": 18,
   "id": "192e2999",
   "metadata": {
    "vscode": {
     "languageId": "r"
    }
   },
   "outputs": [
    {
     "data": {
      "text/html": [
       "<style>\n",
       ".list-inline {list-style: none; margin:0; padding: 0}\n",
       ".list-inline>li {display: inline-block}\n",
       ".list-inline>li:not(:last-child)::after {content: \"\\00b7\"; padding: 0 .5ex}\n",
       "</style>\n",
       "<ol class=list-inline><li>'id'</li><li>'common_name'</li><li>'taxon_name'</li></ol>\n"
      ],
      "text/latex": [
       "\\begin{enumerate*}\n",
       "\\item 'id'\n",
       "\\item 'common\\_name'\n",
       "\\item 'taxon\\_name'\n",
       "\\end{enumerate*}\n"
      ],
      "text/markdown": [
       "1. 'id'\n",
       "2. 'common_name'\n",
       "3. 'taxon_name'\n",
       "\n",
       "\n"
      ],
      "text/plain": [
       "[1] \"id\"          \"common_name\" \"taxon_name\" "
      ]
     },
     "metadata": {},
     "output_type": "display_data"
    }
   ],
   "source": [
    "#Time to populate:\n",
    "#There are multiple ways to populate the fields of the table. \n",
    "#Another option is to add a subset of the data into data table, and then populate the database table.\n",
    "\n",
    "#This is our table name we created\n",
    "table_name = \"species\"\n",
    "\n",
    "#Write a query that will show the column names from the table we created\n",
    "query = sprintf(\"PRAGMA table_info(%s);\", table_name)\n",
    "\n",
    "#Get the query and retrieve the column/field names from the database(con)\n",
    "db_columns = dbGetQuery(db, query)$name\n",
    "\n",
    "#Define the common columns between the CSV data (Column names) and the database (Table fields)\n",
    "common_columns = intersect(colnames(database_data), db_columns)\n",
    "\n",
    "#These are the ONLY columns that we will transfer into the table. I like to print them to make sure they are correct.\n",
    "common_columns"
   ]
  },
  {
   "cell_type": "code",
   "execution_count": 19,
   "id": "54475bd5",
   "metadata": {
    "vscode": {
     "languageId": "r"
    }
   },
   "outputs": [
    {
     "data": {
      "text/html": [
       "<table class=\"dataframe\">\n",
       "<caption>A data.frame: 1 × 3</caption>\n",
       "<thead>\n",
       "\t<tr><th></th><th scope=col>id</th><th scope=col>common_name</th><th scope=col>taxon_name</th></tr>\n",
       "\t<tr><th></th><th scope=col>&lt;int&gt;</th><th scope=col>&lt;chr&gt;</th><th scope=col>&lt;chr&gt;</th></tr>\n",
       "</thead>\n",
       "<tbody>\n",
       "\t<tr><th scope=row>1</th><td>37567809</td><td>Northern Diamondback Terrapin</td><td>Malaclemys terrapin terrapin</td></tr>\n",
       "</tbody>\n",
       "</table>\n"
      ],
      "text/latex": [
       "A data.frame: 1 × 3\n",
       "\\begin{tabular}{r|lll}\n",
       "  & id & common\\_name & taxon\\_name\\\\\n",
       "  & <int> & <chr> & <chr>\\\\\n",
       "\\hline\n",
       "\t1 & 37567809 & Northern Diamondback Terrapin & Malaclemys terrapin terrapin\\\\\n",
       "\\end{tabular}\n"
      ],
      "text/markdown": [
       "\n",
       "A data.frame: 1 × 3\n",
       "\n",
       "| <!--/--> | id &lt;int&gt; | common_name &lt;chr&gt; | taxon_name &lt;chr&gt; |\n",
       "|---|---|---|---|\n",
       "| 1 | 37567809 | Northern Diamondback Terrapin | Malaclemys terrapin terrapin |\n",
       "\n"
      ],
      "text/plain": [
       "  id       common_name                   taxon_name                  \n",
       "1 37567809 Northern Diamondback Terrapin Malaclemys terrapin terrapin"
      ]
     },
     "metadata": {},
     "output_type": "display_data"
    }
   ],
   "source": [
    "#Create a subset of the original .csv data turtles with only the specified column names.\n",
    "species_subset = database_data[, common_columns, drop = FALSE]\n",
    "\n",
    "#Always double checking because I think somehow it saves me time!\n",
    "\n",
    "head(species_subset,1)"
   ]
  },
  {
   "cell_type": "code",
   "execution_count": 20,
   "id": "86581826",
   "metadata": {
    "vscode": {
     "languageId": "r"
    }
   },
   "outputs": [],
   "source": [
    "#Write the data to the database:\n",
    "dbWriteTable(db, species_subset, name = \"species\", append = TRUE, row.names = FALSE, )"
   ]
  },
  {
   "cell_type": "code",
   "execution_count": 21,
   "id": "f2077fbd",
   "metadata": {
    "vscode": {
     "languageId": "r"
    }
   },
   "outputs": [
    {
     "data": {
      "text/html": [
       "<table class=\"dataframe\">\n",
       "<caption>A data.frame: 1 × 3</caption>\n",
       "<thead>\n",
       "\t<tr><th scope=col>id</th><th scope=col>taxon_name</th><th scope=col>common_name</th></tr>\n",
       "\t<tr><th scope=col>&lt;int&gt;</th><th scope=col>&lt;chr&gt;</th><th scope=col>&lt;chr&gt;</th></tr>\n",
       "</thead>\n",
       "<tbody>\n",
       "\t<tr><td>37567809</td><td>Malaclemys terrapin terrapin</td><td>Northern Diamondback Terrapin</td></tr>\n",
       "</tbody>\n",
       "</table>\n"
      ],
      "text/latex": [
       "A data.frame: 1 × 3\n",
       "\\begin{tabular}{lll}\n",
       " id & taxon\\_name & common\\_name\\\\\n",
       " <int> & <chr> & <chr>\\\\\n",
       "\\hline\n",
       "\t 37567809 & Malaclemys terrapin terrapin & Northern Diamondback Terrapin\\\\\n",
       "\\end{tabular}\n"
      ],
      "text/markdown": [
       "\n",
       "A data.frame: 1 × 3\n",
       "\n",
       "| id &lt;int&gt; | taxon_name &lt;chr&gt; | common_name &lt;chr&gt; |\n",
       "|---|---|---|\n",
       "| 37567809 | Malaclemys terrapin terrapin | Northern Diamondback Terrapin |\n",
       "\n"
      ],
      "text/plain": [
       "  id       taxon_name                   common_name                  \n",
       "1 37567809 Malaclemys terrapin terrapin Northern Diamondback Terrapin"
      ]
     },
     "metadata": {},
     "output_type": "display_data"
    }
   ],
   "source": [
    "# check if it was populated\n",
    "test_1 = dbGetQuery(db, \"Select *\n",
    "                        FROM species\n",
    "                        LIMIT 1\")\n",
    "\n",
    "test_1"
   ]
  },
  {
   "cell_type": "markdown",
   "id": "6a7447d7",
   "metadata": {},
   "source": [
    "### Table 2"
   ]
  },
  {
   "cell_type": "code",
   "execution_count": 22,
   "id": "69c209c9",
   "metadata": {
    "vscode": {
     "languageId": "r"
    }
   },
   "outputs": [
    {
     "data": {
      "text/html": [
       "0"
      ],
      "text/latex": [
       "0"
      ],
      "text/markdown": [
       "0"
      ],
      "text/plain": [
       "[1] 0"
      ]
     },
     "metadata": {},
     "output_type": "display_data"
    }
   ],
   "source": [
    "#Create the second table \n",
    "observations = \"CREATE TABLE IF NOT EXISTS turtle_observation (\n",
    "                        id INTEGER,\n",
    "                        observed_date DATE,\n",
    "                        day_of_year INTEGER,\n",
    "                        place_guess VARCHAR(500),\n",
    "                        location VARCHAR(255),\n",
    "                        quality_grade VARCHAR(8),\n",
    "                        annotations VARCHAR(4697),\n",
    "                        tags VARCHAR(160),\n",
    "                        ofvs VARCHAR(7677),\n",
    "                        FOREIGN KEY (id) REFERENCES species(id)\n",
    "                        );\"\n",
    "\n",
    "dbExecute(db, observations)"
   ]
  },
  {
   "cell_type": "code",
   "execution_count": 23,
   "id": "63f8fad7",
   "metadata": {
    "vscode": {
     "languageId": "r"
    }
   },
   "outputs": [
    {
     "data": {
      "text/html": [
       "<style>\n",
       ".list-inline {list-style: none; margin:0; padding: 0}\n",
       ".list-inline>li {display: inline-block}\n",
       ".list-inline>li:not(:last-child)::after {content: \"\\00b7\"; padding: 0 .5ex}\n",
       "</style>\n",
       "<ol class=list-inline><li>'species'</li><li>'turtle_observation'</li></ol>\n"
      ],
      "text/latex": [
       "\\begin{enumerate*}\n",
       "\\item 'species'\n",
       "\\item 'turtle\\_observation'\n",
       "\\end{enumerate*}\n"
      ],
      "text/markdown": [
       "1. 'species'\n",
       "2. 'turtle_observation'\n",
       "\n",
       "\n"
      ],
      "text/plain": [
       "[1] \"species\"            \"turtle_observation\""
      ]
     },
     "metadata": {},
     "output_type": "display_data"
    }
   ],
   "source": [
    "# Check if the table was created successfully\n",
    "dbListTables(db)"
   ]
  },
  {
   "cell_type": "code",
   "execution_count": 24,
   "id": "027bed90",
   "metadata": {
    "vscode": {
     "languageId": "r"
    }
   },
   "outputs": [
    {
     "data": {
      "text/html": [
       "<style>\n",
       ".list-inline {list-style: none; margin:0; padding: 0}\n",
       ".list-inline>li {display: inline-block}\n",
       ".list-inline>li:not(:last-child)::after {content: \"\\00b7\"; padding: 0 .5ex}\n",
       "</style>\n",
       "<ol class=list-inline><li>'id'</li><li>'observed_date'</li><li>'day_of_year'</li><li>'place_guess'</li><li>'location'</li><li>'quality_grade'</li><li>'annotations'</li><li>'ofvs'</li><li>'tags'</li></ol>\n"
      ],
      "text/latex": [
       "\\begin{enumerate*}\n",
       "\\item 'id'\n",
       "\\item 'observed\\_date'\n",
       "\\item 'day\\_of\\_year'\n",
       "\\item 'place\\_guess'\n",
       "\\item 'location'\n",
       "\\item 'quality\\_grade'\n",
       "\\item 'annotations'\n",
       "\\item 'ofvs'\n",
       "\\item 'tags'\n",
       "\\end{enumerate*}\n"
      ],
      "text/markdown": [
       "1. 'id'\n",
       "2. 'observed_date'\n",
       "3. 'day_of_year'\n",
       "4. 'place_guess'\n",
       "5. 'location'\n",
       "6. 'quality_grade'\n",
       "7. 'annotations'\n",
       "8. 'ofvs'\n",
       "9. 'tags'\n",
       "\n",
       "\n"
      ],
      "text/plain": [
       "[1] \"id\"            \"observed_date\" \"day_of_year\"   \"place_guess\"  \n",
       "[5] \"location\"      \"quality_grade\" \"annotations\"   \"ofvs\"         \n",
       "[9] \"tags\"         "
      ]
     },
     "metadata": {},
     "output_type": "display_data"
    }
   ],
   "source": [
    "#This is our table name we created\n",
    "table_name = \"turtle_observation\"\n",
    "\n",
    "#Write a query that will show the column names from the table we created\n",
    "query = sprintf(\"PRAGMA table_info(%s);\", table_name)\n",
    "\n",
    "#Get the query and retrieve the column/field names from the database(con)\n",
    "db_columns = dbGetQuery(db, query)$name\n",
    "\n",
    "#Define the common columns between the CSV data (Column names) and the database (Table fields)\n",
    "common_columns = intersect(colnames(database_data), db_columns)\n",
    "\n",
    "#These are the ONLY columns that we will transfer into the table. I like to print them to make sure they are correct.\n",
    "common_columns"
   ]
  },
  {
   "cell_type": "code",
   "execution_count": 25,
   "id": "0962c859",
   "metadata": {
    "vscode": {
     "languageId": "r"
    }
   },
   "outputs": [
    {
     "data": {
      "text/html": [
       "<table class=\"dataframe\">\n",
       "<caption>A data.frame: 2 × 9</caption>\n",
       "<thead>\n",
       "\t<tr><th></th><th scope=col>id</th><th scope=col>observed_date</th><th scope=col>day_of_year</th><th scope=col>place_guess</th><th scope=col>location</th><th scope=col>quality_grade</th><th scope=col>annotations</th><th scope=col>ofvs</th><th scope=col>tags</th></tr>\n",
       "\t<tr><th></th><th scope=col>&lt;int&gt;</th><th scope=col>&lt;chr&gt;</th><th scope=col>&lt;dbl&gt;</th><th scope=col>&lt;chr&gt;</th><th scope=col>&lt;chr&gt;</th><th scope=col>&lt;chr&gt;</th><th scope=col>&lt;list&gt;</th><th scope=col>&lt;list&gt;</th><th scope=col>&lt;list&gt;</th></tr>\n",
       "</thead>\n",
       "<tbody>\n",
       "\t<tr><th scope=row>1</th><td>37567809</td><td>2020-01-02</td><td> 2</td><td>New Jersey, US</td><td>39.066489359,-74.884423107 </td><td>research</td><td>NULL</td><td>NULL</td><td>NULL</td></tr>\n",
       "\t<tr><th scope=row>2</th><td>38574014</td><td>2020-02-12</td><td>43</td><td>New Jersey, US</td><td>39.5291683551,-74.581864312</td><td>research</td><td>3c10f15d-cfd0-44cd-86c3-d215c6fc6ec1                                                 , 17                                                                                   , 19                                                                                   , 17|19                                                                                , 0                                                                                    , 1388999                                                                              , 1388999                                                                              , erin_allison                                                                         , FALSE                                                                                , FALSE                                                                                , 2018-12-12T20:23:13+00:00                                                            , erin_allison                                                                         , erin_allison                                                                         , erin                                                                                 , erin                                                                                 , NA                                                                                   , https://static.inaturalist.org/attachments/users/icons/1388999/thumb.jpeg?1624476817 , 1631                                                                                 , 190                                                                                  , 0                                                                                    , 1821                                                                                 , 857                                                                                  , 1631                                                                                 , 1                                                                                    , https://static.inaturalist.org/attachments/users/icons/1388999/medium.jpeg?1624476817</td><td>NULL</td><td>NULL</td></tr>\n",
       "</tbody>\n",
       "</table>\n"
      ],
      "text/latex": [
       "A data.frame: 2 × 9\n",
       "\\begin{tabular}{r|lllllllll}\n",
       "  & id & observed\\_date & day\\_of\\_year & place\\_guess & location & quality\\_grade & annotations & ofvs & tags\\\\\n",
       "  & <int> & <chr> & <dbl> & <chr> & <chr> & <chr> & <list> & <list> & <list>\\\\\n",
       "\\hline\n",
       "\t1 & 37567809 & 2020-01-02 &  2 & New Jersey, US & 39.066489359,-74.884423107  & research & NULL & NULL & NULL\\\\\n",
       "\t2 & 38574014 & 2020-02-12 & 43 & New Jersey, US & 39.5291683551,-74.581864312 & research & 3c10f15d-cfd0-44cd-86c3-d215c6fc6ec1                                                 , 17                                                                                   , 19                                                                                   , 17\\textbar{}19                                                                                , 0                                                                                    , 1388999                                                                              , 1388999                                                                              , erin\\_allison                                                                         , FALSE                                                                                , FALSE                                                                                , 2018-12-12T20:23:13+00:00                                                            , erin\\_allison                                                                         , erin\\_allison                                                                         , erin                                                                                 , erin                                                                                 , NA                                                                                   , https://static.inaturalist.org/attachments/users/icons/1388999/thumb.jpeg?1624476817 , 1631                                                                                 , 190                                                                                  , 0                                                                                    , 1821                                                                                 , 857                                                                                  , 1631                                                                                 , 1                                                                                    , https://static.inaturalist.org/attachments/users/icons/1388999/medium.jpeg?1624476817 & NULL & NULL\\\\\n",
       "\\end{tabular}\n"
      ],
      "text/markdown": [
       "\n",
       "A data.frame: 2 × 9\n",
       "\n",
       "| <!--/--> | id &lt;int&gt; | observed_date &lt;chr&gt; | day_of_year &lt;dbl&gt; | place_guess &lt;chr&gt; | location &lt;chr&gt; | quality_grade &lt;chr&gt; | annotations &lt;list&gt; | ofvs &lt;list&gt; | tags &lt;list&gt; |\n",
       "|---|---|---|---|---|---|---|---|---|---|\n",
       "| 1 | 37567809 | 2020-01-02 |  2 | New Jersey, US | 39.066489359,-74.884423107  | research | NULL | NULL | NULL |\n",
       "| 2 | 38574014 | 2020-02-12 | 43 | New Jersey, US | 39.5291683551,-74.581864312 | research | 3c10f15d-cfd0-44cd-86c3-d215c6fc6ec1                                                 , 17                                                                                   , 19                                                                                   , 17|19                                                                                , 0                                                                                    , 1388999                                                                              , 1388999                                                                              , erin_allison                                                                         , FALSE                                                                                , FALSE                                                                                , 2018-12-12T20:23:13+00:00                                                            , erin_allison                                                                         , erin_allison                                                                         , erin                                                                                 , erin                                                                                 , NA                                                                                   , https://static.inaturalist.org/attachments/users/icons/1388999/thumb.jpeg?1624476817 , 1631                                                                                 , 190                                                                                  , 0                                                                                    , 1821                                                                                 , 857                                                                                  , 1631                                                                                 , 1                                                                                    , https://static.inaturalist.org/attachments/users/icons/1388999/medium.jpeg?1624476817 | NULL | NULL |\n",
       "\n"
      ],
      "text/plain": [
       "  id       observed_date day_of_year place_guess    location                   \n",
       "1 37567809 2020-01-02     2          New Jersey, US 39.066489359,-74.884423107 \n",
       "2 38574014 2020-02-12    43          New Jersey, US 39.5291683551,-74.581864312\n",
       "  quality_grade\n",
       "1 research     \n",
       "2 research     \n",
       "  annotations                                                                                                                                                                                                                                                                                                                                                                                                                                                                                                                                                                                                                                                                                                                                                                                                                                                                                                                                                                                                                                                                                                                                                                                                                                                                                                                                                                                                                                                                                                                                                                                                                                                                                                                                                                                                                                                                                                                                                                                                                                                                                                                                                                                                                                                  \n",
       "1 NULL                                                                                                                                                                                                                                                                                                                                                                                                                                                                                                                                                                                                                                                                                                                                                                                                                                                                                                                                                                                                                                                                                                                                                                                                                                                                                                                                                                                                                                                                                                                                                                                                                                                                                                                                                                                                                                                                                                                                                                                                                                                                                                                                                                                                                                                         \n",
       "2 3c10f15d-cfd0-44cd-86c3-d215c6fc6ec1                                                 , 17                                                                                   , 19                                                                                   , 17|19                                                                                , 0                                                                                    , 1388999                                                                              , 1388999                                                                              , erin_allison                                                                         , FALSE                                                                                , FALSE                                                                                , 2018-12-12T20:23:13+00:00                                                            , erin_allison                                                                         , erin_allison                                                                         , erin                                                                                 , erin                                                                                 , NA                                                                                   , https://static.inaturalist.org/attachments/users/icons/1388999/thumb.jpeg?1624476817 , 1631                                                                                 , 190                                                                                  , 0                                                                                    , 1821                                                                                 , 857                                                                                  , 1631                                                                                 , 1                                                                                    , https://static.inaturalist.org/attachments/users/icons/1388999/medium.jpeg?1624476817\n",
       "  ofvs tags\n",
       "1 NULL NULL\n",
       "2 NULL NULL"
      ]
     },
     "metadata": {},
     "output_type": "display_data"
    }
   ],
   "source": [
    "# Create a subset of the original .csv data turtles with only the specified column names.\n",
    "observation_subset <- database_data[, common_columns, drop = FALSE]\n",
    "\n",
    "# Read the date column as DATE. Specify the format as Month/Day/Year\n",
    "observation_subset$observed_date <- as.Date(observation_subset$observed_date, format = \"%y/%m/%d\")\n",
    "\n",
    "# Because of how R stores dates we will need to make the change \n",
    "observation_subset$observed_date = as.character(observation_subset$observed_date)\n",
    "\n",
    "head(observation_subset,2)"
   ]
  },
  {
   "cell_type": "code",
   "execution_count": null,
   "id": "da0d9409",
   "metadata": {
    "vscode": {
     "languageId": "r"
    }
   },
   "outputs": [],
   "source": [
    "str(observation_subset)"
   ]
  },
  {
   "cell_type": "markdown",
   "id": "6ea74ba3",
   "metadata": {},
   "source": [
    "My data is showing my annotations column as a list so I want to convert it to a character string for SQL:"
   ]
  },
  {
   "cell_type": "code",
   "execution_count": 27,
   "id": "60c4c41c",
   "metadata": {
    "vscode": {
     "languageId": "r"
    }
   },
   "outputs": [
    {
     "data": {
      "text/html": [
       "<table class=\"dataframe\">\n",
       "<caption>A data.frame: 2 × 9</caption>\n",
       "<thead>\n",
       "\t<tr><th></th><th scope=col>id</th><th scope=col>observed_date</th><th scope=col>day_of_year</th><th scope=col>place_guess</th><th scope=col>location</th><th scope=col>quality_grade</th><th scope=col>annotations</th><th scope=col>ofvs</th><th scope=col>tags</th></tr>\n",
       "\t<tr><th></th><th scope=col>&lt;int&gt;</th><th scope=col>&lt;chr&gt;</th><th scope=col>&lt;dbl&gt;</th><th scope=col>&lt;chr&gt;</th><th scope=col>&lt;chr&gt;</th><th scope=col>&lt;chr&gt;</th><th scope=col>&lt;chr&gt;</th><th scope=col>&lt;chr&gt;</th><th scope=col>&lt;chr&gt;</th></tr>\n",
       "</thead>\n",
       "<tbody>\n",
       "\t<tr><th scope=row>1</th><td>37567809</td><td>2020-01-02</td><td> 2</td><td>New Jersey, US</td><td>39.066489359,-74.884423107 </td><td>research</td><td>                                                                                                                                                                                                                                                                                                                                                                                                                      </td><td></td><td></td></tr>\n",
       "\t<tr><th scope=row>2</th><td>38574014</td><td>2020-02-12</td><td>43</td><td>New Jersey, US</td><td>39.5291683551,-74.581864312</td><td>research</td><td>3c10f15d-cfd0-44cd-86c3-d215c6fc6ec1, 17, 19, 17|19, 0, 1388999, list(list()), 1388999, erin_allison, FALSE, FALSE, 2018-12-12T20:23:13+00:00, erin_allison, erin_allison, erin, erin, NA, https://static.inaturalist.org/attachments/users/icons/1388999/thumb.jpeg?1624476817, 1631, 190, 0, 1821, 857, 1631, list(list()), 1, https://static.inaturalist.org/attachments/users/icons/1388999/medium.jpeg?1624476817</td><td></td><td></td></tr>\n",
       "</tbody>\n",
       "</table>\n"
      ],
      "text/latex": [
       "A data.frame: 2 × 9\n",
       "\\begin{tabular}{r|lllllllll}\n",
       "  & id & observed\\_date & day\\_of\\_year & place\\_guess & location & quality\\_grade & annotations & ofvs & tags\\\\\n",
       "  & <int> & <chr> & <dbl> & <chr> & <chr> & <chr> & <chr> & <chr> & <chr>\\\\\n",
       "\\hline\n",
       "\t1 & 37567809 & 2020-01-02 &  2 & New Jersey, US & 39.066489359,-74.884423107  & research &                                                                                                                                                                                                                                                                                                                                                                                                                        &  & \\\\\n",
       "\t2 & 38574014 & 2020-02-12 & 43 & New Jersey, US & 39.5291683551,-74.581864312 & research & 3c10f15d-cfd0-44cd-86c3-d215c6fc6ec1, 17, 19, 17\\textbar{}19, 0, 1388999, list(list()), 1388999, erin\\_allison, FALSE, FALSE, 2018-12-12T20:23:13+00:00, erin\\_allison, erin\\_allison, erin, erin, NA, https://static.inaturalist.org/attachments/users/icons/1388999/thumb.jpeg?1624476817, 1631, 190, 0, 1821, 857, 1631, list(list()), 1, https://static.inaturalist.org/attachments/users/icons/1388999/medium.jpeg?1624476817 &  & \\\\\n",
       "\\end{tabular}\n"
      ],
      "text/markdown": [
       "\n",
       "A data.frame: 2 × 9\n",
       "\n",
       "| <!--/--> | id &lt;int&gt; | observed_date &lt;chr&gt; | day_of_year &lt;dbl&gt; | place_guess &lt;chr&gt; | location &lt;chr&gt; | quality_grade &lt;chr&gt; | annotations &lt;chr&gt; | ofvs &lt;chr&gt; | tags &lt;chr&gt; |\n",
       "|---|---|---|---|---|---|---|---|---|---|\n",
       "| 1 | 37567809 | 2020-01-02 |  2 | New Jersey, US | 39.066489359,-74.884423107  | research | <!----> | <!----> | <!----> |\n",
       "| 2 | 38574014 | 2020-02-12 | 43 | New Jersey, US | 39.5291683551,-74.581864312 | research | 3c10f15d-cfd0-44cd-86c3-d215c6fc6ec1, 17, 19, 17|19, 0, 1388999, list(list()), 1388999, erin_allison, FALSE, FALSE, 2018-12-12T20:23:13+00:00, erin_allison, erin_allison, erin, erin, NA, https://static.inaturalist.org/attachments/users/icons/1388999/thumb.jpeg?1624476817, 1631, 190, 0, 1821, 857, 1631, list(list()), 1, https://static.inaturalist.org/attachments/users/icons/1388999/medium.jpeg?1624476817 | <!----> | <!----> |\n",
       "\n"
      ],
      "text/plain": [
       "  id       observed_date day_of_year place_guess    location                   \n",
       "1 37567809 2020-01-02     2          New Jersey, US 39.066489359,-74.884423107 \n",
       "2 38574014 2020-02-12    43          New Jersey, US 39.5291683551,-74.581864312\n",
       "  quality_grade\n",
       "1 research     \n",
       "2 research     \n",
       "  annotations                                                                                                                                                                                                                                                                                                                                                                                                           \n",
       "1                                                                                                                                                                                                                                                                                                                                                                                                                       \n",
       "2 3c10f15d-cfd0-44cd-86c3-d215c6fc6ec1, 17, 19, 17|19, 0, 1388999, list(list()), 1388999, erin_allison, FALSE, FALSE, 2018-12-12T20:23:13+00:00, erin_allison, erin_allison, erin, erin, NA, https://static.inaturalist.org/attachments/users/icons/1388999/thumb.jpeg?1624476817, 1631, 190, 0, 1821, 857, 1631, list(list()), 1, https://static.inaturalist.org/attachments/users/icons/1388999/medium.jpeg?1624476817\n",
       "  ofvs tags\n",
       "1          \n",
       "2          "
      ]
     },
     "metadata": {},
     "output_type": "display_data"
    }
   ],
   "source": [
    "#Meow\n",
    "library(purrr)\n",
    "#Convert the list column to a character vector for MySQL! I converted the annotations, ofvs, and tags fields.\n",
    "observation_subset$annotations <- map_chr(observation_subset$annotations, toString)\n",
    "observation_subset$ofvs <- map_chr(observation_subset$ofvs, toString)\n",
    "observation_subset$tags <- map_chr(observation_subset$tags, toString)\n",
    "\n",
    "head(observation_subset,2)"
   ]
  },
  {
   "cell_type": "code",
   "execution_count": 28,
   "id": "2811edb7",
   "metadata": {
    "vscode": {
     "languageId": "r"
    }
   },
   "outputs": [],
   "source": [
    "\n",
    "#Write the data to the database:\n",
    "dbWriteTable(db, observation_subset, name = \"turtle_observation\", append = TRUE,row.names = FALSE,  )"
   ]
  },
  {
   "cell_type": "code",
   "execution_count": 29,
   "id": "ac11a35b",
   "metadata": {
    "vscode": {
     "languageId": "r"
    }
   },
   "outputs": [
    {
     "data": {
      "text/html": [
       "<table class=\"dataframe\">\n",
       "<caption>A data.frame: 1 × 9</caption>\n",
       "<thead>\n",
       "\t<tr><th scope=col>id</th><th scope=col>observed_date</th><th scope=col>day_of_year</th><th scope=col>place_guess</th><th scope=col>location</th><th scope=col>quality_grade</th><th scope=col>annotations</th><th scope=col>tags</th><th scope=col>ofvs</th></tr>\n",
       "\t<tr><th scope=col>&lt;int&gt;</th><th scope=col>&lt;chr&gt;</th><th scope=col>&lt;int&gt;</th><th scope=col>&lt;chr&gt;</th><th scope=col>&lt;chr&gt;</th><th scope=col>&lt;chr&gt;</th><th scope=col>&lt;chr&gt;</th><th scope=col>&lt;chr&gt;</th><th scope=col>&lt;chr&gt;</th></tr>\n",
       "</thead>\n",
       "<tbody>\n",
       "\t<tr><td>37567809</td><td>2020-01-02</td><td>2</td><td>New Jersey, US</td><td>39.066489359,-74.884423107</td><td>research</td><td></td><td></td><td></td></tr>\n",
       "</tbody>\n",
       "</table>\n"
      ],
      "text/latex": [
       "A data.frame: 1 × 9\n",
       "\\begin{tabular}{lllllllll}\n",
       " id & observed\\_date & day\\_of\\_year & place\\_guess & location & quality\\_grade & annotations & tags & ofvs\\\\\n",
       " <int> & <chr> & <int> & <chr> & <chr> & <chr> & <chr> & <chr> & <chr>\\\\\n",
       "\\hline\n",
       "\t 37567809 & 2020-01-02 & 2 & New Jersey, US & 39.066489359,-74.884423107 & research &  &  & \\\\\n",
       "\\end{tabular}\n"
      ],
      "text/markdown": [
       "\n",
       "A data.frame: 1 × 9\n",
       "\n",
       "| id &lt;int&gt; | observed_date &lt;chr&gt; | day_of_year &lt;int&gt; | place_guess &lt;chr&gt; | location &lt;chr&gt; | quality_grade &lt;chr&gt; | annotations &lt;chr&gt; | tags &lt;chr&gt; | ofvs &lt;chr&gt; |\n",
       "|---|---|---|---|---|---|---|---|---|\n",
       "| 37567809 | 2020-01-02 | 2 | New Jersey, US | 39.066489359,-74.884423107 | research | <!----> | <!----> | <!----> |\n",
       "\n"
      ],
      "text/plain": [
       "  id       observed_date day_of_year place_guess    location                  \n",
       "1 37567809 2020-01-02    2           New Jersey, US 39.066489359,-74.884423107\n",
       "  quality_grade annotations tags ofvs\n",
       "1 research                           "
      ]
     },
     "metadata": {},
     "output_type": "display_data"
    }
   ],
   "source": [
    "# check if all the column names are there\n",
    "test_2 = dbGetQuery(db, \"Select *\n",
    "                        FROM turtle_observation\n",
    "                        LIMIT 1\")\n",
    "\n",
    "test_2"
   ]
  },
  {
   "cell_type": "markdown",
   "id": "e0dbf0d8",
   "metadata": {},
   "source": [
    "### Repeat steps for the next to species tables"
   ]
  },
  {
   "cell_type": "code",
   "execution_count": 30,
   "id": "d40b6856",
   "metadata": {
    "vscode": {
     "languageId": "r"
    }
   },
   "outputs": [],
   "source": [
    "# Atlantic menhaden\n",
    "am_taxon_id = 51363\n",
    "get_obs = function(am_max_id) {\n",
    "  call = paste(\"https://api.inaturalist.org/v1/observations?taxon_id=\", am_taxon_id, \"&place_id=any&d1=2020-01-01&per_page=200&order_by=id&order=asc&id_above=0\", \n",
    "                am_max_id, sep=\"\")\n",
    "    am_get_call_json = fromJSON(\n",
    "    content(GET(url = call),as = \"text\", encoding = \"UTF-8\"),\n",
    "    flatten = TRUE)\n",
    "    as.data.frame(am_get_call_json$results)\n",
    "}"
   ]
  },
  {
   "cell_type": "code",
   "execution_count": 31,
   "id": "7dda7c5d",
   "metadata": {
    "vscode": {
     "languageId": "r"
    }
   },
   "outputs": [
    {
     "name": "stdout",
     "output_type": "stream",
     "text": [
      "[1] \"page_20\"\n",
      "[1] 67770940\n",
      "[1] \"page_20\"\n",
      "[1] 84355509\n",
      "[1] \"page_20\"\n",
      "[1] 97691197\n",
      "[1] \"page_20\"\n",
      "[1] 113896048\n",
      "[1] \"page_20\"\n",
      "[1] 132156173\n",
      "[1] \"page_20\"\n",
      "[1] 143446947\n",
      "[1] \"page_20\"\n",
      "[1] 171958729\n",
      "[1] \"page_20\"\n",
      "[1] 181238451\n",
      "[1] \"page_20\"\n",
      "[1] 207214883\n"
     ]
    }
   ],
   "source": [
    "am_obs = get_obs(am_max_id = 0)\n",
    "am_max_id = max(am_obs[[\"id\"]])\n",
    "am_thisisalist = list(page_1 = am_obs)\n",
    "am_page = 1\n",
    "while (nrow(am_obs) == 200) {\n",
    "    Sys.sleep(0.5)\n",
    "    am_page = am_page + 1\n",
    "    am_page_count = paste(\"page\", page, sep = \"_\")\n",
    "    am_obs = get_obs(am_max_id = am_max_id)\n",
    "    am_thisisalist[[page_count]] = am_obs\n",
    "    am_max_id = max(am_obs[[\"id\"]])\n",
    "    print(page_count)\n",
    "    print(am_max_id)}"
   ]
  },
  {
   "cell_type": "code",
   "execution_count": 32,
   "id": "396fd7b8",
   "metadata": {
    "vscode": {
     "languageId": "r"
    }
   },
   "outputs": [
    {
     "data": {
      "text/html": [
       "<style>\n",
       ".list-inline {list-style: none; margin:0; padding: 0}\n",
       ".list-inline>li {display: inline-block}\n",
       ".list-inline>li:not(:last-child)::after {content: \"\\00b7\"; padding: 0 .5ex}\n",
       "</style>\n",
       "<ol class=list-inline><li>397</li><li>137</li></ol>\n"
      ],
      "text/latex": [
       "\\begin{enumerate*}\n",
       "\\item 397\n",
       "\\item 137\n",
       "\\end{enumerate*}\n"
      ],
      "text/markdown": [
       "1. 397\n",
       "2. 137\n",
       "\n",
       "\n"
      ],
      "text/plain": [
       "[1] 397 137"
      ]
     },
     "metadata": {},
     "output_type": "display_data"
    }
   ],
   "source": [
    "am_thisisnotalist = bind_rows(am_thisisalist)\n",
    "dim(am_thisisnotalist)"
   ]
  },
  {
   "cell_type": "code",
   "execution_count": 33,
   "id": "a6bde3bd",
   "metadata": {
    "vscode": {
     "languageId": "r"
    }
   },
   "outputs": [
    {
     "data": {
      "text/html": [
       "<style>\n",
       ".list-inline {list-style: none; margin:0; padding: 0}\n",
       ".list-inline>li {display: inline-block}\n",
       ".list-inline>li:not(:last-child)::after {content: \"\\00b7\"; padding: 0 .5ex}\n",
       "</style>\n",
       "<ol class=list-inline><li>'quality_grade'</li><li>'time_observed_at'</li><li>'taxon_geoprivacy'</li><li>'annotations'</li><li>'uuid'</li><li>'id'</li><li>'cached_votes_total'</li><li>'identifications_most_agree'</li><li>'species_guess'</li><li>'identifications_most_disagree'</li><li>'tags'</li><li>'positional_accuracy'</li><li>'comments_count'</li><li>'site_id'</li><li>'created_time_zone'</li><li>'license_code'</li><li>'observed_time_zone'</li><li>'quality_metrics'</li><li>'public_positional_accuracy'</li><li>'reviewed_by'</li><li>'oauth_application_id'</li><li>'flags'</li><li>'created_at'</li><li>'description'</li><li>'time_zone_offset'</li><li>'project_ids_with_curator_id'</li><li>'observed_on'</li><li>'observed_on_string'</li><li>'updated_at'</li><li>'sounds'</li><li>'place_ids'</li><li>'captive'</li><li>'ident_taxon_ids'</li><li>'outlinks'</li><li>'faves_count'</li><li>'ofvs'</li><li>'num_identification_agreements'</li><li>'comments'</li><li>'map_scale'</li><li>'uri'</li><li>'project_ids'</li><li>'community_taxon_id'</li><li>'owners_identification_from_vision'</li><li>'identifications_count'</li><li>'obscured'</li><li>'num_identification_disagreements'</li><li>'geoprivacy'</li><li>'location'</li><li>'votes'</li><li>'spam'</li><li>'mappable'</li><li>'identifications_some_agree'</li><li>'project_ids_without_curator_id'</li><li>'place_guess'</li><li>'identifications'</li><li>'project_observations'</li><li>'observation_photos'</li><li>'photos'</li><li>'faves'</li><li>'non_owner_ids'</li><li>'observed_on_details.date'</li><li>'observed_on_details.day'</li><li>'observed_on_details.month'</li><li>'observed_on_details.year'</li><li>'observed_on_details.hour'</li><li>'observed_on_details.week'</li><li>'created_at_details.date'</li><li>'created_at_details.day'</li><li>'created_at_details.month'</li><li>'created_at_details.year'</li><li>'created_at_details.hour'</li><li>'created_at_details.week'</li><li>'taxon.is_active'</li><li>'taxon.ancestry'</li><li>'taxon.min_species_ancestry'</li><li>'taxon.endemic'</li><li>'taxon.iconic_taxon_id'</li><li>'taxon.min_species_taxon_id'</li><li>'taxon.threatened'</li><li>'taxon.rank_level'</li><li>'taxon.introduced'</li><li>'taxon.native'</li><li>'taxon.parent_id'</li><li>'taxon.name'</li><li>'taxon.rank'</li><li>'taxon.extinct'</li><li>'taxon.id'</li><li>'taxon.ancestor_ids'</li><li>'taxon.created_at'</li><li>'taxon.taxon_changes_count'</li><li>'taxon.taxon_schemes_count'</li><li>'taxon.observations_count'</li><li>'taxon.photos_locked'</li><li>'taxon.universal_search_rank'</li><li>'taxon.current_synonymous_taxon_ids'</li><li>'taxon.atlas_id'</li><li>'taxon.complete_species_count'</li><li>'taxon.wikipedia_url'</li><li>'taxon.iconic_taxon_name'</li><li>'taxon.preferred_common_name'</li><li>'taxon.default_photo.id'</li><li>'taxon.default_photo.license_code'</li><li>'taxon.default_photo.attribution'</li><li>'taxon.default_photo.url'</li><li>'taxon.default_photo.flags'</li><li>'taxon.default_photo.square_url'</li><li>'taxon.default_photo.medium_url'</li><li>'taxon.default_photo.original_dimensions.height'</li><li>'taxon.default_photo.original_dimensions.width'</li><li>'taxon.flag_counts.resolved'</li><li>'taxon.flag_counts.unresolved'</li><li>'preferences.prefers_community_taxon'</li><li>'geojson.type'</li><li>'geojson.coordinates'</li><li>'user.id'</li><li>'user.login'</li><li>'user.spam'</li><li>'user.suspended'</li><li>'user.created_at'</li><li>'user.site_id'</li><li>'user.login_autocomplete'</li><li>'user.login_exact'</li><li>'user.name'</li><li>'user.name_autocomplete'</li><li>'user.orcid'</li><li>'user.icon'</li><li>'user.observations_count'</li><li>'user.identifications_count'</li><li>'user.journal_posts_count'</li><li>'user.activity_count'</li><li>'user.species_count'</li><li>'user.universal_search_rank'</li><li>'user.roles'</li><li>'user.icon_url'</li><li>'user.preferences.prefers_observation_fields_by'</li><li>'user.preferences.prefers_community_taxa'</li><li>'user.preferences.prefers_project_addition_by'</li><li>'observed_on_date'</li><li>'day_of_year'</li></ol>\n"
      ],
      "text/latex": [
       "\\begin{enumerate*}\n",
       "\\item 'quality\\_grade'\n",
       "\\item 'time\\_observed\\_at'\n",
       "\\item 'taxon\\_geoprivacy'\n",
       "\\item 'annotations'\n",
       "\\item 'uuid'\n",
       "\\item 'id'\n",
       "\\item 'cached\\_votes\\_total'\n",
       "\\item 'identifications\\_most\\_agree'\n",
       "\\item 'species\\_guess'\n",
       "\\item 'identifications\\_most\\_disagree'\n",
       "\\item 'tags'\n",
       "\\item 'positional\\_accuracy'\n",
       "\\item 'comments\\_count'\n",
       "\\item 'site\\_id'\n",
       "\\item 'created\\_time\\_zone'\n",
       "\\item 'license\\_code'\n",
       "\\item 'observed\\_time\\_zone'\n",
       "\\item 'quality\\_metrics'\n",
       "\\item 'public\\_positional\\_accuracy'\n",
       "\\item 'reviewed\\_by'\n",
       "\\item 'oauth\\_application\\_id'\n",
       "\\item 'flags'\n",
       "\\item 'created\\_at'\n",
       "\\item 'description'\n",
       "\\item 'time\\_zone\\_offset'\n",
       "\\item 'project\\_ids\\_with\\_curator\\_id'\n",
       "\\item 'observed\\_on'\n",
       "\\item 'observed\\_on\\_string'\n",
       "\\item 'updated\\_at'\n",
       "\\item 'sounds'\n",
       "\\item 'place\\_ids'\n",
       "\\item 'captive'\n",
       "\\item 'ident\\_taxon\\_ids'\n",
       "\\item 'outlinks'\n",
       "\\item 'faves\\_count'\n",
       "\\item 'ofvs'\n",
       "\\item 'num\\_identification\\_agreements'\n",
       "\\item 'comments'\n",
       "\\item 'map\\_scale'\n",
       "\\item 'uri'\n",
       "\\item 'project\\_ids'\n",
       "\\item 'community\\_taxon\\_id'\n",
       "\\item 'owners\\_identification\\_from\\_vision'\n",
       "\\item 'identifications\\_count'\n",
       "\\item 'obscured'\n",
       "\\item 'num\\_identification\\_disagreements'\n",
       "\\item 'geoprivacy'\n",
       "\\item 'location'\n",
       "\\item 'votes'\n",
       "\\item 'spam'\n",
       "\\item 'mappable'\n",
       "\\item 'identifications\\_some\\_agree'\n",
       "\\item 'project\\_ids\\_without\\_curator\\_id'\n",
       "\\item 'place\\_guess'\n",
       "\\item 'identifications'\n",
       "\\item 'project\\_observations'\n",
       "\\item 'observation\\_photos'\n",
       "\\item 'photos'\n",
       "\\item 'faves'\n",
       "\\item 'non\\_owner\\_ids'\n",
       "\\item 'observed\\_on\\_details.date'\n",
       "\\item 'observed\\_on\\_details.day'\n",
       "\\item 'observed\\_on\\_details.month'\n",
       "\\item 'observed\\_on\\_details.year'\n",
       "\\item 'observed\\_on\\_details.hour'\n",
       "\\item 'observed\\_on\\_details.week'\n",
       "\\item 'created\\_at\\_details.date'\n",
       "\\item 'created\\_at\\_details.day'\n",
       "\\item 'created\\_at\\_details.month'\n",
       "\\item 'created\\_at\\_details.year'\n",
       "\\item 'created\\_at\\_details.hour'\n",
       "\\item 'created\\_at\\_details.week'\n",
       "\\item 'taxon.is\\_active'\n",
       "\\item 'taxon.ancestry'\n",
       "\\item 'taxon.min\\_species\\_ancestry'\n",
       "\\item 'taxon.endemic'\n",
       "\\item 'taxon.iconic\\_taxon\\_id'\n",
       "\\item 'taxon.min\\_species\\_taxon\\_id'\n",
       "\\item 'taxon.threatened'\n",
       "\\item 'taxon.rank\\_level'\n",
       "\\item 'taxon.introduced'\n",
       "\\item 'taxon.native'\n",
       "\\item 'taxon.parent\\_id'\n",
       "\\item 'taxon.name'\n",
       "\\item 'taxon.rank'\n",
       "\\item 'taxon.extinct'\n",
       "\\item 'taxon.id'\n",
       "\\item 'taxon.ancestor\\_ids'\n",
       "\\item 'taxon.created\\_at'\n",
       "\\item 'taxon.taxon\\_changes\\_count'\n",
       "\\item 'taxon.taxon\\_schemes\\_count'\n",
       "\\item 'taxon.observations\\_count'\n",
       "\\item 'taxon.photos\\_locked'\n",
       "\\item 'taxon.universal\\_search\\_rank'\n",
       "\\item 'taxon.current\\_synonymous\\_taxon\\_ids'\n",
       "\\item 'taxon.atlas\\_id'\n",
       "\\item 'taxon.complete\\_species\\_count'\n",
       "\\item 'taxon.wikipedia\\_url'\n",
       "\\item 'taxon.iconic\\_taxon\\_name'\n",
       "\\item 'taxon.preferred\\_common\\_name'\n",
       "\\item 'taxon.default\\_photo.id'\n",
       "\\item 'taxon.default\\_photo.license\\_code'\n",
       "\\item 'taxon.default\\_photo.attribution'\n",
       "\\item 'taxon.default\\_photo.url'\n",
       "\\item 'taxon.default\\_photo.flags'\n",
       "\\item 'taxon.default\\_photo.square\\_url'\n",
       "\\item 'taxon.default\\_photo.medium\\_url'\n",
       "\\item 'taxon.default\\_photo.original\\_dimensions.height'\n",
       "\\item 'taxon.default\\_photo.original\\_dimensions.width'\n",
       "\\item 'taxon.flag\\_counts.resolved'\n",
       "\\item 'taxon.flag\\_counts.unresolved'\n",
       "\\item 'preferences.prefers\\_community\\_taxon'\n",
       "\\item 'geojson.type'\n",
       "\\item 'geojson.coordinates'\n",
       "\\item 'user.id'\n",
       "\\item 'user.login'\n",
       "\\item 'user.spam'\n",
       "\\item 'user.suspended'\n",
       "\\item 'user.created\\_at'\n",
       "\\item 'user.site\\_id'\n",
       "\\item 'user.login\\_autocomplete'\n",
       "\\item 'user.login\\_exact'\n",
       "\\item 'user.name'\n",
       "\\item 'user.name\\_autocomplete'\n",
       "\\item 'user.orcid'\n",
       "\\item 'user.icon'\n",
       "\\item 'user.observations\\_count'\n",
       "\\item 'user.identifications\\_count'\n",
       "\\item 'user.journal\\_posts\\_count'\n",
       "\\item 'user.activity\\_count'\n",
       "\\item 'user.species\\_count'\n",
       "\\item 'user.universal\\_search\\_rank'\n",
       "\\item 'user.roles'\n",
       "\\item 'user.icon\\_url'\n",
       "\\item 'user.preferences.prefers\\_observation\\_fields\\_by'\n",
       "\\item 'user.preferences.prefers\\_community\\_taxa'\n",
       "\\item 'user.preferences.prefers\\_project\\_addition\\_by'\n",
       "\\item 'observed\\_on\\_date'\n",
       "\\item 'day\\_of\\_year'\n",
       "\\end{enumerate*}\n"
      ],
      "text/markdown": [
       "1. 'quality_grade'\n",
       "2. 'time_observed_at'\n",
       "3. 'taxon_geoprivacy'\n",
       "4. 'annotations'\n",
       "5. 'uuid'\n",
       "6. 'id'\n",
       "7. 'cached_votes_total'\n",
       "8. 'identifications_most_agree'\n",
       "9. 'species_guess'\n",
       "10. 'identifications_most_disagree'\n",
       "11. 'tags'\n",
       "12. 'positional_accuracy'\n",
       "13. 'comments_count'\n",
       "14. 'site_id'\n",
       "15. 'created_time_zone'\n",
       "16. 'license_code'\n",
       "17. 'observed_time_zone'\n",
       "18. 'quality_metrics'\n",
       "19. 'public_positional_accuracy'\n",
       "20. 'reviewed_by'\n",
       "21. 'oauth_application_id'\n",
       "22. 'flags'\n",
       "23. 'created_at'\n",
       "24. 'description'\n",
       "25. 'time_zone_offset'\n",
       "26. 'project_ids_with_curator_id'\n",
       "27. 'observed_on'\n",
       "28. 'observed_on_string'\n",
       "29. 'updated_at'\n",
       "30. 'sounds'\n",
       "31. 'place_ids'\n",
       "32. 'captive'\n",
       "33. 'ident_taxon_ids'\n",
       "34. 'outlinks'\n",
       "35. 'faves_count'\n",
       "36. 'ofvs'\n",
       "37. 'num_identification_agreements'\n",
       "38. 'comments'\n",
       "39. 'map_scale'\n",
       "40. 'uri'\n",
       "41. 'project_ids'\n",
       "42. 'community_taxon_id'\n",
       "43. 'owners_identification_from_vision'\n",
       "44. 'identifications_count'\n",
       "45. 'obscured'\n",
       "46. 'num_identification_disagreements'\n",
       "47. 'geoprivacy'\n",
       "48. 'location'\n",
       "49. 'votes'\n",
       "50. 'spam'\n",
       "51. 'mappable'\n",
       "52. 'identifications_some_agree'\n",
       "53. 'project_ids_without_curator_id'\n",
       "54. 'place_guess'\n",
       "55. 'identifications'\n",
       "56. 'project_observations'\n",
       "57. 'observation_photos'\n",
       "58. 'photos'\n",
       "59. 'faves'\n",
       "60. 'non_owner_ids'\n",
       "61. 'observed_on_details.date'\n",
       "62. 'observed_on_details.day'\n",
       "63. 'observed_on_details.month'\n",
       "64. 'observed_on_details.year'\n",
       "65. 'observed_on_details.hour'\n",
       "66. 'observed_on_details.week'\n",
       "67. 'created_at_details.date'\n",
       "68. 'created_at_details.day'\n",
       "69. 'created_at_details.month'\n",
       "70. 'created_at_details.year'\n",
       "71. 'created_at_details.hour'\n",
       "72. 'created_at_details.week'\n",
       "73. 'taxon.is_active'\n",
       "74. 'taxon.ancestry'\n",
       "75. 'taxon.min_species_ancestry'\n",
       "76. 'taxon.endemic'\n",
       "77. 'taxon.iconic_taxon_id'\n",
       "78. 'taxon.min_species_taxon_id'\n",
       "79. 'taxon.threatened'\n",
       "80. 'taxon.rank_level'\n",
       "81. 'taxon.introduced'\n",
       "82. 'taxon.native'\n",
       "83. 'taxon.parent_id'\n",
       "84. 'taxon.name'\n",
       "85. 'taxon.rank'\n",
       "86. 'taxon.extinct'\n",
       "87. 'taxon.id'\n",
       "88. 'taxon.ancestor_ids'\n",
       "89. 'taxon.created_at'\n",
       "90. 'taxon.taxon_changes_count'\n",
       "91. 'taxon.taxon_schemes_count'\n",
       "92. 'taxon.observations_count'\n",
       "93. 'taxon.photos_locked'\n",
       "94. 'taxon.universal_search_rank'\n",
       "95. 'taxon.current_synonymous_taxon_ids'\n",
       "96. 'taxon.atlas_id'\n",
       "97. 'taxon.complete_species_count'\n",
       "98. 'taxon.wikipedia_url'\n",
       "99. 'taxon.iconic_taxon_name'\n",
       "100. 'taxon.preferred_common_name'\n",
       "101. 'taxon.default_photo.id'\n",
       "102. 'taxon.default_photo.license_code'\n",
       "103. 'taxon.default_photo.attribution'\n",
       "104. 'taxon.default_photo.url'\n",
       "105. 'taxon.default_photo.flags'\n",
       "106. 'taxon.default_photo.square_url'\n",
       "107. 'taxon.default_photo.medium_url'\n",
       "108. 'taxon.default_photo.original_dimensions.height'\n",
       "109. 'taxon.default_photo.original_dimensions.width'\n",
       "110. 'taxon.flag_counts.resolved'\n",
       "111. 'taxon.flag_counts.unresolved'\n",
       "112. 'preferences.prefers_community_taxon'\n",
       "113. 'geojson.type'\n",
       "114. 'geojson.coordinates'\n",
       "115. 'user.id'\n",
       "116. 'user.login'\n",
       "117. 'user.spam'\n",
       "118. 'user.suspended'\n",
       "119. 'user.created_at'\n",
       "120. 'user.site_id'\n",
       "121. 'user.login_autocomplete'\n",
       "122. 'user.login_exact'\n",
       "123. 'user.name'\n",
       "124. 'user.name_autocomplete'\n",
       "125. 'user.orcid'\n",
       "126. 'user.icon'\n",
       "127. 'user.observations_count'\n",
       "128. 'user.identifications_count'\n",
       "129. 'user.journal_posts_count'\n",
       "130. 'user.activity_count'\n",
       "131. 'user.species_count'\n",
       "132. 'user.universal_search_rank'\n",
       "133. 'user.roles'\n",
       "134. 'user.icon_url'\n",
       "135. 'user.preferences.prefers_observation_fields_by'\n",
       "136. 'user.preferences.prefers_community_taxa'\n",
       "137. 'user.preferences.prefers_project_addition_by'\n",
       "138. 'observed_on_date'\n",
       "139. 'day_of_year'\n",
       "\n",
       "\n"
      ],
      "text/plain": [
       "  [1] \"quality_grade\"                                 \n",
       "  [2] \"time_observed_at\"                              \n",
       "  [3] \"taxon_geoprivacy\"                              \n",
       "  [4] \"annotations\"                                   \n",
       "  [5] \"uuid\"                                          \n",
       "  [6] \"id\"                                            \n",
       "  [7] \"cached_votes_total\"                            \n",
       "  [8] \"identifications_most_agree\"                    \n",
       "  [9] \"species_guess\"                                 \n",
       " [10] \"identifications_most_disagree\"                 \n",
       " [11] \"tags\"                                          \n",
       " [12] \"positional_accuracy\"                           \n",
       " [13] \"comments_count\"                                \n",
       " [14] \"site_id\"                                       \n",
       " [15] \"created_time_zone\"                             \n",
       " [16] \"license_code\"                                  \n",
       " [17] \"observed_time_zone\"                            \n",
       " [18] \"quality_metrics\"                               \n",
       " [19] \"public_positional_accuracy\"                    \n",
       " [20] \"reviewed_by\"                                   \n",
       " [21] \"oauth_application_id\"                          \n",
       " [22] \"flags\"                                         \n",
       " [23] \"created_at\"                                    \n",
       " [24] \"description\"                                   \n",
       " [25] \"time_zone_offset\"                              \n",
       " [26] \"project_ids_with_curator_id\"                   \n",
       " [27] \"observed_on\"                                   \n",
       " [28] \"observed_on_string\"                            \n",
       " [29] \"updated_at\"                                    \n",
       " [30] \"sounds\"                                        \n",
       " [31] \"place_ids\"                                     \n",
       " [32] \"captive\"                                       \n",
       " [33] \"ident_taxon_ids\"                               \n",
       " [34] \"outlinks\"                                      \n",
       " [35] \"faves_count\"                                   \n",
       " [36] \"ofvs\"                                          \n",
       " [37] \"num_identification_agreements\"                 \n",
       " [38] \"comments\"                                      \n",
       " [39] \"map_scale\"                                     \n",
       " [40] \"uri\"                                           \n",
       " [41] \"project_ids\"                                   \n",
       " [42] \"community_taxon_id\"                            \n",
       " [43] \"owners_identification_from_vision\"             \n",
       " [44] \"identifications_count\"                         \n",
       " [45] \"obscured\"                                      \n",
       " [46] \"num_identification_disagreements\"              \n",
       " [47] \"geoprivacy\"                                    \n",
       " [48] \"location\"                                      \n",
       " [49] \"votes\"                                         \n",
       " [50] \"spam\"                                          \n",
       " [51] \"mappable\"                                      \n",
       " [52] \"identifications_some_agree\"                    \n",
       " [53] \"project_ids_without_curator_id\"                \n",
       " [54] \"place_guess\"                                   \n",
       " [55] \"identifications\"                               \n",
       " [56] \"project_observations\"                          \n",
       " [57] \"observation_photos\"                            \n",
       " [58] \"photos\"                                        \n",
       " [59] \"faves\"                                         \n",
       " [60] \"non_owner_ids\"                                 \n",
       " [61] \"observed_on_details.date\"                      \n",
       " [62] \"observed_on_details.day\"                       \n",
       " [63] \"observed_on_details.month\"                     \n",
       " [64] \"observed_on_details.year\"                      \n",
       " [65] \"observed_on_details.hour\"                      \n",
       " [66] \"observed_on_details.week\"                      \n",
       " [67] \"created_at_details.date\"                       \n",
       " [68] \"created_at_details.day\"                        \n",
       " [69] \"created_at_details.month\"                      \n",
       " [70] \"created_at_details.year\"                       \n",
       " [71] \"created_at_details.hour\"                       \n",
       " [72] \"created_at_details.week\"                       \n",
       " [73] \"taxon.is_active\"                               \n",
       " [74] \"taxon.ancestry\"                                \n",
       " [75] \"taxon.min_species_ancestry\"                    \n",
       " [76] \"taxon.endemic\"                                 \n",
       " [77] \"taxon.iconic_taxon_id\"                         \n",
       " [78] \"taxon.min_species_taxon_id\"                    \n",
       " [79] \"taxon.threatened\"                              \n",
       " [80] \"taxon.rank_level\"                              \n",
       " [81] \"taxon.introduced\"                              \n",
       " [82] \"taxon.native\"                                  \n",
       " [83] \"taxon.parent_id\"                               \n",
       " [84] \"taxon.name\"                                    \n",
       " [85] \"taxon.rank\"                                    \n",
       " [86] \"taxon.extinct\"                                 \n",
       " [87] \"taxon.id\"                                      \n",
       " [88] \"taxon.ancestor_ids\"                            \n",
       " [89] \"taxon.created_at\"                              \n",
       " [90] \"taxon.taxon_changes_count\"                     \n",
       " [91] \"taxon.taxon_schemes_count\"                     \n",
       " [92] \"taxon.observations_count\"                      \n",
       " [93] \"taxon.photos_locked\"                           \n",
       " [94] \"taxon.universal_search_rank\"                   \n",
       " [95] \"taxon.current_synonymous_taxon_ids\"            \n",
       " [96] \"taxon.atlas_id\"                                \n",
       " [97] \"taxon.complete_species_count\"                  \n",
       " [98] \"taxon.wikipedia_url\"                           \n",
       " [99] \"taxon.iconic_taxon_name\"                       \n",
       "[100] \"taxon.preferred_common_name\"                   \n",
       "[101] \"taxon.default_photo.id\"                        \n",
       "[102] \"taxon.default_photo.license_code\"              \n",
       "[103] \"taxon.default_photo.attribution\"               \n",
       "[104] \"taxon.default_photo.url\"                       \n",
       "[105] \"taxon.default_photo.flags\"                     \n",
       "[106] \"taxon.default_photo.square_url\"                \n",
       "[107] \"taxon.default_photo.medium_url\"                \n",
       "[108] \"taxon.default_photo.original_dimensions.height\"\n",
       "[109] \"taxon.default_photo.original_dimensions.width\" \n",
       "[110] \"taxon.flag_counts.resolved\"                    \n",
       "[111] \"taxon.flag_counts.unresolved\"                  \n",
       "[112] \"preferences.prefers_community_taxon\"           \n",
       "[113] \"geojson.type\"                                  \n",
       "[114] \"geojson.coordinates\"                           \n",
       "[115] \"user.id\"                                       \n",
       "[116] \"user.login\"                                    \n",
       "[117] \"user.spam\"                                     \n",
       "[118] \"user.suspended\"                                \n",
       "[119] \"user.created_at\"                               \n",
       "[120] \"user.site_id\"                                  \n",
       "[121] \"user.login_autocomplete\"                       \n",
       "[122] \"user.login_exact\"                              \n",
       "[123] \"user.name\"                                     \n",
       "[124] \"user.name_autocomplete\"                        \n",
       "[125] \"user.orcid\"                                    \n",
       "[126] \"user.icon\"                                     \n",
       "[127] \"user.observations_count\"                       \n",
       "[128] \"user.identifications_count\"                    \n",
       "[129] \"user.journal_posts_count\"                      \n",
       "[130] \"user.activity_count\"                           \n",
       "[131] \"user.species_count\"                            \n",
       "[132] \"user.universal_search_rank\"                    \n",
       "[133] \"user.roles\"                                    \n",
       "[134] \"user.icon_url\"                                 \n",
       "[135] \"user.preferences.prefers_observation_fields_by\"\n",
       "[136] \"user.preferences.prefers_community_taxa\"       \n",
       "[137] \"user.preferences.prefers_project_addition_by\"  \n",
       "[138] \"observed_on_date\"                              \n",
       "[139] \"day_of_year\"                                   "
      ]
     },
     "metadata": {},
     "output_type": "display_data"
    }
   ],
   "source": [
    "am_NDBT_obs = mutate(am_thisisnotalist, \n",
    "                observed_on_date = as.Date(observed_on, \"%Y-%m-%d\"),\n",
    "                day_of_year = as.numeric(strftime(observed_on_date, format = \"%j\")))\n",
    "\n",
    "colnames(am_NDBT_obs)"
   ]
  },
  {
   "cell_type": "code",
   "execution_count": 34,
   "id": "1e08087a",
   "metadata": {
    "vscode": {
     "languageId": "r"
    }
   },
   "outputs": [
    {
     "data": {
      "text/html": [
       "<table class=\"dataframe\">\n",
       "<caption>A data.frame: 2 × 11</caption>\n",
       "<thead>\n",
       "\t<tr><th></th><th scope=col>id</th><th scope=col>taxon.preferred_common_name</th><th scope=col>taxon.name</th><th scope=col>observed_on_date</th><th scope=col>day_of_year</th><th scope=col>place_guess</th><th scope=col>location</th><th scope=col>quality_grade</th><th scope=col>annotations</th><th scope=col>ofvs</th><th scope=col>tags</th></tr>\n",
       "\t<tr><th></th><th scope=col>&lt;int&gt;</th><th scope=col>&lt;chr&gt;</th><th scope=col>&lt;chr&gt;</th><th scope=col>&lt;date&gt;</th><th scope=col>&lt;dbl&gt;</th><th scope=col>&lt;chr&gt;</th><th scope=col>&lt;chr&gt;</th><th scope=col>&lt;chr&gt;</th><th scope=col>&lt;list&gt;</th><th scope=col>&lt;list&gt;</th><th scope=col>&lt;list&gt;</th></tr>\n",
       "</thead>\n",
       "<tbody>\n",
       "\t<tr><th scope=row>1</th><td>37553488</td><td>Atlantic Menhaden</td><td>Brevoortia tyrannus</td><td>2020-01-12</td><td>12</td><td>Sandy Hook, Middletown, NJ, USA</td><td>40.4063873291,-73.9794464111</td><td>research</td><td>NULL</td><td>NULL</td><td></td></tr>\n",
       "\t<tr><th scope=row>2</th><td>38445277</td><td>Atlantic Menhaden</td><td>Brevoortia tyrannus</td><td>2020-02-08</td><td>39</td><td>Kent County, DE, USA           </td><td>39.0008333333,-75.32808     </td><td>research</td><td>NULL</td><td>NULL</td><td></td></tr>\n",
       "</tbody>\n",
       "</table>\n"
      ],
      "text/latex": [
       "A data.frame: 2 × 11\n",
       "\\begin{tabular}{r|lllllllllll}\n",
       "  & id & taxon.preferred\\_common\\_name & taxon.name & observed\\_on\\_date & day\\_of\\_year & place\\_guess & location & quality\\_grade & annotations & ofvs & tags\\\\\n",
       "  & <int> & <chr> & <chr> & <date> & <dbl> & <chr> & <chr> & <chr> & <list> & <list> & <list>\\\\\n",
       "\\hline\n",
       "\t1 & 37553488 & Atlantic Menhaden & Brevoortia tyrannus & 2020-01-12 & 12 & Sandy Hook, Middletown, NJ, USA & 40.4063873291,-73.9794464111 & research & NULL & NULL & \\\\\n",
       "\t2 & 38445277 & Atlantic Menhaden & Brevoortia tyrannus & 2020-02-08 & 39 & Kent County, DE, USA            & 39.0008333333,-75.32808      & research & NULL & NULL & \\\\\n",
       "\\end{tabular}\n"
      ],
      "text/markdown": [
       "\n",
       "A data.frame: 2 × 11\n",
       "\n",
       "| <!--/--> | id &lt;int&gt; | taxon.preferred_common_name &lt;chr&gt; | taxon.name &lt;chr&gt; | observed_on_date &lt;date&gt; | day_of_year &lt;dbl&gt; | place_guess &lt;chr&gt; | location &lt;chr&gt; | quality_grade &lt;chr&gt; | annotations &lt;list&gt; | ofvs &lt;list&gt; | tags &lt;list&gt; |\n",
       "|---|---|---|---|---|---|---|---|---|---|---|---|\n",
       "| 1 | 37553488 | Atlantic Menhaden | Brevoortia tyrannus | 2020-01-12 | 12 | Sandy Hook, Middletown, NJ, USA | 40.4063873291,-73.9794464111 | research | NULL | NULL | <!----> |\n",
       "| 2 | 38445277 | Atlantic Menhaden | Brevoortia tyrannus | 2020-02-08 | 39 | Kent County, DE, USA            | 39.0008333333,-75.32808      | research | NULL | NULL | <!----> |\n",
       "\n"
      ],
      "text/plain": [
       "  id       taxon.preferred_common_name taxon.name          observed_on_date\n",
       "1 37553488 Atlantic Menhaden           Brevoortia tyrannus 2020-01-12      \n",
       "2 38445277 Atlantic Menhaden           Brevoortia tyrannus 2020-02-08      \n",
       "  day_of_year place_guess                     location                    \n",
       "1 12          Sandy Hook, Middletown, NJ, USA 40.4063873291,-73.9794464111\n",
       "2 39          Kent County, DE, USA            39.0008333333,-75.32808     \n",
       "  quality_grade annotations ofvs tags\n",
       "1 research      NULL        NULL     \n",
       "2 research      NULL        NULL     "
      ]
     },
     "metadata": {},
     "output_type": "display_data"
    }
   ],
   "source": [
    "\n",
    "am_database_data = select(am_NDBT_obs, id, taxon.preferred_common_name,taxon.name, observed_on_date, day_of_year, \n",
    "                        place_guess, location, quality_grade, annotations, ofvs, tags)\n",
    "head(am_database_data,2)"
   ]
  },
  {
   "cell_type": "code",
   "execution_count": 35,
   "id": "9629fc14",
   "metadata": {
    "vscode": {
     "languageId": "r"
    }
   },
   "outputs": [
    {
     "data": {
      "text/html": [
       "<style>\n",
       ".list-inline {list-style: none; margin:0; padding: 0}\n",
       ".list-inline>li {display: inline-block}\n",
       ".list-inline>li:not(:last-child)::after {content: \"\\00b7\"; padding: 0 .5ex}\n",
       "</style>\n",
       "<ol class=list-inline><li>'id'</li><li>'taxon_preferred_common_name'</li><li>'taxon_name'</li><li>'observed_on_date'</li><li>'day_of_year'</li><li>'place_guess'</li><li>'location'</li><li>'quality_grade'</li><li>'annotations'</li><li>'ofvs'</li><li>'tags'</li></ol>\n"
      ],
      "text/latex": [
       "\\begin{enumerate*}\n",
       "\\item 'id'\n",
       "\\item 'taxon\\_preferred\\_common\\_name'\n",
       "\\item 'taxon\\_name'\n",
       "\\item 'observed\\_on\\_date'\n",
       "\\item 'day\\_of\\_year'\n",
       "\\item 'place\\_guess'\n",
       "\\item 'location'\n",
       "\\item 'quality\\_grade'\n",
       "\\item 'annotations'\n",
       "\\item 'ofvs'\n",
       "\\item 'tags'\n",
       "\\end{enumerate*}\n"
      ],
      "text/markdown": [
       "1. 'id'\n",
       "2. 'taxon_preferred_common_name'\n",
       "3. 'taxon_name'\n",
       "4. 'observed_on_date'\n",
       "5. 'day_of_year'\n",
       "6. 'place_guess'\n",
       "7. 'location'\n",
       "8. 'quality_grade'\n",
       "9. 'annotations'\n",
       "10. 'ofvs'\n",
       "11. 'tags'\n",
       "\n",
       "\n"
      ],
      "text/plain": [
       " [1] \"id\"                          \"taxon_preferred_common_name\"\n",
       " [3] \"taxon_name\"                  \"observed_on_date\"           \n",
       " [5] \"day_of_year\"                 \"place_guess\"                \n",
       " [7] \"location\"                    \"quality_grade\"              \n",
       " [9] \"annotations\"                 \"ofvs\"                       \n",
       "[11] \"tags\"                       "
      ]
     },
     "metadata": {},
     "output_type": "display_data"
    }
   ],
   "source": [
    "replace_period = function(name) {gsub(\"\\\\.\", \"_\", name)} \n",
    "am_database_data = rename_all(am_database_data, replace_period)\n",
    "colnames(am_database_data)"
   ]
  },
  {
   "cell_type": "code",
   "execution_count": 36,
   "id": "d3d86871",
   "metadata": {
    "vscode": {
     "languageId": "r"
    }
   },
   "outputs": [
    {
     "data": {
      "text/html": [
       "<style>\n",
       ".list-inline {list-style: none; margin:0; padding: 0}\n",
       ".list-inline>li {display: inline-block}\n",
       ".list-inline>li:not(:last-child)::after {content: \"\\00b7\"; padding: 0 .5ex}\n",
       "</style>\n",
       "<ol class=list-inline><li>'id'</li><li>'common_name'</li><li>'taxon_name'</li><li>'observed_date'</li><li>'day_of_year'</li><li>'place_guess'</li><li>'location'</li><li>'quality_grade'</li><li>'annotations'</li><li>'ofvs'</li><li>'tags'</li></ol>\n"
      ],
      "text/latex": [
       "\\begin{enumerate*}\n",
       "\\item 'id'\n",
       "\\item 'common\\_name'\n",
       "\\item 'taxon\\_name'\n",
       "\\item 'observed\\_date'\n",
       "\\item 'day\\_of\\_year'\n",
       "\\item 'place\\_guess'\n",
       "\\item 'location'\n",
       "\\item 'quality\\_grade'\n",
       "\\item 'annotations'\n",
       "\\item 'ofvs'\n",
       "\\item 'tags'\n",
       "\\end{enumerate*}\n"
      ],
      "text/markdown": [
       "1. 'id'\n",
       "2. 'common_name'\n",
       "3. 'taxon_name'\n",
       "4. 'observed_date'\n",
       "5. 'day_of_year'\n",
       "6. 'place_guess'\n",
       "7. 'location'\n",
       "8. 'quality_grade'\n",
       "9. 'annotations'\n",
       "10. 'ofvs'\n",
       "11. 'tags'\n",
       "\n",
       "\n"
      ],
      "text/plain": [
       " [1] \"id\"            \"common_name\"   \"taxon_name\"    \"observed_date\"\n",
       " [5] \"day_of_year\"   \"place_guess\"   \"location\"      \"quality_grade\"\n",
       " [9] \"annotations\"   \"ofvs\"          \"tags\"         "
      ]
     },
     "metadata": {},
     "output_type": "display_data"
    }
   ],
   "source": [
    "am_database_data = rename(am_database_data,\n",
    "                        common_name = taxon_preferred_common_name,\n",
    "                        observed_date = observed_on_date,\n",
    "                        )\n",
    "colnames(am_database_data)"
   ]
  },
  {
   "cell_type": "code",
   "execution_count": 37,
   "id": "b8473ee9",
   "metadata": {
    "vscode": {
     "languageId": "r"
    }
   },
   "outputs": [
    {
     "data": {
      "text/html": [
       "<style>\n",
       ".list-inline {list-style: none; margin:0; padding: 0}\n",
       ".list-inline>li {display: inline-block}\n",
       ".list-inline>li:not(:last-child)::after {content: \"\\00b7\"; padding: 0 .5ex}\n",
       "</style>\n",
       "<ol class=list-inline><li>'id'</li><li>'common_name'</li><li>'taxon_name'</li></ol>\n"
      ],
      "text/latex": [
       "\\begin{enumerate*}\n",
       "\\item 'id'\n",
       "\\item 'common\\_name'\n",
       "\\item 'taxon\\_name'\n",
       "\\end{enumerate*}\n"
      ],
      "text/markdown": [
       "1. 'id'\n",
       "2. 'common_name'\n",
       "3. 'taxon_name'\n",
       "\n",
       "\n"
      ],
      "text/plain": [
       "[1] \"id\"          \"common_name\" \"taxon_name\" "
      ]
     },
     "metadata": {},
     "output_type": "display_data"
    }
   ],
   "source": [
    "am_table_name = \"species\"\n",
    "query = sprintf(\"PRAGMA table_info(%s);\", am_table_name)\n",
    "am_db_columns = dbGetQuery(db, query)$name\n",
    "am_common_columns = intersect(colnames(am_database_data), am_db_columns)\n",
    "am_common_columns"
   ]
  },
  {
   "cell_type": "code",
   "execution_count": 38,
   "id": "6698b11a",
   "metadata": {
    "vscode": {
     "languageId": "r"
    }
   },
   "outputs": [
    {
     "data": {
      "text/html": [
       "<table class=\"dataframe\">\n",
       "<caption>A data.frame: 1 × 3</caption>\n",
       "<thead>\n",
       "\t<tr><th></th><th scope=col>id</th><th scope=col>common_name</th><th scope=col>taxon_name</th></tr>\n",
       "\t<tr><th></th><th scope=col>&lt;int&gt;</th><th scope=col>&lt;chr&gt;</th><th scope=col>&lt;chr&gt;</th></tr>\n",
       "</thead>\n",
       "<tbody>\n",
       "\t<tr><th scope=row>1</th><td>37553488</td><td>Atlantic Menhaden</td><td>Brevoortia tyrannus</td></tr>\n",
       "</tbody>\n",
       "</table>\n"
      ],
      "text/latex": [
       "A data.frame: 1 × 3\n",
       "\\begin{tabular}{r|lll}\n",
       "  & id & common\\_name & taxon\\_name\\\\\n",
       "  & <int> & <chr> & <chr>\\\\\n",
       "\\hline\n",
       "\t1 & 37553488 & Atlantic Menhaden & Brevoortia tyrannus\\\\\n",
       "\\end{tabular}\n"
      ],
      "text/markdown": [
       "\n",
       "A data.frame: 1 × 3\n",
       "\n",
       "| <!--/--> | id &lt;int&gt; | common_name &lt;chr&gt; | taxon_name &lt;chr&gt; |\n",
       "|---|---|---|---|\n",
       "| 1 | 37553488 | Atlantic Menhaden | Brevoortia tyrannus |\n",
       "\n"
      ],
      "text/plain": [
       "  id       common_name       taxon_name         \n",
       "1 37553488 Atlantic Menhaden Brevoortia tyrannus"
      ]
     },
     "metadata": {},
     "output_type": "display_data"
    }
   ],
   "source": [
    "am_species_subset = am_database_data[, am_common_columns, drop = FALSE]\n",
    "head(am_species_subset,1)"
   ]
  },
  {
   "cell_type": "code",
   "execution_count": 39,
   "id": "c767a480",
   "metadata": {
    "vscode": {
     "languageId": "r"
    }
   },
   "outputs": [],
   "source": [
    "dbWriteTable(db, am_species_subset, name = \"species\", append = TRUE, row.names = FALSE, )"
   ]
  },
  {
   "cell_type": "code",
   "execution_count": 40,
   "id": "695cd053",
   "metadata": {
    "vscode": {
     "languageId": "r"
    }
   },
   "outputs": [
    {
     "data": {
      "text/html": [
       "<table class=\"dataframe\">\n",
       "<caption>A data.frame: 1 × 3</caption>\n",
       "<thead>\n",
       "\t<tr><th scope=col>id</th><th scope=col>taxon_name</th><th scope=col>common_name</th></tr>\n",
       "\t<tr><th scope=col>&lt;int&gt;</th><th scope=col>&lt;chr&gt;</th><th scope=col>&lt;chr&gt;</th></tr>\n",
       "</thead>\n",
       "<tbody>\n",
       "\t<tr><td>37553488</td><td>Brevoortia tyrannus</td><td>Atlantic Menhaden</td></tr>\n",
       "</tbody>\n",
       "</table>\n"
      ],
      "text/latex": [
       "A data.frame: 1 × 3\n",
       "\\begin{tabular}{lll}\n",
       " id & taxon\\_name & common\\_name\\\\\n",
       " <int> & <chr> & <chr>\\\\\n",
       "\\hline\n",
       "\t 37553488 & Brevoortia tyrannus & Atlantic Menhaden\\\\\n",
       "\\end{tabular}\n"
      ],
      "text/markdown": [
       "\n",
       "A data.frame: 1 × 3\n",
       "\n",
       "| id &lt;int&gt; | taxon_name &lt;chr&gt; | common_name &lt;chr&gt; |\n",
       "|---|---|---|\n",
       "| 37553488 | Brevoortia tyrannus | Atlantic Menhaden |\n",
       "\n"
      ],
      "text/plain": [
       "  id       taxon_name          common_name      \n",
       "1 37553488 Brevoortia tyrannus Atlantic Menhaden"
      ]
     },
     "metadata": {},
     "output_type": "display_data"
    }
   ],
   "source": [
    "test_1 = dbGetQuery(db, \"Select *\n",
    "                        FROM species\n",
    "                        WHERE common_name LIKE '%Atlantic Menhaden%'\n",
    "                        LIMIT 1\")\n",
    "test_1"
   ]
  },
  {
   "cell_type": "code",
   "execution_count": 41,
   "id": "6d90fa85",
   "metadata": {
    "vscode": {
     "languageId": "r"
    }
   },
   "outputs": [
    {
     "data": {
      "text/html": [
       "<style>\n",
       ".list-inline {list-style: none; margin:0; padding: 0}\n",
       ".list-inline>li {display: inline-block}\n",
       ".list-inline>li:not(:last-child)::after {content: \"\\00b7\"; padding: 0 .5ex}\n",
       "</style>\n",
       "<ol class=list-inline><li>'species'</li><li>'turtle_observation'</li></ol>\n"
      ],
      "text/latex": [
       "\\begin{enumerate*}\n",
       "\\item 'species'\n",
       "\\item 'turtle\\_observation'\n",
       "\\end{enumerate*}\n"
      ],
      "text/markdown": [
       "1. 'species'\n",
       "2. 'turtle_observation'\n",
       "\n",
       "\n"
      ],
      "text/plain": [
       "[1] \"species\"            \"turtle_observation\""
      ]
     },
     "metadata": {},
     "output_type": "display_data"
    }
   ],
   "source": [
    "dbListTables(db)"
   ]
  },
  {
   "cell_type": "code",
   "execution_count": 42,
   "id": "9b5a255f",
   "metadata": {
    "vscode": {
     "languageId": "r"
    }
   },
   "outputs": [
    {
     "data": {
      "text/html": [
       "0"
      ],
      "text/latex": [
       "0"
      ],
      "text/markdown": [
       "0"
      ],
      "text/plain": [
       "[1] 0"
      ]
     },
     "metadata": {},
     "output_type": "display_data"
    }
   ],
   "source": [
    "\n",
    "menhaden_observations = \"CREATE TABLE IF NOT EXISTS menhaden_observation (\n",
    "                        id INTEGER,\n",
    "                        observed_date DATE,\n",
    "                        day_of_year INTEGER,\n",
    "                        place_guess VARCHAR(500),\n",
    "                        location VARCHAR(255),\n",
    "                        quality_grade VARCHAR(8),\n",
    "                        annotations VARCHAR(4697),\n",
    "                        tags VARCHAR(160),\n",
    "                        ofvs VARCHAR(7677),\n",
    "                        FOREIGN KEY (id) REFERENCES species(id)\n",
    "                        );\"\n",
    "dbExecute(db, menhaden_observations)"
   ]
  },
  {
   "cell_type": "code",
   "execution_count": 43,
   "id": "a97e2065",
   "metadata": {
    "vscode": {
     "languageId": "r"
    }
   },
   "outputs": [
    {
     "data": {
      "text/html": [
       "<style>\n",
       ".list-inline {list-style: none; margin:0; padding: 0}\n",
       ".list-inline>li {display: inline-block}\n",
       ".list-inline>li:not(:last-child)::after {content: \"\\00b7\"; padding: 0 .5ex}\n",
       "</style>\n",
       "<ol class=list-inline><li>'id'</li><li>'observed_date'</li><li>'day_of_year'</li><li>'place_guess'</li><li>'location'</li><li>'quality_grade'</li><li>'annotations'</li><li>'ofvs'</li><li>'tags'</li></ol>\n"
      ],
      "text/latex": [
       "\\begin{enumerate*}\n",
       "\\item 'id'\n",
       "\\item 'observed\\_date'\n",
       "\\item 'day\\_of\\_year'\n",
       "\\item 'place\\_guess'\n",
       "\\item 'location'\n",
       "\\item 'quality\\_grade'\n",
       "\\item 'annotations'\n",
       "\\item 'ofvs'\n",
       "\\item 'tags'\n",
       "\\end{enumerate*}\n"
      ],
      "text/markdown": [
       "1. 'id'\n",
       "2. 'observed_date'\n",
       "3. 'day_of_year'\n",
       "4. 'place_guess'\n",
       "5. 'location'\n",
       "6. 'quality_grade'\n",
       "7. 'annotations'\n",
       "8. 'ofvs'\n",
       "9. 'tags'\n",
       "\n",
       "\n"
      ],
      "text/plain": [
       "[1] \"id\"            \"observed_date\" \"day_of_year\"   \"place_guess\"  \n",
       "[5] \"location\"      \"quality_grade\" \"annotations\"   \"ofvs\"         \n",
       "[9] \"tags\"         "
      ]
     },
     "metadata": {},
     "output_type": "display_data"
    }
   ],
   "source": [
    "am_table_name = \"menhaden_observation\"\n",
    "query = sprintf(\"PRAGMA table_info(%s);\", am_table_name)\n",
    "am_db_columns = dbGetQuery(db, query)$name\n",
    "am_common_columns = intersect(colnames(am_database_data), am_db_columns)\n",
    "am_common_columns"
   ]
  },
  {
   "cell_type": "code",
   "execution_count": 44,
   "id": "839ac559",
   "metadata": {
    "vscode": {
     "languageId": "r"
    }
   },
   "outputs": [
    {
     "data": {
      "text/html": [
       "<table class=\"dataframe\">\n",
       "<caption>A data.frame: 2 × 9</caption>\n",
       "<thead>\n",
       "\t<tr><th></th><th scope=col>id</th><th scope=col>observed_date</th><th scope=col>day_of_year</th><th scope=col>place_guess</th><th scope=col>location</th><th scope=col>quality_grade</th><th scope=col>annotations</th><th scope=col>ofvs</th><th scope=col>tags</th></tr>\n",
       "\t<tr><th></th><th scope=col>&lt;int&gt;</th><th scope=col>&lt;chr&gt;</th><th scope=col>&lt;dbl&gt;</th><th scope=col>&lt;chr&gt;</th><th scope=col>&lt;chr&gt;</th><th scope=col>&lt;chr&gt;</th><th scope=col>&lt;list&gt;</th><th scope=col>&lt;list&gt;</th><th scope=col>&lt;list&gt;</th></tr>\n",
       "</thead>\n",
       "<tbody>\n",
       "\t<tr><th scope=row>1</th><td>37553488</td><td>2020-01-12</td><td>12</td><td>Sandy Hook, Middletown, NJ, USA</td><td>40.4063873291,-73.9794464111</td><td>research</td><td>NULL</td><td>NULL</td><td></td></tr>\n",
       "\t<tr><th scope=row>2</th><td>38445277</td><td>2020-02-08</td><td>39</td><td>Kent County, DE, USA           </td><td>39.0008333333,-75.32808     </td><td>research</td><td>NULL</td><td>NULL</td><td></td></tr>\n",
       "</tbody>\n",
       "</table>\n"
      ],
      "text/latex": [
       "A data.frame: 2 × 9\n",
       "\\begin{tabular}{r|lllllllll}\n",
       "  & id & observed\\_date & day\\_of\\_year & place\\_guess & location & quality\\_grade & annotations & ofvs & tags\\\\\n",
       "  & <int> & <chr> & <dbl> & <chr> & <chr> & <chr> & <list> & <list> & <list>\\\\\n",
       "\\hline\n",
       "\t1 & 37553488 & 2020-01-12 & 12 & Sandy Hook, Middletown, NJ, USA & 40.4063873291,-73.9794464111 & research & NULL & NULL & \\\\\n",
       "\t2 & 38445277 & 2020-02-08 & 39 & Kent County, DE, USA            & 39.0008333333,-75.32808      & research & NULL & NULL & \\\\\n",
       "\\end{tabular}\n"
      ],
      "text/markdown": [
       "\n",
       "A data.frame: 2 × 9\n",
       "\n",
       "| <!--/--> | id &lt;int&gt; | observed_date &lt;chr&gt; | day_of_year &lt;dbl&gt; | place_guess &lt;chr&gt; | location &lt;chr&gt; | quality_grade &lt;chr&gt; | annotations &lt;list&gt; | ofvs &lt;list&gt; | tags &lt;list&gt; |\n",
       "|---|---|---|---|---|---|---|---|---|---|\n",
       "| 1 | 37553488 | 2020-01-12 | 12 | Sandy Hook, Middletown, NJ, USA | 40.4063873291,-73.9794464111 | research | NULL | NULL | <!----> |\n",
       "| 2 | 38445277 | 2020-02-08 | 39 | Kent County, DE, USA            | 39.0008333333,-75.32808      | research | NULL | NULL | <!----> |\n",
       "\n"
      ],
      "text/plain": [
       "  id       observed_date day_of_year place_guess                    \n",
       "1 37553488 2020-01-12    12          Sandy Hook, Middletown, NJ, USA\n",
       "2 38445277 2020-02-08    39          Kent County, DE, USA           \n",
       "  location                     quality_grade annotations ofvs tags\n",
       "1 40.4063873291,-73.9794464111 research      NULL        NULL     \n",
       "2 39.0008333333,-75.32808      research      NULL        NULL     "
      ]
     },
     "metadata": {},
     "output_type": "display_data"
    }
   ],
   "source": [
    "am_observation_subset = am_database_data[, am_common_columns, drop = FALSE]\n",
    "am_observation_subset$observed_date = as.Date(am_observation_subset$observed_date, format = \"%y/%m/%d\")\n",
    "am_observation_subset$observed_date = as.character(am_observation_subset$observed_date)\n",
    "head(am_observation_subset,2)"
   ]
  },
  {
   "cell_type": "code",
   "execution_count": null,
   "id": "b9e2ae6d",
   "metadata": {
    "vscode": {
     "languageId": "r"
    }
   },
   "outputs": [],
   "source": [
    "str(am_observation_subset)"
   ]
  },
  {
   "cell_type": "code",
   "execution_count": 46,
   "id": "0a46dffa",
   "metadata": {
    "vscode": {
     "languageId": "r"
    }
   },
   "outputs": [
    {
     "data": {
      "text/html": [
       "<table class=\"dataframe\">\n",
       "<caption>A data.frame: 3 × 9</caption>\n",
       "<thead>\n",
       "\t<tr><th></th><th scope=col>id</th><th scope=col>observed_date</th><th scope=col>day_of_year</th><th scope=col>place_guess</th><th scope=col>location</th><th scope=col>quality_grade</th><th scope=col>annotations</th><th scope=col>ofvs</th><th scope=col>tags</th></tr>\n",
       "\t<tr><th></th><th scope=col>&lt;int&gt;</th><th scope=col>&lt;chr&gt;</th><th scope=col>&lt;dbl&gt;</th><th scope=col>&lt;chr&gt;</th><th scope=col>&lt;chr&gt;</th><th scope=col>&lt;chr&gt;</th><th scope=col>&lt;chr&gt;</th><th scope=col>&lt;chr&gt;</th><th scope=col>&lt;chr&gt;</th></tr>\n",
       "</thead>\n",
       "<tbody>\n",
       "\t<tr><th scope=row>1</th><td>37553488</td><td>2020-01-12</td><td>12</td><td>Sandy Hook, Middletown, NJ, USA</td><td>40.4063873291,-73.9794464111</td><td>research</td><td>                                                                                                                                                                                                                                                                                                                                                                                                                                                                                                                                                                                                                                                                                                                                                                                                                                                                                                                                                                                                                                                                                                                                                                                                                                                                                                                                                                                                                        </td><td></td><td>                                                                          </td></tr>\n",
       "\t<tr><th scope=row>2</th><td>38445277</td><td>2020-02-08</td><td>39</td><td>Kent County, DE, USA           </td><td>39.0008333333,-75.32808     </td><td>research</td><td>                                                                                                                                                                                                                                                                                                                                                                                                                                                                                                                                                                                                                                                                                                                                                                                                                                                                                                                                                                                                                                                                                                                                                                                                                                                                                                                                                                                                                        </td><td></td><td>                                                                          </td></tr>\n",
       "\t<tr><th scope=row>3</th><td>38475906</td><td>2020-02-08</td><td>39</td><td>Sussex County, DE, USA         </td><td>38.8814110636,-75.270254112 </td><td>research</td><td>c(\"2a18da0a-68f0-42ce-bb59-46a21ea2a4fa\", \"7a1abb82-6722-4cd0-86d9-24e3126e9ca8\", \"0ed36926-dd70-4397-9d79-17a9099acfa3\"), c(1, 17, 22), c(2, 19, 24), c(\"1|2\", \"17|19\", \"22|24\"), c(0, 0, 0), c(3165930, 3165930, 3165930), list(list(), list(), list()), c(3165930, 3165930, 3165930), c(\"patrmcgo\", \"patrmcgo\", \"patrmcgo\"), c(FALSE, FALSE, FALSE), c(FALSE, FALSE, FALSE), c(\"2020-06-12T12:41:33+00:00\", \"2020-06-12T12:41:33+00:00\", \"2020-06-12T12:41:33+00:00\"), c(\"patrmcgo\", \"patrmcgo\", \"patrmcgo\"), c(\"patrmcgo\", \"patrmcgo\", \"patrmcgo\"), c(\"Patrick R McGown\", \"Patrick R McGown\", \"Patrick R McGown\"), c(\"Patrick R McGown\", \"Patrick R McGown\", \"Patrick R McGown\"), c(NA, NA, NA), c(\"https://static.inaturalist.org/attachments/users/icons/3165930/thumb.jpg?1648728237\", \"https://static.inaturalist.org/attachments/users/icons/3165930/thumb.jpg?1648728237\", \"https://static.inaturalist.org/attachments/users/icons/3165930/thumb.jpg?1648728237\"), c(3213, 3213, 3213), c(21590, 21590, 21590), c(0, 0, 0), c(24803, 24803, 24803), c(951, 951, 951), c(3213, 3213, 3213), list(list(), list(), list()), c(1, 1, 1), c(\"https://static.inaturalist.org/attachments/users/icons/3165930/medium.jpg?1648728237\", \"https://static.inaturalist.org/attachments/users/icons/3165930/medium.jpg?1648728237\", \"https://static.inaturalist.org/attachments/users/icons/3165930/medium.jpg?1648728237\")</td><td></td><td>Delaware, Fish, Prime Hook NWR Fowler Beach Rd, Sussex County DE, Wildlife</td></tr>\n",
       "</tbody>\n",
       "</table>\n"
      ],
      "text/latex": [
       "A data.frame: 3 × 9\n",
       "\\begin{tabular}{r|lllllllll}\n",
       "  & id & observed\\_date & day\\_of\\_year & place\\_guess & location & quality\\_grade & annotations & ofvs & tags\\\\\n",
       "  & <int> & <chr> & <dbl> & <chr> & <chr> & <chr> & <chr> & <chr> & <chr>\\\\\n",
       "\\hline\n",
       "\t1 & 37553488 & 2020-01-12 & 12 & Sandy Hook, Middletown, NJ, USA & 40.4063873291,-73.9794464111 & research &                                                                                                                                                                                                                                                                                                                                                                                                                                                                                                                                                                                                                                                                                                                                                                                                                                                                                                                                                                                                                                                                                                                                                                                                                                                                                                                                                                                                                          &  &                                                                           \\\\\n",
       "\t2 & 38445277 & 2020-02-08 & 39 & Kent County, DE, USA            & 39.0008333333,-75.32808      & research &                                                                                                                                                                                                                                                                                                                                                                                                                                                                                                                                                                                                                                                                                                                                                                                                                                                                                                                                                                                                                                                                                                                                                                                                                                                                                                                                                                                                                          &  &                                                                           \\\\\n",
       "\t3 & 38475906 & 2020-02-08 & 39 & Sussex County, DE, USA          & 38.8814110636,-75.270254112  & research & c(\"2a18da0a-68f0-42ce-bb59-46a21ea2a4fa\", \"7a1abb82-6722-4cd0-86d9-24e3126e9ca8\", \"0ed36926-dd70-4397-9d79-17a9099acfa3\"), c(1, 17, 22), c(2, 19, 24), c(\"1\\textbar{}2\", \"17\\textbar{}19\", \"22\\textbar{}24\"), c(0, 0, 0), c(3165930, 3165930, 3165930), list(list(), list(), list()), c(3165930, 3165930, 3165930), c(\"patrmcgo\", \"patrmcgo\", \"patrmcgo\"), c(FALSE, FALSE, FALSE), c(FALSE, FALSE, FALSE), c(\"2020-06-12T12:41:33+00:00\", \"2020-06-12T12:41:33+00:00\", \"2020-06-12T12:41:33+00:00\"), c(\"patrmcgo\", \"patrmcgo\", \"patrmcgo\"), c(\"patrmcgo\", \"patrmcgo\", \"patrmcgo\"), c(\"Patrick R McGown\", \"Patrick R McGown\", \"Patrick R McGown\"), c(\"Patrick R McGown\", \"Patrick R McGown\", \"Patrick R McGown\"), c(NA, NA, NA), c(\"https://static.inaturalist.org/attachments/users/icons/3165930/thumb.jpg?1648728237\", \"https://static.inaturalist.org/attachments/users/icons/3165930/thumb.jpg?1648728237\", \"https://static.inaturalist.org/attachments/users/icons/3165930/thumb.jpg?1648728237\"), c(3213, 3213, 3213), c(21590, 21590, 21590), c(0, 0, 0), c(24803, 24803, 24803), c(951, 951, 951), c(3213, 3213, 3213), list(list(), list(), list()), c(1, 1, 1), c(\"https://static.inaturalist.org/attachments/users/icons/3165930/medium.jpg?1648728237\", \"https://static.inaturalist.org/attachments/users/icons/3165930/medium.jpg?1648728237\", \"https://static.inaturalist.org/attachments/users/icons/3165930/medium.jpg?1648728237\") &  & Delaware, Fish, Prime Hook NWR Fowler Beach Rd, Sussex County DE, Wildlife\\\\\n",
       "\\end{tabular}\n"
      ],
      "text/markdown": [
       "\n",
       "A data.frame: 3 × 9\n",
       "\n",
       "| <!--/--> | id &lt;int&gt; | observed_date &lt;chr&gt; | day_of_year &lt;dbl&gt; | place_guess &lt;chr&gt; | location &lt;chr&gt; | quality_grade &lt;chr&gt; | annotations &lt;chr&gt; | ofvs &lt;chr&gt; | tags &lt;chr&gt; |\n",
       "|---|---|---|---|---|---|---|---|---|---|\n",
       "| 1 | 37553488 | 2020-01-12 | 12 | Sandy Hook, Middletown, NJ, USA | 40.4063873291,-73.9794464111 | research | <!----> | <!----> | <!----> |\n",
       "| 2 | 38445277 | 2020-02-08 | 39 | Kent County, DE, USA            | 39.0008333333,-75.32808      | research | <!----> | <!----> | <!----> |\n",
       "| 3 | 38475906 | 2020-02-08 | 39 | Sussex County, DE, USA          | 38.8814110636,-75.270254112  | research | c(\"2a18da0a-68f0-42ce-bb59-46a21ea2a4fa\", \"7a1abb82-6722-4cd0-86d9-24e3126e9ca8\", \"0ed36926-dd70-4397-9d79-17a9099acfa3\"), c(1, 17, 22), c(2, 19, 24), c(\"1|2\", \"17|19\", \"22|24\"), c(0, 0, 0), c(3165930, 3165930, 3165930), list(list(), list(), list()), c(3165930, 3165930, 3165930), c(\"patrmcgo\", \"patrmcgo\", \"patrmcgo\"), c(FALSE, FALSE, FALSE), c(FALSE, FALSE, FALSE), c(\"2020-06-12T12:41:33+00:00\", \"2020-06-12T12:41:33+00:00\", \"2020-06-12T12:41:33+00:00\"), c(\"patrmcgo\", \"patrmcgo\", \"patrmcgo\"), c(\"patrmcgo\", \"patrmcgo\", \"patrmcgo\"), c(\"Patrick R McGown\", \"Patrick R McGown\", \"Patrick R McGown\"), c(\"Patrick R McGown\", \"Patrick R McGown\", \"Patrick R McGown\"), c(NA, NA, NA), c(\"https://static.inaturalist.org/attachments/users/icons/3165930/thumb.jpg?1648728237\", \"https://static.inaturalist.org/attachments/users/icons/3165930/thumb.jpg?1648728237\", \"https://static.inaturalist.org/attachments/users/icons/3165930/thumb.jpg?1648728237\"), c(3213, 3213, 3213), c(21590, 21590, 21590), c(0, 0, 0), c(24803, 24803, 24803), c(951, 951, 951), c(3213, 3213, 3213), list(list(), list(), list()), c(1, 1, 1), c(\"https://static.inaturalist.org/attachments/users/icons/3165930/medium.jpg?1648728237\", \"https://static.inaturalist.org/attachments/users/icons/3165930/medium.jpg?1648728237\", \"https://static.inaturalist.org/attachments/users/icons/3165930/medium.jpg?1648728237\") | <!----> | Delaware, Fish, Prime Hook NWR Fowler Beach Rd, Sussex County DE, Wildlife |\n",
       "\n"
      ],
      "text/plain": [
       "  id       observed_date day_of_year place_guess                    \n",
       "1 37553488 2020-01-12    12          Sandy Hook, Middletown, NJ, USA\n",
       "2 38445277 2020-02-08    39          Kent County, DE, USA           \n",
       "3 38475906 2020-02-08    39          Sussex County, DE, USA         \n",
       "  location                     quality_grade\n",
       "1 40.4063873291,-73.9794464111 research     \n",
       "2 39.0008333333,-75.32808      research     \n",
       "3 38.8814110636,-75.270254112  research     \n",
       "  annotations                                                                                                                                                                                                                                                                                                                                                                                                                                                                                                                                                                                                                                                                                                                                                                                                                                                                                                                                                                                                                                                                                                                                                                                                                                                                                                                                                                                                             \n",
       "1                                                                                                                                                                                                                                                                                                                                                                                                                                                                                                                                                                                                                                                                                                                                                                                                                                                                                                                                                                                                                                                                                                                                                                                                                                                                                                                                                                                                                         \n",
       "2                                                                                                                                                                                                                                                                                                                                                                                                                                                                                                                                                                                                                                                                                                                                                                                                                                                                                                                                                                                                                                                                                                                                                                                                                                                                                                                                                                                                                         \n",
       "3 c(\"2a18da0a-68f0-42ce-bb59-46a21ea2a4fa\", \"7a1abb82-6722-4cd0-86d9-24e3126e9ca8\", \"0ed36926-dd70-4397-9d79-17a9099acfa3\"), c(1, 17, 22), c(2, 19, 24), c(\"1|2\", \"17|19\", \"22|24\"), c(0, 0, 0), c(3165930, 3165930, 3165930), list(list(), list(), list()), c(3165930, 3165930, 3165930), c(\"patrmcgo\", \"patrmcgo\", \"patrmcgo\"), c(FALSE, FALSE, FALSE), c(FALSE, FALSE, FALSE), c(\"2020-06-12T12:41:33+00:00\", \"2020-06-12T12:41:33+00:00\", \"2020-06-12T12:41:33+00:00\"), c(\"patrmcgo\", \"patrmcgo\", \"patrmcgo\"), c(\"patrmcgo\", \"patrmcgo\", \"patrmcgo\"), c(\"Patrick R McGown\", \"Patrick R McGown\", \"Patrick R McGown\"), c(\"Patrick R McGown\", \"Patrick R McGown\", \"Patrick R McGown\"), c(NA, NA, NA), c(\"https://static.inaturalist.org/attachments/users/icons/3165930/thumb.jpg?1648728237\", \"https://static.inaturalist.org/attachments/users/icons/3165930/thumb.jpg?1648728237\", \"https://static.inaturalist.org/attachments/users/icons/3165930/thumb.jpg?1648728237\"), c(3213, 3213, 3213), c(21590, 21590, 21590), c(0, 0, 0), c(24803, 24803, 24803), c(951, 951, 951), c(3213, 3213, 3213), list(list(), list(), list()), c(1, 1, 1), c(\"https://static.inaturalist.org/attachments/users/icons/3165930/medium.jpg?1648728237\", \"https://static.inaturalist.org/attachments/users/icons/3165930/medium.jpg?1648728237\", \"https://static.inaturalist.org/attachments/users/icons/3165930/medium.jpg?1648728237\")\n",
       "  ofvs\n",
       "1     \n",
       "2     \n",
       "3     \n",
       "  tags                                                                      \n",
       "1                                                                           \n",
       "2                                                                           \n",
       "3 Delaware, Fish, Prime Hook NWR Fowler Beach Rd, Sussex County DE, Wildlife"
      ]
     },
     "metadata": {},
     "output_type": "display_data"
    }
   ],
   "source": [
    "library(purrr)\n",
    "am_observation_subset$annotations = map_chr(am_observation_subset$annotations, toString)\n",
    "am_observation_subset$ofvs = map_chr(am_observation_subset$ofvs, toString)\n",
    "am_observation_subset$tags = map_chr(am_observation_subset$tags, toString)\n",
    "head(am_observation_subset,3)"
   ]
  },
  {
   "cell_type": "code",
   "execution_count": 47,
   "id": "990b28f0",
   "metadata": {
    "vscode": {
     "languageId": "r"
    }
   },
   "outputs": [],
   "source": [
    "dbWriteTable(db, am_observation_subset, name = \"menhaden_observation\", append = TRUE,row.names = FALSE,  )\n"
   ]
  },
  {
   "cell_type": "code",
   "execution_count": 48,
   "id": "8f26e48c",
   "metadata": {
    "vscode": {
     "languageId": "r"
    }
   },
   "outputs": [
    {
     "data": {
      "text/html": [
       "<table class=\"dataframe\">\n",
       "<caption>A data.frame: 2 × 9</caption>\n",
       "<thead>\n",
       "\t<tr><th scope=col>id</th><th scope=col>observed_date</th><th scope=col>day_of_year</th><th scope=col>place_guess</th><th scope=col>location</th><th scope=col>quality_grade</th><th scope=col>annotations</th><th scope=col>tags</th><th scope=col>ofvs</th></tr>\n",
       "\t<tr><th scope=col>&lt;int&gt;</th><th scope=col>&lt;chr&gt;</th><th scope=col>&lt;int&gt;</th><th scope=col>&lt;chr&gt;</th><th scope=col>&lt;chr&gt;</th><th scope=col>&lt;chr&gt;</th><th scope=col>&lt;chr&gt;</th><th scope=col>&lt;chr&gt;</th><th scope=col>&lt;chr&gt;</th></tr>\n",
       "</thead>\n",
       "<tbody>\n",
       "\t<tr><td>37553488</td><td>2020-01-12</td><td>12</td><td>Sandy Hook, Middletown, NJ, USA</td><td>40.4063873291,-73.9794464111</td><td>research</td><td></td><td></td><td></td></tr>\n",
       "\t<tr><td>38445277</td><td>2020-02-08</td><td>39</td><td>Kent County, DE, USA           </td><td>39.0008333333,-75.32808     </td><td>research</td><td></td><td></td><td></td></tr>\n",
       "</tbody>\n",
       "</table>\n"
      ],
      "text/latex": [
       "A data.frame: 2 × 9\n",
       "\\begin{tabular}{lllllllll}\n",
       " id & observed\\_date & day\\_of\\_year & place\\_guess & location & quality\\_grade & annotations & tags & ofvs\\\\\n",
       " <int> & <chr> & <int> & <chr> & <chr> & <chr> & <chr> & <chr> & <chr>\\\\\n",
       "\\hline\n",
       "\t 37553488 & 2020-01-12 & 12 & Sandy Hook, Middletown, NJ, USA & 40.4063873291,-73.9794464111 & research &  &  & \\\\\n",
       "\t 38445277 & 2020-02-08 & 39 & Kent County, DE, USA            & 39.0008333333,-75.32808      & research &  &  & \\\\\n",
       "\\end{tabular}\n"
      ],
      "text/markdown": [
       "\n",
       "A data.frame: 2 × 9\n",
       "\n",
       "| id &lt;int&gt; | observed_date &lt;chr&gt; | day_of_year &lt;int&gt; | place_guess &lt;chr&gt; | location &lt;chr&gt; | quality_grade &lt;chr&gt; | annotations &lt;chr&gt; | tags &lt;chr&gt; | ofvs &lt;chr&gt; |\n",
       "|---|---|---|---|---|---|---|---|---|\n",
       "| 37553488 | 2020-01-12 | 12 | Sandy Hook, Middletown, NJ, USA | 40.4063873291,-73.9794464111 | research | <!----> | <!----> | <!----> |\n",
       "| 38445277 | 2020-02-08 | 39 | Kent County, DE, USA            | 39.0008333333,-75.32808      | research | <!----> | <!----> | <!----> |\n",
       "\n"
      ],
      "text/plain": [
       "  id       observed_date day_of_year place_guess                    \n",
       "1 37553488 2020-01-12    12          Sandy Hook, Middletown, NJ, USA\n",
       "2 38445277 2020-02-08    39          Kent County, DE, USA           \n",
       "  location                     quality_grade annotations tags ofvs\n",
       "1 40.4063873291,-73.9794464111 research                           \n",
       "2 39.0008333333,-75.32808      research                           "
      ]
     },
     "metadata": {},
     "output_type": "display_data"
    }
   ],
   "source": [
    "test_2 = dbGetQuery(db, \"Select *\n",
    "                        FROM  menhaden_observation\n",
    "                        LIMIT 2\")\n",
    "test_2"
   ]
  },
  {
   "cell_type": "code",
   "execution_count": 49,
   "id": "522b3f54",
   "metadata": {
    "vscode": {
     "languageId": "r"
    }
   },
   "outputs": [],
   "source": [
    "# Ipswich Sparrow\n",
    "is_taxon_id = 237674\n",
    "get_obs = function(is_max_id) {\n",
    "  call = paste(\"https://api.inaturalist.org/v1/observations?taxon_id=\", is_taxon_id, \"&place_id=any&d1=2020-01-01&per_page=200&order_by=id&order=asc&id_above=0\", \n",
    "                is_max_id, sep=\"\")\n",
    "    is_get_call_json = fromJSON(\n",
    "    content(GET(url = call),as = \"text\", encoding = \"UTF-8\"),\n",
    "    flatten = TRUE)\n",
    "    as.data.frame(is_get_call_json$results)\n",
    "}"
   ]
  },
  {
   "cell_type": "code",
   "execution_count": 50,
   "id": "8a8bd3f8",
   "metadata": {
    "vscode": {
     "languageId": "r"
    }
   },
   "outputs": [
    {
     "name": "stdout",
     "output_type": "stream",
     "text": [
      "[1] \"page_20\"\n",
      "[1] 207002983\n"
     ]
    }
   ],
   "source": [
    "is_obs = get_obs(is_max_id = 0)\n",
    "is_max_id = max(is_obs[[\"id\"]])\n",
    "is_thisisalist = list(page_1 = is_obs)\n",
    "is_page = 1\n",
    "while (nrow(is_obs) == 200) {\n",
    "    Sys.sleep(0.5)\n",
    "    is_page = is_page + 1\n",
    "    is_page_count = paste(\"page\", page, sep = \"_\") \n",
    "    is_obs = get_obs(is_max_id = is_max_id)\n",
    "    is_thisisalist[[page_count]] = is_obs\n",
    "    is_max_id = max(is_obs[[\"id\"]])\n",
    "    print(page_count)\n",
    "    print(is_max_id)}"
   ]
  },
  {
   "cell_type": "code",
   "execution_count": 51,
   "id": "a6402e04",
   "metadata": {
    "vscode": {
     "languageId": "r"
    }
   },
   "outputs": [
    {
     "data": {
      "text/html": [
       "<style>\n",
       ".list-inline {list-style: none; margin:0; padding: 0}\n",
       ".list-inline>li {display: inline-block}\n",
       ".list-inline>li:not(:last-child)::after {content: \"\\00b7\"; padding: 0 .5ex}\n",
       "</style>\n",
       "<ol class=list-inline><li>311</li><li>147</li></ol>\n"
      ],
      "text/latex": [
       "\\begin{enumerate*}\n",
       "\\item 311\n",
       "\\item 147\n",
       "\\end{enumerate*}\n"
      ],
      "text/markdown": [
       "1. 311\n",
       "2. 147\n",
       "\n",
       "\n"
      ],
      "text/plain": [
       "[1] 311 147"
      ]
     },
     "metadata": {},
     "output_type": "display_data"
    }
   ],
   "source": [
    "is_thisisnotalist = bind_rows(is_thisisalist)\n",
    "dim(is_thisisnotalist)"
   ]
  },
  {
   "cell_type": "code",
   "execution_count": 52,
   "id": "9fe75dd4",
   "metadata": {
    "vscode": {
     "languageId": "r"
    }
   },
   "outputs": [
    {
     "data": {
      "text/html": [
       "<style>\n",
       ".list-inline {list-style: none; margin:0; padding: 0}\n",
       ".list-inline>li {display: inline-block}\n",
       ".list-inline>li:not(:last-child)::after {content: \"\\00b7\"; padding: 0 .5ex}\n",
       "</style>\n",
       "<ol class=list-inline><li>'quality_grade'</li><li>'time_observed_at'</li><li>'taxon_geoprivacy'</li><li>'annotations'</li><li>'uuid'</li><li>'id'</li><li>'cached_votes_total'</li><li>'identifications_most_agree'</li><li>'species_guess'</li><li>'identifications_most_disagree'</li><li>'tags'</li><li>'positional_accuracy'</li><li>'comments_count'</li><li>'site_id'</li><li>'created_time_zone'</li><li>'license_code'</li><li>'observed_time_zone'</li><li>'quality_metrics'</li><li>'public_positional_accuracy'</li><li>'reviewed_by'</li><li>'oauth_application_id'</li><li>'flags'</li><li>'created_at'</li><li>'description'</li><li>'time_zone_offset'</li><li>'project_ids_with_curator_id'</li><li>'observed_on'</li><li>'observed_on_string'</li><li>'updated_at'</li><li>'sounds'</li><li>'place_ids'</li><li>'captive'</li><li>'ident_taxon_ids'</li><li>'outlinks'</li><li>'faves_count'</li><li>'ofvs'</li><li>'num_identification_agreements'</li><li>'comments'</li><li>'map_scale'</li><li>'uri'</li><li>'project_ids'</li><li>'community_taxon_id'</li><li>'owners_identification_from_vision'</li><li>'identifications_count'</li><li>'obscured'</li><li>'num_identification_disagreements'</li><li>'geoprivacy'</li><li>'location'</li><li>'votes'</li><li>'spam'</li><li>'mappable'</li><li>'identifications_some_agree'</li><li>'project_ids_without_curator_id'</li><li>'place_guess'</li><li>'identifications'</li><li>'project_observations'</li><li>'observation_sounds'</li><li>'observation_photos'</li><li>'photos'</li><li>'faves'</li><li>'non_owner_ids'</li><li>'observed_on_details.date'</li><li>'observed_on_details.day'</li><li>'observed_on_details.month'</li><li>'observed_on_details.year'</li><li>'observed_on_details.hour'</li><li>'observed_on_details.week'</li><li>'created_at_details.date'</li><li>'created_at_details.day'</li><li>'created_at_details.month'</li><li>'created_at_details.year'</li><li>'created_at_details.hour'</li><li>'created_at_details.week'</li><li>'taxon.is_active'</li><li>'taxon.ancestry'</li><li>'taxon.min_species_ancestry'</li><li>'taxon.endemic'</li><li>'taxon.iconic_taxon_id'</li><li>'taxon.min_species_taxon_id'</li><li>'taxon.threatened'</li><li>'taxon.rank_level'</li><li>'taxon.introduced'</li><li>'taxon.native'</li><li>'taxon.parent_id'</li><li>'taxon.name'</li><li>'taxon.rank'</li><li>'taxon.extinct'</li><li>'taxon.id'</li><li>'taxon.ancestor_ids'</li><li>'taxon.created_at'</li><li>'taxon.taxon_changes_count'</li><li>'taxon.taxon_schemes_count'</li><li>'taxon.observations_count'</li><li>'taxon.photos_locked'</li><li>'taxon.universal_search_rank'</li><li>'taxon.current_synonymous_taxon_ids'</li><li>'taxon.atlas_id'</li><li>'taxon.complete_species_count'</li><li>'taxon.wikipedia_url'</li><li>'taxon.iconic_taxon_name'</li><li>'taxon.preferred_common_name'</li><li>'taxon.default_photo.id'</li><li>'taxon.default_photo.license_code'</li><li>'taxon.default_photo.attribution'</li><li>'taxon.default_photo.url'</li><li>'taxon.default_photo.flags'</li><li>'taxon.default_photo.square_url'</li><li>'taxon.default_photo.medium_url'</li><li>'taxon.default_photo.original_dimensions.height'</li><li>'taxon.default_photo.original_dimensions.width'</li><li>'taxon.flag_counts.resolved'</li><li>'taxon.flag_counts.unresolved'</li><li>'taxon.conservation_status.id'</li><li>'taxon.conservation_status.place_id'</li><li>'taxon.conservation_status.source_id'</li><li>'taxon.conservation_status.user_id'</li><li>'taxon.conservation_status.authority'</li><li>'taxon.conservation_status.status'</li><li>'taxon.conservation_status.status_name'</li><li>'taxon.conservation_status.geoprivacy'</li><li>'taxon.conservation_status.iucn'</li><li>'preferences.prefers_community_taxon'</li><li>'geojson.type'</li><li>'geojson.coordinates'</li><li>'user.id'</li><li>'user.login'</li><li>'user.spam'</li><li>'user.suspended'</li><li>'user.created_at'</li><li>'user.site_id'</li><li>'user.login_autocomplete'</li><li>'user.login_exact'</li><li>'user.name'</li><li>'user.name_autocomplete'</li><li>'user.orcid'</li><li>'user.icon'</li><li>'user.observations_count'</li><li>'user.identifications_count'</li><li>'user.journal_posts_count'</li><li>'user.activity_count'</li><li>'user.species_count'</li><li>'user.universal_search_rank'</li><li>'user.roles'</li><li>'user.icon_url'</li><li>'user.preferences.prefers_observation_fields_by'</li><li>'user.preferences.prefers_community_taxa'</li><li>'user.preferences.prefers_project_addition_by'</li><li>'observed_on_date'</li><li>'day_of_year'</li></ol>\n"
      ],
      "text/latex": [
       "\\begin{enumerate*}\n",
       "\\item 'quality\\_grade'\n",
       "\\item 'time\\_observed\\_at'\n",
       "\\item 'taxon\\_geoprivacy'\n",
       "\\item 'annotations'\n",
       "\\item 'uuid'\n",
       "\\item 'id'\n",
       "\\item 'cached\\_votes\\_total'\n",
       "\\item 'identifications\\_most\\_agree'\n",
       "\\item 'species\\_guess'\n",
       "\\item 'identifications\\_most\\_disagree'\n",
       "\\item 'tags'\n",
       "\\item 'positional\\_accuracy'\n",
       "\\item 'comments\\_count'\n",
       "\\item 'site\\_id'\n",
       "\\item 'created\\_time\\_zone'\n",
       "\\item 'license\\_code'\n",
       "\\item 'observed\\_time\\_zone'\n",
       "\\item 'quality\\_metrics'\n",
       "\\item 'public\\_positional\\_accuracy'\n",
       "\\item 'reviewed\\_by'\n",
       "\\item 'oauth\\_application\\_id'\n",
       "\\item 'flags'\n",
       "\\item 'created\\_at'\n",
       "\\item 'description'\n",
       "\\item 'time\\_zone\\_offset'\n",
       "\\item 'project\\_ids\\_with\\_curator\\_id'\n",
       "\\item 'observed\\_on'\n",
       "\\item 'observed\\_on\\_string'\n",
       "\\item 'updated\\_at'\n",
       "\\item 'sounds'\n",
       "\\item 'place\\_ids'\n",
       "\\item 'captive'\n",
       "\\item 'ident\\_taxon\\_ids'\n",
       "\\item 'outlinks'\n",
       "\\item 'faves\\_count'\n",
       "\\item 'ofvs'\n",
       "\\item 'num\\_identification\\_agreements'\n",
       "\\item 'comments'\n",
       "\\item 'map\\_scale'\n",
       "\\item 'uri'\n",
       "\\item 'project\\_ids'\n",
       "\\item 'community\\_taxon\\_id'\n",
       "\\item 'owners\\_identification\\_from\\_vision'\n",
       "\\item 'identifications\\_count'\n",
       "\\item 'obscured'\n",
       "\\item 'num\\_identification\\_disagreements'\n",
       "\\item 'geoprivacy'\n",
       "\\item 'location'\n",
       "\\item 'votes'\n",
       "\\item 'spam'\n",
       "\\item 'mappable'\n",
       "\\item 'identifications\\_some\\_agree'\n",
       "\\item 'project\\_ids\\_without\\_curator\\_id'\n",
       "\\item 'place\\_guess'\n",
       "\\item 'identifications'\n",
       "\\item 'project\\_observations'\n",
       "\\item 'observation\\_sounds'\n",
       "\\item 'observation\\_photos'\n",
       "\\item 'photos'\n",
       "\\item 'faves'\n",
       "\\item 'non\\_owner\\_ids'\n",
       "\\item 'observed\\_on\\_details.date'\n",
       "\\item 'observed\\_on\\_details.day'\n",
       "\\item 'observed\\_on\\_details.month'\n",
       "\\item 'observed\\_on\\_details.year'\n",
       "\\item 'observed\\_on\\_details.hour'\n",
       "\\item 'observed\\_on\\_details.week'\n",
       "\\item 'created\\_at\\_details.date'\n",
       "\\item 'created\\_at\\_details.day'\n",
       "\\item 'created\\_at\\_details.month'\n",
       "\\item 'created\\_at\\_details.year'\n",
       "\\item 'created\\_at\\_details.hour'\n",
       "\\item 'created\\_at\\_details.week'\n",
       "\\item 'taxon.is\\_active'\n",
       "\\item 'taxon.ancestry'\n",
       "\\item 'taxon.min\\_species\\_ancestry'\n",
       "\\item 'taxon.endemic'\n",
       "\\item 'taxon.iconic\\_taxon\\_id'\n",
       "\\item 'taxon.min\\_species\\_taxon\\_id'\n",
       "\\item 'taxon.threatened'\n",
       "\\item 'taxon.rank\\_level'\n",
       "\\item 'taxon.introduced'\n",
       "\\item 'taxon.native'\n",
       "\\item 'taxon.parent\\_id'\n",
       "\\item 'taxon.name'\n",
       "\\item 'taxon.rank'\n",
       "\\item 'taxon.extinct'\n",
       "\\item 'taxon.id'\n",
       "\\item 'taxon.ancestor\\_ids'\n",
       "\\item 'taxon.created\\_at'\n",
       "\\item 'taxon.taxon\\_changes\\_count'\n",
       "\\item 'taxon.taxon\\_schemes\\_count'\n",
       "\\item 'taxon.observations\\_count'\n",
       "\\item 'taxon.photos\\_locked'\n",
       "\\item 'taxon.universal\\_search\\_rank'\n",
       "\\item 'taxon.current\\_synonymous\\_taxon\\_ids'\n",
       "\\item 'taxon.atlas\\_id'\n",
       "\\item 'taxon.complete\\_species\\_count'\n",
       "\\item 'taxon.wikipedia\\_url'\n",
       "\\item 'taxon.iconic\\_taxon\\_name'\n",
       "\\item 'taxon.preferred\\_common\\_name'\n",
       "\\item 'taxon.default\\_photo.id'\n",
       "\\item 'taxon.default\\_photo.license\\_code'\n",
       "\\item 'taxon.default\\_photo.attribution'\n",
       "\\item 'taxon.default\\_photo.url'\n",
       "\\item 'taxon.default\\_photo.flags'\n",
       "\\item 'taxon.default\\_photo.square\\_url'\n",
       "\\item 'taxon.default\\_photo.medium\\_url'\n",
       "\\item 'taxon.default\\_photo.original\\_dimensions.height'\n",
       "\\item 'taxon.default\\_photo.original\\_dimensions.width'\n",
       "\\item 'taxon.flag\\_counts.resolved'\n",
       "\\item 'taxon.flag\\_counts.unresolved'\n",
       "\\item 'taxon.conservation\\_status.id'\n",
       "\\item 'taxon.conservation\\_status.place\\_id'\n",
       "\\item 'taxon.conservation\\_status.source\\_id'\n",
       "\\item 'taxon.conservation\\_status.user\\_id'\n",
       "\\item 'taxon.conservation\\_status.authority'\n",
       "\\item 'taxon.conservation\\_status.status'\n",
       "\\item 'taxon.conservation\\_status.status\\_name'\n",
       "\\item 'taxon.conservation\\_status.geoprivacy'\n",
       "\\item 'taxon.conservation\\_status.iucn'\n",
       "\\item 'preferences.prefers\\_community\\_taxon'\n",
       "\\item 'geojson.type'\n",
       "\\item 'geojson.coordinates'\n",
       "\\item 'user.id'\n",
       "\\item 'user.login'\n",
       "\\item 'user.spam'\n",
       "\\item 'user.suspended'\n",
       "\\item 'user.created\\_at'\n",
       "\\item 'user.site\\_id'\n",
       "\\item 'user.login\\_autocomplete'\n",
       "\\item 'user.login\\_exact'\n",
       "\\item 'user.name'\n",
       "\\item 'user.name\\_autocomplete'\n",
       "\\item 'user.orcid'\n",
       "\\item 'user.icon'\n",
       "\\item 'user.observations\\_count'\n",
       "\\item 'user.identifications\\_count'\n",
       "\\item 'user.journal\\_posts\\_count'\n",
       "\\item 'user.activity\\_count'\n",
       "\\item 'user.species\\_count'\n",
       "\\item 'user.universal\\_search\\_rank'\n",
       "\\item 'user.roles'\n",
       "\\item 'user.icon\\_url'\n",
       "\\item 'user.preferences.prefers\\_observation\\_fields\\_by'\n",
       "\\item 'user.preferences.prefers\\_community\\_taxa'\n",
       "\\item 'user.preferences.prefers\\_project\\_addition\\_by'\n",
       "\\item 'observed\\_on\\_date'\n",
       "\\item 'day\\_of\\_year'\n",
       "\\end{enumerate*}\n"
      ],
      "text/markdown": [
       "1. 'quality_grade'\n",
       "2. 'time_observed_at'\n",
       "3. 'taxon_geoprivacy'\n",
       "4. 'annotations'\n",
       "5. 'uuid'\n",
       "6. 'id'\n",
       "7. 'cached_votes_total'\n",
       "8. 'identifications_most_agree'\n",
       "9. 'species_guess'\n",
       "10. 'identifications_most_disagree'\n",
       "11. 'tags'\n",
       "12. 'positional_accuracy'\n",
       "13. 'comments_count'\n",
       "14. 'site_id'\n",
       "15. 'created_time_zone'\n",
       "16. 'license_code'\n",
       "17. 'observed_time_zone'\n",
       "18. 'quality_metrics'\n",
       "19. 'public_positional_accuracy'\n",
       "20. 'reviewed_by'\n",
       "21. 'oauth_application_id'\n",
       "22. 'flags'\n",
       "23. 'created_at'\n",
       "24. 'description'\n",
       "25. 'time_zone_offset'\n",
       "26. 'project_ids_with_curator_id'\n",
       "27. 'observed_on'\n",
       "28. 'observed_on_string'\n",
       "29. 'updated_at'\n",
       "30. 'sounds'\n",
       "31. 'place_ids'\n",
       "32. 'captive'\n",
       "33. 'ident_taxon_ids'\n",
       "34. 'outlinks'\n",
       "35. 'faves_count'\n",
       "36. 'ofvs'\n",
       "37. 'num_identification_agreements'\n",
       "38. 'comments'\n",
       "39. 'map_scale'\n",
       "40. 'uri'\n",
       "41. 'project_ids'\n",
       "42. 'community_taxon_id'\n",
       "43. 'owners_identification_from_vision'\n",
       "44. 'identifications_count'\n",
       "45. 'obscured'\n",
       "46. 'num_identification_disagreements'\n",
       "47. 'geoprivacy'\n",
       "48. 'location'\n",
       "49. 'votes'\n",
       "50. 'spam'\n",
       "51. 'mappable'\n",
       "52. 'identifications_some_agree'\n",
       "53. 'project_ids_without_curator_id'\n",
       "54. 'place_guess'\n",
       "55. 'identifications'\n",
       "56. 'project_observations'\n",
       "57. 'observation_sounds'\n",
       "58. 'observation_photos'\n",
       "59. 'photos'\n",
       "60. 'faves'\n",
       "61. 'non_owner_ids'\n",
       "62. 'observed_on_details.date'\n",
       "63. 'observed_on_details.day'\n",
       "64. 'observed_on_details.month'\n",
       "65. 'observed_on_details.year'\n",
       "66. 'observed_on_details.hour'\n",
       "67. 'observed_on_details.week'\n",
       "68. 'created_at_details.date'\n",
       "69. 'created_at_details.day'\n",
       "70. 'created_at_details.month'\n",
       "71. 'created_at_details.year'\n",
       "72. 'created_at_details.hour'\n",
       "73. 'created_at_details.week'\n",
       "74. 'taxon.is_active'\n",
       "75. 'taxon.ancestry'\n",
       "76. 'taxon.min_species_ancestry'\n",
       "77. 'taxon.endemic'\n",
       "78. 'taxon.iconic_taxon_id'\n",
       "79. 'taxon.min_species_taxon_id'\n",
       "80. 'taxon.threatened'\n",
       "81. 'taxon.rank_level'\n",
       "82. 'taxon.introduced'\n",
       "83. 'taxon.native'\n",
       "84. 'taxon.parent_id'\n",
       "85. 'taxon.name'\n",
       "86. 'taxon.rank'\n",
       "87. 'taxon.extinct'\n",
       "88. 'taxon.id'\n",
       "89. 'taxon.ancestor_ids'\n",
       "90. 'taxon.created_at'\n",
       "91. 'taxon.taxon_changes_count'\n",
       "92. 'taxon.taxon_schemes_count'\n",
       "93. 'taxon.observations_count'\n",
       "94. 'taxon.photos_locked'\n",
       "95. 'taxon.universal_search_rank'\n",
       "96. 'taxon.current_synonymous_taxon_ids'\n",
       "97. 'taxon.atlas_id'\n",
       "98. 'taxon.complete_species_count'\n",
       "99. 'taxon.wikipedia_url'\n",
       "100. 'taxon.iconic_taxon_name'\n",
       "101. 'taxon.preferred_common_name'\n",
       "102. 'taxon.default_photo.id'\n",
       "103. 'taxon.default_photo.license_code'\n",
       "104. 'taxon.default_photo.attribution'\n",
       "105. 'taxon.default_photo.url'\n",
       "106. 'taxon.default_photo.flags'\n",
       "107. 'taxon.default_photo.square_url'\n",
       "108. 'taxon.default_photo.medium_url'\n",
       "109. 'taxon.default_photo.original_dimensions.height'\n",
       "110. 'taxon.default_photo.original_dimensions.width'\n",
       "111. 'taxon.flag_counts.resolved'\n",
       "112. 'taxon.flag_counts.unresolved'\n",
       "113. 'taxon.conservation_status.id'\n",
       "114. 'taxon.conservation_status.place_id'\n",
       "115. 'taxon.conservation_status.source_id'\n",
       "116. 'taxon.conservation_status.user_id'\n",
       "117. 'taxon.conservation_status.authority'\n",
       "118. 'taxon.conservation_status.status'\n",
       "119. 'taxon.conservation_status.status_name'\n",
       "120. 'taxon.conservation_status.geoprivacy'\n",
       "121. 'taxon.conservation_status.iucn'\n",
       "122. 'preferences.prefers_community_taxon'\n",
       "123. 'geojson.type'\n",
       "124. 'geojson.coordinates'\n",
       "125. 'user.id'\n",
       "126. 'user.login'\n",
       "127. 'user.spam'\n",
       "128. 'user.suspended'\n",
       "129. 'user.created_at'\n",
       "130. 'user.site_id'\n",
       "131. 'user.login_autocomplete'\n",
       "132. 'user.login_exact'\n",
       "133. 'user.name'\n",
       "134. 'user.name_autocomplete'\n",
       "135. 'user.orcid'\n",
       "136. 'user.icon'\n",
       "137. 'user.observations_count'\n",
       "138. 'user.identifications_count'\n",
       "139. 'user.journal_posts_count'\n",
       "140. 'user.activity_count'\n",
       "141. 'user.species_count'\n",
       "142. 'user.universal_search_rank'\n",
       "143. 'user.roles'\n",
       "144. 'user.icon_url'\n",
       "145. 'user.preferences.prefers_observation_fields_by'\n",
       "146. 'user.preferences.prefers_community_taxa'\n",
       "147. 'user.preferences.prefers_project_addition_by'\n",
       "148. 'observed_on_date'\n",
       "149. 'day_of_year'\n",
       "\n",
       "\n"
      ],
      "text/plain": [
       "  [1] \"quality_grade\"                                 \n",
       "  [2] \"time_observed_at\"                              \n",
       "  [3] \"taxon_geoprivacy\"                              \n",
       "  [4] \"annotations\"                                   \n",
       "  [5] \"uuid\"                                          \n",
       "  [6] \"id\"                                            \n",
       "  [7] \"cached_votes_total\"                            \n",
       "  [8] \"identifications_most_agree\"                    \n",
       "  [9] \"species_guess\"                                 \n",
       " [10] \"identifications_most_disagree\"                 \n",
       " [11] \"tags\"                                          \n",
       " [12] \"positional_accuracy\"                           \n",
       " [13] \"comments_count\"                                \n",
       " [14] \"site_id\"                                       \n",
       " [15] \"created_time_zone\"                             \n",
       " [16] \"license_code\"                                  \n",
       " [17] \"observed_time_zone\"                            \n",
       " [18] \"quality_metrics\"                               \n",
       " [19] \"public_positional_accuracy\"                    \n",
       " [20] \"reviewed_by\"                                   \n",
       " [21] \"oauth_application_id\"                          \n",
       " [22] \"flags\"                                         \n",
       " [23] \"created_at\"                                    \n",
       " [24] \"description\"                                   \n",
       " [25] \"time_zone_offset\"                              \n",
       " [26] \"project_ids_with_curator_id\"                   \n",
       " [27] \"observed_on\"                                   \n",
       " [28] \"observed_on_string\"                            \n",
       " [29] \"updated_at\"                                    \n",
       " [30] \"sounds\"                                        \n",
       " [31] \"place_ids\"                                     \n",
       " [32] \"captive\"                                       \n",
       " [33] \"ident_taxon_ids\"                               \n",
       " [34] \"outlinks\"                                      \n",
       " [35] \"faves_count\"                                   \n",
       " [36] \"ofvs\"                                          \n",
       " [37] \"num_identification_agreements\"                 \n",
       " [38] \"comments\"                                      \n",
       " [39] \"map_scale\"                                     \n",
       " [40] \"uri\"                                           \n",
       " [41] \"project_ids\"                                   \n",
       " [42] \"community_taxon_id\"                            \n",
       " [43] \"owners_identification_from_vision\"             \n",
       " [44] \"identifications_count\"                         \n",
       " [45] \"obscured\"                                      \n",
       " [46] \"num_identification_disagreements\"              \n",
       " [47] \"geoprivacy\"                                    \n",
       " [48] \"location\"                                      \n",
       " [49] \"votes\"                                         \n",
       " [50] \"spam\"                                          \n",
       " [51] \"mappable\"                                      \n",
       " [52] \"identifications_some_agree\"                    \n",
       " [53] \"project_ids_without_curator_id\"                \n",
       " [54] \"place_guess\"                                   \n",
       " [55] \"identifications\"                               \n",
       " [56] \"project_observations\"                          \n",
       " [57] \"observation_sounds\"                            \n",
       " [58] \"observation_photos\"                            \n",
       " [59] \"photos\"                                        \n",
       " [60] \"faves\"                                         \n",
       " [61] \"non_owner_ids\"                                 \n",
       " [62] \"observed_on_details.date\"                      \n",
       " [63] \"observed_on_details.day\"                       \n",
       " [64] \"observed_on_details.month\"                     \n",
       " [65] \"observed_on_details.year\"                      \n",
       " [66] \"observed_on_details.hour\"                      \n",
       " [67] \"observed_on_details.week\"                      \n",
       " [68] \"created_at_details.date\"                       \n",
       " [69] \"created_at_details.day\"                        \n",
       " [70] \"created_at_details.month\"                      \n",
       " [71] \"created_at_details.year\"                       \n",
       " [72] \"created_at_details.hour\"                       \n",
       " [73] \"created_at_details.week\"                       \n",
       " [74] \"taxon.is_active\"                               \n",
       " [75] \"taxon.ancestry\"                                \n",
       " [76] \"taxon.min_species_ancestry\"                    \n",
       " [77] \"taxon.endemic\"                                 \n",
       " [78] \"taxon.iconic_taxon_id\"                         \n",
       " [79] \"taxon.min_species_taxon_id\"                    \n",
       " [80] \"taxon.threatened\"                              \n",
       " [81] \"taxon.rank_level\"                              \n",
       " [82] \"taxon.introduced\"                              \n",
       " [83] \"taxon.native\"                                  \n",
       " [84] \"taxon.parent_id\"                               \n",
       " [85] \"taxon.name\"                                    \n",
       " [86] \"taxon.rank\"                                    \n",
       " [87] \"taxon.extinct\"                                 \n",
       " [88] \"taxon.id\"                                      \n",
       " [89] \"taxon.ancestor_ids\"                            \n",
       " [90] \"taxon.created_at\"                              \n",
       " [91] \"taxon.taxon_changes_count\"                     \n",
       " [92] \"taxon.taxon_schemes_count\"                     \n",
       " [93] \"taxon.observations_count\"                      \n",
       " [94] \"taxon.photos_locked\"                           \n",
       " [95] \"taxon.universal_search_rank\"                   \n",
       " [96] \"taxon.current_synonymous_taxon_ids\"            \n",
       " [97] \"taxon.atlas_id\"                                \n",
       " [98] \"taxon.complete_species_count\"                  \n",
       " [99] \"taxon.wikipedia_url\"                           \n",
       "[100] \"taxon.iconic_taxon_name\"                       \n",
       "[101] \"taxon.preferred_common_name\"                   \n",
       "[102] \"taxon.default_photo.id\"                        \n",
       "[103] \"taxon.default_photo.license_code\"              \n",
       "[104] \"taxon.default_photo.attribution\"               \n",
       "[105] \"taxon.default_photo.url\"                       \n",
       "[106] \"taxon.default_photo.flags\"                     \n",
       "[107] \"taxon.default_photo.square_url\"                \n",
       "[108] \"taxon.default_photo.medium_url\"                \n",
       "[109] \"taxon.default_photo.original_dimensions.height\"\n",
       "[110] \"taxon.default_photo.original_dimensions.width\" \n",
       "[111] \"taxon.flag_counts.resolved\"                    \n",
       "[112] \"taxon.flag_counts.unresolved\"                  \n",
       "[113] \"taxon.conservation_status.id\"                  \n",
       "[114] \"taxon.conservation_status.place_id\"            \n",
       "[115] \"taxon.conservation_status.source_id\"           \n",
       "[116] \"taxon.conservation_status.user_id\"             \n",
       "[117] \"taxon.conservation_status.authority\"           \n",
       "[118] \"taxon.conservation_status.status\"              \n",
       "[119] \"taxon.conservation_status.status_name\"         \n",
       "[120] \"taxon.conservation_status.geoprivacy\"          \n",
       "[121] \"taxon.conservation_status.iucn\"                \n",
       "[122] \"preferences.prefers_community_taxon\"           \n",
       "[123] \"geojson.type\"                                  \n",
       "[124] \"geojson.coordinates\"                           \n",
       "[125] \"user.id\"                                       \n",
       "[126] \"user.login\"                                    \n",
       "[127] \"user.spam\"                                     \n",
       "[128] \"user.suspended\"                                \n",
       "[129] \"user.created_at\"                               \n",
       "[130] \"user.site_id\"                                  \n",
       "[131] \"user.login_autocomplete\"                       \n",
       "[132] \"user.login_exact\"                              \n",
       "[133] \"user.name\"                                     \n",
       "[134] \"user.name_autocomplete\"                        \n",
       "[135] \"user.orcid\"                                    \n",
       "[136] \"user.icon\"                                     \n",
       "[137] \"user.observations_count\"                       \n",
       "[138] \"user.identifications_count\"                    \n",
       "[139] \"user.journal_posts_count\"                      \n",
       "[140] \"user.activity_count\"                           \n",
       "[141] \"user.species_count\"                            \n",
       "[142] \"user.universal_search_rank\"                    \n",
       "[143] \"user.roles\"                                    \n",
       "[144] \"user.icon_url\"                                 \n",
       "[145] \"user.preferences.prefers_observation_fields_by\"\n",
       "[146] \"user.preferences.prefers_community_taxa\"       \n",
       "[147] \"user.preferences.prefers_project_addition_by\"  \n",
       "[148] \"observed_on_date\"                              \n",
       "[149] \"day_of_year\"                                   "
      ]
     },
     "metadata": {},
     "output_type": "display_data"
    }
   ],
   "source": [
    "is_NDBT_obs = mutate(is_thisisnotalist, \n",
    "                observed_on_date = as.Date(observed_on, \"%Y-%m-%d\"),\n",
    "                day_of_year = as.numeric(strftime(observed_on_date, format = \"%j\")))\n",
    "\n",
    "colnames(is_NDBT_obs)"
   ]
  },
  {
   "cell_type": "code",
   "execution_count": 53,
   "id": "9fe7c674",
   "metadata": {
    "vscode": {
     "languageId": "r"
    }
   },
   "outputs": [
    {
     "data": {
      "text/html": [
       "<table class=\"dataframe\">\n",
       "<caption>A data.frame: 2 × 11</caption>\n",
       "<thead>\n",
       "\t<tr><th></th><th scope=col>id</th><th scope=col>taxon.preferred_common_name</th><th scope=col>taxon.name</th><th scope=col>observed_on_date</th><th scope=col>day_of_year</th><th scope=col>place_guess</th><th scope=col>location</th><th scope=col>quality_grade</th><th scope=col>annotations</th><th scope=col>ofvs</th><th scope=col>tags</th></tr>\n",
       "\t<tr><th></th><th scope=col>&lt;int&gt;</th><th scope=col>&lt;chr&gt;</th><th scope=col>&lt;chr&gt;</th><th scope=col>&lt;date&gt;</th><th scope=col>&lt;dbl&gt;</th><th scope=col>&lt;chr&gt;</th><th scope=col>&lt;chr&gt;</th><th scope=col>&lt;chr&gt;</th><th scope=col>&lt;list&gt;</th><th scope=col>&lt;list&gt;</th><th scope=col>&lt;list&gt;</th></tr>\n",
       "</thead>\n",
       "<tbody>\n",
       "\t<tr><th scope=row>1</th><td>37407911</td><td>Ipswich Sparrow</td><td>Passerculus sandwichensis princeps</td><td>2020-01-08</td><td> 8</td><td>Massachusetts, US</td><td>41.626993817,-70.3510625992 </td><td>research</td><td>NULL</td><td>NULL</td><td></td></tr>\n",
       "\t<tr><th scope=row>2</th><td>37757708</td><td>Ipswich Sparrow</td><td>Passerculus sandwichensis princeps</td><td>2020-01-18</td><td>18</td><td>United States    </td><td>41.6364238587,-69.8209176257</td><td>research</td><td>0133eea7-d1f8-4588-bb52-ad37d0075727, 17                                  , 18                                  , 17|18                               , 0                                   , 1867531                             , 1867531                             , zroskoph                            , FALSE                               , FALSE                               , 2019-06-12T14:10:07+00:00           , zroskoph                            , zroskoph                            , Zane Roskoph                        , Zane Roskoph                        , NA                                  , NA                                  , 8625                                , 19390                               , 0                                   , 28015                               , 2756                                , 8625                                , 1                                   , NA                                  </td><td>NULL</td><td></td></tr>\n",
       "</tbody>\n",
       "</table>\n"
      ],
      "text/latex": [
       "A data.frame: 2 × 11\n",
       "\\begin{tabular}{r|lllllllllll}\n",
       "  & id & taxon.preferred\\_common\\_name & taxon.name & observed\\_on\\_date & day\\_of\\_year & place\\_guess & location & quality\\_grade & annotations & ofvs & tags\\\\\n",
       "  & <int> & <chr> & <chr> & <date> & <dbl> & <chr> & <chr> & <chr> & <list> & <list> & <list>\\\\\n",
       "\\hline\n",
       "\t1 & 37407911 & Ipswich Sparrow & Passerculus sandwichensis princeps & 2020-01-08 &  8 & Massachusetts, US & 41.626993817,-70.3510625992  & research & NULL & NULL & \\\\\n",
       "\t2 & 37757708 & Ipswich Sparrow & Passerculus sandwichensis princeps & 2020-01-18 & 18 & United States     & 41.6364238587,-69.8209176257 & research & 0133eea7-d1f8-4588-bb52-ad37d0075727, 17                                  , 18                                  , 17\\textbar{}18                               , 0                                   , 1867531                             , 1867531                             , zroskoph                            , FALSE                               , FALSE                               , 2019-06-12T14:10:07+00:00           , zroskoph                            , zroskoph                            , Zane Roskoph                        , Zane Roskoph                        , NA                                  , NA                                  , 8625                                , 19390                               , 0                                   , 28015                               , 2756                                , 8625                                , 1                                   , NA                                   & NULL & \\\\\n",
       "\\end{tabular}\n"
      ],
      "text/markdown": [
       "\n",
       "A data.frame: 2 × 11\n",
       "\n",
       "| <!--/--> | id &lt;int&gt; | taxon.preferred_common_name &lt;chr&gt; | taxon.name &lt;chr&gt; | observed_on_date &lt;date&gt; | day_of_year &lt;dbl&gt; | place_guess &lt;chr&gt; | location &lt;chr&gt; | quality_grade &lt;chr&gt; | annotations &lt;list&gt; | ofvs &lt;list&gt; | tags &lt;list&gt; |\n",
       "|---|---|---|---|---|---|---|---|---|---|---|---|\n",
       "| 1 | 37407911 | Ipswich Sparrow | Passerculus sandwichensis princeps | 2020-01-08 |  8 | Massachusetts, US | 41.626993817,-70.3510625992  | research | NULL | NULL | <!----> |\n",
       "| 2 | 37757708 | Ipswich Sparrow | Passerculus sandwichensis princeps | 2020-01-18 | 18 | United States     | 41.6364238587,-69.8209176257 | research | 0133eea7-d1f8-4588-bb52-ad37d0075727, 17                                  , 18                                  , 17|18                               , 0                                   , 1867531                             , 1867531                             , zroskoph                            , FALSE                               , FALSE                               , 2019-06-12T14:10:07+00:00           , zroskoph                            , zroskoph                            , Zane Roskoph                        , Zane Roskoph                        , NA                                  , NA                                  , 8625                                , 19390                               , 0                                   , 28015                               , 2756                                , 8625                                , 1                                   , NA                                   | NULL | <!----> |\n",
       "\n"
      ],
      "text/plain": [
       "  id       taxon.preferred_common_name taxon.name                        \n",
       "1 37407911 Ipswich Sparrow             Passerculus sandwichensis princeps\n",
       "2 37757708 Ipswich Sparrow             Passerculus sandwichensis princeps\n",
       "  observed_on_date day_of_year place_guess       location                    \n",
       "1 2020-01-08        8          Massachusetts, US 41.626993817,-70.3510625992 \n",
       "2 2020-01-18       18          United States     41.6364238587,-69.8209176257\n",
       "  quality_grade\n",
       "1 research     \n",
       "2 research     \n",
       "  annotations                                                                                                                                                                                                                                                                                                                                                                                                                                                                                                                                                                                                                                                                                                                                                                                                                                                                                                                                                                         \n",
       "1 NULL                                                                                                                                                                                                                                                                                                                                                                                                                                                                                                                                                                                                                                                                                                                                                                                                                                                                                                                                                                                \n",
       "2 0133eea7-d1f8-4588-bb52-ad37d0075727, 17                                  , 18                                  , 17|18                               , 0                                   , 1867531                             , 1867531                             , zroskoph                            , FALSE                               , FALSE                               , 2019-06-12T14:10:07+00:00           , zroskoph                            , zroskoph                            , Zane Roskoph                        , Zane Roskoph                        , NA                                  , NA                                  , 8625                                , 19390                               , 0                                   , 28015                               , 2756                                , 8625                                , 1                                   , NA                                  \n",
       "  ofvs tags\n",
       "1 NULL     \n",
       "2 NULL     "
      ]
     },
     "metadata": {},
     "output_type": "display_data"
    }
   ],
   "source": [
    "is_database_data = select(is_NDBT_obs, id, taxon.preferred_common_name,taxon.name, observed_on_date, day_of_year, \n",
    "                        place_guess, location, quality_grade, annotations, ofvs, tags)\n",
    "head(is_database_data,2)"
   ]
  },
  {
   "cell_type": "code",
   "execution_count": 54,
   "id": "5ecc052c",
   "metadata": {
    "vscode": {
     "languageId": "r"
    }
   },
   "outputs": [
    {
     "data": {
      "text/html": [
       "<style>\n",
       ".list-inline {list-style: none; margin:0; padding: 0}\n",
       ".list-inline>li {display: inline-block}\n",
       ".list-inline>li:not(:last-child)::after {content: \"\\00b7\"; padding: 0 .5ex}\n",
       "</style>\n",
       "<ol class=list-inline><li>'id'</li><li>'taxon_preferred_common_name'</li><li>'taxon_name'</li><li>'observed_on_date'</li><li>'day_of_year'</li><li>'place_guess'</li><li>'location'</li><li>'quality_grade'</li><li>'annotations'</li><li>'ofvs'</li><li>'tags'</li></ol>\n"
      ],
      "text/latex": [
       "\\begin{enumerate*}\n",
       "\\item 'id'\n",
       "\\item 'taxon\\_preferred\\_common\\_name'\n",
       "\\item 'taxon\\_name'\n",
       "\\item 'observed\\_on\\_date'\n",
       "\\item 'day\\_of\\_year'\n",
       "\\item 'place\\_guess'\n",
       "\\item 'location'\n",
       "\\item 'quality\\_grade'\n",
       "\\item 'annotations'\n",
       "\\item 'ofvs'\n",
       "\\item 'tags'\n",
       "\\end{enumerate*}\n"
      ],
      "text/markdown": [
       "1. 'id'\n",
       "2. 'taxon_preferred_common_name'\n",
       "3. 'taxon_name'\n",
       "4. 'observed_on_date'\n",
       "5. 'day_of_year'\n",
       "6. 'place_guess'\n",
       "7. 'location'\n",
       "8. 'quality_grade'\n",
       "9. 'annotations'\n",
       "10. 'ofvs'\n",
       "11. 'tags'\n",
       "\n",
       "\n"
      ],
      "text/plain": [
       " [1] \"id\"                          \"taxon_preferred_common_name\"\n",
       " [3] \"taxon_name\"                  \"observed_on_date\"           \n",
       " [5] \"day_of_year\"                 \"place_guess\"                \n",
       " [7] \"location\"                    \"quality_grade\"              \n",
       " [9] \"annotations\"                 \"ofvs\"                       \n",
       "[11] \"tags\"                       "
      ]
     },
     "metadata": {},
     "output_type": "display_data"
    }
   ],
   "source": [
    "replace_period = function(name) {gsub(\"\\\\.\", \"_\", name)} \n",
    "is_database_data = rename_all(is_database_data, replace_period)\n",
    "colnames(is_database_data)"
   ]
  },
  {
   "cell_type": "code",
   "execution_count": 55,
   "id": "ad3ede55",
   "metadata": {
    "vscode": {
     "languageId": "r"
    }
   },
   "outputs": [
    {
     "data": {
      "text/html": [
       "<style>\n",
       ".list-inline {list-style: none; margin:0; padding: 0}\n",
       ".list-inline>li {display: inline-block}\n",
       ".list-inline>li:not(:last-child)::after {content: \"\\00b7\"; padding: 0 .5ex}\n",
       "</style>\n",
       "<ol class=list-inline><li>'id'</li><li>'common_name'</li><li>'taxon_name'</li><li>'observed_date'</li><li>'day_of_year'</li><li>'place_guess'</li><li>'location'</li><li>'quality_grade'</li><li>'annotations'</li><li>'ofvs'</li><li>'tags'</li></ol>\n"
      ],
      "text/latex": [
       "\\begin{enumerate*}\n",
       "\\item 'id'\n",
       "\\item 'common\\_name'\n",
       "\\item 'taxon\\_name'\n",
       "\\item 'observed\\_date'\n",
       "\\item 'day\\_of\\_year'\n",
       "\\item 'place\\_guess'\n",
       "\\item 'location'\n",
       "\\item 'quality\\_grade'\n",
       "\\item 'annotations'\n",
       "\\item 'ofvs'\n",
       "\\item 'tags'\n",
       "\\end{enumerate*}\n"
      ],
      "text/markdown": [
       "1. 'id'\n",
       "2. 'common_name'\n",
       "3. 'taxon_name'\n",
       "4. 'observed_date'\n",
       "5. 'day_of_year'\n",
       "6. 'place_guess'\n",
       "7. 'location'\n",
       "8. 'quality_grade'\n",
       "9. 'annotations'\n",
       "10. 'ofvs'\n",
       "11. 'tags'\n",
       "\n",
       "\n"
      ],
      "text/plain": [
       " [1] \"id\"            \"common_name\"   \"taxon_name\"    \"observed_date\"\n",
       " [5] \"day_of_year\"   \"place_guess\"   \"location\"      \"quality_grade\"\n",
       " [9] \"annotations\"   \"ofvs\"          \"tags\"         "
      ]
     },
     "metadata": {},
     "output_type": "display_data"
    }
   ],
   "source": [
    "is_database_data = rename(is_database_data,\n",
    "                        common_name = taxon_preferred_common_name,\n",
    "                        observed_date = observed_on_date,\n",
    "                        )\n",
    "colnames(is_database_data)"
   ]
  },
  {
   "cell_type": "code",
   "execution_count": 56,
   "id": "e1d735e9",
   "metadata": {
    "vscode": {
     "languageId": "r"
    }
   },
   "outputs": [
    {
     "data": {
      "text/html": [
       "<style>\n",
       ".list-inline {list-style: none; margin:0; padding: 0}\n",
       ".list-inline>li {display: inline-block}\n",
       ".list-inline>li:not(:last-child)::after {content: \"\\00b7\"; padding: 0 .5ex}\n",
       "</style>\n",
       "<ol class=list-inline><li>'id'</li><li>'common_name'</li><li>'taxon_name'</li></ol>\n"
      ],
      "text/latex": [
       "\\begin{enumerate*}\n",
       "\\item 'id'\n",
       "\\item 'common\\_name'\n",
       "\\item 'taxon\\_name'\n",
       "\\end{enumerate*}\n"
      ],
      "text/markdown": [
       "1. 'id'\n",
       "2. 'common_name'\n",
       "3. 'taxon_name'\n",
       "\n",
       "\n"
      ],
      "text/plain": [
       "[1] \"id\"          \"common_name\" \"taxon_name\" "
      ]
     },
     "metadata": {},
     "output_type": "display_data"
    }
   ],
   "source": [
    "is_table_name = \"species\"\n",
    "query = sprintf(\"PRAGMA table_info(%s);\", is_table_name)\n",
    "is_db_columns = dbGetQuery(db, query)$name\n",
    "is_common_columns = intersect(colnames(is_database_data), is_db_columns)\n",
    "is_common_columns"
   ]
  },
  {
   "cell_type": "code",
   "execution_count": 57,
   "id": "5bc01a03",
   "metadata": {
    "vscode": {
     "languageId": "r"
    }
   },
   "outputs": [
    {
     "data": {
      "text/html": [
       "<table class=\"dataframe\">\n",
       "<caption>A data.frame: 2 × 3</caption>\n",
       "<thead>\n",
       "\t<tr><th></th><th scope=col>id</th><th scope=col>common_name</th><th scope=col>taxon_name</th></tr>\n",
       "\t<tr><th></th><th scope=col>&lt;int&gt;</th><th scope=col>&lt;chr&gt;</th><th scope=col>&lt;chr&gt;</th></tr>\n",
       "</thead>\n",
       "<tbody>\n",
       "\t<tr><th scope=row>1</th><td>37407911</td><td>Ipswich Sparrow</td><td>Passerculus sandwichensis princeps</td></tr>\n",
       "\t<tr><th scope=row>2</th><td>37757708</td><td>Ipswich Sparrow</td><td>Passerculus sandwichensis princeps</td></tr>\n",
       "</tbody>\n",
       "</table>\n"
      ],
      "text/latex": [
       "A data.frame: 2 × 3\n",
       "\\begin{tabular}{r|lll}\n",
       "  & id & common\\_name & taxon\\_name\\\\\n",
       "  & <int> & <chr> & <chr>\\\\\n",
       "\\hline\n",
       "\t1 & 37407911 & Ipswich Sparrow & Passerculus sandwichensis princeps\\\\\n",
       "\t2 & 37757708 & Ipswich Sparrow & Passerculus sandwichensis princeps\\\\\n",
       "\\end{tabular}\n"
      ],
      "text/markdown": [
       "\n",
       "A data.frame: 2 × 3\n",
       "\n",
       "| <!--/--> | id &lt;int&gt; | common_name &lt;chr&gt; | taxon_name &lt;chr&gt; |\n",
       "|---|---|---|---|\n",
       "| 1 | 37407911 | Ipswich Sparrow | Passerculus sandwichensis princeps |\n",
       "| 2 | 37757708 | Ipswich Sparrow | Passerculus sandwichensis princeps |\n",
       "\n"
      ],
      "text/plain": [
       "  id       common_name     taxon_name                        \n",
       "1 37407911 Ipswich Sparrow Passerculus sandwichensis princeps\n",
       "2 37757708 Ipswich Sparrow Passerculus sandwichensis princeps"
      ]
     },
     "metadata": {},
     "output_type": "display_data"
    }
   ],
   "source": [
    "is_species_subset = is_database_data[, is_common_columns, drop = FALSE]\n",
    "head(is_species_subset,2)"
   ]
  },
  {
   "cell_type": "code",
   "execution_count": 58,
   "id": "c3b7f2c2",
   "metadata": {
    "vscode": {
     "languageId": "r"
    }
   },
   "outputs": [],
   "source": [
    "dbWriteTable(db, is_species_subset, name = \"species\", append = TRUE, row.names = FALSE, )"
   ]
  },
  {
   "cell_type": "code",
   "execution_count": 59,
   "id": "33585834",
   "metadata": {
    "vscode": {
     "languageId": "r"
    }
   },
   "outputs": [
    {
     "data": {
      "text/html": [
       "<style>\n",
       ".list-inline {list-style: none; margin:0; padding: 0}\n",
       ".list-inline>li {display: inline-block}\n",
       ".list-inline>li:not(:last-child)::after {content: \"\\00b7\"; padding: 0 .5ex}\n",
       "</style>\n",
       "<ol class=list-inline><li>'menhaden_observation'</li><li>'species'</li><li>'turtle_observation'</li></ol>\n"
      ],
      "text/latex": [
       "\\begin{enumerate*}\n",
       "\\item 'menhaden\\_observation'\n",
       "\\item 'species'\n",
       "\\item 'turtle\\_observation'\n",
       "\\end{enumerate*}\n"
      ],
      "text/markdown": [
       "1. 'menhaden_observation'\n",
       "2. 'species'\n",
       "3. 'turtle_observation'\n",
       "\n",
       "\n"
      ],
      "text/plain": [
       "[1] \"menhaden_observation\" \"species\"              \"turtle_observation\"  "
      ]
     },
     "metadata": {},
     "output_type": "display_data"
    }
   ],
   "source": [
    "dbListTables(db)"
   ]
  },
  {
   "cell_type": "code",
   "execution_count": 60,
   "id": "947f2b82",
   "metadata": {
    "vscode": {
     "languageId": "r"
    }
   },
   "outputs": [
    {
     "data": {
      "text/html": [
       "<table class=\"dataframe\">\n",
       "<caption>A data.frame: 1 × 3</caption>\n",
       "<thead>\n",
       "\t<tr><th scope=col>id</th><th scope=col>taxon_name</th><th scope=col>common_name</th></tr>\n",
       "\t<tr><th scope=col>&lt;int&gt;</th><th scope=col>&lt;chr&gt;</th><th scope=col>&lt;chr&gt;</th></tr>\n",
       "</thead>\n",
       "<tbody>\n",
       "\t<tr><td>37407911</td><td>Passerculus sandwichensis princeps</td><td>Ipswich Sparrow</td></tr>\n",
       "</tbody>\n",
       "</table>\n"
      ],
      "text/latex": [
       "A data.frame: 1 × 3\n",
       "\\begin{tabular}{lll}\n",
       " id & taxon\\_name & common\\_name\\\\\n",
       " <int> & <chr> & <chr>\\\\\n",
       "\\hline\n",
       "\t 37407911 & Passerculus sandwichensis princeps & Ipswich Sparrow\\\\\n",
       "\\end{tabular}\n"
      ],
      "text/markdown": [
       "\n",
       "A data.frame: 1 × 3\n",
       "\n",
       "| id &lt;int&gt; | taxon_name &lt;chr&gt; | common_name &lt;chr&gt; |\n",
       "|---|---|---|\n",
       "| 37407911 | Passerculus sandwichensis princeps | Ipswich Sparrow |\n",
       "\n"
      ],
      "text/plain": [
       "  id       taxon_name                         common_name    \n",
       "1 37407911 Passerculus sandwichensis princeps Ipswich Sparrow"
      ]
     },
     "metadata": {},
     "output_type": "display_data"
    }
   ],
   "source": [
    "test_1 = dbGetQuery(db, \"Select *\n",
    "                        FROM species\n",
    "                        WHERE common_name LIKE '%Ipswich Sparrow%'\n",
    "                        LIMIT 1\")\n",
    "test_1"
   ]
  },
  {
   "cell_type": "code",
   "execution_count": 61,
   "id": "2525d6dc",
   "metadata": {
    "vscode": {
     "languageId": "r"
    }
   },
   "outputs": [
    {
     "data": {
      "text/html": [
       "0"
      ],
      "text/latex": [
       "0"
      ],
      "text/markdown": [
       "0"
      ],
      "text/plain": [
       "[1] 0"
      ]
     },
     "metadata": {},
     "output_type": "display_data"
    }
   ],
   "source": [
    "sparrow_observations = \"CREATE TABLE IF NOT EXISTS sparrow_observation (\n",
    "                        id INTEGER,\n",
    "                        observed_date DATE,\n",
    "                        day_of_year INTEGER,\n",
    "                        place_guess VARCHAR(500),\n",
    "                        location VARCHAR(255),\n",
    "                        quality_grade VARCHAR(8),\n",
    "                        annotations VARCHAR(4697),\n",
    "                        tags VARCHAR(160),\n",
    "                        ofvs VARCHAR(7677),\n",
    "                        FOREIGN KEY (id) REFERENCES species(id)\n",
    "                        );\"\n",
    "dbExecute(db, sparrow_observations)"
   ]
  },
  {
   "cell_type": "code",
   "execution_count": 62,
   "id": "fc28a1fe",
   "metadata": {
    "vscode": {
     "languageId": "r"
    }
   },
   "outputs": [
    {
     "data": {
      "text/html": [
       "<style>\n",
       ".list-inline {list-style: none; margin:0; padding: 0}\n",
       ".list-inline>li {display: inline-block}\n",
       ".list-inline>li:not(:last-child)::after {content: \"\\00b7\"; padding: 0 .5ex}\n",
       "</style>\n",
       "<ol class=list-inline><li>'id'</li><li>'observed_date'</li><li>'day_of_year'</li><li>'place_guess'</li><li>'location'</li><li>'quality_grade'</li><li>'annotations'</li><li>'ofvs'</li><li>'tags'</li></ol>\n"
      ],
      "text/latex": [
       "\\begin{enumerate*}\n",
       "\\item 'id'\n",
       "\\item 'observed\\_date'\n",
       "\\item 'day\\_of\\_year'\n",
       "\\item 'place\\_guess'\n",
       "\\item 'location'\n",
       "\\item 'quality\\_grade'\n",
       "\\item 'annotations'\n",
       "\\item 'ofvs'\n",
       "\\item 'tags'\n",
       "\\end{enumerate*}\n"
      ],
      "text/markdown": [
       "1. 'id'\n",
       "2. 'observed_date'\n",
       "3. 'day_of_year'\n",
       "4. 'place_guess'\n",
       "5. 'location'\n",
       "6. 'quality_grade'\n",
       "7. 'annotations'\n",
       "8. 'ofvs'\n",
       "9. 'tags'\n",
       "\n",
       "\n"
      ],
      "text/plain": [
       "[1] \"id\"            \"observed_date\" \"day_of_year\"   \"place_guess\"  \n",
       "[5] \"location\"      \"quality_grade\" \"annotations\"   \"ofvs\"         \n",
       "[9] \"tags\"         "
      ]
     },
     "metadata": {},
     "output_type": "display_data"
    }
   ],
   "source": [
    "is_table_name = \"sparrow_observation\"\n",
    "query = sprintf(\"PRAGMA table_info(%s);\", is_table_name)\n",
    "is_db_columns = dbGetQuery(db, query)$name\n",
    "is_common_columns = intersect(colnames(is_database_data), is_db_columns)\n",
    "is_common_columns"
   ]
  },
  {
   "cell_type": "code",
   "execution_count": 63,
   "id": "c00d3d17",
   "metadata": {
    "vscode": {
     "languageId": "r"
    }
   },
   "outputs": [
    {
     "data": {
      "text/html": [
       "<table class=\"dataframe\">\n",
       "<caption>A data.frame: 2 × 9</caption>\n",
       "<thead>\n",
       "\t<tr><th></th><th scope=col>id</th><th scope=col>observed_date</th><th scope=col>day_of_year</th><th scope=col>place_guess</th><th scope=col>location</th><th scope=col>quality_grade</th><th scope=col>annotations</th><th scope=col>ofvs</th><th scope=col>tags</th></tr>\n",
       "\t<tr><th></th><th scope=col>&lt;int&gt;</th><th scope=col>&lt;chr&gt;</th><th scope=col>&lt;dbl&gt;</th><th scope=col>&lt;chr&gt;</th><th scope=col>&lt;chr&gt;</th><th scope=col>&lt;chr&gt;</th><th scope=col>&lt;list&gt;</th><th scope=col>&lt;list&gt;</th><th scope=col>&lt;list&gt;</th></tr>\n",
       "</thead>\n",
       "<tbody>\n",
       "\t<tr><th scope=row>1</th><td>37407911</td><td>2020-01-08</td><td> 8</td><td>Massachusetts, US</td><td>41.626993817,-70.3510625992 </td><td>research</td><td>NULL</td><td>NULL</td><td></td></tr>\n",
       "\t<tr><th scope=row>2</th><td>37757708</td><td>2020-01-18</td><td>18</td><td>United States    </td><td>41.6364238587,-69.8209176257</td><td>research</td><td>0133eea7-d1f8-4588-bb52-ad37d0075727, 17                                  , 18                                  , 17|18                               , 0                                   , 1867531                             , 1867531                             , zroskoph                            , FALSE                               , FALSE                               , 2019-06-12T14:10:07+00:00           , zroskoph                            , zroskoph                            , Zane Roskoph                        , Zane Roskoph                        , NA                                  , NA                                  , 8625                                , 19390                               , 0                                   , 28015                               , 2756                                , 8625                                , 1                                   , NA                                  </td><td>NULL</td><td></td></tr>\n",
       "</tbody>\n",
       "</table>\n"
      ],
      "text/latex": [
       "A data.frame: 2 × 9\n",
       "\\begin{tabular}{r|lllllllll}\n",
       "  & id & observed\\_date & day\\_of\\_year & place\\_guess & location & quality\\_grade & annotations & ofvs & tags\\\\\n",
       "  & <int> & <chr> & <dbl> & <chr> & <chr> & <chr> & <list> & <list> & <list>\\\\\n",
       "\\hline\n",
       "\t1 & 37407911 & 2020-01-08 &  8 & Massachusetts, US & 41.626993817,-70.3510625992  & research & NULL & NULL & \\\\\n",
       "\t2 & 37757708 & 2020-01-18 & 18 & United States     & 41.6364238587,-69.8209176257 & research & 0133eea7-d1f8-4588-bb52-ad37d0075727, 17                                  , 18                                  , 17\\textbar{}18                               , 0                                   , 1867531                             , 1867531                             , zroskoph                            , FALSE                               , FALSE                               , 2019-06-12T14:10:07+00:00           , zroskoph                            , zroskoph                            , Zane Roskoph                        , Zane Roskoph                        , NA                                  , NA                                  , 8625                                , 19390                               , 0                                   , 28015                               , 2756                                , 8625                                , 1                                   , NA                                   & NULL & \\\\\n",
       "\\end{tabular}\n"
      ],
      "text/markdown": [
       "\n",
       "A data.frame: 2 × 9\n",
       "\n",
       "| <!--/--> | id &lt;int&gt; | observed_date &lt;chr&gt; | day_of_year &lt;dbl&gt; | place_guess &lt;chr&gt; | location &lt;chr&gt; | quality_grade &lt;chr&gt; | annotations &lt;list&gt; | ofvs &lt;list&gt; | tags &lt;list&gt; |\n",
       "|---|---|---|---|---|---|---|---|---|---|\n",
       "| 1 | 37407911 | 2020-01-08 |  8 | Massachusetts, US | 41.626993817,-70.3510625992  | research | NULL | NULL | <!----> |\n",
       "| 2 | 37757708 | 2020-01-18 | 18 | United States     | 41.6364238587,-69.8209176257 | research | 0133eea7-d1f8-4588-bb52-ad37d0075727, 17                                  , 18                                  , 17|18                               , 0                                   , 1867531                             , 1867531                             , zroskoph                            , FALSE                               , FALSE                               , 2019-06-12T14:10:07+00:00           , zroskoph                            , zroskoph                            , Zane Roskoph                        , Zane Roskoph                        , NA                                  , NA                                  , 8625                                , 19390                               , 0                                   , 28015                               , 2756                                , 8625                                , 1                                   , NA                                   | NULL | <!----> |\n",
       "\n"
      ],
      "text/plain": [
       "  id       observed_date day_of_year place_guess      \n",
       "1 37407911 2020-01-08     8          Massachusetts, US\n",
       "2 37757708 2020-01-18    18          United States    \n",
       "  location                     quality_grade\n",
       "1 41.626993817,-70.3510625992  research     \n",
       "2 41.6364238587,-69.8209176257 research     \n",
       "  annotations                                                                                                                                                                                                                                                                                                                                                                                                                                                                                                                                                                                                                                                                                                                                                                                                                                                                                                                                                                         \n",
       "1 NULL                                                                                                                                                                                                                                                                                                                                                                                                                                                                                                                                                                                                                                                                                                                                                                                                                                                                                                                                                                                \n",
       "2 0133eea7-d1f8-4588-bb52-ad37d0075727, 17                                  , 18                                  , 17|18                               , 0                                   , 1867531                             , 1867531                             , zroskoph                            , FALSE                               , FALSE                               , 2019-06-12T14:10:07+00:00           , zroskoph                            , zroskoph                            , Zane Roskoph                        , Zane Roskoph                        , NA                                  , NA                                  , 8625                                , 19390                               , 0                                   , 28015                               , 2756                                , 8625                                , 1                                   , NA                                  \n",
       "  ofvs tags\n",
       "1 NULL     \n",
       "2 NULL     "
      ]
     },
     "metadata": {},
     "output_type": "display_data"
    }
   ],
   "source": [
    "is_observation_subset = is_database_data[, is_common_columns, drop = FALSE]\n",
    "is_observation_subset$observed_date = as.Date(is_observation_subset$observed_date, format = \"%y/%m/%d\")\n",
    "is_observation_subset$observed_date = as.character(is_observation_subset$observed_date)\n",
    "head(is_observation_subset,2)"
   ]
  },
  {
   "cell_type": "code",
   "execution_count": null,
   "id": "a2673879",
   "metadata": {
    "vscode": {
     "languageId": "r"
    }
   },
   "outputs": [],
   "source": [
    "str(is_observation_subset)"
   ]
  },
  {
   "cell_type": "code",
   "execution_count": 65,
   "id": "ff79dc3d",
   "metadata": {
    "vscode": {
     "languageId": "r"
    }
   },
   "outputs": [
    {
     "data": {
      "text/html": [
       "<table class=\"dataframe\">\n",
       "<caption>A data.frame: 2 × 9</caption>\n",
       "<thead>\n",
       "\t<tr><th></th><th scope=col>id</th><th scope=col>observed_date</th><th scope=col>day_of_year</th><th scope=col>place_guess</th><th scope=col>location</th><th scope=col>quality_grade</th><th scope=col>annotations</th><th scope=col>ofvs</th><th scope=col>tags</th></tr>\n",
       "\t<tr><th></th><th scope=col>&lt;int&gt;</th><th scope=col>&lt;chr&gt;</th><th scope=col>&lt;dbl&gt;</th><th scope=col>&lt;chr&gt;</th><th scope=col>&lt;chr&gt;</th><th scope=col>&lt;chr&gt;</th><th scope=col>&lt;chr&gt;</th><th scope=col>&lt;chr&gt;</th><th scope=col>&lt;chr&gt;</th></tr>\n",
       "</thead>\n",
       "<tbody>\n",
       "\t<tr><th scope=row>1</th><td>37407911</td><td>2020-01-08</td><td> 8</td><td>Massachusetts, US</td><td>41.626993817,-70.3510625992 </td><td>research</td><td>                                                                                                                                                                                                                                                         </td><td></td><td></td></tr>\n",
       "\t<tr><th scope=row>2</th><td>37757708</td><td>2020-01-18</td><td>18</td><td>United States    </td><td>41.6364238587,-69.8209176257</td><td>research</td><td>0133eea7-d1f8-4588-bb52-ad37d0075727, 17, 18, 17|18, 0, 1867531, list(list()), 1867531, zroskoph, FALSE, FALSE, 2019-06-12T14:10:07+00:00, zroskoph, zroskoph, Zane Roskoph, Zane Roskoph, NA, NA, 8625, 19390, 0, 28015, 2756, 8625, list(list()), 1, NA</td><td></td><td></td></tr>\n",
       "</tbody>\n",
       "</table>\n"
      ],
      "text/latex": [
       "A data.frame: 2 × 9\n",
       "\\begin{tabular}{r|lllllllll}\n",
       "  & id & observed\\_date & day\\_of\\_year & place\\_guess & location & quality\\_grade & annotations & ofvs & tags\\\\\n",
       "  & <int> & <chr> & <dbl> & <chr> & <chr> & <chr> & <chr> & <chr> & <chr>\\\\\n",
       "\\hline\n",
       "\t1 & 37407911 & 2020-01-08 &  8 & Massachusetts, US & 41.626993817,-70.3510625992  & research &                                                                                                                                                                                                                                                           &  & \\\\\n",
       "\t2 & 37757708 & 2020-01-18 & 18 & United States     & 41.6364238587,-69.8209176257 & research & 0133eea7-d1f8-4588-bb52-ad37d0075727, 17, 18, 17\\textbar{}18, 0, 1867531, list(list()), 1867531, zroskoph, FALSE, FALSE, 2019-06-12T14:10:07+00:00, zroskoph, zroskoph, Zane Roskoph, Zane Roskoph, NA, NA, 8625, 19390, 0, 28015, 2756, 8625, list(list()), 1, NA &  & \\\\\n",
       "\\end{tabular}\n"
      ],
      "text/markdown": [
       "\n",
       "A data.frame: 2 × 9\n",
       "\n",
       "| <!--/--> | id &lt;int&gt; | observed_date &lt;chr&gt; | day_of_year &lt;dbl&gt; | place_guess &lt;chr&gt; | location &lt;chr&gt; | quality_grade &lt;chr&gt; | annotations &lt;chr&gt; | ofvs &lt;chr&gt; | tags &lt;chr&gt; |\n",
       "|---|---|---|---|---|---|---|---|---|---|\n",
       "| 1 | 37407911 | 2020-01-08 |  8 | Massachusetts, US | 41.626993817,-70.3510625992  | research | <!----> | <!----> | <!----> |\n",
       "| 2 | 37757708 | 2020-01-18 | 18 | United States     | 41.6364238587,-69.8209176257 | research | 0133eea7-d1f8-4588-bb52-ad37d0075727, 17, 18, 17|18, 0, 1867531, list(list()), 1867531, zroskoph, FALSE, FALSE, 2019-06-12T14:10:07+00:00, zroskoph, zroskoph, Zane Roskoph, Zane Roskoph, NA, NA, 8625, 19390, 0, 28015, 2756, 8625, list(list()), 1, NA | <!----> | <!----> |\n",
       "\n"
      ],
      "text/plain": [
       "  id       observed_date day_of_year place_guess      \n",
       "1 37407911 2020-01-08     8          Massachusetts, US\n",
       "2 37757708 2020-01-18    18          United States    \n",
       "  location                     quality_grade\n",
       "1 41.626993817,-70.3510625992  research     \n",
       "2 41.6364238587,-69.8209176257 research     \n",
       "  annotations                                                                                                                                                                                                                                              \n",
       "1                                                                                                                                                                                                                                                          \n",
       "2 0133eea7-d1f8-4588-bb52-ad37d0075727, 17, 18, 17|18, 0, 1867531, list(list()), 1867531, zroskoph, FALSE, FALSE, 2019-06-12T14:10:07+00:00, zroskoph, zroskoph, Zane Roskoph, Zane Roskoph, NA, NA, 8625, 19390, 0, 28015, 2756, 8625, list(list()), 1, NA\n",
       "  ofvs tags\n",
       "1          \n",
       "2          "
      ]
     },
     "metadata": {},
     "output_type": "display_data"
    }
   ],
   "source": [
    "library(purrr)\n",
    "is_observation_subset$annotations = map_chr(is_observation_subset$annotations, toString)\n",
    "is_observation_subset$ofvs = map_chr(is_observation_subset$ofvs, toString)\n",
    "is_observation_subset$tags = map_chr(is_observation_subset$tags, toString)\n",
    "head(is_observation_subset,2)"
   ]
  },
  {
   "cell_type": "code",
   "execution_count": 66,
   "id": "11f1a1e0",
   "metadata": {
    "vscode": {
     "languageId": "r"
    }
   },
   "outputs": [],
   "source": [
    "dbWriteTable(db, is_observation_subset, name = \"sparrow_observation\", append = TRUE,row.names = FALSE,  )"
   ]
  },
  {
   "cell_type": "code",
   "execution_count": 67,
   "id": "661a9cc7",
   "metadata": {
    "vscode": {
     "languageId": "r"
    }
   },
   "outputs": [
    {
     "data": {
      "text/html": [
       "<table class=\"dataframe\">\n",
       "<caption>A data.frame: 1 × 9</caption>\n",
       "<thead>\n",
       "\t<tr><th scope=col>id</th><th scope=col>observed_date</th><th scope=col>day_of_year</th><th scope=col>place_guess</th><th scope=col>location</th><th scope=col>quality_grade</th><th scope=col>annotations</th><th scope=col>tags</th><th scope=col>ofvs</th></tr>\n",
       "\t<tr><th scope=col>&lt;int&gt;</th><th scope=col>&lt;chr&gt;</th><th scope=col>&lt;int&gt;</th><th scope=col>&lt;chr&gt;</th><th scope=col>&lt;chr&gt;</th><th scope=col>&lt;chr&gt;</th><th scope=col>&lt;chr&gt;</th><th scope=col>&lt;chr&gt;</th><th scope=col>&lt;chr&gt;</th></tr>\n",
       "</thead>\n",
       "<tbody>\n",
       "\t<tr><td>37407911</td><td>2020-01-08</td><td>8</td><td>Massachusetts, US</td><td>41.626993817,-70.3510625992</td><td>research</td><td></td><td></td><td></td></tr>\n",
       "</tbody>\n",
       "</table>\n"
      ],
      "text/latex": [
       "A data.frame: 1 × 9\n",
       "\\begin{tabular}{lllllllll}\n",
       " id & observed\\_date & day\\_of\\_year & place\\_guess & location & quality\\_grade & annotations & tags & ofvs\\\\\n",
       " <int> & <chr> & <int> & <chr> & <chr> & <chr> & <chr> & <chr> & <chr>\\\\\n",
       "\\hline\n",
       "\t 37407911 & 2020-01-08 & 8 & Massachusetts, US & 41.626993817,-70.3510625992 & research &  &  & \\\\\n",
       "\\end{tabular}\n"
      ],
      "text/markdown": [
       "\n",
       "A data.frame: 1 × 9\n",
       "\n",
       "| id &lt;int&gt; | observed_date &lt;chr&gt; | day_of_year &lt;int&gt; | place_guess &lt;chr&gt; | location &lt;chr&gt; | quality_grade &lt;chr&gt; | annotations &lt;chr&gt; | tags &lt;chr&gt; | ofvs &lt;chr&gt; |\n",
       "|---|---|---|---|---|---|---|---|---|\n",
       "| 37407911 | 2020-01-08 | 8 | Massachusetts, US | 41.626993817,-70.3510625992 | research | <!----> | <!----> | <!----> |\n",
       "\n"
      ],
      "text/plain": [
       "  id       observed_date day_of_year place_guess      \n",
       "1 37407911 2020-01-08    8           Massachusetts, US\n",
       "  location                    quality_grade annotations tags ofvs\n",
       "1 41.626993817,-70.3510625992 research                           "
      ]
     },
     "metadata": {},
     "output_type": "display_data"
    }
   ],
   "source": [
    "test_2 = dbGetQuery(db, \"Select *\n",
    "                        FROM sparrow_observation\n",
    "                        LIMIT 1\")\n",
    "test_2"
   ]
  },
  {
   "cell_type": "markdown",
   "id": "63e7eecc",
   "metadata": {},
   "source": [
    "By this point, all of our data is loaded into a database of your choosing. Use a combination of SQL queries to explore the questions noted above."
   ]
  },
  {
   "cell_type": "markdown",
   "id": "685645f7",
   "metadata": {},
   "source": [
    "Select for research grade observations only. We only want observations that have been accepted by expert naturalists or scientists that confirm the observation.<br>\n",
    "<br>\n",
    "#### Restatement of Research  assignment:\n",
    "You are a data scientist for a wildlife contracting company, ML Wildlife. \n",
    "\n",
    "ML Wildlife Mission Statement: To pioneer innovative approaches to wildlife management and policy-making through data collection, storage, and analysis. It is the company's goal to create sustainable connections between human activities and the natural world to preserve biodiversity.\n",
    "\n",
    "In a New Jersey town (that will remain unnamed), there is a proposal to begin construction during the Summer of 2024 on a bike path that will run for 2.5 miles through the salt marsh. The bike path will be a raised (7ft) concrete pathway, or seawall, to accomodate for high and low tides to ensure that flooding is not an issue for the path. Water or wildlife (Turtles, fish, crabs, inverts, etc.) can not pass through or under the pathway. Birds can fly over the pathway. Construction is estimated to last four months. The goal of the pathway is to teach people about wildlife by walking through the man-made salt marsh trail. Railings will be placed on either side of the pathway to ensure human safety, but what about the safety of the wildlife?\n",
    "\n",
    "Local environmentalists and biologists are concerned with the proposed bike path, especially for the state's Diamondback terrapin population. \n",
    "* Will this bike path create an obstacle that will force more females to cross the roads to lay their eggs? \n",
    "* What about the eggs that are laid along the bike bath already from the year before? \n",
    "* Will the nests be ruined in the process? \n",
    "\n",
    "In addition to the Diamondback terrapin, additional species also utilize this area for nesting and feeding like the **Ipswich Sparrow**, which is a subspecies of the Savannah Sparrow that has a very limited range. The **saltmarsh** serves as an important **nursery ground for Atlantic Menhaden, the Mid-Atlantic ecosystem's** \"Most Important Fish of the Sea.\""
   ]
  },
  {
   "cell_type": "code",
   "execution_count": 68,
   "id": "fbd1593e",
   "metadata": {
    "vscode": {
     "languageId": "r"
    }
   },
   "outputs": [
    {
     "data": {
      "text/html": [
       "<style>\n",
       ".list-inline {list-style: none; margin:0; padding: 0}\n",
       ".list-inline>li {display: inline-block}\n",
       ".list-inline>li:not(:last-child)::after {content: \"\\00b7\"; padding: 0 .5ex}\n",
       "</style>\n",
       "<ol class=list-inline><li>'menhaden_observation'</li><li>'sparrow_observation'</li><li>'species'</li><li>'turtle_observation'</li></ol>\n"
      ],
      "text/latex": [
       "\\begin{enumerate*}\n",
       "\\item 'menhaden\\_observation'\n",
       "\\item 'sparrow\\_observation'\n",
       "\\item 'species'\n",
       "\\item 'turtle\\_observation'\n",
       "\\end{enumerate*}\n"
      ],
      "text/markdown": [
       "1. 'menhaden_observation'\n",
       "2. 'sparrow_observation'\n",
       "3. 'species'\n",
       "4. 'turtle_observation'\n",
       "\n",
       "\n"
      ],
      "text/plain": [
       "[1] \"menhaden_observation\" \"sparrow_observation\"  \"species\"             \n",
       "[4] \"turtle_observation\"  "
      ]
     },
     "metadata": {},
     "output_type": "display_data"
    }
   ],
   "source": [
    "## turtle_observations\n",
    "\n",
    "# Get the tables\n",
    "dbListTables(db)"
   ]
  },
  {
   "cell_type": "code",
   "execution_count": 69,
   "id": "603b7010",
   "metadata": {
    "vscode": {
     "languageId": "r"
    }
   },
   "outputs": [
    {
     "data": {
      "text/html": [
       "<style>\n",
       ".list-inline {list-style: none; margin:0; padding: 0}\n",
       ".list-inline>li {display: inline-block}\n",
       ".list-inline>li:not(:last-child)::after {content: \"\\00b7\"; padding: 0 .5ex}\n",
       "</style>\n",
       "<ol class=list-inline><li>'id'</li><li>'taxon_name'</li><li>'common_name'</li></ol>\n"
      ],
      "text/latex": [
       "\\begin{enumerate*}\n",
       "\\item 'id'\n",
       "\\item 'taxon\\_name'\n",
       "\\item 'common\\_name'\n",
       "\\end{enumerate*}\n"
      ],
      "text/markdown": [
       "1. 'id'\n",
       "2. 'taxon_name'\n",
       "3. 'common_name'\n",
       "\n",
       "\n"
      ],
      "text/plain": [
       "[1] \"id\"          \"taxon_name\"  \"common_name\""
      ]
     },
     "metadata": {},
     "output_type": "display_data"
    }
   ],
   "source": [
    "# column names for species table \n",
    "species_columns = dbListFields(db, \"species\")\n",
    "species_columns"
   ]
  },
  {
   "cell_type": "code",
   "execution_count": 70,
   "id": "e3024721",
   "metadata": {
    "vscode": {
     "languageId": "r"
    }
   },
   "outputs": [
    {
     "data": {
      "text/html": [
       "<style>\n",
       ".list-inline {list-style: none; margin:0; padding: 0}\n",
       ".list-inline>li {display: inline-block}\n",
       ".list-inline>li:not(:last-child)::after {content: \"\\00b7\"; padding: 0 .5ex}\n",
       "</style>\n",
       "<ol class=list-inline><li>'id'</li><li>'observed_date'</li><li>'day_of_year'</li><li>'place_guess'</li><li>'location'</li><li>'quality_grade'</li><li>'annotations'</li><li>'tags'</li><li>'ofvs'</li></ol>\n"
      ],
      "text/latex": [
       "\\begin{enumerate*}\n",
       "\\item 'id'\n",
       "\\item 'observed\\_date'\n",
       "\\item 'day\\_of\\_year'\n",
       "\\item 'place\\_guess'\n",
       "\\item 'location'\n",
       "\\item 'quality\\_grade'\n",
       "\\item 'annotations'\n",
       "\\item 'tags'\n",
       "\\item 'ofvs'\n",
       "\\end{enumerate*}\n"
      ],
      "text/markdown": [
       "1. 'id'\n",
       "2. 'observed_date'\n",
       "3. 'day_of_year'\n",
       "4. 'place_guess'\n",
       "5. 'location'\n",
       "6. 'quality_grade'\n",
       "7. 'annotations'\n",
       "8. 'tags'\n",
       "9. 'ofvs'\n",
       "\n",
       "\n"
      ],
      "text/plain": [
       "[1] \"id\"            \"observed_date\" \"day_of_year\"   \"place_guess\"  \n",
       "[5] \"location\"      \"quality_grade\" \"annotations\"   \"tags\"         \n",
       "[9] \"ofvs\"         "
      ]
     },
     "metadata": {},
     "output_type": "display_data"
    }
   ],
   "source": [
    "# column names for observation detail\n",
    "observation_columns = dbListFields(db, \"turtle_observation\")\n",
    "observation_columns"
   ]
  },
  {
   "cell_type": "markdown",
   "id": "95b5b746",
   "metadata": {},
   "source": [
    "1) Determine the best time of year (Or months or weeks or time of day) for project construction."
   ]
  },
  {
   "cell_type": "code",
   "execution_count": 71,
   "id": "1c1a7640",
   "metadata": {
    "vscode": {
     "languageId": "r"
    }
   },
   "outputs": [
    {
     "data": {
      "text/html": [
       "<table class=\"dataframe\">\n",
       "<caption>A data.frame: 13 × 3</caption>\n",
       "<thead>\n",
       "\t<tr><th scope=col>season</th><th scope=col>place_guess</th><th scope=col>occurrence</th></tr>\n",
       "\t<tr><th scope=col>&lt;chr&gt;</th><th scope=col>&lt;chr&gt;</th><th scope=col>&lt;int&gt;</th></tr>\n",
       "</thead>\n",
       "<tbody>\n",
       "\t<tr><td>fall  </td><td>Cape May County, US-NJ, US  </td><td>   5</td></tr>\n",
       "\t<tr><td>fall  </td><td>New Jersey, US              </td><td>  23</td></tr>\n",
       "\t<tr><td>spring</td><td>Cape May County, US-NJ, US  </td><td>  26</td></tr>\n",
       "\t<tr><td>spring</td><td>New Jersey, US              </td><td>  90</td></tr>\n",
       "\t<tr><td>spring</td><td>Ocean County, US-NJ, US     </td><td>   1</td></tr>\n",
       "\t<tr><td>summer</td><td>Atlantic County, US-NJ, US  </td><td>   1</td></tr>\n",
       "\t<tr><td>summer</td><td>Cape May County, US-NJ, US  </td><td>  39</td></tr>\n",
       "\t<tr><td>summer</td><td>Cumberland County, US-NJ, US</td><td>   2</td></tr>\n",
       "\t<tr><td>summer</td><td>New Jersey, US              </td><td>2857</td></tr>\n",
       "\t<tr><td>summer</td><td>Ocean County, US-NJ, US     </td><td>   4</td></tr>\n",
       "\t<tr><td>winter</td><td>Cape May County, US-NJ, US  </td><td>   1</td></tr>\n",
       "\t<tr><td>winter</td><td>New Jersey, US              </td><td>   6</td></tr>\n",
       "\t<tr><td>winter</td><td>Ocean County, US-NJ, US     </td><td>   1</td></tr>\n",
       "</tbody>\n",
       "</table>\n"
      ],
      "text/latex": [
       "A data.frame: 13 × 3\n",
       "\\begin{tabular}{lll}\n",
       " season & place\\_guess & occurrence\\\\\n",
       " <chr> & <chr> & <int>\\\\\n",
       "\\hline\n",
       "\t fall   & Cape May County, US-NJ, US   &    5\\\\\n",
       "\t fall   & New Jersey, US               &   23\\\\\n",
       "\t spring & Cape May County, US-NJ, US   &   26\\\\\n",
       "\t spring & New Jersey, US               &   90\\\\\n",
       "\t spring & Ocean County, US-NJ, US      &    1\\\\\n",
       "\t summer & Atlantic County, US-NJ, US   &    1\\\\\n",
       "\t summer & Cape May County, US-NJ, US   &   39\\\\\n",
       "\t summer & Cumberland County, US-NJ, US &    2\\\\\n",
       "\t summer & New Jersey, US               & 2857\\\\\n",
       "\t summer & Ocean County, US-NJ, US      &    4\\\\\n",
       "\t winter & Cape May County, US-NJ, US   &    1\\\\\n",
       "\t winter & New Jersey, US               &    6\\\\\n",
       "\t winter & Ocean County, US-NJ, US      &    1\\\\\n",
       "\\end{tabular}\n"
      ],
      "text/markdown": [
       "\n",
       "A data.frame: 13 × 3\n",
       "\n",
       "| season &lt;chr&gt; | place_guess &lt;chr&gt; | occurrence &lt;int&gt; |\n",
       "|---|---|---|\n",
       "| fall   | Cape May County, US-NJ, US   |    5 |\n",
       "| fall   | New Jersey, US               |   23 |\n",
       "| spring | Cape May County, US-NJ, US   |   26 |\n",
       "| spring | New Jersey, US               |   90 |\n",
       "| spring | Ocean County, US-NJ, US      |    1 |\n",
       "| summer | Atlantic County, US-NJ, US   |    1 |\n",
       "| summer | Cape May County, US-NJ, US   |   39 |\n",
       "| summer | Cumberland County, US-NJ, US |    2 |\n",
       "| summer | New Jersey, US               | 2857 |\n",
       "| summer | Ocean County, US-NJ, US      |    4 |\n",
       "| winter | Cape May County, US-NJ, US   |    1 |\n",
       "| winter | New Jersey, US               |    6 |\n",
       "| winter | Ocean County, US-NJ, US      |    1 |\n",
       "\n"
      ],
      "text/plain": [
       "   season place_guess                  occurrence\n",
       "1  fall   Cape May County, US-NJ, US      5      \n",
       "2  fall   New Jersey, US                 23      \n",
       "3  spring Cape May County, US-NJ, US     26      \n",
       "4  spring New Jersey, US                 90      \n",
       "5  spring Ocean County, US-NJ, US         1      \n",
       "6  summer Atlantic County, US-NJ, US      1      \n",
       "7  summer Cape May County, US-NJ, US     39      \n",
       "8  summer Cumberland County, US-NJ, US    2      \n",
       "9  summer New Jersey, US               2857      \n",
       "10 summer Ocean County, US-NJ, US         4      \n",
       "11 winter Cape May County, US-NJ, US      1      \n",
       "12 winter New Jersey, US                  6      \n",
       "13 winter Ocean County, US-NJ, US         1      "
      ]
     },
     "metadata": {},
     "output_type": "display_data"
    }
   ],
   "source": [
    "new_jersey_obv = dbGetQuery(db, \"---- creates a new table seasonthat will display for this one time use ----\n",
    "                                    SELECT \n",
    "                                    season,\n",
    "                                    place_guess,\n",
    "                                    COUNT(*) AS occurrence\n",
    "                                    FROM ---- subquery creates the seasons column ----\n",
    "                                    (SELECT\n",
    "                                        place_guess,\n",
    "                                        CASE ---- Puts the new season together with the place_guess, that are in newjersey ----\n",
    "                                            WHEN strftime('%m', observed_date) IN ('12', '01', '02') THEN 'winter'\n",
    "                                            WHEN strftime('%m', observed_date) IN ('03', '04', '05') THEN 'spring'\n",
    "                                            WHEN strftime('%m', observed_date) IN ('06', '07', '08') THEN 'summer'\n",
    "                                            ELSE 'fall'\n",
    "                                        END AS season\n",
    "                                        FROM turtle_observation\n",
    "                                        WHERE place_guess LIKE '%New Jersey%' OR place_guess LIKE '%NJ%'\n",
    "                                    ) AS detailed_season ---- Shows the new detailed season table ----\n",
    "                                    GROUP BY season, place_guess\n",
    "                                    ORDER BY season\")\n",
    "\n",
    "new_jersey_obv\n"
   ]
  },
  {
   "cell_type": "code",
   "execution_count": 72,
   "id": "455a7399",
   "metadata": {
    "vscode": {
     "languageId": "r"
    }
   },
   "outputs": [
    {
     "data": {
      "text/html": [
       "<table class=\"dataframe\">\n",
       "<caption>A data.frame: 4 × 2</caption>\n",
       "<thead>\n",
       "\t<tr><th scope=col>season</th><th scope=col>occurance</th></tr>\n",
       "\t<tr><th scope=col>&lt;chr&gt;</th><th scope=col>&lt;int&gt;</th></tr>\n",
       "</thead>\n",
       "<tbody>\n",
       "\t<tr><td>summer</td><td>2903</td></tr>\n",
       "\t<tr><td>spring</td><td> 117</td></tr>\n",
       "\t<tr><td>fall  </td><td>  28</td></tr>\n",
       "\t<tr><td>winter</td><td>   8</td></tr>\n",
       "</tbody>\n",
       "</table>\n"
      ],
      "text/latex": [
       "A data.frame: 4 × 2\n",
       "\\begin{tabular}{ll}\n",
       " season & occurance\\\\\n",
       " <chr> & <int>\\\\\n",
       "\\hline\n",
       "\t summer & 2903\\\\\n",
       "\t spring &  117\\\\\n",
       "\t fall   &   28\\\\\n",
       "\t winter &    8\\\\\n",
       "\\end{tabular}\n"
      ],
      "text/markdown": [
       "\n",
       "A data.frame: 4 × 2\n",
       "\n",
       "| season &lt;chr&gt; | occurance &lt;int&gt; |\n",
       "|---|---|\n",
       "| summer | 2903 |\n",
       "| spring |  117 |\n",
       "| fall   |   28 |\n",
       "| winter |    8 |\n",
       "\n"
      ],
      "text/plain": [
       "  season occurance\n",
       "1 summer 2903     \n",
       "2 spring  117     \n",
       "3 fall     28     \n",
       "4 winter    8     "
      ]
     },
     "metadata": {},
     "output_type": "display_data"
    },
    {
     "data": {
      "image/png": "[encoded data removed]",
      "text/plain": [
       "plot without title"
      ]
     },
     "metadata": {
      "image/png": {
       "height": 420,
       "width": 420
      }
     },
     "output_type": "display_data"
    }
   ],
   "source": [
    "# Code is for running queries in SQLite\n",
    "##                                   \n",
    "best_time_of_year = dbGetQuery(db, \"    -- The select will make a new table so that we can use it later through out the code \n",
    "                                        SELECT season, COUNT(*) AS occurance\n",
    "\n",
    "                                        -- Creates a new table to use \n",
    "                                        FROM (\n",
    "                                            SELECT\n",
    "                                            place_guess,\n",
    "                                                CASE \n",
    "                                                    WHEN strftime('%m', observed_date) IN ('12', '01', '02') THEN 'winter'\n",
    "                                                    WHEN strftime('%m', observed_date) IN ('03', '04', '05') THEN 'spring'\n",
    "                                                    WHEN strftime('%m', observed_date) IN ('06', '07', '08') THEN 'summer'\n",
    "                                                    ELSE 'fall'\n",
    "                                                END AS season\n",
    "                                            FROM turtle_observation\n",
    "\n",
    "                                        -- The new table that will be displayed\n",
    "                                        ) AS season_table\n",
    "                                        WHERE place_guess LIKE '%New Jersey%' OR place_guess LIKE '%NJ%'\n",
    "                                        GROUP BY season\n",
    "                                        ORDER BY occurance DESC\")\n",
    "\n",
    "best_time_of_year\n",
    "\n",
    "\n",
    "ggplot(best_time_of_year,  aes(x = season, y = occurance, fill = season)) +\n",
    "    geom_bar(stat = \"identity\", color = \"black\", show.legend = FALSE) +\n",
    "    theme_minimal()+\n",
    "    labs(title = \"Seasons of highest activity\",\n",
    "        x = \"season\",\n",
    "        y = \"number of occurrence\")\n"
   ]
  },
  {
   "cell_type": "markdown",
   "id": "81a9d59e",
   "metadata": {},
   "source": [
    "#### The best time of the year for the construction project is in the winter."
   ]
  },
  {
   "cell_type": "markdown",
   "id": "1b21d52f",
   "metadata": {},
   "source": [
    "2) Determine what subset of the population (Egg, Juvennile or Adult) you believe would be most impacted."
   ]
  },
  {
   "cell_type": "code",
   "execution_count": 73,
   "id": "32a856fe",
   "metadata": {
    "vscode": {
     "languageId": "r"
    }
   },
   "outputs": [
    {
     "data": {
      "text/html": [
       "<table class=\"dataframe\">\n",
       "<caption>A data.frame: 4 × 3</caption>\n",
       "<thead>\n",
       "\t<tr><th scope=col>population_count</th><th scope=col>stage_of_life</th><th scope=col>stage_of_life_by_season</th></tr>\n",
       "\t<tr><th scope=col>&lt;int&gt;</th><th scope=col>&lt;chr&gt;</th><th scope=col>&lt;chr&gt;</th></tr>\n",
       "</thead>\n",
       "<tbody>\n",
       "\t<tr><td> 597</td><td>Adult         </td><td>summer</td></tr>\n",
       "\t<tr><td>  33</td><td>Egg           </td><td>summer</td></tr>\n",
       "\t<tr><td> 127</td><td>Juvenile      </td><td>summer</td></tr>\n",
       "\t<tr><td>2299</td><td>not applicable</td><td>winter</td></tr>\n",
       "</tbody>\n",
       "</table>\n"
      ],
      "text/latex": [
       "A data.frame: 4 × 3\n",
       "\\begin{tabular}{lll}\n",
       " population\\_count & stage\\_of\\_life & stage\\_of\\_life\\_by\\_season\\\\\n",
       " <int> & <chr> & <chr>\\\\\n",
       "\\hline\n",
       "\t  597 & Adult          & summer\\\\\n",
       "\t   33 & Egg            & summer\\\\\n",
       "\t  127 & Juvenile       & summer\\\\\n",
       "\t 2299 & not applicable & winter\\\\\n",
       "\\end{tabular}\n"
      ],
      "text/markdown": [
       "\n",
       "A data.frame: 4 × 3\n",
       "\n",
       "| population_count &lt;int&gt; | stage_of_life &lt;chr&gt; | stage_of_life_by_season &lt;chr&gt; |\n",
       "|---|---|---|\n",
       "|  597 | Adult          | summer |\n",
       "|   33 | Egg            | summer |\n",
       "|  127 | Juvenile       | summer |\n",
       "| 2299 | not applicable | winter |\n",
       "\n"
      ],
      "text/plain": [
       "  population_count stage_of_life  stage_of_life_by_season\n",
       "1  597             Adult          summer                 \n",
       "2   33             Egg            summer                 \n",
       "3  127             Juvenile       summer                 \n",
       "4 2299             not applicable winter                 "
      ]
     },
     "metadata": {},
     "output_type": "display_data"
    }
   ],
   "source": [
    "\n",
    "#Now we will add observations where place_guess includes something LIKE New Jersey or NJ.\n",
    "\n",
    "population = dbGetQuery(db, \"SELECT \n",
    "                                COUNT(*) AS population_count,\n",
    "                                CASE\n",
    "                                        WHEN ofvs LIKE '%Adult%' THEN 'Adult'\n",
    "                                        WHEN ofvs LIKE '%JUVENILE%' THEN 'Juvenile'\n",
    "                                        WHEN ofvs LIKE '%Egg%' THEN 'Egg'\n",
    "                                ELSE 'not applicable'\n",
    "                                END AS stage_of_life,\n",
    "\n",
    "                                CASE \n",
    "                                        WHEN strftime('%m', observed_date) IN ('12', '01', '02') THEN 'winter'\n",
    "                                        WHEN strftime('%m', observed_date) IN ('03', '04', '05') THEN 'spring'\n",
    "                                        WHEN strftime('%m', observed_date) IN ('06', '07', '08') THEN 'summer'\n",
    "                                ELSE 'fall'\n",
    "                                END AS stage_of_life_by_season\n",
    "                                FROM turtle_observation\n",
    "                                WHERE (place_guess LIKE '%New Jersey%' OR place_guess LIKE '%NJ%')\n",
    "                                GROUP BY stage_of_life \")\n",
    "\n",
    "population"
   ]
  },
  {
   "cell_type": "markdown",
   "id": "a61735f8",
   "metadata": {},
   "source": [
    "#### The stubset that would be most impacted would be teh Adult population, during the summer"
   ]
  },
  {
   "cell_type": "markdown",
   "id": "562eab4b",
   "metadata": {},
   "source": [
    "3) Determine the general observaiton population demographics, or range, for New Jersey terrrapins."
   ]
  },
  {
   "cell_type": "code",
   "execution_count": 74,
   "id": "e2c3825e",
   "metadata": {
    "vscode": {
     "languageId": "r"
    }
   },
   "outputs": [
    {
     "data": {
      "text/html": [
       "<table class=\"dataframe\">\n",
       "<caption>A data.frame: 3 × 2</caption>\n",
       "<thead>\n",
       "\t<tr><th scope=col>winter_months</th><th scope=col>occurance</th></tr>\n",
       "\t<tr><th scope=col>&lt;chr&gt;</th><th scope=col>&lt;int&gt;</th></tr>\n",
       "</thead>\n",
       "<tbody>\n",
       "\t<tr><td>january </td><td>2</td></tr>\n",
       "\t<tr><td>february</td><td>2</td></tr>\n",
       "\t<tr><td>december</td><td>3</td></tr>\n",
       "</tbody>\n",
       "</table>\n"
      ],
      "text/latex": [
       "A data.frame: 3 × 2\n",
       "\\begin{tabular}{ll}\n",
       " winter\\_months & occurance\\\\\n",
       " <chr> & <int>\\\\\n",
       "\\hline\n",
       "\t january  & 2\\\\\n",
       "\t february & 2\\\\\n",
       "\t december & 3\\\\\n",
       "\\end{tabular}\n"
      ],
      "text/markdown": [
       "\n",
       "A data.frame: 3 × 2\n",
       "\n",
       "| winter_months &lt;chr&gt; | occurance &lt;int&gt; |\n",
       "|---|---|\n",
       "| january  | 2 |\n",
       "| february | 2 |\n",
       "| december | 3 |\n",
       "\n"
      ],
      "text/plain": [
       "  winter_months occurance\n",
       "1 january       2        \n",
       "2 february      2        \n",
       "3 december      3        "
      ]
     },
     "metadata": {},
     "output_type": "display_data"
    },
    {
     "data": {
      "image/png": "[encoded data removed]",
      "text/plain": [
       "plot without title"
      ]
     },
     "metadata": {
      "image/png": {
       "height": 420,
       "width": 420
      }
     },
     "output_type": "display_data"
    }
   ],
   "source": [
    "# Best time in the winter\n",
    "# Fall seems to have the most activity so we will sort by day and draft it on teh scater plot\n",
    "observations_by_month = dbGetQuery(db, \"SELECT winter_months, COUNT(*) AS occurance\n",
    "                                    FROM (\n",
    "                                        SELECT\n",
    "                                        place_guess,\n",
    "                                            CASE \n",
    "                                                WHEN strftime('%m', observed_date) IN ('12') THEN 'december'\n",
    "                                                WHEN strftime('%m', observed_date) IN ('01') THEN 'january'\n",
    "                                                WHEN strftime('%m', observed_date) IN ('02') THEN 'february'\n",
    "                                                ELSE 'not_fall'\n",
    "                                            END AS winter_months\n",
    "                                        FROM menhaden_observation\n",
    "                                        WHERE (winter_months = 'december' OR winter_months = 'january' OR winter_months = 'february')\n",
    "                                    ) AS fall_months_table\n",
    "                                    WHERE place_guess LIKE '%New Jersey%' OR place_guess LIKE '%NJ%'\n",
    "                                    GROUP BY winter_months\n",
    "                                    ORDER BY winter_months DESC\")\n",
    "\n",
    "observations_by_month\n",
    "\n",
    "ggplot(observations_by_month, aes(x = winter_months, y = occurance, fill = winter_months)) +\n",
    "geom_bar(stat = 'identity')+\n",
    "theme_minimal()+\n",
    "    labs(title = \"winter months with activity\",\n",
    "        x = \"months\",\n",
    "        y = \"number of occurrence\")"
   ]
  },
  {
   "cell_type": "markdown",
   "id": "c03cc07a",
   "metadata": {},
   "source": [
    "### The best month in the winter is either January or February"
   ]
  },
  {
   "cell_type": "markdown",
   "id": "0ea64fa5",
   "metadata": {},
   "source": [
    "4) Explore two other species that inhabit and utilize the saltmarsh (Examples are the Ipswich sparrow, Seaside sparrow, Saltmarsh sparrow, Atlantic menhaden, or the Mud fiddler crab and Eastern Mud snail (What terrapins eat) ) and hypothesize how they would be impacted by this construction project after you have explored their data. \n",
    "<br>\n",
    "Use the data from these other two species to support your decision below. If you would like to choose another species you can, just be mindful of iNaturalist API limits. I recommend looking at the iNaturalist website and explore the different species before collecting data that you do not need."
   ]
  },
  {
   "cell_type": "code",
   "execution_count": 75,
   "id": "91ff8831",
   "metadata": {
    "vscode": {
     "languageId": "r"
    }
   },
   "outputs": [
    {
     "data": {
      "text/html": [
       "<style>\n",
       ".list-inline {list-style: none; margin:0; padding: 0}\n",
       ".list-inline>li {display: inline-block}\n",
       ".list-inline>li:not(:last-child)::after {content: \"\\00b7\"; padding: 0 .5ex}\n",
       "</style>\n",
       "<ol class=list-inline><li>'id'</li><li>'taxon_name'</li><li>'common_name'</li></ol>\n"
      ],
      "text/latex": [
       "\\begin{enumerate*}\n",
       "\\item 'id'\n",
       "\\item 'taxon\\_name'\n",
       "\\item 'common\\_name'\n",
       "\\end{enumerate*}\n"
      ],
      "text/markdown": [
       "1. 'id'\n",
       "2. 'taxon_name'\n",
       "3. 'common_name'\n",
       "\n",
       "\n"
      ],
      "text/plain": [
       "[1] \"id\"          \"taxon_name\"  \"common_name\""
      ]
     },
     "metadata": {},
     "output_type": "display_data"
    }
   ],
   "source": [
    "## menhaden_observation\n",
    "\n",
    "# column names for species table \n",
    "species_columns = dbListFields(db, \"species\")\n",
    "species_columns"
   ]
  },
  {
   "cell_type": "code",
   "execution_count": 76,
   "id": "a93074ed",
   "metadata": {
    "vscode": {
     "languageId": "r"
    }
   },
   "outputs": [
    {
     "data": {
      "text/html": [
       "<style>\n",
       ".list-inline {list-style: none; margin:0; padding: 0}\n",
       ".list-inline>li {display: inline-block}\n",
       ".list-inline>li:not(:last-child)::after {content: \"\\00b7\"; padding: 0 .5ex}\n",
       "</style>\n",
       "<ol class=list-inline><li>'id'</li><li>'observed_date'</li><li>'day_of_year'</li><li>'place_guess'</li><li>'location'</li><li>'quality_grade'</li><li>'annotations'</li><li>'tags'</li><li>'ofvs'</li></ol>\n"
      ],
      "text/latex": [
       "\\begin{enumerate*}\n",
       "\\item 'id'\n",
       "\\item 'observed\\_date'\n",
       "\\item 'day\\_of\\_year'\n",
       "\\item 'place\\_guess'\n",
       "\\item 'location'\n",
       "\\item 'quality\\_grade'\n",
       "\\item 'annotations'\n",
       "\\item 'tags'\n",
       "\\item 'ofvs'\n",
       "\\end{enumerate*}\n"
      ],
      "text/markdown": [
       "1. 'id'\n",
       "2. 'observed_date'\n",
       "3. 'day_of_year'\n",
       "4. 'place_guess'\n",
       "5. 'location'\n",
       "6. 'quality_grade'\n",
       "7. 'annotations'\n",
       "8. 'tags'\n",
       "9. 'ofvs'\n",
       "\n",
       "\n"
      ],
      "text/plain": [
       "[1] \"id\"            \"observed_date\" \"day_of_year\"   \"place_guess\"  \n",
       "[5] \"location\"      \"quality_grade\" \"annotations\"   \"tags\"         \n",
       "[9] \"ofvs\"         "
      ]
     },
     "metadata": {},
     "output_type": "display_data"
    }
   ],
   "source": [
    "# column names for species table \n",
    "species_columns = dbListFields(db, \"menhaden_observation\")\n",
    "species_columns"
   ]
  },
  {
   "cell_type": "code",
   "execution_count": 77,
   "id": "388ca79a",
   "metadata": {
    "vscode": {
     "languageId": "r"
    }
   },
   "outputs": [
    {
     "data": {
      "text/html": [
       "<table class=\"dataframe\">\n",
       "<caption>A data.frame: 13 × 3</caption>\n",
       "<thead>\n",
       "\t<tr><th scope=col>season</th><th scope=col>place_guess</th><th scope=col>occurrence</th></tr>\n",
       "\t<tr><th scope=col>&lt;chr&gt;</th><th scope=col>&lt;chr&gt;</th><th scope=col>&lt;int&gt;</th></tr>\n",
       "</thead>\n",
       "<tbody>\n",
       "\t<tr><td>fall  </td><td>Cape May County, US-NJ, US  </td><td>   5</td></tr>\n",
       "\t<tr><td>fall  </td><td>New Jersey, US              </td><td>  23</td></tr>\n",
       "\t<tr><td>spring</td><td>Cape May County, US-NJ, US  </td><td>  26</td></tr>\n",
       "\t<tr><td>spring</td><td>New Jersey, US              </td><td>  90</td></tr>\n",
       "\t<tr><td>spring</td><td>Ocean County, US-NJ, US     </td><td>   1</td></tr>\n",
       "\t<tr><td>summer</td><td>Atlantic County, US-NJ, US  </td><td>   1</td></tr>\n",
       "\t<tr><td>summer</td><td>Cape May County, US-NJ, US  </td><td>  39</td></tr>\n",
       "\t<tr><td>summer</td><td>Cumberland County, US-NJ, US</td><td>   2</td></tr>\n",
       "\t<tr><td>summer</td><td>New Jersey, US              </td><td>2857</td></tr>\n",
       "\t<tr><td>summer</td><td>Ocean County, US-NJ, US     </td><td>   4</td></tr>\n",
       "\t<tr><td>winter</td><td>Cape May County, US-NJ, US  </td><td>   1</td></tr>\n",
       "\t<tr><td>winter</td><td>New Jersey, US              </td><td>   6</td></tr>\n",
       "\t<tr><td>winter</td><td>Ocean County, US-NJ, US     </td><td>   1</td></tr>\n",
       "</tbody>\n",
       "</table>\n"
      ],
      "text/latex": [
       "A data.frame: 13 × 3\n",
       "\\begin{tabular}{lll}\n",
       " season & place\\_guess & occurrence\\\\\n",
       " <chr> & <chr> & <int>\\\\\n",
       "\\hline\n",
       "\t fall   & Cape May County, US-NJ, US   &    5\\\\\n",
       "\t fall   & New Jersey, US               &   23\\\\\n",
       "\t spring & Cape May County, US-NJ, US   &   26\\\\\n",
       "\t spring & New Jersey, US               &   90\\\\\n",
       "\t spring & Ocean County, US-NJ, US      &    1\\\\\n",
       "\t summer & Atlantic County, US-NJ, US   &    1\\\\\n",
       "\t summer & Cape May County, US-NJ, US   &   39\\\\\n",
       "\t summer & Cumberland County, US-NJ, US &    2\\\\\n",
       "\t summer & New Jersey, US               & 2857\\\\\n",
       "\t summer & Ocean County, US-NJ, US      &    4\\\\\n",
       "\t winter & Cape May County, US-NJ, US   &    1\\\\\n",
       "\t winter & New Jersey, US               &    6\\\\\n",
       "\t winter & Ocean County, US-NJ, US      &    1\\\\\n",
       "\\end{tabular}\n"
      ],
      "text/markdown": [
       "\n",
       "A data.frame: 13 × 3\n",
       "\n",
       "| season &lt;chr&gt; | place_guess &lt;chr&gt; | occurrence &lt;int&gt; |\n",
       "|---|---|---|\n",
       "| fall   | Cape May County, US-NJ, US   |    5 |\n",
       "| fall   | New Jersey, US               |   23 |\n",
       "| spring | Cape May County, US-NJ, US   |   26 |\n",
       "| spring | New Jersey, US               |   90 |\n",
       "| spring | Ocean County, US-NJ, US      |    1 |\n",
       "| summer | Atlantic County, US-NJ, US   |    1 |\n",
       "| summer | Cape May County, US-NJ, US   |   39 |\n",
       "| summer | Cumberland County, US-NJ, US |    2 |\n",
       "| summer | New Jersey, US               | 2857 |\n",
       "| summer | Ocean County, US-NJ, US      |    4 |\n",
       "| winter | Cape May County, US-NJ, US   |    1 |\n",
       "| winter | New Jersey, US               |    6 |\n",
       "| winter | Ocean County, US-NJ, US      |    1 |\n",
       "\n"
      ],
      "text/plain": [
       "   season place_guess                  occurrence\n",
       "1  fall   Cape May County, US-NJ, US      5      \n",
       "2  fall   New Jersey, US                 23      \n",
       "3  spring Cape May County, US-NJ, US     26      \n",
       "4  spring New Jersey, US                 90      \n",
       "5  spring Ocean County, US-NJ, US         1      \n",
       "6  summer Atlantic County, US-NJ, US      1      \n",
       "7  summer Cape May County, US-NJ, US     39      \n",
       "8  summer Cumberland County, US-NJ, US    2      \n",
       "9  summer New Jersey, US               2857      \n",
       "10 summer Ocean County, US-NJ, US         4      \n",
       "11 winter Cape May County, US-NJ, US      1      \n",
       "12 winter New Jersey, US                  6      \n",
       "13 winter Ocean County, US-NJ, US         1      "
      ]
     },
     "metadata": {},
     "output_type": "display_data"
    }
   ],
   "source": [
    "# Activity in new jersey\n",
    "new_jersey_obv = dbGetQuery(db, \"SELECT season, place_guess, COUNT(*) AS occurrence\n",
    "                                    FROM\n",
    "                                    (SELECT\n",
    "                                        place_guess,\n",
    "                                        CASE\n",
    "                                            WHEN strftime('%m', observed_date) IN ('12', '01', '02') THEN 'winter'\n",
    "                                            WHEN strftime('%m', observed_date) IN ('03', '04', '05') THEN 'spring'\n",
    "                                            WHEN strftime('%m', observed_date) IN ('06', '07', '08') THEN 'summer'\n",
    "                                            ELSE 'fall'\n",
    "                                        END AS season\n",
    "                                        FROM turtle_observation\n",
    "                                        WHERE place_guess LIKE '%New Jersey%' OR place_guess LIKE '%NJ%'\n",
    "                                    ) AS detailed_season\n",
    "                                    GROUP BY season, place_guess\n",
    "                                    ORDER BY season\")\n",
    "\n",
    "new_jersey_obv"
   ]
  },
  {
   "cell_type": "code",
   "execution_count": 78,
   "id": "c9a813e2",
   "metadata": {
    "vscode": {
     "languageId": "r"
    }
   },
   "outputs": [
    {
     "data": {
      "text/html": [
       "<table class=\"dataframe\">\n",
       "<caption>A data.frame: 4 × 2</caption>\n",
       "<thead>\n",
       "\t<tr><th scope=col>season</th><th scope=col>occurance</th></tr>\n",
       "\t<tr><th scope=col>&lt;chr&gt;</th><th scope=col>&lt;int&gt;</th></tr>\n",
       "</thead>\n",
       "<tbody>\n",
       "\t<tr><td>fall  </td><td>26</td></tr>\n",
       "\t<tr><td>summer</td><td>18</td></tr>\n",
       "\t<tr><td>winter</td><td> 7</td></tr>\n",
       "\t<tr><td>spring</td><td> 7</td></tr>\n",
       "</tbody>\n",
       "</table>\n"
      ],
      "text/latex": [
       "A data.frame: 4 × 2\n",
       "\\begin{tabular}{ll}\n",
       " season & occurance\\\\\n",
       " <chr> & <int>\\\\\n",
       "\\hline\n",
       "\t fall   & 26\\\\\n",
       "\t summer & 18\\\\\n",
       "\t winter &  7\\\\\n",
       "\t spring &  7\\\\\n",
       "\\end{tabular}\n"
      ],
      "text/markdown": [
       "\n",
       "A data.frame: 4 × 2\n",
       "\n",
       "| season &lt;chr&gt; | occurance &lt;int&gt; |\n",
       "|---|---|\n",
       "| fall   | 26 |\n",
       "| summer | 18 |\n",
       "| winter |  7 |\n",
       "| spring |  7 |\n",
       "\n"
      ],
      "text/plain": [
       "  season occurance\n",
       "1 fall   26       \n",
       "2 summer 18       \n",
       "3 winter  7       \n",
       "4 spring  7       "
      ]
     },
     "metadata": {},
     "output_type": "display_data"
    },
    {
     "data": {
      "image/png": "[encoded data removed]",
      "text/plain": [
       "plot without title"
      ]
     },
     "metadata": {
      "image/png": {
       "height": 420,
       "width": 420
      }
     },
     "output_type": "display_data"
    }
   ],
   "source": [
    "# best time of the year\n",
    "best_time_of_year = dbGetQuery(db, \"SELECT season, COUNT(*) AS occurance\n",
    "                                    FROM (\n",
    "                                        SELECT\n",
    "                                        place_guess, \n",
    "                                            CASE \n",
    "                                                WHEN strftime('%m', observed_date) IN ('12', '01', '02') THEN 'winter'\n",
    "                                                WHEN strftime('%m', observed_date) IN ('03', '04', '05') THEN 'spring'\n",
    "                                                WHEN strftime('%m', observed_date) IN ('06', '07', '08') THEN 'summer'\n",
    "                                                ELSE 'fall'\n",
    "                                            END AS season\n",
    "                                        FROM menhaden_observation\n",
    "                                    ) AS season_table\n",
    "                                    WHERE place_guess LIKE '%New Jersey%' OR place_guess LIKE '%NJ%'\n",
    "                                    GROUP BY season\n",
    "                                    ORDER BY occurance DESC\n",
    "\")\n",
    "\n",
    "best_time_of_year\n",
    "\n",
    "ggplot(best_time_of_year,  aes(x = season, y = occurance, fill = season)) +\n",
    "    geom_bar(stat = \"identity\", color = \"black\", show.legend = FALSE) +\n",
    "    theme_minimal()+\n",
    "    labs(title = \"Seasons of highest activity\",\n",
    "        x = \"season\",\n",
    "        y = \"number of occurrence\")\n"
   ]
  },
  {
   "cell_type": "markdown",
   "id": "207258b4",
   "metadata": {},
   "source": [
    "### The best time of the year is to complete construction is winter or spring"
   ]
  },
  {
   "cell_type": "code",
   "execution_count": 79,
   "id": "5750359f",
   "metadata": {
    "vscode": {
     "languageId": "r"
    }
   },
   "outputs": [
    {
     "data": {
      "text/html": [
       "<table class=\"dataframe\">\n",
       "<caption>A data.frame: 3 × 2</caption>\n",
       "<thead>\n",
       "\t<tr><th scope=col>winter_months</th><th scope=col>occurance</th></tr>\n",
       "\t<tr><th scope=col>&lt;chr&gt;</th><th scope=col>&lt;int&gt;</th></tr>\n",
       "</thead>\n",
       "<tbody>\n",
       "\t<tr><td>january </td><td>2</td></tr>\n",
       "\t<tr><td>february</td><td>2</td></tr>\n",
       "\t<tr><td>december</td><td>3</td></tr>\n",
       "</tbody>\n",
       "</table>\n"
      ],
      "text/latex": [
       "A data.frame: 3 × 2\n",
       "\\begin{tabular}{ll}\n",
       " winter\\_months & occurance\\\\\n",
       " <chr> & <int>\\\\\n",
       "\\hline\n",
       "\t january  & 2\\\\\n",
       "\t february & 2\\\\\n",
       "\t december & 3\\\\\n",
       "\\end{tabular}\n"
      ],
      "text/markdown": [
       "\n",
       "A data.frame: 3 × 2\n",
       "\n",
       "| winter_months &lt;chr&gt; | occurance &lt;int&gt; |\n",
       "|---|---|\n",
       "| january  | 2 |\n",
       "| february | 2 |\n",
       "| december | 3 |\n",
       "\n"
      ],
      "text/plain": [
       "  winter_months occurance\n",
       "1 january       2        \n",
       "2 february      2        \n",
       "3 december      3        "
      ]
     },
     "metadata": {},
     "output_type": "display_data"
    },
    {
     "data": {
      "image/png": "[encoded data removed]",
      "text/plain": [
       "plot without title"
      ]
     },
     "metadata": {
      "image/png": {
       "height": 420,
       "width": 420
      }
     },
     "output_type": "display_data"
    }
   ],
   "source": [
    "# Best time in the winter\n",
    "# Fall seems to have the most activity so we will sort by day and draft it on teh scater plot\n",
    "observations_by_month = dbGetQuery(db, \"SELECT winter_months, COUNT(*) AS occurance\n",
    "                                    FROM (\n",
    "                                        SELECT\n",
    "                                            place_guess,\n",
    "                                            CASE \n",
    "                                                WHEN strftime('%m', observed_date) IN ('12') THEN 'december'\n",
    "                                                WHEN strftime('%m', observed_date) IN ('01') THEN 'january'\n",
    "                                                WHEN strftime('%m', observed_date) IN ('02') THEN 'february'\n",
    "                                                ELSE 'not_fall'\n",
    "                                            END AS winter_months\n",
    "                                        FROM menhaden_observation\n",
    "                                        WHERE (winter_months = 'december' OR winter_months = 'january' OR winter_months = 'february')\n",
    "                                    ) AS fall_months_table\n",
    "                                    WHERE place_guess LIKE '%New Jersey%' OR place_guess LIKE '%NJ%'\n",
    "                                    GROUP BY winter_months\n",
    "                                    ORDER BY winter_months DESC \")\n",
    "\n",
    "observations_by_month\n",
    "\n",
    "\n",
    "ggplot(observations_by_month, aes(x = winter_months, y = occurance, fill = winter_months)) +\n",
    "geom_bar(stat = 'identity')"
   ]
  },
  {
   "cell_type": "markdown",
   "id": "e6203902",
   "metadata": {},
   "source": [
    "### The month with the least activity by menhaden_observations is January or Feburary"
   ]
  },
  {
   "cell_type": "code",
   "execution_count": 80,
   "id": "51a80180",
   "metadata": {
    "vscode": {
     "languageId": "r"
    }
   },
   "outputs": [
    {
     "data": {
      "text/html": [
       "<style>\n",
       ".list-inline {list-style: none; margin:0; padding: 0}\n",
       ".list-inline>li {display: inline-block}\n",
       ".list-inline>li:not(:last-child)::after {content: \"\\00b7\"; padding: 0 .5ex}\n",
       "</style>\n",
       "<ol class=list-inline><li>'id'</li><li>'taxon_name'</li><li>'common_name'</li></ol>\n"
      ],
      "text/latex": [
       "\\begin{enumerate*}\n",
       "\\item 'id'\n",
       "\\item 'taxon\\_name'\n",
       "\\item 'common\\_name'\n",
       "\\end{enumerate*}\n"
      ],
      "text/markdown": [
       "1. 'id'\n",
       "2. 'taxon_name'\n",
       "3. 'common_name'\n",
       "\n",
       "\n"
      ],
      "text/plain": [
       "[1] \"id\"          \"taxon_name\"  \"common_name\""
      ]
     },
     "metadata": {},
     "output_type": "display_data"
    }
   ],
   "source": [
    "## sparrow_observations\n",
    "\n",
    "# column names for species table \n",
    "species_columns = dbListFields(db, \"species\")\n",
    "species_columns"
   ]
  },
  {
   "cell_type": "code",
   "execution_count": 81,
   "id": "c5bb43ca",
   "metadata": {
    "vscode": {
     "languageId": "r"
    }
   },
   "outputs": [
    {
     "data": {
      "text/html": [
       "<style>\n",
       ".list-inline {list-style: none; margin:0; padding: 0}\n",
       ".list-inline>li {display: inline-block}\n",
       ".list-inline>li:not(:last-child)::after {content: \"\\00b7\"; padding: 0 .5ex}\n",
       "</style>\n",
       "<ol class=list-inline><li>'id'</li><li>'observed_date'</li><li>'day_of_year'</li><li>'place_guess'</li><li>'location'</li><li>'quality_grade'</li><li>'annotations'</li><li>'tags'</li><li>'ofvs'</li></ol>\n"
      ],
      "text/latex": [
       "\\begin{enumerate*}\n",
       "\\item 'id'\n",
       "\\item 'observed\\_date'\n",
       "\\item 'day\\_of\\_year'\n",
       "\\item 'place\\_guess'\n",
       "\\item 'location'\n",
       "\\item 'quality\\_grade'\n",
       "\\item 'annotations'\n",
       "\\item 'tags'\n",
       "\\item 'ofvs'\n",
       "\\end{enumerate*}\n"
      ],
      "text/markdown": [
       "1. 'id'\n",
       "2. 'observed_date'\n",
       "3. 'day_of_year'\n",
       "4. 'place_guess'\n",
       "5. 'location'\n",
       "6. 'quality_grade'\n",
       "7. 'annotations'\n",
       "8. 'tags'\n",
       "9. 'ofvs'\n",
       "\n",
       "\n"
      ],
      "text/plain": [
       "[1] \"id\"            \"observed_date\" \"day_of_year\"   \"place_guess\"  \n",
       "[5] \"location\"      \"quality_grade\" \"annotations\"   \"tags\"         \n",
       "[9] \"ofvs\"         "
      ]
     },
     "metadata": {},
     "output_type": "display_data"
    }
   ],
   "source": [
    "# column names for species table \n",
    "species_columns = dbListFields(db, \"sparrow_observation\")\n",
    "species_columns"
   ]
  },
  {
   "cell_type": "code",
   "execution_count": 82,
   "id": "d3177daf",
   "metadata": {
    "vscode": {
     "languageId": "r"
    }
   },
   "outputs": [
    {
     "data": {
      "text/html": [
       "<table class=\"dataframe\">\n",
       "<caption>A data.frame: 2 × 3</caption>\n",
       "<thead>\n",
       "\t<tr><th scope=col>season</th><th scope=col>place_guess</th><th scope=col>occurrence</th></tr>\n",
       "\t<tr><th scope=col>&lt;chr&gt;</th><th scope=col>&lt;chr&gt;</th><th scope=col>&lt;int&gt;</th></tr>\n",
       "</thead>\n",
       "<tbody>\n",
       "\t<tr><td>winter</td><td>Cape May County, US-NJ, US</td><td>1</td></tr>\n",
       "\t<tr><td>winter</td><td>New Jersey, US            </td><td>9</td></tr>\n",
       "</tbody>\n",
       "</table>\n"
      ],
      "text/latex": [
       "A data.frame: 2 × 3\n",
       "\\begin{tabular}{lll}\n",
       " season & place\\_guess & occurrence\\\\\n",
       " <chr> & <chr> & <int>\\\\\n",
       "\\hline\n",
       "\t winter & Cape May County, US-NJ, US & 1\\\\\n",
       "\t winter & New Jersey, US             & 9\\\\\n",
       "\\end{tabular}\n"
      ],
      "text/markdown": [
       "\n",
       "A data.frame: 2 × 3\n",
       "\n",
       "| season &lt;chr&gt; | place_guess &lt;chr&gt; | occurrence &lt;int&gt; |\n",
       "|---|---|---|\n",
       "| winter | Cape May County, US-NJ, US | 1 |\n",
       "| winter | New Jersey, US             | 9 |\n",
       "\n"
      ],
      "text/plain": [
       "  season place_guess                occurrence\n",
       "1 winter Cape May County, US-NJ, US 1         \n",
       "2 winter New Jersey, US             9         "
      ]
     },
     "metadata": {},
     "output_type": "display_data"
    }
   ],
   "source": [
    "# Activity in new jersey\n",
    "new_jersey_obv = dbGetQuery(db, \"SELECT season, place_guess, COUNT(*) AS occurrence\n",
    "                                    FROM\n",
    "                                    (SELECT\n",
    "                                        place_guess,\n",
    "                                        CASE\n",
    "                                            WHEN strftime('%m', observed_date) IN ('12', '01', '02') THEN 'winter'\n",
    "                                            WHEN strftime('%m', observed_date) IN ('03', '04', '05') THEN 'spring'\n",
    "                                            WHEN strftime('%m', observed_date) IN ('06', '07', '08') THEN 'summer'\n",
    "                                            ELSE 'fall'\n",
    "                                        END AS season\n",
    "                                        FROM sparrow_observation\n",
    "                                        WHERE place_guess LIKE '%New Jersey%' OR place_guess LIKE '%NJ%'\n",
    "                                    ) AS detailed_season\n",
    "                                    GROUP BY season, place_guess\n",
    "                                    ORDER BY season\")\n",
    "\n",
    "new_jersey_obv"
   ]
  },
  {
   "cell_type": "code",
   "execution_count": 83,
   "id": "b2ce40cd",
   "metadata": {
    "vscode": {
     "languageId": "r"
    }
   },
   "outputs": [
    {
     "data": {
      "text/html": [
       "<table class=\"dataframe\">\n",
       "<caption>A data.frame: 1 × 2</caption>\n",
       "<thead>\n",
       "\t<tr><th scope=col>season</th><th scope=col>occurance</th></tr>\n",
       "\t<tr><th scope=col>&lt;chr&gt;</th><th scope=col>&lt;int&gt;</th></tr>\n",
       "</thead>\n",
       "<tbody>\n",
       "\t<tr><td>winter</td><td>10</td></tr>\n",
       "</tbody>\n",
       "</table>\n"
      ],
      "text/latex": [
       "A data.frame: 1 × 2\n",
       "\\begin{tabular}{ll}\n",
       " season & occurance\\\\\n",
       " <chr> & <int>\\\\\n",
       "\\hline\n",
       "\t winter & 10\\\\\n",
       "\\end{tabular}\n"
      ],
      "text/markdown": [
       "\n",
       "A data.frame: 1 × 2\n",
       "\n",
       "| season &lt;chr&gt; | occurance &lt;int&gt; |\n",
       "|---|---|\n",
       "| winter | 10 |\n",
       "\n"
      ],
      "text/plain": [
       "  season occurance\n",
       "1 winter 10       "
      ]
     },
     "metadata": {},
     "output_type": "display_data"
    }
   ],
   "source": [
    "best_time_of_year = dbGetQuery(db, \"SELECT  season, COUNT(*) AS occurance\n",
    "                                    FROM (\n",
    "                                        SELECT\n",
    "                                        place_guess,\n",
    "                                            CASE \n",
    "                                                WHEN strftime('%m', observed_date) IN ('12', '01', '02') THEN 'winter'\n",
    "                                                WHEN strftime('%m', observed_date) IN ('03', '04', '05') THEN 'spring'\n",
    "                                                WHEN strftime('%m', observed_date) IN ('06', '07', '08') THEN 'summer'\n",
    "                                                ELSE 'fall'\n",
    "                                            END AS season\n",
    "                                        FROM sparrow_observation\n",
    "                                    ) AS season_table\n",
    "                                    WHERE place_guess LIKE '%New Jersey%' OR place_guess LIKE '%NJ%'\n",
    "                                    GROUP BY season\n",
    "                                    ORDER BY occurance DESC\n",
    "\")\n",
    "\n",
    "best_time_of_year\n"
   ]
  },
  {
   "cell_type": "code",
   "execution_count": 84,
   "id": "0079f763",
   "metadata": {
    "vscode": {
     "languageId": "r"
    }
   },
   "outputs": [
    {
     "data": {
      "text/html": [
       "<table class=\"dataframe\">\n",
       "<caption>A data.frame: 3 × 2</caption>\n",
       "<thead>\n",
       "\t<tr><th scope=col>winter_months</th><th scope=col>occurance</th></tr>\n",
       "\t<tr><th scope=col>&lt;chr&gt;</th><th scope=col>&lt;int&gt;</th></tr>\n",
       "</thead>\n",
       "<tbody>\n",
       "\t<tr><td>january </td><td>7</td></tr>\n",
       "\t<tr><td>feburary</td><td>1</td></tr>\n",
       "\t<tr><td>december</td><td>2</td></tr>\n",
       "</tbody>\n",
       "</table>\n"
      ],
      "text/latex": [
       "A data.frame: 3 × 2\n",
       "\\begin{tabular}{ll}\n",
       " winter\\_months & occurance\\\\\n",
       " <chr> & <int>\\\\\n",
       "\\hline\n",
       "\t january  & 7\\\\\n",
       "\t feburary & 1\\\\\n",
       "\t december & 2\\\\\n",
       "\\end{tabular}\n"
      ],
      "text/markdown": [
       "\n",
       "A data.frame: 3 × 2\n",
       "\n",
       "| winter_months &lt;chr&gt; | occurance &lt;int&gt; |\n",
       "|---|---|\n",
       "| january  | 7 |\n",
       "| feburary | 1 |\n",
       "| december | 2 |\n",
       "\n"
      ],
      "text/plain": [
       "  winter_months occurance\n",
       "1 january       7        \n",
       "2 feburary      1        \n",
       "3 december      2        "
      ]
     },
     "metadata": {},
     "output_type": "display_data"
    },
    {
     "data": {
      "image/png": "[encoded data removed]",
      "text/plain": [
       "plot without title"
      ]
     },
     "metadata": {
      "image/png": {
       "height": 420,
       "width": 420
      }
     },
     "output_type": "display_data"
    }
   ],
   "source": [
    "# Best time in the winter\n",
    "# Fall seems to have the most activity so we will sort by day and draft it on teh scater plot\n",
    "observations_by_month = dbGetQuery(db, \"SELECT winter_months, COUNT(*) AS occurance\n",
    "                                    FROM (\n",
    "                                        SELECT\n",
    "                                        place_guess,\n",
    "                                            CASE \n",
    "                                                WHEN strftime('%m', observed_date) IN ('12') THEN 'december'\n",
    "                                                WHEN strftime('%m', observed_date) IN ('01') THEN 'january'\n",
    "                                                WHEN strftime('%m', observed_date) IN ('02') THEN 'feburary'\n",
    "                                                ELSE 'not_fall'\n",
    "                                            END AS winter_months\n",
    "                                        FROM sparrow_observation\n",
    "                                        WHERE (winter_months = 'december' OR winter_months = 'january' OR winter_months = 'feburary')\n",
    "                                    ) AS fall_months_table\n",
    "                                    WHERE place_guess LIKE '%New Jersey%' OR place_guess LIKE '%NJ%'\n",
    "                                    GROUP BY winter_months\n",
    "                                    ORDER BY winter_months DESC \")\n",
    "\n",
    "observations_by_month\n",
    "\n",
    "\n",
    "ggplot(observations_by_month, aes(x = winter_months, y = occurance, fill = winter_months)) +\n",
    "geom_bar(stat = 'identity')"
   ]
  },
  {
   "cell_type": "markdown",
   "id": "b50729ec",
   "metadata": {},
   "source": [
    "### The best month by sparrow_observation is February or December"
   ]
  },
  {
   "cell_type": "markdown",
   "id": "d8647595",
   "metadata": {},
   "source": [
    "5) Provide your overall determination approving or disproving the project with three visualizations to go along with the queried SQL data. **Breifly state why and include three graphics** - but you do not have to go into too much biology detail and there is no right or wrong answer."
   ]
  },
  {
   "cell_type": "markdown",
   "id": "fc065a6c",
   "metadata": {},
   "source": [
    "### My overall determination is to approve only under the condition that the construction is completed in the winter during the month of February when there is the least amount of activity for all species. If the project bleeds into January there is a risk to not just the Northern Diamondback Terrapin but the Atlantic Menhaden and Ipswich Sparrow because activity starts to pick up for these species. "
   ]
  },
  {
   "cell_type": "markdown",
   "id": "b5a34459",
   "metadata": {},
   "source": [
    "6) State two possible reasons for results for error in your visualizations."
   ]
  },
  {
   "cell_type": "markdown",
   "id": "fb851afb",
   "metadata": {},
   "source": [
    "\n",
    "1) One possible error that could be caused is lack of observations. For the Ipswich Sparrow there are only observations for the winter. Which leads to question do these birds only prefer the cold climate or were they not spotted by users during this time. \n",
    "2) There is also an issue of incomplete or not enough data. For the Northern Diamondback Terrapin when classifying by Adult, Juvenile, or egg there were only results for the summer. Without getting a full picture of each season it is difficult to make an accurate decisions. "
   ]
  },
  {
   "cell_type": "code",
   "execution_count": 85,
   "id": "a730e884",
   "metadata": {
    "vscode": {
     "languageId": "r"
    }
   },
   "outputs": [],
   "source": [
    "#Close the database connection :)\n",
    "#dbDisconnect(db)"
   ]
  }
 ],
 "metadata": {
  "kernelspec": {
   "display_name": "R",
   "language": "R",
   "name": "ir"
  },
  "language_info": {
   "codemirror_mode": "r",
   "file_extension": ".r",
   "mimetype": "text/x-r-source",
   "name": "R",
   "pygments_lexer": "r",
   "version": "4.3.3"
  }
 },
 "nbformat": 4,
 "nbformat_minor": 5
}
